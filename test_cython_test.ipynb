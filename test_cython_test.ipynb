{
 "cells": [
  {
   "cell_type": "code",
   "execution_count": 6,
   "metadata": {
    "collapsed": true
   },
   "outputs": [],
   "source": [
    "from distutils.core import setup\n",
    "from Cython.Build import cythonize\n",
    "import time\n",
    "import sys, os\n",
    "sys.path.append('./cython_loss')\n",
    "\n",
    "import python1\n",
    "import cython1\n",
    "# import cython_so.so"
   ]
  },
  {
   "cell_type": "code",
   "execution_count": 7,
   "outputs": [
    {
     "name": "stdout",
     "output_type": "stream",
     "text": [
      "number 100000\n",
      "Python time = 4.251590728759766\n",
      "Cython time = 0.0001747608184814453\n",
      "Speedup = 24328.05457025921\n"
     ]
    }
   ],
   "source": [
    "number = int(1e5)\n",
    "print('number', number)\n",
    "start = time.time()\n",
    "python1.test(number)\n",
    "end =  time.time()\n",
    "\n",
    "py_time = end - start\n",
    "print(\"Python time = {}\".format(py_time))\n",
    "\n",
    "start = time.time()\n",
    "cython1.test(number)\n",
    "end =  time.time()\n",
    "\n",
    "cy_time = end - start\n",
    "print(\"Cython time = {}\".format(cy_time))\n",
    "\n",
    "print(\"Speedup = {}\".format(py_time / cy_time))"
   ],
   "metadata": {
    "collapsed": false,
    "pycharm": {
     "name": "#%%\n"
    }
   }
  },
  {
   "cell_type": "code",
   "execution_count": null,
   "outputs": [],
   "source": [],
   "metadata": {
    "collapsed": false,
    "pycharm": {
     "name": "#%%\n"
    }
   }
  }
 ],
 "metadata": {
  "kernelspec": {
   "display_name": "Python 3",
   "language": "python",
   "name": "python3"
  },
  "language_info": {
   "codemirror_mode": {
    "name": "ipython",
    "version": 2
   },
   "file_extension": ".py",
   "mimetype": "text/x-python",
   "name": "python",
   "nbconvert_exporter": "python",
   "pygments_lexer": "ipython2",
   "version": "2.7.6"
  }
 },
 "nbformat": 4,
 "nbformat_minor": 0
}