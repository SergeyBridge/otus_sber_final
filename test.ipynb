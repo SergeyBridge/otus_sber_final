{
 "cells": [
  {
   "cell_type": "code",
   "execution_count": 1,
   "outputs": [],
   "source": [
    "import gc\n",
    "import pandas as pd\n",
    "import numpy as np\n",
    "from matplotlib import pyplot as plt\n",
    "\n",
    "pd.set_option('display.max_rows', 120)\n",
    "plt.style.use(\"dark_background\")\n",
    "plt.rcParams['figure.figsize'] = (20, 15)\n"
   ],
   "metadata": {
    "collapsed": false,
    "pycharm": {
     "name": "#%%\n"
    }
   }
  },
  {
   "cell_type": "code",
   "execution_count": 2,
   "outputs": [
    {
     "data": {
      "text/plain": "(3*x/2 - 2)/(x - 4) + 1/x",
      "text/latex": "$\\displaystyle \\frac{\\frac{3 x}{2} - 2}{x - 4} + \\frac{1}{x}$"
     },
     "metadata": {},
     "output_type": "display_data"
    },
    {
     "name": "stdout",
     "output_type": "stream",
     "text": [
      "OLIJlkjlkj\n"
     ]
    },
    {
     "data": {
      "text/plain": "Eq(x, y + z)",
      "text/latex": "$\\displaystyle x = y + z$"
     },
     "execution_count": 2,
     "metadata": {},
     "output_type": "execute_result"
    }
   ],
   "source": [
    "# Differencial\n",
    "from sympy import diff, symbols, cos, sin, init_printing, Eq, S\n",
    "from IPython.display import display, Latex\n",
    "import sympy as sp\n",
    "\n",
    "# init_printing(use_latex='mathjax')\n",
    "\n",
    "x, y, z = sp.symbols('x y z')\n",
    "# diff(cos(x))\n",
    "expr = 1/x + (3*x/2 - 2)/(x - 4)\n",
    "display(expr)\n",
    "print('OLIJlkjlkj')\n",
    "\n",
    "sp.Eq(sp.S('x'),y+z)"
   ],
   "metadata": {
    "collapsed": false,
    "pycharm": {
     "name": "#%%\n"
    }
   }
  },
  {
   "cell_type": "code",
   "execution_count": 3,
   "outputs": [
    {
     "data": {
      "text/plain": "Eq(p, exp(x)/(exp(x) + 1))",
      "text/latex": "$\\displaystyle p = \\frac{e^{x}}{e^{x} + 1}$"
     },
     "metadata": {},
     "output_type": "display_data"
    },
    {
     "data": {
      "text/plain": "Eq(L_plus, (1 - exp(x)/(exp(x) + 1))**gamma*log(exp(x)/(exp(x) + 1)))",
      "text/latex": "$\\displaystyle L_{plus} = \\left(1 - \\frac{e^{x}}{e^{x} + 1}\\right)^{\\gamma} \\log{\\left(\\frac{e^{x}}{e^{x} + 1} \\right)}$"
     },
     "metadata": {},
     "output_type": "display_data"
    },
    {
     "data": {
      "text/plain": "Eq(L_minus, (exp(x)/(exp(x) + 1))**gamma*log(1 - exp(x)/(exp(x) + 1)))",
      "text/latex": "$\\displaystyle L_{minus} = \\left(\\frac{e^{x}}{e^{x} + 1}\\right)^{\\gamma} \\log{\\left(1 - \\frac{e^{x}}{e^{x} + 1} \\right)}$"
     },
     "metadata": {},
     "output_type": "display_data"
    },
    {
     "data": {
      "text/plain": "Eq(L, -y*(1 - exp(x)/(exp(x) + 1))**gamma*log(exp(x)/(exp(x) + 1)) - (exp(x)/(exp(x) + 1))**gamma*(1 - y)*log(1 - exp(x)/(exp(x) + 1)))",
      "text/latex": "$\\displaystyle L = - y \\left(1 - \\frac{e^{x}}{e^{x} + 1}\\right)^{\\gamma} \\log{\\left(\\frac{e^{x}}{e^{x} + 1} \\right)} - \\left(\\frac{e^{x}}{e^{x} + 1}\\right)^{\\gamma} \\left(1 - y\\right) \\log{\\left(1 - \\frac{e^{x}}{e^{x} + 1} \\right)}$"
     },
     "metadata": {},
     "output_type": "display_data"
    },
    {
     "data": {
      "text/plain": "Eq(L__der1, -gamma*y*(1 - exp(x)/(exp(x) + 1))**gamma*(-exp(x)/(exp(x) + 1) + exp(2*x)/(exp(x) + 1)**2)*log(exp(x)/(exp(x) + 1))/(1 - exp(x)/(exp(x) + 1)) - gamma*(exp(x)/(exp(x) + 1))**gamma*(1 - y)*(exp(x)/(exp(x) + 1) - exp(2*x)/(exp(x) + 1)**2)*(exp(x) + 1)*exp(-x)*log(1 - exp(x)/(exp(x) + 1)) - y*(1 - exp(x)/(exp(x) + 1))**gamma*(exp(x)/(exp(x) + 1) - exp(2*x)/(exp(x) + 1)**2)*(exp(x) + 1)*exp(-x) - (exp(x)/(exp(x) + 1))**gamma*(1 - y)*(-exp(x)/(exp(x) + 1) + exp(2*x)/(exp(x) + 1)**2)/(1 - exp(x)/(exp(x) + 1)))",
      "text/latex": "$\\displaystyle L^{der1} = - \\frac{\\gamma y \\left(1 - \\frac{e^{x}}{e^{x} + 1}\\right)^{\\gamma} \\left(- \\frac{e^{x}}{e^{x} + 1} + \\frac{e^{2 x}}{\\left(e^{x} + 1\\right)^{2}}\\right) \\log{\\left(\\frac{e^{x}}{e^{x} + 1} \\right)}}{1 - \\frac{e^{x}}{e^{x} + 1}} - \\gamma \\left(\\frac{e^{x}}{e^{x} + 1}\\right)^{\\gamma} \\left(1 - y\\right) \\left(\\frac{e^{x}}{e^{x} + 1} - \\frac{e^{2 x}}{\\left(e^{x} + 1\\right)^{2}}\\right) \\left(e^{x} + 1\\right) e^{- x} \\log{\\left(1 - \\frac{e^{x}}{e^{x} + 1} \\right)} - y \\left(1 - \\frac{e^{x}}{e^{x} + 1}\\right)^{\\gamma} \\left(\\frac{e^{x}}{e^{x} + 1} - \\frac{e^{2 x}}{\\left(e^{x} + 1\\right)^{2}}\\right) \\left(e^{x} + 1\\right) e^{- x} - \\frac{\\left(\\frac{e^{x}}{e^{x} + 1}\\right)^{\\gamma} \\left(1 - y\\right) \\left(- \\frac{e^{x}}{e^{x} + 1} + \\frac{e^{2 x}}{\\left(e^{x} + 1\\right)^{2}}\\right)}{1 - \\frac{e^{x}}{e^{x} + 1}}$"
     },
     "metadata": {},
     "output_type": "display_data"
    },
    {
     "data": {
      "text/plain": "Eq(L__der2, -gamma**2*y*(1 - exp(x)/(exp(x) + 1))**gamma*(-exp(x)/(exp(x) + 1) + exp(2*x)/(exp(x) + 1)**2)**2*log(exp(x)/(exp(x) + 1))/(1 - exp(x)/(exp(x) + 1))**2 - gamma**2*(exp(x)/(exp(x) + 1))**gamma*(1 - y)*(exp(x)/(exp(x) + 1) - exp(2*x)/(exp(x) + 1)**2)**2*(exp(x) + 1)**2*exp(-2*x)*log(1 - exp(x)/(exp(x) + 1)) - 2*gamma*y*(1 - exp(x)/(exp(x) + 1))**gamma*(-exp(x)/(exp(x) + 1) + exp(2*x)/(exp(x) + 1)**2)*(exp(x)/(exp(x) + 1) - exp(2*x)/(exp(x) + 1)**2)*(exp(x) + 1)*exp(-x)/(1 - exp(x)/(exp(x) + 1)) - gamma*y*(1 - exp(x)/(exp(x) + 1))**gamma*(-exp(x)/(exp(x) + 1) + 3*exp(2*x)/(exp(x) + 1)**2 - 2*exp(3*x)/(exp(x) + 1)**3)*log(exp(x)/(exp(x) + 1))/(1 - exp(x)/(exp(x) + 1)) - gamma*y*(1 - exp(x)/(exp(x) + 1))**gamma*(-exp(x)/(exp(x) + 1) + exp(2*x)/(exp(x) + 1)**2)*(exp(x)/(exp(x) + 1) - exp(2*x)/(exp(x) + 1)**2)*log(exp(x)/(exp(x) + 1))/(1 - exp(x)/(exp(x) + 1))**2 + gamma*(exp(x)/(exp(x) + 1))**gamma*(1 - y)*(exp(x)/(exp(x) + 1) - exp(2*x)/(exp(x) + 1)**2)*(exp(x) + 1)*exp(-x)*log(1 - exp(x)/(exp(x) + 1)) - gamma*(exp(x)/(exp(x) + 1))**gamma*(1 - y)*(exp(x)/(exp(x) + 1) - exp(2*x)/(exp(x) + 1)**2)*log(1 - exp(x)/(exp(x) + 1)) - gamma*(exp(x)/(exp(x) + 1))**gamma*(1 - y)*(exp(x) + 1)*(exp(x)/(exp(x) + 1) - 3*exp(2*x)/(exp(x) + 1)**2 + 2*exp(3*x)/(exp(x) + 1)**3)*exp(-x)*log(1 - exp(x)/(exp(x) + 1)) - 2*gamma*(exp(x)/(exp(x) + 1))**gamma*(1 - y)*(-exp(x)/(exp(x) + 1) + exp(2*x)/(exp(x) + 1)**2)*(exp(x)/(exp(x) + 1) - exp(2*x)/(exp(x) + 1)**2)*(exp(x) + 1)*exp(-x)/(1 - exp(x)/(exp(x) + 1)) + y*(1 - exp(x)/(exp(x) + 1))**gamma*(exp(x)/(exp(x) + 1) - exp(2*x)/(exp(x) + 1)**2)*(exp(x) + 1)*exp(-x) - y*(1 - exp(x)/(exp(x) + 1))**gamma*(exp(x)/(exp(x) + 1) - exp(2*x)/(exp(x) + 1)**2) - y*(1 - exp(x)/(exp(x) + 1))**gamma*(exp(x) + 1)*(exp(x)/(exp(x) + 1) - 3*exp(2*x)/(exp(x) + 1)**2 + 2*exp(3*x)/(exp(x) + 1)**3)*exp(-x) - (exp(x)/(exp(x) + 1))**gamma*(1 - y)*(-exp(x)/(exp(x) + 1) + 3*exp(2*x)/(exp(x) + 1)**2 - 2*exp(3*x)/(exp(x) + 1)**3)/(1 - exp(x)/(exp(x) + 1)) - (exp(x)/(exp(x) + 1))**gamma*(1 - y)*(-exp(x)/(exp(x) + 1) + exp(2*x)/(exp(x) + 1)**2)*(exp(x)/(exp(x) + 1) - exp(2*x)/(exp(x) + 1)**2)/(1 - exp(x)/(exp(x) + 1))**2)",
      "text/latex": "$\\displaystyle L^{der2} = - \\frac{\\gamma^{2} y \\left(1 - \\frac{e^{x}}{e^{x} + 1}\\right)^{\\gamma} \\left(- \\frac{e^{x}}{e^{x} + 1} + \\frac{e^{2 x}}{\\left(e^{x} + 1\\right)^{2}}\\right)^{2} \\log{\\left(\\frac{e^{x}}{e^{x} + 1} \\right)}}{\\left(1 - \\frac{e^{x}}{e^{x} + 1}\\right)^{2}} - \\gamma^{2} \\left(\\frac{e^{x}}{e^{x} + 1}\\right)^{\\gamma} \\left(1 - y\\right) \\left(\\frac{e^{x}}{e^{x} + 1} - \\frac{e^{2 x}}{\\left(e^{x} + 1\\right)^{2}}\\right)^{2} \\left(e^{x} + 1\\right)^{2} e^{- 2 x} \\log{\\left(1 - \\frac{e^{x}}{e^{x} + 1} \\right)} - \\frac{2 \\gamma y \\left(1 - \\frac{e^{x}}{e^{x} + 1}\\right)^{\\gamma} \\left(- \\frac{e^{x}}{e^{x} + 1} + \\frac{e^{2 x}}{\\left(e^{x} + 1\\right)^{2}}\\right) \\left(\\frac{e^{x}}{e^{x} + 1} - \\frac{e^{2 x}}{\\left(e^{x} + 1\\right)^{2}}\\right) \\left(e^{x} + 1\\right) e^{- x}}{1 - \\frac{e^{x}}{e^{x} + 1}} - \\frac{\\gamma y \\left(1 - \\frac{e^{x}}{e^{x} + 1}\\right)^{\\gamma} \\left(- \\frac{e^{x}}{e^{x} + 1} + \\frac{3 e^{2 x}}{\\left(e^{x} + 1\\right)^{2}} - \\frac{2 e^{3 x}}{\\left(e^{x} + 1\\right)^{3}}\\right) \\log{\\left(\\frac{e^{x}}{e^{x} + 1} \\right)}}{1 - \\frac{e^{x}}{e^{x} + 1}} - \\frac{\\gamma y \\left(1 - \\frac{e^{x}}{e^{x} + 1}\\right)^{\\gamma} \\left(- \\frac{e^{x}}{e^{x} + 1} + \\frac{e^{2 x}}{\\left(e^{x} + 1\\right)^{2}}\\right) \\left(\\frac{e^{x}}{e^{x} + 1} - \\frac{e^{2 x}}{\\left(e^{x} + 1\\right)^{2}}\\right) \\log{\\left(\\frac{e^{x}}{e^{x} + 1} \\right)}}{\\left(1 - \\frac{e^{x}}{e^{x} + 1}\\right)^{2}} + \\gamma \\left(\\frac{e^{x}}{e^{x} + 1}\\right)^{\\gamma} \\left(1 - y\\right) \\left(\\frac{e^{x}}{e^{x} + 1} - \\frac{e^{2 x}}{\\left(e^{x} + 1\\right)^{2}}\\right) \\left(e^{x} + 1\\right) e^{- x} \\log{\\left(1 - \\frac{e^{x}}{e^{x} + 1} \\right)} - \\gamma \\left(\\frac{e^{x}}{e^{x} + 1}\\right)^{\\gamma} \\left(1 - y\\right) \\left(\\frac{e^{x}}{e^{x} + 1} - \\frac{e^{2 x}}{\\left(e^{x} + 1\\right)^{2}}\\right) \\log{\\left(1 - \\frac{e^{x}}{e^{x} + 1} \\right)} - \\gamma \\left(\\frac{e^{x}}{e^{x} + 1}\\right)^{\\gamma} \\left(1 - y\\right) \\left(e^{x} + 1\\right) \\left(\\frac{e^{x}}{e^{x} + 1} - \\frac{3 e^{2 x}}{\\left(e^{x} + 1\\right)^{2}} + \\frac{2 e^{3 x}}{\\left(e^{x} + 1\\right)^{3}}\\right) e^{- x} \\log{\\left(1 - \\frac{e^{x}}{e^{x} + 1} \\right)} - \\frac{2 \\gamma \\left(\\frac{e^{x}}{e^{x} + 1}\\right)^{\\gamma} \\left(1 - y\\right) \\left(- \\frac{e^{x}}{e^{x} + 1} + \\frac{e^{2 x}}{\\left(e^{x} + 1\\right)^{2}}\\right) \\left(\\frac{e^{x}}{e^{x} + 1} - \\frac{e^{2 x}}{\\left(e^{x} + 1\\right)^{2}}\\right) \\left(e^{x} + 1\\right) e^{- x}}{1 - \\frac{e^{x}}{e^{x} + 1}} + y \\left(1 - \\frac{e^{x}}{e^{x} + 1}\\right)^{\\gamma} \\left(\\frac{e^{x}}{e^{x} + 1} - \\frac{e^{2 x}}{\\left(e^{x} + 1\\right)^{2}}\\right) \\left(e^{x} + 1\\right) e^{- x} - y \\left(1 - \\frac{e^{x}}{e^{x} + 1}\\right)^{\\gamma} \\left(\\frac{e^{x}}{e^{x} + 1} - \\frac{e^{2 x}}{\\left(e^{x} + 1\\right)^{2}}\\right) - y \\left(1 - \\frac{e^{x}}{e^{x} + 1}\\right)^{\\gamma} \\left(e^{x} + 1\\right) \\left(\\frac{e^{x}}{e^{x} + 1} - \\frac{3 e^{2 x}}{\\left(e^{x} + 1\\right)^{2}} + \\frac{2 e^{3 x}}{\\left(e^{x} + 1\\right)^{3}}\\right) e^{- x} - \\frac{\\left(\\frac{e^{x}}{e^{x} + 1}\\right)^{\\gamma} \\left(1 - y\\right) \\left(- \\frac{e^{x}}{e^{x} + 1} + \\frac{3 e^{2 x}}{\\left(e^{x} + 1\\right)^{2}} - \\frac{2 e^{3 x}}{\\left(e^{x} + 1\\right)^{3}}\\right)}{1 - \\frac{e^{x}}{e^{x} + 1}} - \\frac{\\left(\\frac{e^{x}}{e^{x} + 1}\\right)^{\\gamma} \\left(1 - y\\right) \\left(- \\frac{e^{x}}{e^{x} + 1} + \\frac{e^{2 x}}{\\left(e^{x} + 1\\right)^{2}}\\right) \\left(\\frac{e^{x}}{e^{x} + 1} - \\frac{e^{2 x}}{\\left(e^{x} + 1\\right)^{2}}\\right)}{\\left(1 - \\frac{e^{x}}{e^{x} + 1}\\right)^{2}}$"
     },
     "metadata": {},
     "output_type": "display_data"
    }
   ],
   "source": [
    "# FocalLoss\n",
    "import sympy as sp\n",
    "def FocalLossFormulas():\n",
    "    x, y, gamma = sp.symbols('x y gamma')\n",
    "\n",
    "    p = sp.exp(x) / (1 + sp.exp(x))\n",
    "    display(sp.Eq(sp.S('p'), p))\n",
    "\n",
    "    L_plus = (1 - p)**gamma * sp.log(p)\n",
    "    L_minus = p**gamma * sp.log(1 - p)\n",
    "\n",
    "    display(sp.Eq(sp.S('L_plus'), L_plus))\n",
    "    display(sp.Eq(sp.S('L_minus'), L_minus))\n",
    "\n",
    "    L = -y*L_plus - (1 - y)*L_minus\n",
    "    display(sp.Eq(sp.S('L'), L))\n",
    "\n",
    "    der1 = sp.diff(L, x)\n",
    "    display(sp.Eq(sp.S('L__der1'), der1))\n",
    "\n",
    "    der2 = sp.diff(der1, x)\n",
    "    display(sp.Eq(sp.S('L__der2'), der2))\n",
    "    return der1, der2\n",
    "\n",
    "der1, der2 = FocalLossFormulas()"
   ],
   "metadata": {
    "collapsed": false,
    "pycharm": {
     "name": "#%%\n"
    }
   }
  },
  {
   "cell_type": "code",
   "execution_count": 4,
   "outputs": [
    {
     "data": {
      "text/plain": "Eq(p, exp(x)/(exp(x) + 1))",
      "text/latex": "$\\displaystyle p = \\frac{e^{x}}{e^{x} + 1}$"
     },
     "metadata": {},
     "output_type": "display_data"
    },
    {
     "data": {
      "text/plain": "Eq(L_plus, (1 - exp(x)/(exp(x) + 1))**g_plus*log(exp(x)/(exp(x) + 1)))",
      "text/latex": "$\\displaystyle L_{plus} = \\left(1 - \\frac{e^{x}}{e^{x} + 1}\\right)^{g_{plus}} \\log{\\left(\\frac{e^{x}}{e^{x} + 1} \\right)}$"
     },
     "metadata": {},
     "output_type": "display_data"
    },
    {
     "data": {
      "text/plain": "Eq(L_minus, (exp(x)/(exp(x) + 1))**g_minus*log(1 - exp(x)/(exp(x) + 1)))",
      "text/latex": "$\\displaystyle L_{minus} = \\left(\\frac{e^{x}}{e^{x} + 1}\\right)^{g_{minus}} \\log{\\left(1 - \\frac{e^{x}}{e^{x} + 1} \\right)}$"
     },
     "metadata": {},
     "output_type": "display_data"
    },
    {
     "data": {
      "text/plain": "Eq(L, -y*(1 - exp(x)/(exp(x) + 1))**g_plus*log(exp(x)/(exp(x) + 1)) - (exp(x)/(exp(x) + 1))**g_minus*(1 - y)*log(1 - exp(x)/(exp(x) + 1)))",
      "text/latex": "$\\displaystyle L = - y \\left(1 - \\frac{e^{x}}{e^{x} + 1}\\right)^{g_{plus}} \\log{\\left(\\frac{e^{x}}{e^{x} + 1} \\right)} - \\left(\\frac{e^{x}}{e^{x} + 1}\\right)^{g_{minus}} \\left(1 - y\\right) \\log{\\left(1 - \\frac{e^{x}}{e^{x} + 1} \\right)}$"
     },
     "metadata": {},
     "output_type": "display_data"
    },
    {
     "data": {
      "text/plain": "Eq(L__der1, -g_minus*(exp(x)/(exp(x) + 1))**g_minus*(1 - y)*(exp(x)/(exp(x) + 1) - exp(2*x)/(exp(x) + 1)**2)*(exp(x) + 1)*exp(-x)*log(1 - exp(x)/(exp(x) + 1)) - g_plus*y*(1 - exp(x)/(exp(x) + 1))**g_plus*(-exp(x)/(exp(x) + 1) + exp(2*x)/(exp(x) + 1)**2)*log(exp(x)/(exp(x) + 1))/(1 - exp(x)/(exp(x) + 1)) - y*(1 - exp(x)/(exp(x) + 1))**g_plus*(exp(x)/(exp(x) + 1) - exp(2*x)/(exp(x) + 1)**2)*(exp(x) + 1)*exp(-x) - (exp(x)/(exp(x) + 1))**g_minus*(1 - y)*(-exp(x)/(exp(x) + 1) + exp(2*x)/(exp(x) + 1)**2)/(1 - exp(x)/(exp(x) + 1)))",
      "text/latex": "$\\displaystyle L^{der1} = - g_{minus} \\left(\\frac{e^{x}}{e^{x} + 1}\\right)^{g_{minus}} \\left(1 - y\\right) \\left(\\frac{e^{x}}{e^{x} + 1} - \\frac{e^{2 x}}{\\left(e^{x} + 1\\right)^{2}}\\right) \\left(e^{x} + 1\\right) e^{- x} \\log{\\left(1 - \\frac{e^{x}}{e^{x} + 1} \\right)} - \\frac{g_{plus} y \\left(1 - \\frac{e^{x}}{e^{x} + 1}\\right)^{g_{plus}} \\left(- \\frac{e^{x}}{e^{x} + 1} + \\frac{e^{2 x}}{\\left(e^{x} + 1\\right)^{2}}\\right) \\log{\\left(\\frac{e^{x}}{e^{x} + 1} \\right)}}{1 - \\frac{e^{x}}{e^{x} + 1}} - y \\left(1 - \\frac{e^{x}}{e^{x} + 1}\\right)^{g_{plus}} \\left(\\frac{e^{x}}{e^{x} + 1} - \\frac{e^{2 x}}{\\left(e^{x} + 1\\right)^{2}}\\right) \\left(e^{x} + 1\\right) e^{- x} - \\frac{\\left(\\frac{e^{x}}{e^{x} + 1}\\right)^{g_{minus}} \\left(1 - y\\right) \\left(- \\frac{e^{x}}{e^{x} + 1} + \\frac{e^{2 x}}{\\left(e^{x} + 1\\right)^{2}}\\right)}{1 - \\frac{e^{x}}{e^{x} + 1}}$"
     },
     "metadata": {},
     "output_type": "display_data"
    },
    {
     "data": {
      "text/plain": "Eq(L__der2, -g_minus**2*(exp(x)/(exp(x) + 1))**g_minus*(1 - y)*(exp(x)/(exp(x) + 1) - exp(2*x)/(exp(x) + 1)**2)**2*(exp(x) + 1)**2*exp(-2*x)*log(1 - exp(x)/(exp(x) + 1)) + g_minus*(exp(x)/(exp(x) + 1))**g_minus*(1 - y)*(exp(x)/(exp(x) + 1) - exp(2*x)/(exp(x) + 1)**2)*(exp(x) + 1)*exp(-x)*log(1 - exp(x)/(exp(x) + 1)) - g_minus*(exp(x)/(exp(x) + 1))**g_minus*(1 - y)*(exp(x)/(exp(x) + 1) - exp(2*x)/(exp(x) + 1)**2)*log(1 - exp(x)/(exp(x) + 1)) - g_minus*(exp(x)/(exp(x) + 1))**g_minus*(1 - y)*(exp(x) + 1)*(exp(x)/(exp(x) + 1) - 3*exp(2*x)/(exp(x) + 1)**2 + 2*exp(3*x)/(exp(x) + 1)**3)*exp(-x)*log(1 - exp(x)/(exp(x) + 1)) - 2*g_minus*(exp(x)/(exp(x) + 1))**g_minus*(1 - y)*(-exp(x)/(exp(x) + 1) + exp(2*x)/(exp(x) + 1)**2)*(exp(x)/(exp(x) + 1) - exp(2*x)/(exp(x) + 1)**2)*(exp(x) + 1)*exp(-x)/(1 - exp(x)/(exp(x) + 1)) - g_plus**2*y*(1 - exp(x)/(exp(x) + 1))**g_plus*(-exp(x)/(exp(x) + 1) + exp(2*x)/(exp(x) + 1)**2)**2*log(exp(x)/(exp(x) + 1))/(1 - exp(x)/(exp(x) + 1))**2 - 2*g_plus*y*(1 - exp(x)/(exp(x) + 1))**g_plus*(-exp(x)/(exp(x) + 1) + exp(2*x)/(exp(x) + 1)**2)*(exp(x)/(exp(x) + 1) - exp(2*x)/(exp(x) + 1)**2)*(exp(x) + 1)*exp(-x)/(1 - exp(x)/(exp(x) + 1)) - g_plus*y*(1 - exp(x)/(exp(x) + 1))**g_plus*(-exp(x)/(exp(x) + 1) + 3*exp(2*x)/(exp(x) + 1)**2 - 2*exp(3*x)/(exp(x) + 1)**3)*log(exp(x)/(exp(x) + 1))/(1 - exp(x)/(exp(x) + 1)) - g_plus*y*(1 - exp(x)/(exp(x) + 1))**g_plus*(-exp(x)/(exp(x) + 1) + exp(2*x)/(exp(x) + 1)**2)*(exp(x)/(exp(x) + 1) - exp(2*x)/(exp(x) + 1)**2)*log(exp(x)/(exp(x) + 1))/(1 - exp(x)/(exp(x) + 1))**2 + y*(1 - exp(x)/(exp(x) + 1))**g_plus*(exp(x)/(exp(x) + 1) - exp(2*x)/(exp(x) + 1)**2)*(exp(x) + 1)*exp(-x) - y*(1 - exp(x)/(exp(x) + 1))**g_plus*(exp(x)/(exp(x) + 1) - exp(2*x)/(exp(x) + 1)**2) - y*(1 - exp(x)/(exp(x) + 1))**g_plus*(exp(x) + 1)*(exp(x)/(exp(x) + 1) - 3*exp(2*x)/(exp(x) + 1)**2 + 2*exp(3*x)/(exp(x) + 1)**3)*exp(-x) - (exp(x)/(exp(x) + 1))**g_minus*(1 - y)*(-exp(x)/(exp(x) + 1) + 3*exp(2*x)/(exp(x) + 1)**2 - 2*exp(3*x)/(exp(x) + 1)**3)/(1 - exp(x)/(exp(x) + 1)) - (exp(x)/(exp(x) + 1))**g_minus*(1 - y)*(-exp(x)/(exp(x) + 1) + exp(2*x)/(exp(x) + 1)**2)*(exp(x)/(exp(x) + 1) - exp(2*x)/(exp(x) + 1)**2)/(1 - exp(x)/(exp(x) + 1))**2)",
      "text/latex": "$\\displaystyle L^{der2} = - g_{minus}^{2} \\left(\\frac{e^{x}}{e^{x} + 1}\\right)^{g_{minus}} \\left(1 - y\\right) \\left(\\frac{e^{x}}{e^{x} + 1} - \\frac{e^{2 x}}{\\left(e^{x} + 1\\right)^{2}}\\right)^{2} \\left(e^{x} + 1\\right)^{2} e^{- 2 x} \\log{\\left(1 - \\frac{e^{x}}{e^{x} + 1} \\right)} + g_{minus} \\left(\\frac{e^{x}}{e^{x} + 1}\\right)^{g_{minus}} \\left(1 - y\\right) \\left(\\frac{e^{x}}{e^{x} + 1} - \\frac{e^{2 x}}{\\left(e^{x} + 1\\right)^{2}}\\right) \\left(e^{x} + 1\\right) e^{- x} \\log{\\left(1 - \\frac{e^{x}}{e^{x} + 1} \\right)} - g_{minus} \\left(\\frac{e^{x}}{e^{x} + 1}\\right)^{g_{minus}} \\left(1 - y\\right) \\left(\\frac{e^{x}}{e^{x} + 1} - \\frac{e^{2 x}}{\\left(e^{x} + 1\\right)^{2}}\\right) \\log{\\left(1 - \\frac{e^{x}}{e^{x} + 1} \\right)} - g_{minus} \\left(\\frac{e^{x}}{e^{x} + 1}\\right)^{g_{minus}} \\left(1 - y\\right) \\left(e^{x} + 1\\right) \\left(\\frac{e^{x}}{e^{x} + 1} - \\frac{3 e^{2 x}}{\\left(e^{x} + 1\\right)^{2}} + \\frac{2 e^{3 x}}{\\left(e^{x} + 1\\right)^{3}}\\right) e^{- x} \\log{\\left(1 - \\frac{e^{x}}{e^{x} + 1} \\right)} - \\frac{2 g_{minus} \\left(\\frac{e^{x}}{e^{x} + 1}\\right)^{g_{minus}} \\left(1 - y\\right) \\left(- \\frac{e^{x}}{e^{x} + 1} + \\frac{e^{2 x}}{\\left(e^{x} + 1\\right)^{2}}\\right) \\left(\\frac{e^{x}}{e^{x} + 1} - \\frac{e^{2 x}}{\\left(e^{x} + 1\\right)^{2}}\\right) \\left(e^{x} + 1\\right) e^{- x}}{1 - \\frac{e^{x}}{e^{x} + 1}} - \\frac{g_{plus}^{2} y \\left(1 - \\frac{e^{x}}{e^{x} + 1}\\right)^{g_{plus}} \\left(- \\frac{e^{x}}{e^{x} + 1} + \\frac{e^{2 x}}{\\left(e^{x} + 1\\right)^{2}}\\right)^{2} \\log{\\left(\\frac{e^{x}}{e^{x} + 1} \\right)}}{\\left(1 - \\frac{e^{x}}{e^{x} + 1}\\right)^{2}} - \\frac{2 g_{plus} y \\left(1 - \\frac{e^{x}}{e^{x} + 1}\\right)^{g_{plus}} \\left(- \\frac{e^{x}}{e^{x} + 1} + \\frac{e^{2 x}}{\\left(e^{x} + 1\\right)^{2}}\\right) \\left(\\frac{e^{x}}{e^{x} + 1} - \\frac{e^{2 x}}{\\left(e^{x} + 1\\right)^{2}}\\right) \\left(e^{x} + 1\\right) e^{- x}}{1 - \\frac{e^{x}}{e^{x} + 1}} - \\frac{g_{plus} y \\left(1 - \\frac{e^{x}}{e^{x} + 1}\\right)^{g_{plus}} \\left(- \\frac{e^{x}}{e^{x} + 1} + \\frac{3 e^{2 x}}{\\left(e^{x} + 1\\right)^{2}} - \\frac{2 e^{3 x}}{\\left(e^{x} + 1\\right)^{3}}\\right) \\log{\\left(\\frac{e^{x}}{e^{x} + 1} \\right)}}{1 - \\frac{e^{x}}{e^{x} + 1}} - \\frac{g_{plus} y \\left(1 - \\frac{e^{x}}{e^{x} + 1}\\right)^{g_{plus}} \\left(- \\frac{e^{x}}{e^{x} + 1} + \\frac{e^{2 x}}{\\left(e^{x} + 1\\right)^{2}}\\right) \\left(\\frac{e^{x}}{e^{x} + 1} - \\frac{e^{2 x}}{\\left(e^{x} + 1\\right)^{2}}\\right) \\log{\\left(\\frac{e^{x}}{e^{x} + 1} \\right)}}{\\left(1 - \\frac{e^{x}}{e^{x} + 1}\\right)^{2}} + y \\left(1 - \\frac{e^{x}}{e^{x} + 1}\\right)^{g_{plus}} \\left(\\frac{e^{x}}{e^{x} + 1} - \\frac{e^{2 x}}{\\left(e^{x} + 1\\right)^{2}}\\right) \\left(e^{x} + 1\\right) e^{- x} - y \\left(1 - \\frac{e^{x}}{e^{x} + 1}\\right)^{g_{plus}} \\left(\\frac{e^{x}}{e^{x} + 1} - \\frac{e^{2 x}}{\\left(e^{x} + 1\\right)^{2}}\\right) - y \\left(1 - \\frac{e^{x}}{e^{x} + 1}\\right)^{g_{plus}} \\left(e^{x} + 1\\right) \\left(\\frac{e^{x}}{e^{x} + 1} - \\frac{3 e^{2 x}}{\\left(e^{x} + 1\\right)^{2}} + \\frac{2 e^{3 x}}{\\left(e^{x} + 1\\right)^{3}}\\right) e^{- x} - \\frac{\\left(\\frac{e^{x}}{e^{x} + 1}\\right)^{g_{minus}} \\left(1 - y\\right) \\left(- \\frac{e^{x}}{e^{x} + 1} + \\frac{3 e^{2 x}}{\\left(e^{x} + 1\\right)^{2}} - \\frac{2 e^{3 x}}{\\left(e^{x} + 1\\right)^{3}}\\right)}{1 - \\frac{e^{x}}{e^{x} + 1}} - \\frac{\\left(\\frac{e^{x}}{e^{x} + 1}\\right)^{g_{minus}} \\left(1 - y\\right) \\left(- \\frac{e^{x}}{e^{x} + 1} + \\frac{e^{2 x}}{\\left(e^{x} + 1\\right)^{2}}\\right) \\left(\\frac{e^{x}}{e^{x} + 1} - \\frac{e^{2 x}}{\\left(e^{x} + 1\\right)^{2}}\\right)}{\\left(1 - \\frac{e^{x}}{e^{x} + 1}\\right)^{2}}$"
     },
     "metadata": {},
     "output_type": "display_data"
    }
   ],
   "source": [
    "def AsymmetricLossFormulas():\n",
    "    x, y, g_minus, g_plus = sp.symbols('x y g_minus g_plus')\n",
    "\n",
    "    p = sp.exp(x) / (1 + sp.exp(x))\n",
    "    display(sp.Eq(sp.S('p'), p))\n",
    "\n",
    "    L_plus = (1 - p)**g_plus * sp.log(p)\n",
    "    L_minus = p**g_minus * sp.log(1 - p)\n",
    "\n",
    "    display(sp.Eq(sp.S('L_plus'), L_plus))\n",
    "    display(sp.Eq(sp.S('L_minus'), L_minus))\n",
    "\n",
    "    L = -y*L_plus - (1 - y)*L_minus\n",
    "    display(sp.Eq(sp.S('L'), L))\n",
    "\n",
    "    der1 = sp.diff(L, x)\n",
    "    display(sp.Eq(sp.S('L__der1'), der1))\n",
    "\n",
    "    der2 = sp.diff(der1, x)\n",
    "    display(sp.Eq(sp.S('L__der2'), der2))\n",
    "    return der1, der2\n",
    "\n",
    "ALS_der1, ALS_der2 = AsymmetricLossFormulas()"
   ],
   "metadata": {
    "collapsed": false,
    "pycharm": {
     "name": "#%%\n"
    }
   }
  },
  {
   "cell_type": "code",
   "execution_count": 5,
   "outputs": [
    {
     "data": {
      "text/plain": "'Входящая функция производной'"
     },
     "metadata": {},
     "output_type": "display_data"
    },
    {
     "data": {
      "text/plain": "Eq(ALS_der2, -g_minus**2*(exp(x)/(exp(x) + 1))**g_minus*(1 - y)*(exp(x)/(exp(x) + 1) - exp(2*x)/(exp(x) + 1)**2)**2*(exp(x) + 1)**2*exp(-2*x)*log(1 - exp(x)/(exp(x) + 1)) + g_minus*(exp(x)/(exp(x) + 1))**g_minus*(1 - y)*(exp(x)/(exp(x) + 1) - exp(2*x)/(exp(x) + 1)**2)*(exp(x) + 1)*exp(-x)*log(1 - exp(x)/(exp(x) + 1)) - g_minus*(exp(x)/(exp(x) + 1))**g_minus*(1 - y)*(exp(x)/(exp(x) + 1) - exp(2*x)/(exp(x) + 1)**2)*log(1 - exp(x)/(exp(x) + 1)) - g_minus*(exp(x)/(exp(x) + 1))**g_minus*(1 - y)*(exp(x) + 1)*(exp(x)/(exp(x) + 1) - 3*exp(2*x)/(exp(x) + 1)**2 + 2*exp(3*x)/(exp(x) + 1)**3)*exp(-x)*log(1 - exp(x)/(exp(x) + 1)) - 2*g_minus*(exp(x)/(exp(x) + 1))**g_minus*(1 - y)*(-exp(x)/(exp(x) + 1) + exp(2*x)/(exp(x) + 1)**2)*(exp(x)/(exp(x) + 1) - exp(2*x)/(exp(x) + 1)**2)*(exp(x) + 1)*exp(-x)/(1 - exp(x)/(exp(x) + 1)) - g_plus**2*y*(1 - exp(x)/(exp(x) + 1))**g_plus*(-exp(x)/(exp(x) + 1) + exp(2*x)/(exp(x) + 1)**2)**2*log(exp(x)/(exp(x) + 1))/(1 - exp(x)/(exp(x) + 1))**2 - 2*g_plus*y*(1 - exp(x)/(exp(x) + 1))**g_plus*(-exp(x)/(exp(x) + 1) + exp(2*x)/(exp(x) + 1)**2)*(exp(x)/(exp(x) + 1) - exp(2*x)/(exp(x) + 1)**2)*(exp(x) + 1)*exp(-x)/(1 - exp(x)/(exp(x) + 1)) - g_plus*y*(1 - exp(x)/(exp(x) + 1))**g_plus*(-exp(x)/(exp(x) + 1) + 3*exp(2*x)/(exp(x) + 1)**2 - 2*exp(3*x)/(exp(x) + 1)**3)*log(exp(x)/(exp(x) + 1))/(1 - exp(x)/(exp(x) + 1)) - g_plus*y*(1 - exp(x)/(exp(x) + 1))**g_plus*(-exp(x)/(exp(x) + 1) + exp(2*x)/(exp(x) + 1)**2)*(exp(x)/(exp(x) + 1) - exp(2*x)/(exp(x) + 1)**2)*log(exp(x)/(exp(x) + 1))/(1 - exp(x)/(exp(x) + 1))**2 + y*(1 - exp(x)/(exp(x) + 1))**g_plus*(exp(x)/(exp(x) + 1) - exp(2*x)/(exp(x) + 1)**2)*(exp(x) + 1)*exp(-x) - y*(1 - exp(x)/(exp(x) + 1))**g_plus*(exp(x)/(exp(x) + 1) - exp(2*x)/(exp(x) + 1)**2) - y*(1 - exp(x)/(exp(x) + 1))**g_plus*(exp(x) + 1)*(exp(x)/(exp(x) + 1) - 3*exp(2*x)/(exp(x) + 1)**2 + 2*exp(3*x)/(exp(x) + 1)**3)*exp(-x) - (exp(x)/(exp(x) + 1))**g_minus*(1 - y)*(-exp(x)/(exp(x) + 1) + 3*exp(2*x)/(exp(x) + 1)**2 - 2*exp(3*x)/(exp(x) + 1)**3)/(1 - exp(x)/(exp(x) + 1)) - (exp(x)/(exp(x) + 1))**g_minus*(1 - y)*(-exp(x)/(exp(x) + 1) + exp(2*x)/(exp(x) + 1)**2)*(exp(x)/(exp(x) + 1) - exp(2*x)/(exp(x) + 1)**2)/(1 - exp(x)/(exp(x) + 1))**2)",
      "text/latex": "$\\displaystyle ALS_{der2} = - g_{minus}^{2} \\left(\\frac{e^{x}}{e^{x} + 1}\\right)^{g_{minus}} \\left(1 - y\\right) \\left(\\frac{e^{x}}{e^{x} + 1} - \\frac{e^{2 x}}{\\left(e^{x} + 1\\right)^{2}}\\right)^{2} \\left(e^{x} + 1\\right)^{2} e^{- 2 x} \\log{\\left(1 - \\frac{e^{x}}{e^{x} + 1} \\right)} + g_{minus} \\left(\\frac{e^{x}}{e^{x} + 1}\\right)^{g_{minus}} \\left(1 - y\\right) \\left(\\frac{e^{x}}{e^{x} + 1} - \\frac{e^{2 x}}{\\left(e^{x} + 1\\right)^{2}}\\right) \\left(e^{x} + 1\\right) e^{- x} \\log{\\left(1 - \\frac{e^{x}}{e^{x} + 1} \\right)} - g_{minus} \\left(\\frac{e^{x}}{e^{x} + 1}\\right)^{g_{minus}} \\left(1 - y\\right) \\left(\\frac{e^{x}}{e^{x} + 1} - \\frac{e^{2 x}}{\\left(e^{x} + 1\\right)^{2}}\\right) \\log{\\left(1 - \\frac{e^{x}}{e^{x} + 1} \\right)} - g_{minus} \\left(\\frac{e^{x}}{e^{x} + 1}\\right)^{g_{minus}} \\left(1 - y\\right) \\left(e^{x} + 1\\right) \\left(\\frac{e^{x}}{e^{x} + 1} - \\frac{3 e^{2 x}}{\\left(e^{x} + 1\\right)^{2}} + \\frac{2 e^{3 x}}{\\left(e^{x} + 1\\right)^{3}}\\right) e^{- x} \\log{\\left(1 - \\frac{e^{x}}{e^{x} + 1} \\right)} - \\frac{2 g_{minus} \\left(\\frac{e^{x}}{e^{x} + 1}\\right)^{g_{minus}} \\left(1 - y\\right) \\left(- \\frac{e^{x}}{e^{x} + 1} + \\frac{e^{2 x}}{\\left(e^{x} + 1\\right)^{2}}\\right) \\left(\\frac{e^{x}}{e^{x} + 1} - \\frac{e^{2 x}}{\\left(e^{x} + 1\\right)^{2}}\\right) \\left(e^{x} + 1\\right) e^{- x}}{1 - \\frac{e^{x}}{e^{x} + 1}} - \\frac{g_{plus}^{2} y \\left(1 - \\frac{e^{x}}{e^{x} + 1}\\right)^{g_{plus}} \\left(- \\frac{e^{x}}{e^{x} + 1} + \\frac{e^{2 x}}{\\left(e^{x} + 1\\right)^{2}}\\right)^{2} \\log{\\left(\\frac{e^{x}}{e^{x} + 1} \\right)}}{\\left(1 - \\frac{e^{x}}{e^{x} + 1}\\right)^{2}} - \\frac{2 g_{plus} y \\left(1 - \\frac{e^{x}}{e^{x} + 1}\\right)^{g_{plus}} \\left(- \\frac{e^{x}}{e^{x} + 1} + \\frac{e^{2 x}}{\\left(e^{x} + 1\\right)^{2}}\\right) \\left(\\frac{e^{x}}{e^{x} + 1} - \\frac{e^{2 x}}{\\left(e^{x} + 1\\right)^{2}}\\right) \\left(e^{x} + 1\\right) e^{- x}}{1 - \\frac{e^{x}}{e^{x} + 1}} - \\frac{g_{plus} y \\left(1 - \\frac{e^{x}}{e^{x} + 1}\\right)^{g_{plus}} \\left(- \\frac{e^{x}}{e^{x} + 1} + \\frac{3 e^{2 x}}{\\left(e^{x} + 1\\right)^{2}} - \\frac{2 e^{3 x}}{\\left(e^{x} + 1\\right)^{3}}\\right) \\log{\\left(\\frac{e^{x}}{e^{x} + 1} \\right)}}{1 - \\frac{e^{x}}{e^{x} + 1}} - \\frac{g_{plus} y \\left(1 - \\frac{e^{x}}{e^{x} + 1}\\right)^{g_{plus}} \\left(- \\frac{e^{x}}{e^{x} + 1} + \\frac{e^{2 x}}{\\left(e^{x} + 1\\right)^{2}}\\right) \\left(\\frac{e^{x}}{e^{x} + 1} - \\frac{e^{2 x}}{\\left(e^{x} + 1\\right)^{2}}\\right) \\log{\\left(\\frac{e^{x}}{e^{x} + 1} \\right)}}{\\left(1 - \\frac{e^{x}}{e^{x} + 1}\\right)^{2}} + y \\left(1 - \\frac{e^{x}}{e^{x} + 1}\\right)^{g_{plus}} \\left(\\frac{e^{x}}{e^{x} + 1} - \\frac{e^{2 x}}{\\left(e^{x} + 1\\right)^{2}}\\right) \\left(e^{x} + 1\\right) e^{- x} - y \\left(1 - \\frac{e^{x}}{e^{x} + 1}\\right)^{g_{plus}} \\left(\\frac{e^{x}}{e^{x} + 1} - \\frac{e^{2 x}}{\\left(e^{x} + 1\\right)^{2}}\\right) - y \\left(1 - \\frac{e^{x}}{e^{x} + 1}\\right)^{g_{plus}} \\left(e^{x} + 1\\right) \\left(\\frac{e^{x}}{e^{x} + 1} - \\frac{3 e^{2 x}}{\\left(e^{x} + 1\\right)^{2}} + \\frac{2 e^{3 x}}{\\left(e^{x} + 1\\right)^{3}}\\right) e^{- x} - \\frac{\\left(\\frac{e^{x}}{e^{x} + 1}\\right)^{g_{minus}} \\left(1 - y\\right) \\left(- \\frac{e^{x}}{e^{x} + 1} + \\frac{3 e^{2 x}}{\\left(e^{x} + 1\\right)^{2}} - \\frac{2 e^{3 x}}{\\left(e^{x} + 1\\right)^{3}}\\right)}{1 - \\frac{e^{x}}{e^{x} + 1}} - \\frac{\\left(\\frac{e^{x}}{e^{x} + 1}\\right)^{g_{minus}} \\left(1 - y\\right) \\left(- \\frac{e^{x}}{e^{x} + 1} + \\frac{e^{2 x}}{\\left(e^{x} + 1\\right)^{2}}\\right) \\left(\\frac{e^{x}}{e^{x} + 1} - \\frac{e^{2 x}}{\\left(e^{x} + 1\\right)^{2}}\\right)}{\\left(1 - \\frac{e^{x}}{e^{x} + 1}\\right)^{2}}$"
     },
     "metadata": {},
     "output_type": "display_data"
    },
    {
     "data": {
      "text/plain": "'*********** der.subs(sp.exp(x) / (1 + sp.exp(x)), p) *************'"
     },
     "metadata": {},
     "output_type": "display_data"
    },
    {
     "data": {
      "text/plain": "Eq(ALS_der2, -g_minus**2*p**g_minus*(1 - y)*(-p**2 + p)**2*(exp(x) + 1)**2*exp(-2*x)*log(1 - p) + g_minus*p**g_minus*(1 - y)*(-p**2 + p)*(exp(x) + 1)*exp(-x)*log(1 - p) - g_minus*p**g_minus*(1 - y)*(-p**2 + p)*log(1 - p) - g_minus*p**g_minus*(1 - y)*(exp(x) + 1)*(2*p**3 - 3*p**2 + p)*exp(-x)*log(1 - p) - 2*g_minus*p**g_minus*(1 - y)*(-p**2 + p)*(p**2 - p)*(exp(x) + 1)*exp(-x)/(1 - p) - g_plus**2*y*(1 - p)**g_plus*(p**2 - p)**2*log(p)/(1 - p)**2 - 2*g_plus*y*(1 - p)**g_plus*(-p**2 + p)*(p**2 - p)*(exp(x) + 1)*exp(-x)/(1 - p) - g_plus*y*(1 - p)**g_plus*(-2*p**3 + 3*p**2 - p)*log(p)/(1 - p) - g_plus*y*(1 - p)**g_plus*(-p**2 + p)*(p**2 - p)*log(p)/(1 - p)**2 - p**g_minus*(1 - y)*(-2*p**3 + 3*p**2 - p)/(1 - p) - p**g_minus*(1 - y)*(-p**2 + p)*(p**2 - p)/(1 - p)**2 + y*(1 - p)**g_plus*(-p**2 + p)*(exp(x) + 1)*exp(-x) - y*(1 - p)**g_plus*(-p**2 + p) - y*(1 - p)**g_plus*(exp(x) + 1)*(2*p**3 - 3*p**2 + p)*exp(-x))",
      "text/latex": "$\\displaystyle ALS_{der2} = - g_{minus}^{2} p^{g_{minus}} \\left(1 - y\\right) \\left(- p^{2} + p\\right)^{2} \\left(e^{x} + 1\\right)^{2} e^{- 2 x} \\log{\\left(1 - p \\right)} + g_{minus} p^{g_{minus}} \\left(1 - y\\right) \\left(- p^{2} + p\\right) \\left(e^{x} + 1\\right) e^{- x} \\log{\\left(1 - p \\right)} - g_{minus} p^{g_{minus}} \\left(1 - y\\right) \\left(- p^{2} + p\\right) \\log{\\left(1 - p \\right)} - g_{minus} p^{g_{minus}} \\left(1 - y\\right) \\left(e^{x} + 1\\right) \\left(2 p^{3} - 3 p^{2} + p\\right) e^{- x} \\log{\\left(1 - p \\right)} - \\frac{2 g_{minus} p^{g_{minus}} \\left(1 - y\\right) \\left(- p^{2} + p\\right) \\left(p^{2} - p\\right) \\left(e^{x} + 1\\right) e^{- x}}{1 - p} - \\frac{g_{plus}^{2} y \\left(1 - p\\right)^{g_{plus}} \\left(p^{2} - p\\right)^{2} \\log{\\left(p \\right)}}{\\left(1 - p\\right)^{2}} - \\frac{2 g_{plus} y \\left(1 - p\\right)^{g_{plus}} \\left(- p^{2} + p\\right) \\left(p^{2} - p\\right) \\left(e^{x} + 1\\right) e^{- x}}{1 - p} - \\frac{g_{plus} y \\left(1 - p\\right)^{g_{plus}} \\left(- 2 p^{3} + 3 p^{2} - p\\right) \\log{\\left(p \\right)}}{1 - p} - \\frac{g_{plus} y \\left(1 - p\\right)^{g_{plus}} \\left(- p^{2} + p\\right) \\left(p^{2} - p\\right) \\log{\\left(p \\right)}}{\\left(1 - p\\right)^{2}} - \\frac{p^{g_{minus}} \\left(1 - y\\right) \\left(- 2 p^{3} + 3 p^{2} - p\\right)}{1 - p} - \\frac{p^{g_{minus}} \\left(1 - y\\right) \\left(- p^{2} + p\\right) \\left(p^{2} - p\\right)}{\\left(1 - p\\right)^{2}} + y \\left(1 - p\\right)^{g_{plus}} \\left(- p^{2} + p\\right) \\left(e^{x} + 1\\right) e^{- x} - y \\left(1 - p\\right)^{g_{plus}} \\left(- p^{2} + p\\right) - y \\left(1 - p\\right)^{g_{plus}} \\left(e^{x} + 1\\right) \\left(2 p^{3} - 3 p^{2} + p\\right) e^{- x}$"
     },
     "metadata": {},
     "output_type": "display_data"
    },
    {
     "data": {
      "text/plain": "'*********** der.subs(sp.exp(x) / (1 + sp.exp(x)), p) *************'"
     },
     "metadata": {},
     "output_type": "display_data"
    },
    {
     "data": {
      "text/plain": "Eq(ALS_der2, -g_minus**2*p**g_minus*(1 - y)*(-p**2 + p)**2*(exp(x) + 1)**2*exp(-2*x)*log(1 - p) + g_minus*p**g_minus*(1 - y)*(-p**2 + p)*(exp(x) + 1)*exp(-x)*log(1 - p) - g_minus*p**g_minus*(1 - y)*(-p**2 + p)*log(1 - p) - g_minus*p**g_minus*(1 - y)*(exp(x) + 1)*(2*p**3 - 3*p**2 + p)*exp(-x)*log(1 - p) - 2*g_minus*p**g_minus*(1 - y)*(-p**2 + p)*(p**2 - p)*(exp(x) + 1)*exp(-x)/(1 - p) - g_plus**2*y*(1 - p)**g_plus*(p**2 - p)**2*log(p)/(1 - p)**2 - 2*g_plus*y*(1 - p)**g_plus*(-p**2 + p)*(p**2 - p)*(exp(x) + 1)*exp(-x)/(1 - p) - g_plus*y*(1 - p)**g_plus*(-2*p**3 + 3*p**2 - p)*log(p)/(1 - p) - g_plus*y*(1 - p)**g_plus*(-p**2 + p)*(p**2 - p)*log(p)/(1 - p)**2 - p**g_minus*(1 - y)*(-2*p**3 + 3*p**2 - p)/(1 - p) - p**g_minus*(1 - y)*(-p**2 + p)*(p**2 - p)/(1 - p)**2 + y*(1 - p)**g_plus*(-p**2 + p)*(exp(x) + 1)*exp(-x) - y*(1 - p)**g_plus*(-p**2 + p) - y*(1 - p)**g_plus*(exp(x) + 1)*(2*p**3 - 3*p**2 + p)*exp(-x))",
      "text/latex": "$\\displaystyle ALS_{der2} = - g_{minus}^{2} p^{g_{minus}} \\left(1 - y\\right) \\left(- p^{2} + p\\right)^{2} \\left(e^{x} + 1\\right)^{2} e^{- 2 x} \\log{\\left(1 - p \\right)} + g_{minus} p^{g_{minus}} \\left(1 - y\\right) \\left(- p^{2} + p\\right) \\left(e^{x} + 1\\right) e^{- x} \\log{\\left(1 - p \\right)} - g_{minus} p^{g_{minus}} \\left(1 - y\\right) \\left(- p^{2} + p\\right) \\log{\\left(1 - p \\right)} - g_{minus} p^{g_{minus}} \\left(1 - y\\right) \\left(e^{x} + 1\\right) \\left(2 p^{3} - 3 p^{2} + p\\right) e^{- x} \\log{\\left(1 - p \\right)} - \\frac{2 g_{minus} p^{g_{minus}} \\left(1 - y\\right) \\left(- p^{2} + p\\right) \\left(p^{2} - p\\right) \\left(e^{x} + 1\\right) e^{- x}}{1 - p} - \\frac{g_{plus}^{2} y \\left(1 - p\\right)^{g_{plus}} \\left(p^{2} - p\\right)^{2} \\log{\\left(p \\right)}}{\\left(1 - p\\right)^{2}} - \\frac{2 g_{plus} y \\left(1 - p\\right)^{g_{plus}} \\left(- p^{2} + p\\right) \\left(p^{2} - p\\right) \\left(e^{x} + 1\\right) e^{- x}}{1 - p} - \\frac{g_{plus} y \\left(1 - p\\right)^{g_{plus}} \\left(- 2 p^{3} + 3 p^{2} - p\\right) \\log{\\left(p \\right)}}{1 - p} - \\frac{g_{plus} y \\left(1 - p\\right)^{g_{plus}} \\left(- p^{2} + p\\right) \\left(p^{2} - p\\right) \\log{\\left(p \\right)}}{\\left(1 - p\\right)^{2}} - \\frac{p^{g_{minus}} \\left(1 - y\\right) \\left(- 2 p^{3} + 3 p^{2} - p\\right)}{1 - p} - \\frac{p^{g_{minus}} \\left(1 - y\\right) \\left(- p^{2} + p\\right) \\left(p^{2} - p\\right)}{\\left(1 - p\\right)^{2}} + y \\left(1 - p\\right)^{g_{plus}} \\left(- p^{2} + p\\right) \\left(e^{x} + 1\\right) e^{- x} - y \\left(1 - p\\right)^{g_{plus}} \\left(- p^{2} + p\\right) - y \\left(1 - p\\right)^{g_{plus}} \\left(e^{x} + 1\\right) \\left(2 p^{3} - 3 p^{2} + p\\right) e^{- x}$"
     },
     "metadata": {},
     "output_type": "display_data"
    },
    {
     "data": {
      "text/plain": "'**********    der.subs((1 + sp.exp(x))**2 * sp.exp(x)**(-2), p**(-2))  *****************'"
     },
     "metadata": {},
     "output_type": "display_data"
    },
    {
     "data": {
      "text/plain": "Eq(ALS_der2, -g_minus**2*p**g_minus*(1 - y)*(-p**2 + p)**2*log(1 - p)/p**2 + g_minus*p**g_minus*(1 - y)*(-p**2 + p)*(exp(x) + 1)*exp(-x)*log(1 - p) - g_minus*p**g_minus*(1 - y)*(-p**2 + p)*log(1 - p) - g_minus*p**g_minus*(1 - y)*(exp(x) + 1)*(2*p**3 - 3*p**2 + p)*exp(-x)*log(1 - p) - 2*g_minus*p**g_minus*(1 - y)*(-p**2 + p)*(p**2 - p)*(exp(x) + 1)*exp(-x)/(1 - p) - g_plus**2*y*(1 - p)**g_plus*(p**2 - p)**2*log(p)/(1 - p)**2 - 2*g_plus*y*(1 - p)**g_plus*(-p**2 + p)*(p**2 - p)*(exp(x) + 1)*exp(-x)/(1 - p) - g_plus*y*(1 - p)**g_plus*(-2*p**3 + 3*p**2 - p)*log(p)/(1 - p) - g_plus*y*(1 - p)**g_plus*(-p**2 + p)*(p**2 - p)*log(p)/(1 - p)**2 - p**g_minus*(1 - y)*(-2*p**3 + 3*p**2 - p)/(1 - p) - p**g_minus*(1 - y)*(-p**2 + p)*(p**2 - p)/(1 - p)**2 + y*(1 - p)**g_plus*(-p**2 + p)*(exp(x) + 1)*exp(-x) - y*(1 - p)**g_plus*(-p**2 + p) - y*(1 - p)**g_plus*(exp(x) + 1)*(2*p**3 - 3*p**2 + p)*exp(-x))",
      "text/latex": "$\\displaystyle ALS_{der2} = - \\frac{g_{minus}^{2} p^{g_{minus}} \\left(1 - y\\right) \\left(- p^{2} + p\\right)^{2} \\log{\\left(1 - p \\right)}}{p^{2}} + g_{minus} p^{g_{minus}} \\left(1 - y\\right) \\left(- p^{2} + p\\right) \\left(e^{x} + 1\\right) e^{- x} \\log{\\left(1 - p \\right)} - g_{minus} p^{g_{minus}} \\left(1 - y\\right) \\left(- p^{2} + p\\right) \\log{\\left(1 - p \\right)} - g_{minus} p^{g_{minus}} \\left(1 - y\\right) \\left(e^{x} + 1\\right) \\left(2 p^{3} - 3 p^{2} + p\\right) e^{- x} \\log{\\left(1 - p \\right)} - \\frac{2 g_{minus} p^{g_{minus}} \\left(1 - y\\right) \\left(- p^{2} + p\\right) \\left(p^{2} - p\\right) \\left(e^{x} + 1\\right) e^{- x}}{1 - p} - \\frac{g_{plus}^{2} y \\left(1 - p\\right)^{g_{plus}} \\left(p^{2} - p\\right)^{2} \\log{\\left(p \\right)}}{\\left(1 - p\\right)^{2}} - \\frac{2 g_{plus} y \\left(1 - p\\right)^{g_{plus}} \\left(- p^{2} + p\\right) \\left(p^{2} - p\\right) \\left(e^{x} + 1\\right) e^{- x}}{1 - p} - \\frac{g_{plus} y \\left(1 - p\\right)^{g_{plus}} \\left(- 2 p^{3} + 3 p^{2} - p\\right) \\log{\\left(p \\right)}}{1 - p} - \\frac{g_{plus} y \\left(1 - p\\right)^{g_{plus}} \\left(- p^{2} + p\\right) \\left(p^{2} - p\\right) \\log{\\left(p \\right)}}{\\left(1 - p\\right)^{2}} - \\frac{p^{g_{minus}} \\left(1 - y\\right) \\left(- 2 p^{3} + 3 p^{2} - p\\right)}{1 - p} - \\frac{p^{g_{minus}} \\left(1 - y\\right) \\left(- p^{2} + p\\right) \\left(p^{2} - p\\right)}{\\left(1 - p\\right)^{2}} + y \\left(1 - p\\right)^{g_{plus}} \\left(- p^{2} + p\\right) \\left(e^{x} + 1\\right) e^{- x} - y \\left(1 - p\\right)^{g_{plus}} \\left(- p^{2} + p\\right) - y \\left(1 - p\\right)^{g_{plus}} \\left(e^{x} + 1\\right) \\left(2 p^{3} - 3 p^{2} + p\\right) e^{- x}$"
     },
     "metadata": {},
     "output_type": "display_data"
    },
    {
     "data": {
      "text/plain": "'*********** sp.symplify(der) *************'"
     },
     "metadata": {},
     "output_type": "display_data"
    },
    {
     "data": {
      "text/plain": "Eq(ALS_der2, (g_minus**2*p**g_minus*(p - 1)**3*(y - 1)*exp(x)*log(1 - p) + 2*p**2*(p - 1)**2*(g_minus*p**g_minus*(y - 1) - g_plus*y*(1 - p)**g_plus)*(exp(x) + 1) + p**2*(p - 1)*(-g_plus**2*y*(1 - p)**g_plus*log(p) + g_plus*y*(1 - p)**g_plus*log(p) + p**g_minus*(1 - y))*exp(x) + p*(p - 1)**2*(-g_minus*p**g_minus*(y - 1)*log(1 - p) + y*(1 - p)**g_plus)*exp(x) + p*(p - 1)*(exp(x) + 1)*(g_minus*p**g_minus*(p - 1)*(y - 1)*log(1 - p) + g_minus*p**g_minus*(y - 1)*(2*p**2 - 3*p + 1)*log(1 - p) - y*(1 - p)**g_plus*(2*p**2 - 3*p + 1) + y*(1 - p)**(g_plus + 1)) + p*(-g_plus*y*(1 - p)**g_plus*log(p) + p**g_minus*(y - 1))*(2*p**2 - 3*p + 1)*exp(x))*exp(-x)/(p - 1))",
      "text/latex": "$\\displaystyle ALS_{der2} = \\frac{\\left(g_{minus}^{2} p^{g_{minus}} \\left(p - 1\\right)^{3} \\left(y - 1\\right) e^{x} \\log{\\left(1 - p \\right)} + 2 p^{2} \\left(p - 1\\right)^{2} \\left(g_{minus} p^{g_{minus}} \\left(y - 1\\right) - g_{plus} y \\left(1 - p\\right)^{g_{plus}}\\right) \\left(e^{x} + 1\\right) + p^{2} \\left(p - 1\\right) \\left(- g_{plus}^{2} y \\left(1 - p\\right)^{g_{plus}} \\log{\\left(p \\right)} + g_{plus} y \\left(1 - p\\right)^{g_{plus}} \\log{\\left(p \\right)} + p^{g_{minus}} \\left(1 - y\\right)\\right) e^{x} + p \\left(p - 1\\right)^{2} \\left(- g_{minus} p^{g_{minus}} \\left(y - 1\\right) \\log{\\left(1 - p \\right)} + y \\left(1 - p\\right)^{g_{plus}}\\right) e^{x} + p \\left(p - 1\\right) \\left(e^{x} + 1\\right) \\left(g_{minus} p^{g_{minus}} \\left(p - 1\\right) \\left(y - 1\\right) \\log{\\left(1 - p \\right)} + g_{minus} p^{g_{minus}} \\left(y - 1\\right) \\left(2 p^{2} - 3 p + 1\\right) \\log{\\left(1 - p \\right)} - y \\left(1 - p\\right)^{g_{plus}} \\left(2 p^{2} - 3 p + 1\\right) + y \\left(1 - p\\right)^{g_{plus} + 1}\\right) + p \\left(- g_{plus} y \\left(1 - p\\right)^{g_{plus}} \\log{\\left(p \\right)} + p^{g_{minus}} \\left(y - 1\\right)\\right) \\left(2 p^{2} - 3 p + 1\\right) e^{x}\\right) e^{- x}}{p - 1}$"
     },
     "metadata": {},
     "output_type": "display_data"
    },
    {
     "data": {
      "text/plain": "'*********** sp.factor(der) *************'"
     },
     "metadata": {},
     "output_type": "display_data"
    },
    {
     "data": {
      "text/plain": "Eq(ALS_der2, -(-g_minus**2*p**2*p**g_minus*y*exp(x)*log(1 - p) + g_minus**2*p**2*p**g_minus*exp(x)*log(1 - p) + 2*g_minus**2*p*p**g_minus*y*exp(x)*log(1 - p) - 2*g_minus**2*p*p**g_minus*exp(x)*log(1 - p) - g_minus**2*p**g_minus*y*exp(x)*log(1 - p) + g_minus**2*p**g_minus*exp(x)*log(1 - p) - 2*g_minus*p**3*p**g_minus*y*exp(x)*log(1 - p) - 2*g_minus*p**3*p**g_minus*y*exp(x) - 2*g_minus*p**3*p**g_minus*y*log(1 - p) - 2*g_minus*p**3*p**g_minus*y + 2*g_minus*p**3*p**g_minus*exp(x)*log(1 - p) + 2*g_minus*p**3*p**g_minus*exp(x) + 2*g_minus*p**3*p**g_minus*log(1 - p) + 2*g_minus*p**3*p**g_minus + 3*g_minus*p**2*p**g_minus*y*exp(x)*log(1 - p) + 2*g_minus*p**2*p**g_minus*y*exp(x) + 2*g_minus*p**2*p**g_minus*y*log(1 - p) + 2*g_minus*p**2*p**g_minus*y - 3*g_minus*p**2*p**g_minus*exp(x)*log(1 - p) - 2*g_minus*p**2*p**g_minus*exp(x) - 2*g_minus*p**2*p**g_minus*log(1 - p) - 2*g_minus*p**2*p**g_minus - g_minus*p*p**g_minus*y*exp(x)*log(1 - p) + g_minus*p*p**g_minus*exp(x)*log(1 - p) + g_plus**2*p**2*y*(1 - p)**g_plus*exp(x)*log(p) + 2*g_plus*p**3*y*(1 - p)**g_plus*exp(x) + 2*g_plus*p**3*y*(1 - p)**g_plus + g_plus*p**2*y*(1 - p)**g_plus*exp(x)*log(p) - 2*g_plus*p**2*y*(1 - p)**g_plus*exp(x) - 2*g_plus*p**2*y*(1 - p)**g_plus - g_plus*p*y*(1 - p)**g_plus*exp(x)*log(p) + 2*p**3*y*(1 - p)**g_plus*exp(x) + 2*p**3*y*(1 - p)**g_plus - p**2*p**g_minus*y*exp(x) + p**2*p**g_minus*exp(x) - 3*p**2*y*(1 - p)**g_plus*exp(x) - 2*p**2*y*(1 - p)**g_plus + p*p**g_minus*y*exp(x) - p*p**g_minus*exp(x) + p*y*(1 - p)**g_plus*exp(x))*exp(-x))",
      "text/latex": "$\\displaystyle ALS_{der2} = - \\left(- g_{minus}^{2} p^{2} p^{g_{minus}} y e^{x} \\log{\\left(1 - p \\right)} + g_{minus}^{2} p^{2} p^{g_{minus}} e^{x} \\log{\\left(1 - p \\right)} + 2 g_{minus}^{2} p p^{g_{minus}} y e^{x} \\log{\\left(1 - p \\right)} - 2 g_{minus}^{2} p p^{g_{minus}} e^{x} \\log{\\left(1 - p \\right)} - g_{minus}^{2} p^{g_{minus}} y e^{x} \\log{\\left(1 - p \\right)} + g_{minus}^{2} p^{g_{minus}} e^{x} \\log{\\left(1 - p \\right)} - 2 g_{minus} p^{3} p^{g_{minus}} y e^{x} \\log{\\left(1 - p \\right)} - 2 g_{minus} p^{3} p^{g_{minus}} y e^{x} - 2 g_{minus} p^{3} p^{g_{minus}} y \\log{\\left(1 - p \\right)} - 2 g_{minus} p^{3} p^{g_{minus}} y + 2 g_{minus} p^{3} p^{g_{minus}} e^{x} \\log{\\left(1 - p \\right)} + 2 g_{minus} p^{3} p^{g_{minus}} e^{x} + 2 g_{minus} p^{3} p^{g_{minus}} \\log{\\left(1 - p \\right)} + 2 g_{minus} p^{3} p^{g_{minus}} + 3 g_{minus} p^{2} p^{g_{minus}} y e^{x} \\log{\\left(1 - p \\right)} + 2 g_{minus} p^{2} p^{g_{minus}} y e^{x} + 2 g_{minus} p^{2} p^{g_{minus}} y \\log{\\left(1 - p \\right)} + 2 g_{minus} p^{2} p^{g_{minus}} y - 3 g_{minus} p^{2} p^{g_{minus}} e^{x} \\log{\\left(1 - p \\right)} - 2 g_{minus} p^{2} p^{g_{minus}} e^{x} - 2 g_{minus} p^{2} p^{g_{minus}} \\log{\\left(1 - p \\right)} - 2 g_{minus} p^{2} p^{g_{minus}} - g_{minus} p p^{g_{minus}} y e^{x} \\log{\\left(1 - p \\right)} + g_{minus} p p^{g_{minus}} e^{x} \\log{\\left(1 - p \\right)} + g_{plus}^{2} p^{2} y \\left(1 - p\\right)^{g_{plus}} e^{x} \\log{\\left(p \\right)} + 2 g_{plus} p^{3} y \\left(1 - p\\right)^{g_{plus}} e^{x} + 2 g_{plus} p^{3} y \\left(1 - p\\right)^{g_{plus}} + g_{plus} p^{2} y \\left(1 - p\\right)^{g_{plus}} e^{x} \\log{\\left(p \\right)} - 2 g_{plus} p^{2} y \\left(1 - p\\right)^{g_{plus}} e^{x} - 2 g_{plus} p^{2} y \\left(1 - p\\right)^{g_{plus}} - g_{plus} p y \\left(1 - p\\right)^{g_{plus}} e^{x} \\log{\\left(p \\right)} + 2 p^{3} y \\left(1 - p\\right)^{g_{plus}} e^{x} + 2 p^{3} y \\left(1 - p\\right)^{g_{plus}} - p^{2} p^{g_{minus}} y e^{x} + p^{2} p^{g_{minus}} e^{x} - 3 p^{2} y \\left(1 - p\\right)^{g_{plus}} e^{x} - 2 p^{2} y \\left(1 - p\\right)^{g_{plus}} + p p^{g_{minus}} y e^{x} - p p^{g_{minus}} e^{x} + p y \\left(1 - p\\right)^{g_{plus}} e^{x}\\right) e^{- x}$"
     },
     "metadata": {},
     "output_type": "display_data"
    },
    {
     "data": {
      "text/plain": "'*********** sp.factor(der) *************'"
     },
     "metadata": {},
     "output_type": "display_data"
    },
    {
     "data": {
      "text/plain": "Eq(ALS_der2, -(-g_minus**2*p**2*p**g_minus*y*exp(x)*log(1 - p) + g_minus**2*p**2*p**g_minus*exp(x)*log(1 - p) + 2*g_minus**2*p*p**g_minus*y*exp(x)*log(1 - p) - 2*g_minus**2*p*p**g_minus*exp(x)*log(1 - p) - g_minus**2*p**g_minus*y*exp(x)*log(1 - p) + g_minus**2*p**g_minus*exp(x)*log(1 - p) - 2*g_minus*p**3*p**g_minus*y*exp(x)*log(1 - p) - 2*g_minus*p**3*p**g_minus*y*exp(x) - 2*g_minus*p**3*p**g_minus*y*log(1 - p) - 2*g_minus*p**3*p**g_minus*y + 2*g_minus*p**3*p**g_minus*exp(x)*log(1 - p) + 2*g_minus*p**3*p**g_minus*exp(x) + 2*g_minus*p**3*p**g_minus*log(1 - p) + 2*g_minus*p**3*p**g_minus + 3*g_minus*p**2*p**g_minus*y*exp(x)*log(1 - p) + 2*g_minus*p**2*p**g_minus*y*exp(x) + 2*g_minus*p**2*p**g_minus*y*log(1 - p) + 2*g_minus*p**2*p**g_minus*y - 3*g_minus*p**2*p**g_minus*exp(x)*log(1 - p) - 2*g_minus*p**2*p**g_minus*exp(x) - 2*g_minus*p**2*p**g_minus*log(1 - p) - 2*g_minus*p**2*p**g_minus - g_minus*p*p**g_minus*y*exp(x)*log(1 - p) + g_minus*p*p**g_minus*exp(x)*log(1 - p) + g_plus**2*p**2*y*(1 - p)**g_plus*exp(x)*log(p) + 2*g_plus*p**3*y*(1 - p)**g_plus*exp(x) + 2*g_plus*p**3*y*(1 - p)**g_plus + g_plus*p**2*y*(1 - p)**g_plus*exp(x)*log(p) - 2*g_plus*p**2*y*(1 - p)**g_plus*exp(x) - 2*g_plus*p**2*y*(1 - p)**g_plus - g_plus*p*y*(1 - p)**g_plus*exp(x)*log(p) + 2*p**3*y*(1 - p)**g_plus*exp(x) + 2*p**3*y*(1 - p)**g_plus - p**2*p**g_minus*y*exp(x) + p**2*p**g_minus*exp(x) - 3*p**2*y*(1 - p)**g_plus*exp(x) - 2*p**2*y*(1 - p)**g_plus + p*p**g_minus*y*exp(x) - p*p**g_minus*exp(x) + p*y*(1 - p)**g_plus*exp(x))*exp(-x))",
      "text/latex": "$\\displaystyle ALS_{der2} = - \\left(- g_{minus}^{2} p^{2} p^{g_{minus}} y e^{x} \\log{\\left(1 - p \\right)} + g_{minus}^{2} p^{2} p^{g_{minus}} e^{x} \\log{\\left(1 - p \\right)} + 2 g_{minus}^{2} p p^{g_{minus}} y e^{x} \\log{\\left(1 - p \\right)} - 2 g_{minus}^{2} p p^{g_{minus}} e^{x} \\log{\\left(1 - p \\right)} - g_{minus}^{2} p^{g_{minus}} y e^{x} \\log{\\left(1 - p \\right)} + g_{minus}^{2} p^{g_{minus}} e^{x} \\log{\\left(1 - p \\right)} - 2 g_{minus} p^{3} p^{g_{minus}} y e^{x} \\log{\\left(1 - p \\right)} - 2 g_{minus} p^{3} p^{g_{minus}} y e^{x} - 2 g_{minus} p^{3} p^{g_{minus}} y \\log{\\left(1 - p \\right)} - 2 g_{minus} p^{3} p^{g_{minus}} y + 2 g_{minus} p^{3} p^{g_{minus}} e^{x} \\log{\\left(1 - p \\right)} + 2 g_{minus} p^{3} p^{g_{minus}} e^{x} + 2 g_{minus} p^{3} p^{g_{minus}} \\log{\\left(1 - p \\right)} + 2 g_{minus} p^{3} p^{g_{minus}} + 3 g_{minus} p^{2} p^{g_{minus}} y e^{x} \\log{\\left(1 - p \\right)} + 2 g_{minus} p^{2} p^{g_{minus}} y e^{x} + 2 g_{minus} p^{2} p^{g_{minus}} y \\log{\\left(1 - p \\right)} + 2 g_{minus} p^{2} p^{g_{minus}} y - 3 g_{minus} p^{2} p^{g_{minus}} e^{x} \\log{\\left(1 - p \\right)} - 2 g_{minus} p^{2} p^{g_{minus}} e^{x} - 2 g_{minus} p^{2} p^{g_{minus}} \\log{\\left(1 - p \\right)} - 2 g_{minus} p^{2} p^{g_{minus}} - g_{minus} p p^{g_{minus}} y e^{x} \\log{\\left(1 - p \\right)} + g_{minus} p p^{g_{minus}} e^{x} \\log{\\left(1 - p \\right)} + g_{plus}^{2} p^{2} y \\left(1 - p\\right)^{g_{plus}} e^{x} \\log{\\left(p \\right)} + 2 g_{plus} p^{3} y \\left(1 - p\\right)^{g_{plus}} e^{x} + 2 g_{plus} p^{3} y \\left(1 - p\\right)^{g_{plus}} + g_{plus} p^{2} y \\left(1 - p\\right)^{g_{plus}} e^{x} \\log{\\left(p \\right)} - 2 g_{plus} p^{2} y \\left(1 - p\\right)^{g_{plus}} e^{x} - 2 g_{plus} p^{2} y \\left(1 - p\\right)^{g_{plus}} - g_{plus} p y \\left(1 - p\\right)^{g_{plus}} e^{x} \\log{\\left(p \\right)} + 2 p^{3} y \\left(1 - p\\right)^{g_{plus}} e^{x} + 2 p^{3} y \\left(1 - p\\right)^{g_{plus}} - p^{2} p^{g_{minus}} y e^{x} + p^{2} p^{g_{minus}} e^{x} - 3 p^{2} y \\left(1 - p\\right)^{g_{plus}} e^{x} - 2 p^{2} y \\left(1 - p\\right)^{g_{plus}} + p p^{g_{minus}} y e^{x} - p p^{g_{minus}} e^{x} + p y \\left(1 - p\\right)^{g_{plus}} e^{x}\\right) e^{- x}$"
     },
     "metadata": {},
     "output_type": "display_data"
    },
    {
     "data": {
      "text/plain": "'*********** sp.symplify(der) *************'"
     },
     "metadata": {},
     "output_type": "display_data"
    },
    {
     "data": {
      "text/plain": "Eq(ALS_der2, g_minus**2*p**g_minus*y*log(1 - p) - g_minus**2*p**g_minus*log(1 - p) - 2*g_minus**2*p**(g_minus + 1)*y*log(1 - p) + 2*g_minus**2*p**(g_minus + 1)*log(1 - p) + g_minus**2*p**(g_minus + 2)*y*log(1 - p) - g_minus**2*p**(g_minus + 2)*log(1 - p) + g_minus*p**(g_minus + 1)*y*log(1 - p) - g_minus*p**(g_minus + 1)*log(1 - p) - 3*g_minus*p**(g_minus + 2)*y*log(1 - p) - 2*g_minus*p**(g_minus + 2)*y - 2*g_minus*p**(g_minus + 2)*y*exp(-x)*log(1 - p) - 2*g_minus*p**(g_minus + 2)*y*exp(-x) + 3*g_minus*p**(g_minus + 2)*log(1 - p) + 2*g_minus*p**(g_minus + 2) + 2*g_minus*p**(g_minus + 2)*exp(-x)*log(1 - p) + 2*g_minus*p**(g_minus + 2)*exp(-x) + 2*g_minus*p**(g_minus + 3)*y*log(1 - p) + 2*g_minus*p**(g_minus + 3)*y + 2*g_minus*p**(g_minus + 3)*y*exp(-x)*log(1 - p) + 2*g_minus*p**(g_minus + 3)*y*exp(-x) - 2*g_minus*p**(g_minus + 3)*log(1 - p) - 2*g_minus*p**(g_minus + 3) - 2*g_minus*p**(g_minus + 3)*exp(-x)*log(1 - p) - 2*g_minus*p**(g_minus + 3)*exp(-x) - g_plus**2*p**2*y*(1 - p)**g_plus*log(p) - 2*g_plus*p**3*y*(1 - p)**g_plus - 2*g_plus*p**3*y*(1 - p)**g_plus*exp(-x) - g_plus*p**2*y*(1 - p)**g_plus*log(p) + 2*g_plus*p**2*y*(1 - p)**g_plus + 2*g_plus*p**2*y*(1 - p)**g_plus*exp(-x) + g_plus*p*y*(1 - p)**g_plus*log(p) - 2*p**3*y*(1 - p)**g_plus - 2*p**3*y*(1 - p)**g_plus*exp(-x) + 3*p**2*y*(1 - p)**g_plus + 2*p**2*y*(1 - p)**g_plus*exp(-x) - p*y*(1 - p)**g_plus - p**(g_minus + 1)*y + p**(g_minus + 1) + p**(g_minus + 2)*y - p**(g_minus + 2))",
      "text/latex": "$\\displaystyle ALS_{der2} = g_{minus}^{2} p^{g_{minus}} y \\log{\\left(1 - p \\right)} - g_{minus}^{2} p^{g_{minus}} \\log{\\left(1 - p \\right)} - 2 g_{minus}^{2} p^{g_{minus} + 1} y \\log{\\left(1 - p \\right)} + 2 g_{minus}^{2} p^{g_{minus} + 1} \\log{\\left(1 - p \\right)} + g_{minus}^{2} p^{g_{minus} + 2} y \\log{\\left(1 - p \\right)} - g_{minus}^{2} p^{g_{minus} + 2} \\log{\\left(1 - p \\right)} + g_{minus} p^{g_{minus} + 1} y \\log{\\left(1 - p \\right)} - g_{minus} p^{g_{minus} + 1} \\log{\\left(1 - p \\right)} - 3 g_{minus} p^{g_{minus} + 2} y \\log{\\left(1 - p \\right)} - 2 g_{minus} p^{g_{minus} + 2} y - 2 g_{minus} p^{g_{minus} + 2} y e^{- x} \\log{\\left(1 - p \\right)} - 2 g_{minus} p^{g_{minus} + 2} y e^{- x} + 3 g_{minus} p^{g_{minus} + 2} \\log{\\left(1 - p \\right)} + 2 g_{minus} p^{g_{minus} + 2} + 2 g_{minus} p^{g_{minus} + 2} e^{- x} \\log{\\left(1 - p \\right)} + 2 g_{minus} p^{g_{minus} + 2} e^{- x} + 2 g_{minus} p^{g_{minus} + 3} y \\log{\\left(1 - p \\right)} + 2 g_{minus} p^{g_{minus} + 3} y + 2 g_{minus} p^{g_{minus} + 3} y e^{- x} \\log{\\left(1 - p \\right)} + 2 g_{minus} p^{g_{minus} + 3} y e^{- x} - 2 g_{minus} p^{g_{minus} + 3} \\log{\\left(1 - p \\right)} - 2 g_{minus} p^{g_{minus} + 3} - 2 g_{minus} p^{g_{minus} + 3} e^{- x} \\log{\\left(1 - p \\right)} - 2 g_{minus} p^{g_{minus} + 3} e^{- x} - g_{plus}^{2} p^{2} y \\left(1 - p\\right)^{g_{plus}} \\log{\\left(p \\right)} - 2 g_{plus} p^{3} y \\left(1 - p\\right)^{g_{plus}} - 2 g_{plus} p^{3} y \\left(1 - p\\right)^{g_{plus}} e^{- x} - g_{plus} p^{2} y \\left(1 - p\\right)^{g_{plus}} \\log{\\left(p \\right)} + 2 g_{plus} p^{2} y \\left(1 - p\\right)^{g_{plus}} + 2 g_{plus} p^{2} y \\left(1 - p\\right)^{g_{plus}} e^{- x} + g_{plus} p y \\left(1 - p\\right)^{g_{plus}} \\log{\\left(p \\right)} - 2 p^{3} y \\left(1 - p\\right)^{g_{plus}} - 2 p^{3} y \\left(1 - p\\right)^{g_{plus}} e^{- x} + 3 p^{2} y \\left(1 - p\\right)^{g_{plus}} + 2 p^{2} y \\left(1 - p\\right)^{g_{plus}} e^{- x} - p y \\left(1 - p\\right)^{g_{plus}} - p^{g_{minus} + 1} y + p^{g_{minus} + 1} + p^{g_{minus} + 2} y - p^{g_{minus} + 2}$"
     },
     "metadata": {},
     "output_type": "display_data"
    },
    {
     "data": {
      "text/plain": "'**********    der.subs(sp.exp(x), p / (1-p))  *****************'"
     },
     "metadata": {},
     "output_type": "display_data"
    },
    {
     "data": {
      "text/plain": "Eq(ALS_der2, g_minus**2*p**g_minus*y*log(1 - p) - g_minus**2*p**g_minus*log(1 - p) - 2*g_minus**2*p**(g_minus + 1)*y*log(1 - p) + 2*g_minus**2*p**(g_minus + 1)*log(1 - p) + g_minus**2*p**(g_minus + 2)*y*log(1 - p) - g_minus**2*p**(g_minus + 2)*log(1 - p) + g_minus*p**(g_minus + 1)*y*log(1 - p) - g_minus*p**(g_minus + 1)*log(1 - p) - 3*g_minus*p**(g_minus + 2)*y*log(1 - p) - 2*g_minus*p**(g_minus + 2)*y + 3*g_minus*p**(g_minus + 2)*log(1 - p) + 2*g_minus*p**(g_minus + 2) + 2*g_minus*p**(g_minus + 3)*y*log(1 - p) + 2*g_minus*p**(g_minus + 3)*y - 2*g_minus*p**(g_minus + 3)*log(1 - p) - 2*g_minus*p**(g_minus + 3) - 2*g_minus*p**(g_minus + 2)*y*(1 - p)*log(1 - p)/p - 2*g_minus*p**(g_minus + 2)*y*(1 - p)/p + 2*g_minus*p**(g_minus + 2)*(1 - p)*log(1 - p)/p + 2*g_minus*p**(g_minus + 2)*(1 - p)/p + 2*g_minus*p**(g_minus + 3)*y*(1 - p)*log(1 - p)/p + 2*g_minus*p**(g_minus + 3)*y*(1 - p)/p - 2*g_minus*p**(g_minus + 3)*(1 - p)*log(1 - p)/p - 2*g_minus*p**(g_minus + 3)*(1 - p)/p - g_plus**2*p**2*y*(1 - p)**g_plus*log(p) - 2*g_plus*p**3*y*(1 - p)**g_plus - 2*g_plus*p**2*y*(1 - p)*(1 - p)**g_plus - g_plus*p**2*y*(1 - p)**g_plus*log(p) + 2*g_plus*p**2*y*(1 - p)**g_plus + 2*g_plus*p*y*(1 - p)*(1 - p)**g_plus + g_plus*p*y*(1 - p)**g_plus*log(p) - 2*p**3*y*(1 - p)**g_plus - 2*p**2*y*(1 - p)*(1 - p)**g_plus + 3*p**2*y*(1 - p)**g_plus + 2*p*y*(1 - p)*(1 - p)**g_plus - p*y*(1 - p)**g_plus - p**(g_minus + 1)*y + p**(g_minus + 1) + p**(g_minus + 2)*y - p**(g_minus + 2))",
      "text/latex": "$\\displaystyle ALS_{der2} = g_{minus}^{2} p^{g_{minus}} y \\log{\\left(1 - p \\right)} - g_{minus}^{2} p^{g_{minus}} \\log{\\left(1 - p \\right)} - 2 g_{minus}^{2} p^{g_{minus} + 1} y \\log{\\left(1 - p \\right)} + 2 g_{minus}^{2} p^{g_{minus} + 1} \\log{\\left(1 - p \\right)} + g_{minus}^{2} p^{g_{minus} + 2} y \\log{\\left(1 - p \\right)} - g_{minus}^{2} p^{g_{minus} + 2} \\log{\\left(1 - p \\right)} + g_{minus} p^{g_{minus} + 1} y \\log{\\left(1 - p \\right)} - g_{minus} p^{g_{minus} + 1} \\log{\\left(1 - p \\right)} - 3 g_{minus} p^{g_{minus} + 2} y \\log{\\left(1 - p \\right)} - 2 g_{minus} p^{g_{minus} + 2} y + 3 g_{minus} p^{g_{minus} + 2} \\log{\\left(1 - p \\right)} + 2 g_{minus} p^{g_{minus} + 2} + 2 g_{minus} p^{g_{minus} + 3} y \\log{\\left(1 - p \\right)} + 2 g_{minus} p^{g_{minus} + 3} y - 2 g_{minus} p^{g_{minus} + 3} \\log{\\left(1 - p \\right)} - 2 g_{minus} p^{g_{minus} + 3} - \\frac{2 g_{minus} p^{g_{minus} + 2} y \\left(1 - p\\right) \\log{\\left(1 - p \\right)}}{p} - \\frac{2 g_{minus} p^{g_{minus} + 2} y \\left(1 - p\\right)}{p} + \\frac{2 g_{minus} p^{g_{minus} + 2} \\left(1 - p\\right) \\log{\\left(1 - p \\right)}}{p} + \\frac{2 g_{minus} p^{g_{minus} + 2} \\left(1 - p\\right)}{p} + \\frac{2 g_{minus} p^{g_{minus} + 3} y \\left(1 - p\\right) \\log{\\left(1 - p \\right)}}{p} + \\frac{2 g_{minus} p^{g_{minus} + 3} y \\left(1 - p\\right)}{p} - \\frac{2 g_{minus} p^{g_{minus} + 3} \\left(1 - p\\right) \\log{\\left(1 - p \\right)}}{p} - \\frac{2 g_{minus} p^{g_{minus} + 3} \\left(1 - p\\right)}{p} - g_{plus}^{2} p^{2} y \\left(1 - p\\right)^{g_{plus}} \\log{\\left(p \\right)} - 2 g_{plus} p^{3} y \\left(1 - p\\right)^{g_{plus}} - 2 g_{plus} p^{2} y \\left(1 - p\\right) \\left(1 - p\\right)^{g_{plus}} - g_{plus} p^{2} y \\left(1 - p\\right)^{g_{plus}} \\log{\\left(p \\right)} + 2 g_{plus} p^{2} y \\left(1 - p\\right)^{g_{plus}} + 2 g_{plus} p y \\left(1 - p\\right) \\left(1 - p\\right)^{g_{plus}} + g_{plus} p y \\left(1 - p\\right)^{g_{plus}} \\log{\\left(p \\right)} - 2 p^{3} y \\left(1 - p\\right)^{g_{plus}} - 2 p^{2} y \\left(1 - p\\right) \\left(1 - p\\right)^{g_{plus}} + 3 p^{2} y \\left(1 - p\\right)^{g_{plus}} + 2 p y \\left(1 - p\\right) \\left(1 - p\\right)^{g_{plus}} - p y \\left(1 - p\\right)^{g_{plus}} - p^{g_{minus} + 1} y + p^{g_{minus} + 1} + p^{g_{minus} + 2} y - p^{g_{minus} + 2}$"
     },
     "metadata": {},
     "output_type": "display_data"
    },
    {
     "data": {
      "text/plain": "'*********** sp.factor(der) *************'"
     },
     "metadata": {},
     "output_type": "display_data"
    },
    {
     "data": {
      "text/plain": "Eq(ALS_der2, g_minus**2*p**2*p**g_minus*y*log(1 - p) - g_minus**2*p**2*p**g_minus*log(1 - p) - 2*g_minus**2*p*p**g_minus*y*log(1 - p) + 2*g_minus**2*p*p**g_minus*log(1 - p) + g_minus**2*p**g_minus*y*log(1 - p) - g_minus**2*p**g_minus*log(1 - p) + g_minus*p**2*p**g_minus*y*log(1 - p) + 2*g_minus*p**2*p**g_minus*y - g_minus*p**2*p**g_minus*log(1 - p) - 2*g_minus*p**2*p**g_minus - g_minus*p*p**g_minus*y*log(1 - p) - 2*g_minus*p*p**g_minus*y + g_minus*p*p**g_minus*log(1 - p) + 2*g_minus*p*p**g_minus - g_plus**2*p**2*y*(1 - p)**g_plus*log(p) - g_plus*p**2*y*(1 - p)**g_plus*log(p) - 2*g_plus*p**2*y*(1 - p)**g_plus + g_plus*p*y*(1 - p)**g_plus*log(p) + 2*g_plus*p*y*(1 - p)**g_plus + p**2*p**g_minus*y - p**2*p**g_minus - p**2*y*(1 - p)**g_plus - p*p**g_minus*y + p*p**g_minus + p*y*(1 - p)**g_plus)",
      "text/latex": "$\\displaystyle ALS_{der2} = g_{minus}^{2} p^{2} p^{g_{minus}} y \\log{\\left(1 - p \\right)} - g_{minus}^{2} p^{2} p^{g_{minus}} \\log{\\left(1 - p \\right)} - 2 g_{minus}^{2} p p^{g_{minus}} y \\log{\\left(1 - p \\right)} + 2 g_{minus}^{2} p p^{g_{minus}} \\log{\\left(1 - p \\right)} + g_{minus}^{2} p^{g_{minus}} y \\log{\\left(1 - p \\right)} - g_{minus}^{2} p^{g_{minus}} \\log{\\left(1 - p \\right)} + g_{minus} p^{2} p^{g_{minus}} y \\log{\\left(1 - p \\right)} + 2 g_{minus} p^{2} p^{g_{minus}} y - g_{minus} p^{2} p^{g_{minus}} \\log{\\left(1 - p \\right)} - 2 g_{minus} p^{2} p^{g_{minus}} - g_{minus} p p^{g_{minus}} y \\log{\\left(1 - p \\right)} - 2 g_{minus} p p^{g_{minus}} y + g_{minus} p p^{g_{minus}} \\log{\\left(1 - p \\right)} + 2 g_{minus} p p^{g_{minus}} - g_{plus}^{2} p^{2} y \\left(1 - p\\right)^{g_{plus}} \\log{\\left(p \\right)} - g_{plus} p^{2} y \\left(1 - p\\right)^{g_{plus}} \\log{\\left(p \\right)} - 2 g_{plus} p^{2} y \\left(1 - p\\right)^{g_{plus}} + g_{plus} p y \\left(1 - p\\right)^{g_{plus}} \\log{\\left(p \\right)} + 2 g_{plus} p y \\left(1 - p\\right)^{g_{plus}} + p^{2} p^{g_{minus}} y - p^{2} p^{g_{minus}} - p^{2} y \\left(1 - p\\right)^{g_{plus}} - p p^{g_{minus}} y + p p^{g_{minus}} + p y \\left(1 - p\\right)^{g_{plus}}$"
     },
     "metadata": {},
     "output_type": "display_data"
    },
    {
     "data": {
      "text/plain": "'*********** sp.symplify(der) *************'"
     },
     "metadata": {},
     "output_type": "display_data"
    },
    {
     "data": {
      "text/plain": "Eq(ALS_der2, g_minus**2*p**g_minus*y*log(1 - p) - g_minus**2*p**g_minus*log(1 - p) - 2*g_minus**2*p**(g_minus + 1)*y*log(1 - p) + 2*g_minus**2*p**(g_minus + 1)*log(1 - p) + g_minus**2*p**(g_minus + 2)*y*log(1 - p) - g_minus**2*p**(g_minus + 2)*log(1 - p) - g_minus*p**(g_minus + 1)*y*log(1 - p) - 2*g_minus*p**(g_minus + 1)*y + g_minus*p**(g_minus + 1)*log(1 - p) + 2*g_minus*p**(g_minus + 1) + g_minus*p**(g_minus + 2)*y*log(1 - p) + 2*g_minus*p**(g_minus + 2)*y - g_minus*p**(g_minus + 2)*log(1 - p) - 2*g_minus*p**(g_minus + 2) - g_plus**2*p**2*y*(1 - p)**g_plus*log(p) - g_plus*p**2*y*(1 - p)**g_plus*log(p) - 2*g_plus*p**2*y*(1 - p)**g_plus + g_plus*p*y*(1 - p)**g_plus*log(p) + 2*g_plus*p*y*(1 - p)**g_plus - p**2*y*(1 - p)**g_plus + p*y*(1 - p)**g_plus - p**(g_minus + 1)*y + p**(g_minus + 1) + p**(g_minus + 2)*y - p**(g_minus + 2))",
      "text/latex": "$\\displaystyle ALS_{der2} = g_{minus}^{2} p^{g_{minus}} y \\log{\\left(1 - p \\right)} - g_{minus}^{2} p^{g_{minus}} \\log{\\left(1 - p \\right)} - 2 g_{minus}^{2} p^{g_{minus} + 1} y \\log{\\left(1 - p \\right)} + 2 g_{minus}^{2} p^{g_{minus} + 1} \\log{\\left(1 - p \\right)} + g_{minus}^{2} p^{g_{minus} + 2} y \\log{\\left(1 - p \\right)} - g_{minus}^{2} p^{g_{minus} + 2} \\log{\\left(1 - p \\right)} - g_{minus} p^{g_{minus} + 1} y \\log{\\left(1 - p \\right)} - 2 g_{minus} p^{g_{minus} + 1} y + g_{minus} p^{g_{minus} + 1} \\log{\\left(1 - p \\right)} + 2 g_{minus} p^{g_{minus} + 1} + g_{minus} p^{g_{minus} + 2} y \\log{\\left(1 - p \\right)} + 2 g_{minus} p^{g_{minus} + 2} y - g_{minus} p^{g_{minus} + 2} \\log{\\left(1 - p \\right)} - 2 g_{minus} p^{g_{minus} + 2} - g_{plus}^{2} p^{2} y \\left(1 - p\\right)^{g_{plus}} \\log{\\left(p \\right)} - g_{plus} p^{2} y \\left(1 - p\\right)^{g_{plus}} \\log{\\left(p \\right)} - 2 g_{plus} p^{2} y \\left(1 - p\\right)^{g_{plus}} + g_{plus} p y \\left(1 - p\\right)^{g_{plus}} \\log{\\left(p \\right)} + 2 g_{plus} p y \\left(1 - p\\right)^{g_{plus}} - p^{2} y \\left(1 - p\\right)^{g_{plus}} + p y \\left(1 - p\\right)^{g_{plus}} - p^{g_{minus} + 1} y + p^{g_{minus} + 1} + p^{g_{minus} + 2} y - p^{g_{minus} + 2}$"
     },
     "metadata": {},
     "output_type": "display_data"
    }
   ],
   "source": [
    "def get_simplified_derivative(derivative, verbose=False, der_name='ALS_der'):\n",
    "    \"\"\"\n",
    "    Упрощает выражение для производной методами библиотеки sympy\n",
    "\n",
    "    :param derivative: функция производной, полученная методом sympy.diff()\n",
    "    :param verbose: Вывести промежуточные формулы на экран, могут быть длинными\n",
    "    :return: Функция производной, оптимизированная для numpy\n",
    "    \"\"\"\n",
    "    \n",
    "    def print_der(der, message):\n",
    "        if verbose:\n",
    "            display(message)\n",
    "            display(sp.Eq(sp.S(der_name), der))\n",
    "\n",
    "    p, x, y = sp.symbols('p x y')\n",
    "    g_minus, g_plus = sp.symbols('g_minus g_plus')\n",
    "    # p = sp.symbols('p')\n",
    "    der = derivative\n",
    "\n",
    "    print_der(derivative, 'Входящая функция производной')\n",
    "\n",
    "    der = der.subs(sp.exp(x) / (1 + sp.exp(x)), p)\n",
    "    print_der(der, '*********** der.subs(sp.exp(x) / (1 + sp.exp(x)), p) *************')\n",
    "\n",
    "    der = der.subs(sp.exp(x) / (sp.exp(x) + 1), p)\n",
    "    print_der(der, '*********** der.subs(sp.exp(x) / (1 + sp.exp(x)), p) *************')\n",
    "\n",
    "    der = der.subs((1 + sp.exp(x))**2 * sp.exp(x)**(-2), p**(-2))\n",
    "    print_der(der, '**********    der.subs((1 + sp.exp(x))**2 * sp.exp(x)**(-2), p**(-2))  *****************')\n",
    "    \n",
    "    der = sp.simplify(der)\n",
    "    print_der(der, '*********** sp.symplify(der) *************')\n",
    "    \n",
    "    der = sp.factor(der)\n",
    "    print_der(der, '*********** sp.factor(der) *************')\n",
    "\n",
    "    der = sp.factor(der)\n",
    "    print_der(der, '*********** sp.factor(der) *************')\n",
    "    \n",
    "    der = sp.simplify(der)\n",
    "    print_der(der, '*********** sp.symplify(der) *************')\n",
    "\n",
    "    der = der.subs(sp.exp(x), p / (1-p))\n",
    "    print_der(der, '**********    der.subs(sp.exp(x), p / (1-p))  *****************')\n",
    "    \n",
    "    der = sp.factor(der)\n",
    "    print_der(der, '*********** sp.factor(der) *************')\n",
    "    \n",
    "    der = sp.simplify(der)\n",
    "    print_der(der, '*********** sp.symplify(der) *************')\n",
    "    \n",
    "    der_lambdify = sp.lambdify([p, y, g_minus, g_plus], der, 'numpy')\n",
    "\n",
    "    return der_lambdify\n",
    "\n",
    "der_l2 = get_simplified_derivative(ALS_der2, verbose=True, der_name='ALS_der2')"
   ],
   "metadata": {
    "collapsed": false,
    "pycharm": {
     "name": "#%%\n"
    }
   }
  },
  {
   "cell_type": "code",
   "execution_count": 6,
   "outputs": [
    {
     "name": "stdout",
     "output_type": "stream",
     "text": [
      "*********     der_l2     *********************\n"
     ]
    },
    {
     "data": {
      "text/plain": "<function _lambdifygenerated(p, y, g_minus, g_plus)>"
     },
     "execution_count": 6,
     "metadata": {},
     "output_type": "execute_result"
    }
   ],
   "source": [
    "print('*********     der_l2     *********************')\n",
    "der_l2"
   ],
   "metadata": {
    "collapsed": false,
    "pycharm": {
     "name": "#%%\n"
    }
   }
  },
  {
   "cell_type": "code",
   "execution_count": 7,
   "outputs": [],
   "source": [
    "# print('****************************еще одна производная**********************************************')\n",
    "# der_l1 = get_simplified_derivative(der1_ALS, verbose=True)"
   ],
   "metadata": {
    "collapsed": false,
    "pycharm": {
     "name": "#%%\n"
    }
   }
  },
  {
   "cell_type": "code",
   "source": [
    "# p = exp(x)/(exp(x) + 1)\n",
    "# L = -y*(1 - p)**gamma*log(p) - (p)**gamma*(1 - y)*log(1 - p)\n",
    "# der1 = -gamma**2*y*(1 - p)**gamma*(-p + exp(2*x)/(exp(x) + 1)**2)**2*log(p)/(1 - p)**2 - gamma**2*(p)**gamma*(1 - y)*(p - exp(2*x)/(exp(x) + 1)**2)**2*(exp(x) + 1)**2*exp(-2*x)*log(1 - p) - 2*gamma*y*(1 - p)**gamma*(-p + exp(2*x)/(exp(x) + 1)**2)*(p - exp(2*x)/(exp(x) + 1)**2)*(exp(x) + 1)*exp(-x)/(1 - p) - gamma*y*(1 - p)**gamma*(-p + 3*exp(2*x)/(exp(x) + 1)**2 - 2*exp(3*x)/(exp(x) + 1)**3)*log(p)/(1 - p) - gamma*y*(1 - p)**gamma*(-p + exp(2*x)/(exp(x) + 1)**2)*(p - exp(2*x)/(exp(x) + 1)**2)*log(p)/(1 - p)**2 + gamma*(p)**gamma*(1 - y)*(p - exp(2*x)/(exp(x) + 1)**2)*(exp(x) + 1)*exp(-x)*log(1 - p) - gamma*(p)**gamma*(1 - y)*(p - exp(2*x)/(exp(x) + 1)**2)*log(1 - p) - gamma*(p)**gamma*(1 - y)*(exp(x) + 1)*(p - 3*exp(2*x)/(exp(x) + 1)**2 + 2*exp(3*x)/(exp(x) + 1)**3)*exp(-x)*log(1 - p) - 2*gamma*(p)**gamma*(1 - y)*(-p + exp(2*x)/(exp(x) + 1)**2)*(p - exp(2*x)/(exp(x) + 1)**2)*(exp(x) + 1)*exp(-x)/(1 - p) + y*(1 - p)**gamma*(p - exp(2*x)/(exp(x) + 1)**2)*(exp(x) + 1)*exp(-x) - y*(1 - p)**gamma*(p - exp(2*x)/(exp(x) + 1)**2) - y*(1 - p)**gamma*(exp(x) + 1)*(p - 3*exp(2*x)/(exp(x) + 1)**2 + 2*exp(3*x)/(exp(x) + 1)**3)*exp(-x) - (p)**gamma*(1 - y)*(-p + 3*exp(2*x)/(exp(x) + 1)**2 - 2*exp(3*x)/(exp(x) + 1)**3)/(1 - p) - (p)**gamma*(1 - y)*(-p + exp(2*x)/(exp(x) + 1)**2)*(p - exp(2*x)/(exp(x) + 1)**2)/(1 - p)**2\n",
    "# \n",
    "# der2 = -gamma**2*y*(1 - p)**gamma*(-p + exp(2*x)/(exp(x) + 1)**2)**2*log(p)/(1 - p)**2 - gamma**2*(p)**gamma*(1 - y)*(p - exp(2*x)/(exp(x) + 1)**2)**2*(exp(x) + 1)**2*exp(-2*x)*log(1 - p) - 2*gamma*y*(1 - p)**gamma*(-p + exp(2*x)/(exp(x) + 1)**2)*(p - exp(2*x)/(exp(x) + 1)**2)*(exp(x) + 1)*exp(-x)/(1 - p) - gamma*y*(1 - p)**gamma*(-p + 3*exp(2*x)/(exp(x) + 1)**2 - 2*exp(3*x)/(exp(x) + 1)**3)*log(p)/(1 - p) - gamma*y*(1 - p)**gamma*(-p + exp(2*x)/(exp(x) + 1)**2)*(p - exp(2*x)/(exp(x) + 1)**2)*log(p)/(1 - p)**2 + gamma*(p)**gamma*(1 - y)*(p - exp(2*x)/(exp(x) + 1)**2)*(exp(x) + 1)*exp(-x)*log(1 - p) - gamma*(p)**gamma*(1 - y)*(p - exp(2*x)/(exp(x) + 1)**2)*log(1 - p) - gamma*(p)**gamma*(1 - y)*(exp(x) + 1)*(p - 3*exp(2*x)/(exp(x) + 1)**2 + 2*exp(3*x)/(exp(x) + 1)**3)*exp(-x)*log(1 - p) - 2*gamma*(p)**gamma*(1 - y)*(-p + exp(2*x)/(exp(x) + 1)**2)*(p - exp(2*x)/(exp(x) + 1)**2)*(exp(x) + 1)*exp(-x)/(1 - p) + y*(1 - p)**gamma*(p - exp(2*x)/(exp(x) + 1)**2)*(exp(x) + 1)*exp(-x) - y*(1 - p)**gamma*(p - exp(2*x)/(exp(x) + 1)**2) - y*(1 - p)**gamma*(exp(x) + 1)*(p - 3*exp(2*x)/(exp(x) + 1)**2 + 2*exp(3*x)/(exp(x) + 1)**3)*exp(-x) - (p)**gamma*(1 - y)*(-p + 3*exp(2*x)/(exp(x) + 1)**2 - 2*exp(3*x)/(exp(x) + 1)**3)/(1 - p) - (p)**gamma*(1 - y)*(-p + exp(2*x)/(exp(x) + 1)**2)*(p - exp(2*x)/(exp(x) + 1)**2)/(1 - p)**2"
   ],
   "metadata": {
    "collapsed": false,
    "pycharm": {
     "name": "#%%\n"
    }
   },
   "execution_count": 8,
   "outputs": []
  },
  {
   "cell_type": "code",
   "execution_count": 9,
   "outputs": [],
   "source": [
    "# der1 = -g_minus*(p)**g_minus*(1 - y)*(p - exp(2*x)/(exp(x) + 1)**2)*(exp(x) + 1)*exp(-x)*log(1 - p) - g_plus*y*(1 - p)**g_plus*(-p + exp(2*x)/(exp(x) + 1)**2)*log(p)/(1 - p) - y*(1 - p)**g_plus*(p - exp(2*x)/(exp(x) + 1)**2)*(exp(x) + 1)*exp(-x) - (p)**g_minus*(1 - y)*(-p + exp(2*x)/(exp(x) + 1)**2)/(1 - p)\n",
    "# der2 = -g_minus**2*(p)**g_minus*(1 - y)*(p - exp(2*x)/(exp(x) + 1)**2)**2*(exp(x) + 1)**2*exp(-2*x)*log(1 - p) + g_minus*(p)**g_minus*(1 - y)*(p - exp(2*x)/(exp(x) + 1)**2)*(exp(x) + 1)*exp(-x)*log(1 - p) - g_minus*(p)**g_minus*(1 - y)*(p - exp(2*x)/(exp(x) + 1)**2)*log(1 - p) - g_minus*(p)**g_minus*(1 - y)*(exp(x) + 1)*(p - 3*exp(2*x)/(exp(x) + 1)**2 + 2*exp(3*x)/(exp(x) + 1)**3)*exp(-x)*log(1 - p) - 2*g_minus*(p)**g_minus*(1 - y)*(-p + exp(2*x)/(exp(x) + 1)**2)*(p - exp(2*x)/(exp(x) + 1)**2)*(exp(x) + 1)*exp(-x)/(1 - p) - g_plus**2*y*(1 - p)**g_plus*(-p + exp(2*x)/(exp(x) + 1)**2)**2*log(p)/(1 - p)**2 - 2*g_plus*y*(1 - p)**g_plus*(-p + exp(2*x)/(exp(x) + 1)**2)*(p - exp(2*x)/(exp(x) + 1)**2)*(exp(x) + 1)*exp(-x)/(1 - p) - g_plus*y*(1 - p)**g_plus*(-p + 3*exp(2*x)/(exp(x) + 1)**2 - 2*exp(3*x)/(exp(x) + 1)**3)*log(p)/(1 - p) - g_plus*y*(1 - p)**g_plus*(-p + exp(2*x)/(exp(x) + 1)**2)*(p - exp(2*x)/(exp(x) + 1)**2)*log(p)/(1 - p)**2 + y*(1 - p)**g_plus*(p - exp(2*x)/(exp(x) + 1)**2)*(exp(x) + 1)*exp(-x) - y*(1 - p)**g_plus*(p - exp(2*x)/(exp(x) + 1)**2) - y*(1 - p)**g_plus*(exp(x) + 1)*(p - 3*exp(2*x)/(exp(x) + 1)**2 + 2*exp(3*x)/(exp(x) + 1)**3)*exp(-x) - (p)**g_minus*(1 - y)*(-p + 3*exp(2*x)/(exp(x) + 1)**2 - 2*exp(3*x)/(exp(x) + 1)**3)/(1 - p) - (p)**g_minus*(1 - y)*(-p + exp(2*x)/(exp(x) + 1)**2)*(p - exp(2*x)/(exp(x) + 1)**2)/(1 - p)**2"
   ],
   "metadata": {
    "collapsed": false,
    "pycharm": {
     "name": "#%%\n"
    }
   }
  },
  {
   "cell_type": "code",
   "execution_count": 10,
   "outputs": [
    {
     "data": {
      "text/plain": "array([0, 1, 2, 3, 5, 6])"
     },
     "execution_count": 10,
     "metadata": {},
     "output_type": "execute_result"
    }
   ],
   "source": [
    "\"\"\"\n",
    "Сортировка двух массивов\n",
    "\"\"\"\n",
    "a = [1, 3, 2]\n",
    "b = [5, 0, 6]\n",
    "\n",
    "ab = np.sort([*a, *b])\n",
    "ab"
   ],
   "metadata": {
    "collapsed": false,
    "pycharm": {
     "name": "#%%\n"
    }
   }
  },
  {
   "cell_type": "code",
   "execution_count": 11,
   "outputs": [
    {
     "data": {
      "text/plain": "array([ 8, 15])"
     },
     "execution_count": 11,
     "metadata": {},
     "output_type": "execute_result"
    },
    {
     "data": {
      "text/plain": "<Figure size 1440x1080 with 1 Axes>",
      "image/png": "[encoded data removed]"
     },
     "metadata": {},
     "output_type": "display_data"
    }
   ],
   "source": [
    "bias = .6\n",
    "multiplier = 25\n",
    "x = np.arange(-1, 1, .1)\n",
    "logit = np.exp(x * multiplier - bias) / (1 + np.exp(x * multiplier - bias))\n",
    "\n",
    "plt.grid()\n",
    "plt.plot(x, logit);\n",
    "\n",
    "a = np.array([2, 3])\n",
    "b = np.array([4, 5])\n",
    "\n",
    "a *= b\n",
    "a"
   ],
   "metadata": {
    "collapsed": false,
    "pycharm": {
     "name": "#%%\n"
    }
   }
  },
  {
   "cell_type": "code",
   "execution_count": 12,
   "outputs": [
    {
     "data": {
      "text/plain": "   flat       exp  groups    cum_sum  cum_sum_groupby\n3   0.4  1.491825       0   1.491825         1.491825\n0   0.1  1.105171       1   2.596996         1.105171\n7   0.8  2.225541       2   4.822537         2.225541\n5   0.6  1.822119       0   6.644655         3.313943\n6   0.7  2.013753       1   8.658408         3.118924\n2   0.3  1.349859       2  10.008267         3.575400\n4   0.5  1.648721       0  11.656988         4.962665\n8   0.9  2.459603       1  14.116591         5.578527\n1   0.2  1.221403       2  15.337994         4.796802",
      "text/html": "<div>\n<style scoped>\n    .dataframe tbody tr th:only-of-type {\n        vertical-align: middle;\n    }\n\n    .dataframe tbody tr th {\n        vertical-align: top;\n    }\n\n    .dataframe thead th {\n        text-align: right;\n    }\n</style>\n<table border=\"1\" class=\"dataframe\">\n  <thead>\n    <tr style=\"text-align: right;\">\n      <th></th>\n      <th>flat</th>\n      <th>exp</th>\n      <th>groups</th>\n      <th>cum_sum</th>\n      <th>cum_sum_groupby</th>\n    </tr>\n  </thead>\n  <tbody>\n    <tr>\n      <th>3</th>\n      <td>0.4</td>\n      <td>1.491825</td>\n      <td>0</td>\n      <td>1.491825</td>\n      <td>1.491825</td>\n    </tr>\n    <tr>\n      <th>0</th>\n      <td>0.1</td>\n      <td>1.105171</td>\n      <td>1</td>\n      <td>2.596996</td>\n      <td>1.105171</td>\n    </tr>\n    <tr>\n      <th>7</th>\n      <td>0.8</td>\n      <td>2.225541</td>\n      <td>2</td>\n      <td>4.822537</td>\n      <td>2.225541</td>\n    </tr>\n    <tr>\n      <th>5</th>\n      <td>0.6</td>\n      <td>1.822119</td>\n      <td>0</td>\n      <td>6.644655</td>\n      <td>3.313943</td>\n    </tr>\n    <tr>\n      <th>6</th>\n      <td>0.7</td>\n      <td>2.013753</td>\n      <td>1</td>\n      <td>8.658408</td>\n      <td>3.118924</td>\n    </tr>\n    <tr>\n      <th>2</th>\n      <td>0.3</td>\n      <td>1.349859</td>\n      <td>2</td>\n      <td>10.008267</td>\n      <td>3.575400</td>\n    </tr>\n    <tr>\n      <th>4</th>\n      <td>0.5</td>\n      <td>1.648721</td>\n      <td>0</td>\n      <td>11.656988</td>\n      <td>4.962665</td>\n    </tr>\n    <tr>\n      <th>8</th>\n      <td>0.9</td>\n      <td>2.459603</td>\n      <td>1</td>\n      <td>14.116591</td>\n      <td>5.578527</td>\n    </tr>\n    <tr>\n      <th>1</th>\n      <td>0.2</td>\n      <td>1.221403</td>\n      <td>2</td>\n      <td>15.337994</td>\n      <td>4.796802</td>\n    </tr>\n  </tbody>\n</table>\n</div>"
     },
     "execution_count": 12,
     "metadata": {},
     "output_type": "execute_result"
    },
    {
     "data": {
      "text/plain": "<Figure size 1080x576 with 0 Axes>"
     },
     "metadata": {},
     "output_type": "display_data"
    }
   ],
   "source": [
    "fig = plt.figure(figsize=(15, 8))\n",
    "curve = pd.DataFrame(data=np.arange(0.1, 1, 0.1), columns=['flat'])\n",
    "# curve['log'] = np.log(curve.flat)\n",
    "\n",
    "curve['exp'] = np.exp(curve.flat )\n",
    "curve = curve.sample(frac=1)\n",
    "curve['groups'] = [0, 1, 2, 0, 1, 2, 0, 1, 2]\n",
    "# groupby = curve.groupby(by='groups').exp.std()\n",
    "# groupby.exp.mean()\n",
    "curve['cum_sum'] = curve.exp.agg('cumsum')\n",
    "curve['cum_sum_groupby'] = curve.groupby(by='groups')['exp'].agg('cumsum')\n",
    "# plt.plot(curve)\n",
    "\n",
    "\n",
    "curve"
   ],
   "metadata": {
    "collapsed": false,
    "pycharm": {
     "name": "#%%\n"
    }
   }
  },
  {
   "cell_type": "code",
   "execution_count": 13,
   "outputs": [
    {
     "name": "stdout",
     "output_type": "stream",
     "text": [
      "dataframe\n"
     ]
    }
   ],
   "source": [
    "arr = np.full(int(10e6), fill_value=100, )\n",
    "print('dataframe')"
   ],
   "metadata": {
    "collapsed": false,
    "pycharm": {
     "name": "#%%\n"
    }
   }
  },
  {
   "cell_type": "code",
   "execution_count": 14,
   "outputs": [
    {
     "name": "stdout",
     "output_type": "stream",
     "text": [
      "CPU times: user 219 ms, sys: 79.8 ms, total: 299 ms\n",
      "Wall time: 302 ms\n"
     ]
    }
   ],
   "source": [
    "%%time\n",
    "data = pd.DataFrame(arr, columns=['d'])\n",
    "data['e'] = np.exp(data.d.values)\n",
    "data['p'] = data.e.values / (1+data.e.values)\n",
    "# data.head()"
   ],
   "metadata": {
    "collapsed": false,
    "pycharm": {
     "name": "#%%\n"
    }
   }
  },
  {
   "cell_type": "code",
   "execution_count": 15,
   "outputs": [
    {
     "name": "stdout",
     "output_type": "stream",
     "text": [
      "numpy\n"
     ]
    }
   ],
   "source": [
    "del data\n",
    "gc.collect()\n",
    "print('numpy')"
   ],
   "metadata": {
    "collapsed": false,
    "pycharm": {
     "name": "#%%\n"
    }
   }
  },
  {
   "cell_type": "code",
   "execution_count": 16,
   "outputs": [
    {
     "name": "stdout",
     "output_type": "stream",
     "text": [
      "CPU times: user 215 ms, sys: 55.8 ms, total: 271 ms\n",
      "Wall time: 270 ms\n"
     ]
    }
   ],
   "source": [
    "%%time\n",
    "data_np = np.array(arr)\n",
    "e = np.exp(data_np)\n",
    "p = e / (1 + e)"
   ],
   "metadata": {
    "collapsed": false,
    "pycharm": {
     "name": "#%%\n"
    }
   }
  },
  {
   "cell_type": "code",
   "execution_count": 17,
   "outputs": [
    {
     "name": "stdout",
     "output_type": "stream",
     "text": [
      "loop\n"
     ]
    }
   ],
   "source": [
    "del data_np, e, p\n",
    "gc.collect()\n",
    "print('loop')\n",
    "# p[:5]\n"
   ],
   "metadata": {
    "collapsed": false,
    "pycharm": {
     "name": "#%%\n"
    }
   }
  },
  {
   "cell_type": "code",
   "execution_count": 18,
   "outputs": [
    {
     "name": "stdout",
     "output_type": "stream",
     "text": [
      "CPU times: user 43.8 s, sys: 12.4 ms, total: 43.8 s\n",
      "Wall time: 43.8 s\n"
     ]
    }
   ],
   "source": [
    "%%time\n",
    "for index in range(len(arr)):\n",
    "    e = np.exp(arr[index])\n",
    "    p = e / (1 + e)\n",
    "# p"
   ],
   "metadata": {
    "collapsed": false,
    "pycharm": {
     "name": "#%%\n"
    }
   }
  },
  {
   "cell_type": "code",
   "execution_count": 19,
   "metadata": {
    "collapsed": true
   },
   "outputs": [
    {
     "data": {
      "text/plain": "1"
     },
     "execution_count": 19,
     "metadata": {},
     "output_type": "execute_result"
    }
   ],
   "source": [
    "5 % 2"
   ]
  },
  {
   "cell_type": "code",
   "execution_count": 20,
   "outputs": [
    {
     "data": {
      "text/plain": "2"
     },
     "execution_count": 20,
     "metadata": {},
     "output_type": "execute_result"
    }
   ],
   "source": [
    "5 // 2"
   ],
   "metadata": {
    "collapsed": false,
    "pycharm": {
     "name": "#%%\n"
    }
   }
  },
  {
   "cell_type": "code",
   "execution_count": 21,
   "outputs": [
    {
     "data": {
      "text/plain": "0"
     },
     "execution_count": 21,
     "metadata": {},
     "output_type": "execute_result"
    }
   ],
   "source": [
    "1 // 2\n",
    "\n",
    "\n"
   ],
   "metadata": {
    "collapsed": false,
    "pycharm": {
     "name": "#%%\n"
    }
   }
  }
 ],
 "metadata": {
  "kernelspec": {
   "display_name": "Python 3",
   "language": "python",
   "name": "python3"
  },
  "language_info": {
   "codemirror_mode": {
    "name": "ipython",
    "version": 2
   },
   "file_extension": ".py",
   "mimetype": "text/x-python",
   "name": "python",
   "nbconvert_exporter": "python",
   "pygments_lexer": "ipython2",
   "version": "2.7.6"
  }
 },
 "nbformat": 4,
 "nbformat_minor": 0
}