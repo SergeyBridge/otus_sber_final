{
 "cells": [
  {
   "cell_type": "code",
   "execution_count": 9,
   "outputs": [],
   "source": [
    "import gc\n",
    "import pandas as pd\n",
    "import numpy as np\n",
    "from matplotlib import pyplot as plt\n",
    "\n",
    "pd.set_option('display.max_rows', 120)\n",
    "plt.style.use(\"dark_background\")\n",
    "plt.rcParams['figure.figsize'] = (20, 15)\n"
   ],
   "metadata": {
    "collapsed": false,
    "pycharm": {
     "name": "#%%\n"
    }
   }
  },
  {
   "cell_type": "code",
   "execution_count": 10,
   "outputs": [
    {
     "data": {
      "text/plain": "array([0, 1, 2, 3, 5, 6])"
     },
     "execution_count": 10,
     "metadata": {},
     "output_type": "execute_result"
    }
   ],
   "source": [
    "\"\"\"\n",
    "Сортировка двух массивов\n",
    "\"\"\"\n",
    "a = [1, 3, 2]\n",
    "b = [5, 0, 6]\n",
    "\n",
    "ab = np.sort([*a, *b])\n",
    "ab"
   ],
   "metadata": {
    "collapsed": false,
    "pycharm": {
     "name": "#%%\n"
    }
   }
  },
  {
   "cell_type": "code",
   "execution_count": 26,
   "outputs": [
    {
     "data": {
      "text/plain": "array([ 8, 15])"
     },
     "execution_count": 26,
     "metadata": {},
     "output_type": "execute_result"
    },
    {
     "data": {
      "text/plain": "<Figure size 1440x1080 with 1 Axes>",
      "image/png": "[encoded data removed]"
     },
     "metadata": {},
     "output_type": "display_data"
    }
   ],
   "source": [
    "bias = .6\n",
    "multiplier = 25\n",
    "x = np.arange(-1, 1, .1)\n",
    "logit = np.exp(x * multiplier - bias) / (1 + np.exp(x * multiplier - bias))\n",
    "\n",
    "plt.grid()\n",
    "plt.plot(x, logit);\n",
    "\n",
    "a = np.array([2, 3])\n",
    "b = np.array([4, 5])\n",
    "\n",
    "a *= b\n",
    "a"
   ],
   "metadata": {
    "collapsed": false,
    "pycharm": {
     "name": "#%%\n"
    }
   }
  },
  {
   "cell_type": "code",
   "execution_count": 3,
   "outputs": [
    {
     "data": {
      "text/plain": "   flat       exp  groups    cum_sum  cum_sum_groupby\n6   0.7  2.013753       0   2.013753         2.013753\n8   0.9  2.459603       1   4.473356         2.459603\n4   0.5  1.648721       2   6.122077         1.648721\n7   0.8  2.225541       0   8.347618         4.239294\n1   0.2  1.221403       1   9.569021         3.681006\n2   0.3  1.349859       2  10.918880         2.998580\n3   0.4  1.491825       0  12.410704         5.731118\n0   0.1  1.105171       1  13.515875         4.786177\n5   0.6  1.822119       2  15.337994         4.820699",
      "text/html": "<div>\n<style scoped>\n    .dataframe tbody tr th:only-of-type {\n        vertical-align: middle;\n    }\n\n    .dataframe tbody tr th {\n        vertical-align: top;\n    }\n\n    .dataframe thead th {\n        text-align: right;\n    }\n</style>\n<table border=\"1\" class=\"dataframe\">\n  <thead>\n    <tr style=\"text-align: right;\">\n      <th></th>\n      <th>flat</th>\n      <th>exp</th>\n      <th>groups</th>\n      <th>cum_sum</th>\n      <th>cum_sum_groupby</th>\n    </tr>\n  </thead>\n  <tbody>\n    <tr>\n      <th>6</th>\n      <td>0.7</td>\n      <td>2.013753</td>\n      <td>0</td>\n      <td>2.013753</td>\n      <td>2.013753</td>\n    </tr>\n    <tr>\n      <th>8</th>\n      <td>0.9</td>\n      <td>2.459603</td>\n      <td>1</td>\n      <td>4.473356</td>\n      <td>2.459603</td>\n    </tr>\n    <tr>\n      <th>4</th>\n      <td>0.5</td>\n      <td>1.648721</td>\n      <td>2</td>\n      <td>6.122077</td>\n      <td>1.648721</td>\n    </tr>\n    <tr>\n      <th>7</th>\n      <td>0.8</td>\n      <td>2.225541</td>\n      <td>0</td>\n      <td>8.347618</td>\n      <td>4.239294</td>\n    </tr>\n    <tr>\n      <th>1</th>\n      <td>0.2</td>\n      <td>1.221403</td>\n      <td>1</td>\n      <td>9.569021</td>\n      <td>3.681006</td>\n    </tr>\n    <tr>\n      <th>2</th>\n      <td>0.3</td>\n      <td>1.349859</td>\n      <td>2</td>\n      <td>10.918880</td>\n      <td>2.998580</td>\n    </tr>\n    <tr>\n      <th>3</th>\n      <td>0.4</td>\n      <td>1.491825</td>\n      <td>0</td>\n      <td>12.410704</td>\n      <td>5.731118</td>\n    </tr>\n    <tr>\n      <th>0</th>\n      <td>0.1</td>\n      <td>1.105171</td>\n      <td>1</td>\n      <td>13.515875</td>\n      <td>4.786177</td>\n    </tr>\n    <tr>\n      <th>5</th>\n      <td>0.6</td>\n      <td>1.822119</td>\n      <td>2</td>\n      <td>15.337994</td>\n      <td>4.820699</td>\n    </tr>\n  </tbody>\n</table>\n</div>"
     },
     "execution_count": 3,
     "metadata": {},
     "output_type": "execute_result"
    },
    {
     "data": {
      "text/plain": "<Figure size 1080x576 with 0 Axes>"
     },
     "metadata": {},
     "output_type": "display_data"
    }
   ],
   "source": [
    "fig = plt.figure(figsize=(15, 8))\n",
    "curve = pd.DataFrame(data=np.arange(0.1, 1, 0.1), columns=['flat'])\n",
    "# curve['log'] = np.log(curve.flat)\n",
    "\n",
    "curve['exp'] = np.exp(curve.flat )\n",
    "curve = curve.sample(frac=1)\n",
    "curve['groups'] = [0, 1, 2, 0, 1, 2, 0, 1, 2]\n",
    "# groupby = curve.groupby(by='groups').exp.std()\n",
    "# groupby.exp.mean()\n",
    "curve['cum_sum'] = curve.exp.agg('cumsum')\n",
    "curve['cum_sum_groupby'] = curve.groupby(by='groups')['exp'].agg('cumsum')\n",
    "# plt.plot(curve)\n",
    "\n",
    "\n",
    "curve"
   ],
   "metadata": {
    "collapsed": false,
    "pycharm": {
     "name": "#%%\n"
    }
   }
  },
  {
   "cell_type": "code",
   "execution_count": 4,
   "outputs": [
    {
     "name": "stdout",
     "output_type": "stream",
     "text": [
      "dataframe\n"
     ]
    }
   ],
   "source": [
    "arr = np.full(int(10e6), fill_value=100, )\n",
    "print('dataframe')"
   ],
   "metadata": {
    "collapsed": false,
    "pycharm": {
     "name": "#%%\n"
    }
   }
  },
  {
   "cell_type": "code",
   "execution_count": 5,
   "outputs": [
    {
     "name": "stdout",
     "output_type": "stream",
     "text": [
      "CPU times: user 254 ms, sys: 52.5 ms, total: 307 ms\n",
      "Wall time: 311 ms\n"
     ]
    }
   ],
   "source": [
    "%%time\n",
    "data = pd.DataFrame(arr, columns=['d'])\n",
    "data['e'] = np.exp(data.d.values)\n",
    "data['p'] = data.e.values / (1+data.e.values)\n",
    "# data.head()"
   ],
   "metadata": {
    "collapsed": false,
    "pycharm": {
     "name": "#%%\n"
    }
   }
  },
  {
   "cell_type": "code",
   "execution_count": 6,
   "outputs": [
    {
     "name": "stdout",
     "output_type": "stream",
     "text": [
      "numpy\n"
     ]
    }
   ],
   "source": [
    "del data\n",
    "gc.collect()\n",
    "print('numpy')"
   ],
   "metadata": {
    "collapsed": false,
    "pycharm": {
     "name": "#%%\n"
    }
   }
  },
  {
   "cell_type": "code",
   "execution_count": 7,
   "outputs": [
    {
     "name": "stdout",
     "output_type": "stream",
     "text": [
      "CPU times: user 209 ms, sys: 72.1 ms, total: 281 ms\n",
      "Wall time: 281 ms\n"
     ]
    }
   ],
   "source": [
    "%%time\n",
    "data_np = np.array(arr)\n",
    "e = np.exp(data_np)\n",
    "p = e / (1 + e)"
   ],
   "metadata": {
    "collapsed": false,
    "pycharm": {
     "name": "#%%\n"
    }
   }
  },
  {
   "cell_type": "code",
   "execution_count": 8,
   "outputs": [
    {
     "name": "stdout",
     "output_type": "stream",
     "text": [
      "loop\n"
     ]
    }
   ],
   "source": [
    "del data_np, e, p\n",
    "gc.collect()\n",
    "print('loop')\n",
    "# p[:5]\n"
   ],
   "metadata": {
    "collapsed": false,
    "pycharm": {
     "name": "#%%\n"
    }
   }
  },
  {
   "cell_type": "code",
   "execution_count": 9,
   "outputs": [
    {
     "name": "stdout",
     "output_type": "stream",
     "text": [
      "CPU times: user 48 s, sys: 40.7 ms, total: 48.1 s\n",
      "Wall time: 48.1 s\n"
     ]
    }
   ],
   "source": [
    "%%time\n",
    "for index in range(len(arr)):\n",
    "    e = np.exp(arr[index])\n",
    "    p = e / (1 + e)\n",
    "# p"
   ],
   "metadata": {
    "collapsed": false,
    "pycharm": {
     "name": "#%%\n"
    }
   }
  },
  {
   "cell_type": "code",
   "execution_count": 10,
   "metadata": {
    "collapsed": true
   },
   "outputs": [
    {
     "data": {
      "text/plain": "1"
     },
     "execution_count": 10,
     "metadata": {},
     "output_type": "execute_result"
    }
   ],
   "source": [
    "5 % 2"
   ]
  },
  {
   "cell_type": "code",
   "execution_count": 11,
   "outputs": [
    {
     "data": {
      "text/plain": "2"
     },
     "execution_count": 11,
     "metadata": {},
     "output_type": "execute_result"
    }
   ],
   "source": [
    "5 // 2"
   ],
   "metadata": {
    "collapsed": false,
    "pycharm": {
     "name": "#%%\n"
    }
   }
  },
  {
   "cell_type": "code",
   "execution_count": 12,
   "outputs": [
    {
     "data": {
      "text/plain": "0"
     },
     "execution_count": 12,
     "metadata": {},
     "output_type": "execute_result"
    }
   ],
   "source": [
    "1 // 2\n",
    "\n",
    "\n"
   ],
   "metadata": {
    "collapsed": false,
    "pycharm": {
     "name": "#%%\n"
    }
   }
  }
 ],
 "metadata": {
  "kernelspec": {
   "display_name": "Python 3",
   "language": "python",
   "name": "python3"
  },
  "language_info": {
   "codemirror_mode": {
    "name": "ipython",
    "version": 2
   },
   "file_extension": ".py",
   "mimetype": "text/x-python",
   "name": "python",
   "nbconvert_exporter": "python",
   "pygments_lexer": "ipython2",
   "version": "2.7.6"
  }
 },
 "nbformat": 4,
 "nbformat_minor": 0
}