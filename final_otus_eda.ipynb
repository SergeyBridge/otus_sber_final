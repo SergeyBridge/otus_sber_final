{
 "cells": [
  {
   "cell_type": "code",
   "execution_count": 1,
   "metadata": {
    "collapsed": true
   },
   "outputs": [
    {
     "name": "stdout",
     "output_type": "stream",
     "text": [
      "cur_dir /home/sergey/mnt/st1500/Usr/Sergey/TheJob/Otus/ML_advanced2020/final_project\n"
     ]
    }
   ],
   "source": [
    "import os\n",
    "import numpy as np\n",
    "import pandas as pd\n",
    "import warnings\n",
    "import plotly\n",
    "import plotly.graph_objects as go\n",
    "from matplotlib import pyplot as plt\n",
    "import plotly.express as px\n",
    "from pathlib import Path\n",
    "import warnings\n",
    "\n",
    "os.environ['PYARROW_IGNORE_TIMEZONE'] = '1'\n",
    "import featuretools as ft\n",
    "\n",
    "warnings.filterwarnings(\"ignore\", category=DeprecationWarning)\n",
    "\n",
    "pd.set_option('display.max_rows', 120)\n",
    "plt.style.use(\"dark_background\")\n",
    "plt.rcParams['figure.figsize'] = (12, 5)\n",
    "plt.rcParams[\"hist.bins\"] = 50\n",
    "print('cur_dir', Path.cwd())"
   ]
  },
  {
   "cell_type": "code",
   "execution_count": 2,
   "outputs": [
    {
     "data": {
      "text/plain": "'\\nЗадача оценки вероятности пролонгации депозитных сделок клиентов банка.\\nОписание:\\nОдин из основных инструментов сбережения денежных средств является срочный банковский депозит.\\nПо истечении срока, клиент может как забрать депозит, так и пролонгировать его,\\nоткрыв новую депозитную сделку.\\nБанку для управления портфелем средств клиентов важно понимать, с какой вероятностью клиент\\nоставит свои средства на новом депозите.\\nВероятность пролонгации может зависеть от текущих условий сделок,\\nот изменения текущих условий сделки относительно предыдущих условий сделок этого клиента,\\nот характеристик самого клиента,\\nот поведения клиента по открытию депозитных сделок в прошлом,\\nа также от макроэкономической ситуации в момент заключения сделки.\\nДля банка рискованнее ошибочно считать, что пролонгация произойдет,\\nт.к. привлечь недостающие средства дороже, чем разместить избыточные.\\nЗадача:\\n\\tПостроить модель вероятности пролонгации депозитной сделки.\\n\\nОписание данных:\\nВ данных приводятся ID сделок и клиентов,\\nдаты заключения и истечения срока действия депозита,\\nсрок депозита, прочие условия депозитного договора,\\nхарактеристики и типы  клиентов.\\n\\nТакже можно предложить и добавить к данным характеристики макроэкономических условий\\nиз открытых источников (Росстат, ЦБ РФ и прочие статистические ресурсы).\\n\\n'"
     },
     "execution_count": 2,
     "metadata": {},
     "output_type": "execute_result"
    }
   ],
   "source": [
    "\"\"\"\n",
    "Задача оценки вероятности пролонгации депозитных сделок клиентов банка.\n",
    "Описание:\n",
    "Один из основных инструментов сбережения денежных средств является срочный банковский депозит.\n",
    "По истечении срока, клиент может как забрать депозит, так и пролонгировать его,\n",
    "открыв новую депозитную сделку.\n",
    "Банку для управления портфелем средств клиентов важно понимать, с какой вероятностью клиент\n",
    "оставит свои средства на новом депозите.\n",
    "Вероятность пролонгации может зависеть от текущих условий сделок,\n",
    "от изменения текущих условий сделки относительно предыдущих условий сделок этого клиента,\n",
    "от характеристик самого клиента,\n",
    "от поведения клиента по открытию депозитных сделок в прошлом,\n",
    "а также от макроэкономической ситуации в момент заключения сделки.\n",
    "Для банка рискованнее ошибочно считать, что пролонгация произойдет,\n",
    "т.к. привлечь недостающие средства дороже, чем разместить избыточные.\n",
    "Задача:\n",
    "\tПостроить модель вероятности пролонгации депозитной сделки.\n",
    "\n",
    "Описание данных:\n",
    "В данных приводятся ID сделок и клиентов,\n",
    "даты заключения и истечения срока действия депозита,\n",
    "срок депозита, прочие условия депозитного договора,\n",
    "характеристики и типы  клиентов.\n",
    "\n",
    "Также можно предложить и добавить к данным характеристики макроэкономических условий\n",
    "из открытых источников (Росстат, ЦБ РФ и прочие статистические ресурсы).\n",
    "\n",
    "\"\"\""
   ],
   "metadata": {
    "collapsed": false,
    "pycharm": {
     "name": "#%%\n"
    }
   }
  },
  {
   "cell_type": "code",
   "execution_count": 3,
   "outputs": [
    {
     "name": "stdout",
     "output_type": "stream",
     "text": [
      " (274703, 10)\n"
     ]
    },
    {
     "data": {
      "text/plain": "             DealDate   ValueDate MaturityDate  Deal_characteristics_1  \\\nClient_Id                                                                \n14446      2019-12-17  2019-12-17   2019-12-24                0.061247   \n2234       2020-01-27  2020-01-27   2020-02-25                0.030624   \n2234       2019-10-30  2019-10-30   2019-12-02                0.019905   \n2234       2019-11-29  2019-11-29   2019-12-06                0.030624   \n2234       2019-12-27  2019-12-27   2020-01-13                0.061247   \n\n           Deal_characteristics_2  Deal_characteristics_3  \\\nClient_Id                                                   \n14446                      0.0400                0.085529   \n2234                       0.0368                0.063928   \n2234                       0.0402                0.063928   \n2234                       0.0398                0.063928   \n2234                       0.0369                0.063928   \n\n           Deal_characteristics_4  Client_characteristics_1  \\\nClient_Id                                                     \n14446                           2                         5   \n2234                            2                         7   \n2234                            2                         7   \n2234                            2                         7   \n2234                            2                         7   \n\n           Client_characteristics_2  target  \nClient_Id                                    \n14446                          1654       0  \n2234                           1196       0  \n2234                           1196       1  \n2234                           1196       1  \n2234                           1196       1  ",
      "text/html": "<div>\n<style scoped>\n    .dataframe tbody tr th:only-of-type {\n        vertical-align: middle;\n    }\n\n    .dataframe tbody tr th {\n        vertical-align: top;\n    }\n\n    .dataframe thead th {\n        text-align: right;\n    }\n</style>\n<table border=\"1\" class=\"dataframe\">\n  <thead>\n    <tr style=\"text-align: right;\">\n      <th></th>\n      <th>DealDate</th>\n      <th>ValueDate</th>\n      <th>MaturityDate</th>\n      <th>Deal_characteristics_1</th>\n      <th>Deal_characteristics_2</th>\n      <th>Deal_characteristics_3</th>\n      <th>Deal_characteristics_4</th>\n      <th>Client_characteristics_1</th>\n      <th>Client_characteristics_2</th>\n      <th>target</th>\n    </tr>\n    <tr>\n      <th>Client_Id</th>\n      <th></th>\n      <th></th>\n      <th></th>\n      <th></th>\n      <th></th>\n      <th></th>\n      <th></th>\n      <th></th>\n      <th></th>\n      <th></th>\n    </tr>\n  </thead>\n  <tbody>\n    <tr>\n      <th>14446</th>\n      <td>2019-12-17</td>\n      <td>2019-12-17</td>\n      <td>2019-12-24</td>\n      <td>0.061247</td>\n      <td>0.0400</td>\n      <td>0.085529</td>\n      <td>2</td>\n      <td>5</td>\n      <td>1654</td>\n      <td>0</td>\n    </tr>\n    <tr>\n      <th>2234</th>\n      <td>2020-01-27</td>\n      <td>2020-01-27</td>\n      <td>2020-02-25</td>\n      <td>0.030624</td>\n      <td>0.0368</td>\n      <td>0.063928</td>\n      <td>2</td>\n      <td>7</td>\n      <td>1196</td>\n      <td>0</td>\n    </tr>\n    <tr>\n      <th>2234</th>\n      <td>2019-10-30</td>\n      <td>2019-10-30</td>\n      <td>2019-12-02</td>\n      <td>0.019905</td>\n      <td>0.0402</td>\n      <td>0.063928</td>\n      <td>2</td>\n      <td>7</td>\n      <td>1196</td>\n      <td>1</td>\n    </tr>\n    <tr>\n      <th>2234</th>\n      <td>2019-11-29</td>\n      <td>2019-11-29</td>\n      <td>2019-12-06</td>\n      <td>0.030624</td>\n      <td>0.0398</td>\n      <td>0.063928</td>\n      <td>2</td>\n      <td>7</td>\n      <td>1196</td>\n      <td>1</td>\n    </tr>\n    <tr>\n      <th>2234</th>\n      <td>2019-12-27</td>\n      <td>2019-12-27</td>\n      <td>2020-01-13</td>\n      <td>0.061247</td>\n      <td>0.0369</td>\n      <td>0.063928</td>\n      <td>2</td>\n      <td>7</td>\n      <td>1196</td>\n      <td>1</td>\n    </tr>\n  </tbody>\n</table>\n</div>"
     },
     "execution_count": 3,
     "metadata": {},
     "output_type": "execute_result"
    }
   ],
   "source": [
    "data = pd .read_csv(\"/home/sergey/mnt/4.5Tb/Downloads/otus_final_input/data_encoded.csv\", index_col='Client_Id', parse_dates=True)\n",
    "print(\"\", data.shape)\n",
    "data.head()"
   ],
   "metadata": {
    "collapsed": false,
    "pycharm": {
     "name": "#%%\n"
    }
   }
  },
  {
   "cell_type": "code",
   "execution_count": 4,
   "outputs": [],
   "source": [
    "dtypes = {\n",
    "    'DealDate': np.datetime64,\n",
    "    'ValueDate': np.datetime64,\n",
    "    'MaturityDate': np.datetime64,\n",
    "    'Deal_characteristics_1': np.float32,\n",
    "    'Deal_characteristics_2': np.float32,\n",
    "    'Deal_characteristics_3': np.float32,\n",
    "    'Deal_characteristics_4': np.int32,\n",
    "    'Client_characteristics_1': np.int32,\n",
    "    'Client_characteristics_2': np.int32,\n",
    "    'target': bool,\n",
    "}\n",
    "\n",
    "data = data.astype(dtypes)\n",
    "\n",
    "dates = ['DealDate', 'ValueDate', 'MaturityDate']"
   ],
   "metadata": {
    "collapsed": false,
    "pycharm": {
     "name": "#%%\n"
    }
   }
  },
  {
   "cell_type": "code",
   "execution_count": 5,
   "outputs": [
    {
     "name": "stdout",
     "output_type": "stream",
     "text": [
      "(274280, 12)\n"
     ]
    },
    {
     "data": {
      "text/plain": "           DealDurationDays  DealDurationMonths   DealDate  ValueDate  \\\nClient_Id                                                               \n14446                   7.0                   0 2019-12-17 2019-12-17   \n2234                   29.0                   0 2020-01-27 2020-01-27   \n2234                   33.0                   1 2019-10-30 2019-10-30   \n2234                    7.0                   0 2019-11-29 2019-11-29   \n2234                   17.0                   0 2019-12-27 2019-12-27   \n\n          MaturityDate  Deal_characteristics_1  Deal_characteristics_2  \\\nClient_Id                                                                \n14446       2019-12-24                0.061247                  0.0400   \n2234        2020-02-25                0.030624                  0.0368   \n2234        2019-12-02                0.019905                  0.0402   \n2234        2019-12-06                0.030624                  0.0398   \n2234        2020-01-13                0.061247                  0.0369   \n\n           Deal_characteristics_3  Deal_characteristics_4  \\\nClient_Id                                                   \n14446                    0.085529                       2   \n2234                     0.063928                       2   \n2234                     0.063928                       2   \n2234                     0.063928                       2   \n2234                     0.063928                       2   \n\n           Client_characteristics_1  Client_characteristics_2  target  \nClient_Id                                                              \n14446                             5                      1654   False  \n2234                              7                      1196   False  \n2234                              7                      1196    True  \n2234                              7                      1196    True  \n2234                              7                      1196    True  ",
      "text/html": "<div>\n<style scoped>\n    .dataframe tbody tr th:only-of-type {\n        vertical-align: middle;\n    }\n\n    .dataframe tbody tr th {\n        vertical-align: top;\n    }\n\n    .dataframe thead th {\n        text-align: right;\n    }\n</style>\n<table border=\"1\" class=\"dataframe\">\n  <thead>\n    <tr style=\"text-align: right;\">\n      <th></th>\n      <th>DealDurationDays</th>\n      <th>DealDurationMonths</th>\n      <th>DealDate</th>\n      <th>ValueDate</th>\n      <th>MaturityDate</th>\n      <th>Deal_characteristics_1</th>\n      <th>Deal_characteristics_2</th>\n      <th>Deal_characteristics_3</th>\n      <th>Deal_characteristics_4</th>\n      <th>Client_characteristics_1</th>\n      <th>Client_characteristics_2</th>\n      <th>target</th>\n    </tr>\n    <tr>\n      <th>Client_Id</th>\n      <th></th>\n      <th></th>\n      <th></th>\n      <th></th>\n      <th></th>\n      <th></th>\n      <th></th>\n      <th></th>\n      <th></th>\n      <th></th>\n      <th></th>\n      <th></th>\n    </tr>\n  </thead>\n  <tbody>\n    <tr>\n      <th>14446</th>\n      <td>7.0</td>\n      <td>0</td>\n      <td>2019-12-17</td>\n      <td>2019-12-17</td>\n      <td>2019-12-24</td>\n      <td>0.061247</td>\n      <td>0.0400</td>\n      <td>0.085529</td>\n      <td>2</td>\n      <td>5</td>\n      <td>1654</td>\n      <td>False</td>\n    </tr>\n    <tr>\n      <th>2234</th>\n      <td>29.0</td>\n      <td>0</td>\n      <td>2020-01-27</td>\n      <td>2020-01-27</td>\n      <td>2020-02-25</td>\n      <td>0.030624</td>\n      <td>0.0368</td>\n      <td>0.063928</td>\n      <td>2</td>\n      <td>7</td>\n      <td>1196</td>\n      <td>False</td>\n    </tr>\n    <tr>\n      <th>2234</th>\n      <td>33.0</td>\n      <td>1</td>\n      <td>2019-10-30</td>\n      <td>2019-10-30</td>\n      <td>2019-12-02</td>\n      <td>0.019905</td>\n      <td>0.0402</td>\n      <td>0.063928</td>\n      <td>2</td>\n      <td>7</td>\n      <td>1196</td>\n      <td>True</td>\n    </tr>\n    <tr>\n      <th>2234</th>\n      <td>7.0</td>\n      <td>0</td>\n      <td>2019-11-29</td>\n      <td>2019-11-29</td>\n      <td>2019-12-06</td>\n      <td>0.030624</td>\n      <td>0.0398</td>\n      <td>0.063928</td>\n      <td>2</td>\n      <td>7</td>\n      <td>1196</td>\n      <td>True</td>\n    </tr>\n    <tr>\n      <th>2234</th>\n      <td>17.0</td>\n      <td>0</td>\n      <td>2019-12-27</td>\n      <td>2019-12-27</td>\n      <td>2020-01-13</td>\n      <td>0.061247</td>\n      <td>0.0369</td>\n      <td>0.063928</td>\n      <td>2</td>\n      <td>7</td>\n      <td>1196</td>\n      <td>True</td>\n    </tr>\n  </tbody>\n</table>\n</div>"
     },
     "execution_count": 5,
     "metadata": {},
     "output_type": "execute_result"
    }
   ],
   "source": [
    "for i, col1 in enumerate(dates):\n",
    "    for col2 in dates[i+1:]:\n",
    "        col1_is_bigger_df = data.loc[data[col1] > data[col2]]\n",
    "        if len(col1_is_bigger_df) > 0:\n",
    "            data.drop(labels=col1_is_bigger_df.index, inplace=True)\n",
    "\"\"\"\n",
    "Я выбросил одно значение, где 'DealDate' > 'ValueDate', полагаю, это опечатка, месяц указан неправильно\n",
    "I dropped single value, where  'DealDate' > 'ValueDate'. Suppose this is typo, wrong month was typed\n",
    "\"\"\"\n",
    "data.insert(loc=0, value=(data.MaturityDate - data.DealDate).astype('timedelta64[D]'), column='DealDurationDays')\n",
    "data.insert(loc=1, value=(data.DealDurationDays // 30).astype(int), column='DealDurationMonths')\n",
    "print(data.shape)\n",
    "data.head()"
   ],
   "metadata": {
    "collapsed": false,
    "pycharm": {
     "name": "#%%\n"
    }
   }
  },
  {
   "cell_type": "code",
   "execution_count": 6,
   "outputs": [
    {
     "name": "stdout",
     "output_type": "stream",
     "text": [
      " начальная DealDate дата в данных 2015-01-12\n",
      "  конечная  Maturity дата 2020-06-29\n",
      "  весь временной интервал в данных  дней 1995\n",
      "\n"
     ]
    }
   ],
   "source": [
    "print(f\" начальная DealDate дата в данных {data.DealDate.min().strftime('%Y-%m-%d')}\\n\",\n",
    "      f\" конечная  Maturity дата {data.MaturityDate.max().strftime('%Y-%m-%d')}\\n\",\n",
    "      f\" весь временной интервал в данных  дней {(data.MaturityDate.max() - data.DealDate.min()).days}\\n\")"
   ],
   "metadata": {
    "collapsed": false,
    "pycharm": {
     "name": "#%%\n"
    }
   }
  },
  {
   "cell_type": "code",
   "execution_count": 7,
   "outputs": [
    {
     "name": "stdout",
     "output_type": "stream",
     "text": [
      "всего записей 274280, из них уникальных клиентов 17521\n"
     ]
    }
   ],
   "source": [
    "print(f\"всего записей {data.shape[0]}, из них уникальных клиентов {data.index.nunique()}\")"
   ],
   "metadata": {
    "collapsed": false,
    "pycharm": {
     "name": "#%%\n"
    }
   }
  },
  {
   "cell_type": "code",
   "execution_count": 26,
   "outputs": [
    {
     "data": {
      "text/plain": "          DealDurationDays                   DealDurationMonths            \\\n                     count       mean median              count      mean   \nClient_Id                                                                   \n0                    16511  13.289988    7.0              16511  0.245533   \n59                     121   7.148760    6.0                121  0.074380   \n472                    172   9.029070    7.0                172  0.000000   \n604                    118  19.991525   15.5                118  0.211864   \n640                    466  28.512876   28.0                466  0.467811   \n...                    ...        ...    ...                ...       ...   \n24175                  202   2.183168    1.0                202  0.000000   \n24264                  171   1.485380    1.0                171  0.000000   \n24308                  239  36.351464   39.0                239  0.748954   \n24335                  265   7.603774    3.0                265  0.045283   \n24385                  129   1.403101    1.0                129  0.000000   \n\n                 Deal_characteristics_1                      \\\n          median                  count      mean    median   \nClient_Id                                                     \n0            0.0                  16511  1.217816  0.313893   \n59           0.0                    121  0.563905  0.306237   \n472          0.0                    172  0.075452  0.033711   \n604          0.0                    118  0.051134  0.022567   \n640          0.0                    466  0.293246  0.189921   \n...          ...                    ...       ...       ...   \n24175        0.0                    202  2.984737  3.063171   \n24264        0.0                    171  0.703659  0.566538   \n24308        1.0                    239  0.047001  0.035217   \n24335        0.0                    265  0.048791  0.021408   \n24385        0.0                    129  5.730375  2.502210   \n\n          Deal_characteristics_2  ... Deal_characteristics_4  \\\n                           count  ...                 median   \nClient_Id                         ...                          \n0                          16511  ...                    2.0   \n59                           121  ...                    2.0   \n472                          172  ...                    1.0   \n604                          118  ...                    1.0   \n640                          466  ...                    1.0   \n...                          ...  ...                    ...   \n24175                        202  ...                    2.0   \n24264                        171  ...                    2.0   \n24308                        239  ...                    2.0   \n24335                        265  ...                    0.0   \n24385                        129  ...                    1.0   \n\n          Client_characteristics_1                   Client_characteristics_2  \\\n                             count       mean median                    count   \nClient_Id                                                                       \n0                            16511  10.497668   13.0                    16511   \n59                             121   8.181818    4.0                      121   \n472                            172  15.000000   15.0                      172   \n604                            118  15.000000   15.0                      118   \n640                            466  15.000000   15.0                      466   \n...                            ...        ...    ...                      ...   \n24175                          202  11.683168   15.0                      202   \n24264                          171   9.888889   11.0                      171   \n24308                          239  10.903766   15.0                      239   \n24335                          265  11.769811   15.0                      265   \n24385                          129  15.000000   15.0                      129   \n\n                               target                   \n                  mean  median  count      mean median  \nClient_Id                                               \n0          1308.604869  1737.0  16511  0.656593    1.0  \n59         1398.876033  1178.0    121  0.859504    1.0  \n472        1759.000000  1759.0    172  0.750000    1.0  \n604        1759.000000  1759.0    118  0.228814    0.0  \n640        1759.000000  1759.0    466  0.727468    1.0  \n...                ...     ...    ...       ...    ...  \n24175      1404.316832  1759.0    202  0.995050    1.0  \n24264      1494.883041  1417.0    171  0.801170    1.0  \n24308      1168.769874  1759.0    239  0.322176    0.0  \n24335      1463.841509  1759.0    265  0.509434    1.0  \n24385      1759.000000  1759.0    129  0.968992    1.0  \n\n[431 rows x 27 columns]",
      "text/html": "<div>\n<style scoped>\n    .dataframe tbody tr th:only-of-type {\n        vertical-align: middle;\n    }\n\n    .dataframe tbody tr th {\n        vertical-align: top;\n    }\n\n    .dataframe thead tr th {\n        text-align: left;\n    }\n\n    .dataframe thead tr:last-of-type th {\n        text-align: right;\n    }\n</style>\n<table border=\"1\" class=\"dataframe\">\n  <thead>\n    <tr>\n      <th></th>\n      <th colspan=\"3\" halign=\"left\">DealDurationDays</th>\n      <th colspan=\"3\" halign=\"left\">DealDurationMonths</th>\n      <th colspan=\"3\" halign=\"left\">Deal_characteristics_1</th>\n      <th>Deal_characteristics_2</th>\n      <th>...</th>\n      <th>Deal_characteristics_4</th>\n      <th colspan=\"3\" halign=\"left\">Client_characteristics_1</th>\n      <th colspan=\"3\" halign=\"left\">Client_characteristics_2</th>\n      <th colspan=\"3\" halign=\"left\">target</th>\n    </tr>\n    <tr>\n      <th></th>\n      <th>count</th>\n      <th>mean</th>\n      <th>median</th>\n      <th>count</th>\n      <th>mean</th>\n      <th>median</th>\n      <th>count</th>\n      <th>mean</th>\n      <th>median</th>\n      <th>count</th>\n      <th>...</th>\n      <th>median</th>\n      <th>count</th>\n      <th>mean</th>\n      <th>median</th>\n      <th>count</th>\n      <th>mean</th>\n      <th>median</th>\n      <th>count</th>\n      <th>mean</th>\n      <th>median</th>\n    </tr>\n    <tr>\n      <th>Client_Id</th>\n      <th></th>\n      <th></th>\n      <th></th>\n      <th></th>\n      <th></th>\n      <th></th>\n      <th></th>\n      <th></th>\n      <th></th>\n      <th></th>\n      <th></th>\n      <th></th>\n      <th></th>\n      <th></th>\n      <th></th>\n      <th></th>\n      <th></th>\n      <th></th>\n      <th></th>\n      <th></th>\n      <th></th>\n    </tr>\n  </thead>\n  <tbody>\n    <tr>\n      <th>0</th>\n      <td>16511</td>\n      <td>13.289988</td>\n      <td>7.0</td>\n      <td>16511</td>\n      <td>0.245533</td>\n      <td>0.0</td>\n      <td>16511</td>\n      <td>1.217816</td>\n      <td>0.313893</td>\n      <td>16511</td>\n      <td>...</td>\n      <td>2.0</td>\n      <td>16511</td>\n      <td>10.497668</td>\n      <td>13.0</td>\n      <td>16511</td>\n      <td>1308.604869</td>\n      <td>1737.0</td>\n      <td>16511</td>\n      <td>0.656593</td>\n      <td>1.0</td>\n    </tr>\n    <tr>\n      <th>59</th>\n      <td>121</td>\n      <td>7.148760</td>\n      <td>6.0</td>\n      <td>121</td>\n      <td>0.074380</td>\n      <td>0.0</td>\n      <td>121</td>\n      <td>0.563905</td>\n      <td>0.306237</td>\n      <td>121</td>\n      <td>...</td>\n      <td>2.0</td>\n      <td>121</td>\n      <td>8.181818</td>\n      <td>4.0</td>\n      <td>121</td>\n      <td>1398.876033</td>\n      <td>1178.0</td>\n      <td>121</td>\n      <td>0.859504</td>\n      <td>1.0</td>\n    </tr>\n    <tr>\n      <th>472</th>\n      <td>172</td>\n      <td>9.029070</td>\n      <td>7.0</td>\n      <td>172</td>\n      <td>0.000000</td>\n      <td>0.0</td>\n      <td>172</td>\n      <td>0.075452</td>\n      <td>0.033711</td>\n      <td>172</td>\n      <td>...</td>\n      <td>1.0</td>\n      <td>172</td>\n      <td>15.000000</td>\n      <td>15.0</td>\n      <td>172</td>\n      <td>1759.000000</td>\n      <td>1759.0</td>\n      <td>172</td>\n      <td>0.750000</td>\n      <td>1.0</td>\n    </tr>\n    <tr>\n      <th>604</th>\n      <td>118</td>\n      <td>19.991525</td>\n      <td>15.5</td>\n      <td>118</td>\n      <td>0.211864</td>\n      <td>0.0</td>\n      <td>118</td>\n      <td>0.051134</td>\n      <td>0.022567</td>\n      <td>118</td>\n      <td>...</td>\n      <td>1.0</td>\n      <td>118</td>\n      <td>15.000000</td>\n      <td>15.0</td>\n      <td>118</td>\n      <td>1759.000000</td>\n      <td>1759.0</td>\n      <td>118</td>\n      <td>0.228814</td>\n      <td>0.0</td>\n    </tr>\n    <tr>\n      <th>640</th>\n      <td>466</td>\n      <td>28.512876</td>\n      <td>28.0</td>\n      <td>466</td>\n      <td>0.467811</td>\n      <td>0.0</td>\n      <td>466</td>\n      <td>0.293246</td>\n      <td>0.189921</td>\n      <td>466</td>\n      <td>...</td>\n      <td>1.0</td>\n      <td>466</td>\n      <td>15.000000</td>\n      <td>15.0</td>\n      <td>466</td>\n      <td>1759.000000</td>\n      <td>1759.0</td>\n      <td>466</td>\n      <td>0.727468</td>\n      <td>1.0</td>\n    </tr>\n    <tr>\n      <th>...</th>\n      <td>...</td>\n      <td>...</td>\n      <td>...</td>\n      <td>...</td>\n      <td>...</td>\n      <td>...</td>\n      <td>...</td>\n      <td>...</td>\n      <td>...</td>\n      <td>...</td>\n      <td>...</td>\n      <td>...</td>\n      <td>...</td>\n      <td>...</td>\n      <td>...</td>\n      <td>...</td>\n      <td>...</td>\n      <td>...</td>\n      <td>...</td>\n      <td>...</td>\n      <td>...</td>\n    </tr>\n    <tr>\n      <th>24175</th>\n      <td>202</td>\n      <td>2.183168</td>\n      <td>1.0</td>\n      <td>202</td>\n      <td>0.000000</td>\n      <td>0.0</td>\n      <td>202</td>\n      <td>2.984737</td>\n      <td>3.063171</td>\n      <td>202</td>\n      <td>...</td>\n      <td>2.0</td>\n      <td>202</td>\n      <td>11.683168</td>\n      <td>15.0</td>\n      <td>202</td>\n      <td>1404.316832</td>\n      <td>1759.0</td>\n      <td>202</td>\n      <td>0.995050</td>\n      <td>1.0</td>\n    </tr>\n    <tr>\n      <th>24264</th>\n      <td>171</td>\n      <td>1.485380</td>\n      <td>1.0</td>\n      <td>171</td>\n      <td>0.000000</td>\n      <td>0.0</td>\n      <td>171</td>\n      <td>0.703659</td>\n      <td>0.566538</td>\n      <td>171</td>\n      <td>...</td>\n      <td>2.0</td>\n      <td>171</td>\n      <td>9.888889</td>\n      <td>11.0</td>\n      <td>171</td>\n      <td>1494.883041</td>\n      <td>1417.0</td>\n      <td>171</td>\n      <td>0.801170</td>\n      <td>1.0</td>\n    </tr>\n    <tr>\n      <th>24308</th>\n      <td>239</td>\n      <td>36.351464</td>\n      <td>39.0</td>\n      <td>239</td>\n      <td>0.748954</td>\n      <td>1.0</td>\n      <td>239</td>\n      <td>0.047001</td>\n      <td>0.035217</td>\n      <td>239</td>\n      <td>...</td>\n      <td>2.0</td>\n      <td>239</td>\n      <td>10.903766</td>\n      <td>15.0</td>\n      <td>239</td>\n      <td>1168.769874</td>\n      <td>1759.0</td>\n      <td>239</td>\n      <td>0.322176</td>\n      <td>0.0</td>\n    </tr>\n    <tr>\n      <th>24335</th>\n      <td>265</td>\n      <td>7.603774</td>\n      <td>3.0</td>\n      <td>265</td>\n      <td>0.045283</td>\n      <td>0.0</td>\n      <td>265</td>\n      <td>0.048791</td>\n      <td>0.021408</td>\n      <td>265</td>\n      <td>...</td>\n      <td>0.0</td>\n      <td>265</td>\n      <td>11.769811</td>\n      <td>15.0</td>\n      <td>265</td>\n      <td>1463.841509</td>\n      <td>1759.0</td>\n      <td>265</td>\n      <td>0.509434</td>\n      <td>1.0</td>\n    </tr>\n    <tr>\n      <th>24385</th>\n      <td>129</td>\n      <td>1.403101</td>\n      <td>1.0</td>\n      <td>129</td>\n      <td>0.000000</td>\n      <td>0.0</td>\n      <td>129</td>\n      <td>5.730375</td>\n      <td>2.502210</td>\n      <td>129</td>\n      <td>...</td>\n      <td>1.0</td>\n      <td>129</td>\n      <td>15.000000</td>\n      <td>15.0</td>\n      <td>129</td>\n      <td>1759.000000</td>\n      <td>1759.0</td>\n      <td>129</td>\n      <td>0.968992</td>\n      <td>1.0</td>\n    </tr>\n  </tbody>\n</table>\n<p>431 rows × 27 columns</p>\n</div>"
     },
     "execution_count": 26,
     "metadata": {},
     "output_type": "execute_result"
    }
   ],
   "source": [
    "client_id_activity = data.groupby(data.index).agg(['count', 'mean', 'median'])\n",
    "client_id_activity.loc[client_id_activity['target']['count'] > 100]"
   ],
   "metadata": {
    "collapsed": false,
    "pycharm": {
     "name": "#%%\n"
    }
   }
  },
  {
   "cell_type": "code",
   "execution_count": 22,
   "outputs": [
    {
     "data": {
      "text/plain": "<Figure size 864x360 with 1 Axes>",
      "image/png": "[encoded data removed]"
     },
     "metadata": {},
     "output_type": "display_data"
    }
   ],
   "source": [
    "# client_id_activity_target.drop(labels=[0], inplace=True)\n",
    "n, bins, patches = plt.hist(client_id_activity.loc[1:]['target']['count'], bins=50, range=(0, 20000));\n",
    "# plt.plot(bins[:10])"
   ],
   "metadata": {
    "collapsed": false,
    "pycharm": {
     "name": "#%%\n"
    }
   }
  },
  {
   "cell_type": "code",
   "execution_count": 87,
   "outputs": [
    {
     "name": "stderr",
     "output_type": "stream",
     "text": [
      "/home/sergey/anaconda3/envs/final_project/lib/python3.8/site-packages/ipykernel/ipkernel.py:287: DeprecationWarning: `should_run_async` will not call `transform_cell` automatically in the future. Please pass the result to `transformed_cell` argument and any exception that happen during thetransform in `preprocessing_exc_tuple` in IPython 7.17 and above.\n",
      "  and should_run_async(code)\n"
     ]
    }
   ],
   "source": [
    "# client_id_activity_target.loc[client_id_activity_target['count'] > 200]['mean'].hist(bins=50)\n",
    "# client_id_activity_target.loc[client_id_activity_target['count'] > 200]['median'].hist(bins=50)\n"
   ],
   "metadata": {
    "collapsed": false,
    "pycharm": {
     "name": "#%%\n"
    }
   }
  },
  {
   "cell_type": "code",
   "execution_count": null,
   "outputs": [],
   "source": [
    "def deal_duration_info(duration: pd.Series, label: str) -> None:\n",
    "    \"\"\"\n",
    "        Графики и основные статистики, квантили для ряда с длиной сделки в днях\n",
    "    :param duration: длина сделкм\n",
    "    :param label: метка - строка в заголовок графика\n",
    "    :return: None\n",
    "    \"\"\"\n",
    "    print(label)\n",
    "    print('mean', f\"{duration.mean().astype(int)}\")\n",
    "    print('max', f\"{duration.max().astype(int)}\")\n",
    "    print('min', f\"{duration.min().astype(int)}\")\n",
    "    # quantiles\n",
    "    for quantile in [20, 50, 70, 90, 91, 92, 93, 94, 95, 96, 97, 98, 99]:\n",
    "        ndays = np.percentile(duration.values, quantile).astype(int)\n",
    "        print(f'{quantile}% {ndays} days {ndays // 30} months')\n",
    "\n",
    "    print(f\"std {duration.values.astype('int64').std().astype(int)}\")\n",
    "    print('nuniques', duration.nunique())\n",
    "\n",
    "    # fig = plt.figure(figsize=(15, 8))\n",
    "    plt.hist(x=duration, bins=150, label=label)\n",
    "    plt.title(label)\n",
    "    plt.xlabel(\"days\")\n",
    "    plt.ylabel('frequency')\n",
    "    plt.legend()\n",
    "    plt.grid()\n",
    "    plt.show()\n",
    "    # fig = px.histogram(duration, title=duration.name, nbins=10)\n",
    "    # fig.show()"
   ],
   "metadata": {
    "collapsed": false,
    "pycharm": {
     "name": "#%%\n"
    }
   }
  },
  {
   "cell_type": "code",
   "execution_count": null,
   "outputs": [],
   "source": [
    "deal_duration_info(data.DealDurationDays, label=\"all quantiles\")"
   ],
   "metadata": {
    "collapsed": false,
    "pycharm": {
     "name": "#%%\n"
    }
   }
  },
  {
   "cell_type": "markdown",
   "source": [
    "90% клиентов держат деньги не больше месяца, т.е. к следующей зарплате ничего на счету не остается,\n",
    "    полагаю, что квантиль 90% не может пролонгировать  депозит\n"
   ],
   "metadata": {
    "collapsed": false,
    "pycharm": {
     "name": "#%% md\n"
    }
   }
  },
  {
   "cell_type": "markdown",
   "source": [
    "посмотрим на квантиль 90% - 100%"
   ],
   "metadata": {
    "collapsed": false,
    "pycharm": {
     "name": "#%% md\n"
    }
   }
  },
  {
   "cell_type": "code",
   "execution_count": null,
   "outputs": [],
   "source": [
    "duration90_100 = data.DealDurationDays[data.DealDurationDays > 31]\n",
    "deal_duration_info(duration90_100, label=\"quantile 90% - 100%\")"
   ],
   "metadata": {
    "collapsed": false,
    "pycharm": {
     "name": "#%%\n"
    }
   }
  },
  {
   "cell_type": "markdown",
   "source": [
    "выбросы мешают, посмотрим, как выглядит интерквантиль 90% - 99%"
   ],
   "metadata": {
    "collapsed": false,
    "pycharm": {
     "name": "#%% md\n"
    }
   }
  },
  {
   "cell_type": "code",
   "execution_count": null,
   "outputs": [],
   "source": [
    "duration90_99 = data.DealDurationDays[(data.DealDurationDays > np.quantile(data.DealDurationDays.values,  .90))\n",
    "                                  & (data.DealDurationDays < np.quantile(data.DealDurationDays.values,  .99))]\n",
    "deal_duration_info(duration90_99, label=\"quantile 90%-99%\")"
   ],
   "metadata": {
    "collapsed": false,
    "pycharm": {
     "name": "#%%\n"
    }
   }
  },
  {
   "cell_type": "markdown",
   "source": [
    "90-99% интерквартиль держат деньги на депозите от 1 до 3 месяцев"
   ],
   "metadata": {
    "collapsed": false,
    "pycharm": {
     "name": "#%% md\n"
    }
   }
  },
  {
   "cell_type": "code",
   "execution_count": null,
   "outputs": [],
   "source": [
    "duration_year_plus = data.DealDurationDays[(data.DealDurationDays > 365)]\n",
    "deal_duration_info(duration_year_plus, label=\"duration_year_plus\")"
   ],
   "metadata": {
    "collapsed": false,
    "pycharm": {
     "name": "#%%\n"
    }
   }
  },
  {
   "cell_type": "markdown",
   "source": [
    "В основном после года депозит забирают"
   ],
   "metadata": {
    "collapsed": false,
    "pycharm": {
     "name": "#%% md\n"
    }
   }
  },
  {
   "cell_type": "code",
   "execution_count": null,
   "outputs": [],
   "source": [
    "value_counts = data.target.value_counts()\n",
    "print('Дисбаланс классов')\n",
    "print(value_counts)\n",
    "print(value_counts[1]/value_counts[0])\n"
   ],
   "metadata": {
    "collapsed": false,
    "pycharm": {
     "name": "#%%\n"
    }
   }
  },
  {
   "cell_type": "code",
   "execution_count": null,
   "outputs": [],
   "source": [
    "print(data.shape)\n",
    "print(data.columns)"
   ],
   "metadata": {
    "collapsed": false,
    "pycharm": {
     "name": "#%%\n"
    }
   }
  },
  {
   "cell_type": "code",
   "execution_count": null,
   "outputs": [],
   "source": [
    "float_deal_characteristics = ['Deal_characteristics_1', 'Deal_characteristics_2',\n",
    "       'Deal_characteristics_3']\n",
    "\n",
    "def float_deal_char_info(deal_characteristic: pd.Series, label: str):\n",
    "    print(label)\n",
    "    print(\"nunique\", deal_characteristic.nunique())\n"
   ],
   "metadata": {
    "collapsed": false,
    "pycharm": {
     "name": "#%%\n"
    }
   }
  },
  {
   "cell_type": "code",
   "execution_count": null,
   "outputs": [],
   "source": [
    "float_deal_char_info(data.Deal_characteristics_1, label=\"Deal_characteristics_1\")"
   ],
   "metadata": {
    "collapsed": false,
    "pycharm": {
     "name": "#%%\n"
    }
   }
  },
  {
   "cell_type": "code",
   "execution_count": null,
   "outputs": [],
   "source": [
    "float_deal_char_info(data.Deal_characteristics_2, label=\"Deal_characteristics_2\")"
   ],
   "metadata": {
    "collapsed": false,
    "pycharm": {
     "name": "#%%\n"
    }
   }
  },
  {
   "cell_type": "code",
   "execution_count": null,
   "outputs": [],
   "source": [
    "float_deal_char_info(data.Deal_characteristics_3, label=\"Deal_characteristics_3\")"
   ],
   "metadata": {
    "collapsed": false,
    "pycharm": {
     "name": "#%%\n"
    }
   }
  },
  {
   "cell_type": "code",
   "execution_count": null,
   "outputs": [],
   "source": [
    "print(data.Deal_characteristics_4.unique())\n",
    "\n",
    "group4 = data.groupby(by='Deal_characteristics_4')"
   ],
   "metadata": {
    "collapsed": false,
    "pycharm": {
     "name": "#%%\n"
    }
   }
  },
  {
   "cell_type": "code",
   "execution_count": null,
   "outputs": [],
   "source": [
    "print('group4.mean()')\n",
    "group4.mean()"
   ],
   "metadata": {
    "collapsed": false,
    "pycharm": {
     "name": "#%%\n"
    }
   }
  },
  {
   "cell_type": "code",
   "execution_count": null,
   "outputs": [],
   "source": [
    "print('group4.median()')\n",
    "group4.median()"
   ],
   "metadata": {
    "collapsed": false,
    "pycharm": {
     "name": "#%%\n"
    }
   }
  },
  {
   "cell_type": "code",
   "execution_count": null,
   "outputs": [],
   "source": [
    "print('group4.std()')\n",
    "group4.std()"
   ],
   "metadata": {
    "collapsed": false,
    "pycharm": {
     "name": "#%%\n"
    }
   }
  },
  {
   "cell_type": "code",
   "execution_count": null,
   "outputs": [],
   "source": [
    "data.Client_characteristics_1.hist(bins=50)\n",
    "data.Client_characteristics_1.describe()"
   ],
   "metadata": {
    "collapsed": false,
    "pycharm": {
     "name": "#%%\n"
    }
   }
  },
  {
   "cell_type": "code",
   "execution_count": null,
   "outputs": [],
   "source": [
    "data.Client_characteristics_2.hist(bins=50, figsize=(12, 5))\n",
    "data.Client_characteristics_2.describe()\n"
   ],
   "metadata": {
    "collapsed": false,
    "pycharm": {
     "name": "#%%\n"
    }
   }
  },
  {
   "cell_type": "code",
   "execution_count": null,
   "outputs": [],
   "source": [
    "# import seaborn as sns\n",
    "# plt.rcParams.update({\"grid.linewidth\":0.5, \"grid.alpha\":0.5})\n",
    "# sns.set(style=\"darkgrid\", context=\"talk\")\n",
    "\n",
    "nodates = [col for col in data.columns if col not in dates ]\n",
    "# for i, col1 in enumerate(nodates):\n",
    "#     for col2 in nodates[i+1:]:\n",
    "#         fig = plt.figure(figsize=(5,3))\n",
    "#         plt.title(f'{col1} : {col2}')\n",
    "#         plt.xlabel(col1)\n",
    "#         plt.ylabel(col2)\n",
    "#         plt.scatter(x=data[col1], y=data[col2])\n",
    "        # sns.scatterplot(x=data[col1], y=data[col2]);"
   ],
   "metadata": {
    "collapsed": false,
    "pycharm": {
     "name": "#%%\n"
    }
   }
  },
  {
   "cell_type": "code",
   "execution_count": null,
   "outputs": [],
   "source": [
    "data.columns"
   ],
   "metadata": {
    "collapsed": false,
    "pycharm": {
     "name": "#%%\n"
    }
   }
  },
  {
   "cell_type": "code",
   "execution_count": null,
   "outputs": [],
   "source": [
    "maturity_count = data.MaturityDate.value_counts()\n",
    "deal_count = data.DealDate.value_counts()\n",
    "maturity_count"
   ],
   "metadata": {
    "collapsed": false,
    "pycharm": {
     "name": "#%%\n"
    }
   }
  },
  {
   "cell_type": "code",
   "execution_count": null,
   "outputs": [],
   "source": [
    "fig, ax = plt.subplots(figsize=(10, 6), constrained_layout=True);\n",
    "# matutity_hist_values = plt.hist(maturity_count, bins=50, label='maturity')\n",
    "# deal_hist_values = plt.hist(deal_count, bins=50)\n",
    "\n",
    "# matutity_hist_values = ax.hist(maturity_count, bins=50, label='maturity')\n",
    "# deal_hist_values = plt.hist(deal_count, bins=50, label='deal_date')\n",
    "\n",
    "# ax.hist(data.DealDate, label='maturity', histtype='step', bins=250)\n",
    "maturity_ax = ax.hist(data.MaturityDate, label='deal_date', histtype='step', bins=250, log=True)\n",
    "print(maturity_ax)\n",
    "# ax.barh(importances_np[1], importances_np[0], align='center');\n",
    "plt.legend()\n",
    "plt.title('DealDates and MaturityDates frequencies')\n",
    "plt.setp(ax.get_xticklabels(), rotation=30, ha=\"right\");"
   ],
   "metadata": {
    "collapsed": false,
    "pycharm": {
     "name": "#%%\n"
    }
   }
  },
  {
   "cell_type": "code",
   "execution_count": null,
   "outputs": [],
   "source": [],
   "metadata": {
    "collapsed": false,
    "pycharm": {
     "name": "#%%\n"
    }
   }
  }
 ],
 "metadata": {
  "kernelspec": {
   "display_name": "Python 3",
   "language": "python",
   "name": "python3"
  },
  "language_info": {
   "codemirror_mode": {
    "name": "ipython",
    "version": 2
   },
   "file_extension": ".py",
   "mimetype": "text/x-python",
   "name": "python",
   "nbconvert_exporter": "python",
   "pygments_lexer": "ipython2",
   "version": "2.7.6"
  }
 },
 "nbformat": 4,
 "nbformat_minor": 0
}