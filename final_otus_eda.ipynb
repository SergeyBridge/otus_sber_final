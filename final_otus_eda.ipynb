{
 "cells": [
  {
   "cell_type": "code",
   "execution_count": 1,
   "metadata": {},
   "outputs": [
    {
     "name": "stdout",
     "output_type": "stream",
     "text": [
      "cur_dir /home/sergey/mnt/st1500/Usr/Sergey/TheJob/Otus/ML_advanced2020/final_project\n"
     ]
    }
   ],
   "source": [
    "import os\n",
    "import numpy as np\n",
    "import pandas as pd\n",
    "import warnings\n",
    "import plotly\n",
    "import plotly.graph_objects as go\n",
    "from matplotlib import pyplot as plt\n",
    "import plotly.express as px\n",
    "from pathlib import Path\n",
    "import warnings\n",
    "\n",
    "os.environ['PYARROW_IGNORE_TIMEZONE'] = '1'\n",
    "# import featuretools as ft\n",
    "\n",
    "warnings.filterwarnings(\"ignore\", category=DeprecationWarning)\n",
    "\n",
    "pd.set_option('display.max_rows', 120)\n",
    "plt.style.use(\"dark_background\")\n",
    "plt.rcParams['figure.figsize'] = (12, 5)\n",
    "plt.rcParams[\"hist.bins\"] = 50\n",
    "print('cur_dir', Path.cwd())"
   ]
  },
  {
   "cell_type": "code",
   "execution_count": 32,
   "metadata": {
    "collapsed": false,
    "jupyter": {
     "outputs_hidden": false
    },
    "pycharm": {
     "name": "#%%\n"
    }
   },
   "outputs": [],
   "source": [
    "\n",
    "\"\"\"\n",
    "Задача оценки вероятности пролонгации депозитных сделок клиентов банка.\n",
    "Описание:\n",
    "Один из основных инструментов сбережения денежных средств является срочный банковский депозит.\n",
    "По истечении срока, клиент может как забрать депозит, так и пролонгировать его,\n",
    "открыв новую депозитную сделку.\n",
    "Банку для управления портфелем средств клиентов важно понимать, с какой вероятностью клиент\n",
    "оставит свои средства на новом депозите.\n",
    "Вероятность пролонгации может зависеть от текущих условий сделок,\n",
    "от изменения текущих условий сделки относительно предыдущих условий сделок этого клиента,\n",
    "от характеристик самого клиента,\n",
    "от поведения клиента по открытию депозитных сделок в прошлом,\n",
    "а также от макроэкономической ситуации в момент заключения сделки.\n",
    "Для банка рискованнее ошибочно считать, что пролонгация произойдет,\n",
    "т.к. привлечь недостающие средства дороже, чем разместить избыточные.\n",
    "Задача:\n",
    "\tПостроить модель вероятности пролонгации депозитной сделки.\n",
    "\n",
    "Описание данных:\n",
    "В данных приводятся ID сделок и клиентов,\n",
    "даты заключения и истечения срока действия депозита,\n",
    "срок депозита, прочие условия депозитного договора,\n",
    "характеристики и типы  клиентов.\n",
    "\n",
    "Также можно предложить и добавить к данным характеристики макроэкономических условий\n",
    "из открытых источников (Росстат, ЦБ РФ и прочие статистические ресурсы).\n",
    "\n",
    "\"\"\";"
   ]
  },
  {
   "cell_type": "code",
   "execution_count": 3,
   "metadata": {
    "collapsed": false,
    "jupyter": {
     "outputs_hidden": false
    },
    "pycharm": {
     "name": "#%%\n"
    }
   },
   "outputs": [
    {
     "name": "stderr",
     "output_type": "stream",
     "text": [
      "/home/sergey/anaconda3/envs/final_project/lib/python3.8/site-packages/featuretools_update_checker/functions.py:34: UserWarning: Featuretools is out-of-date: installed == 0.23.1, latest == 0.23.2\n",
      "  warnings.warn(msg)\n"
     ]
    },
    {
     "name": "stdout",
     "output_type": "stream",
     "text": [
      " (274703, 10)\n"
     ]
    },
    {
     "data": {
      "text/html": [
       "<div>\n",
       "<style scoped>\n",
       "    .dataframe tbody tr th:only-of-type {\n",
       "        vertical-align: middle;\n",
       "    }\n",
       "\n",
       "    .dataframe tbody tr th {\n",
       "        vertical-align: top;\n",
       "    }\n",
       "\n",
       "    .dataframe thead th {\n",
       "        text-align: right;\n",
       "    }\n",
       "</style>\n",
       "<table border=\"1\" class=\"dataframe\">\n",
       "  <thead>\n",
       "    <tr style=\"text-align: right;\">\n",
       "      <th></th>\n",
       "      <th>DealDate</th>\n",
       "      <th>ValueDate</th>\n",
       "      <th>MaturityDate</th>\n",
       "      <th>Deal_characteristics_1</th>\n",
       "      <th>Deal_characteristics_2</th>\n",
       "      <th>Deal_characteristics_3</th>\n",
       "      <th>Deal_characteristics_4</th>\n",
       "      <th>Client_characteristics_1</th>\n",
       "      <th>Client_characteristics_2</th>\n",
       "      <th>target</th>\n",
       "    </tr>\n",
       "    <tr>\n",
       "      <th>Client_Id</th>\n",
       "      <th></th>\n",
       "      <th></th>\n",
       "      <th></th>\n",
       "      <th></th>\n",
       "      <th></th>\n",
       "      <th></th>\n",
       "      <th></th>\n",
       "      <th></th>\n",
       "      <th></th>\n",
       "      <th></th>\n",
       "    </tr>\n",
       "  </thead>\n",
       "  <tbody>\n",
       "    <tr>\n",
       "      <th>14446</th>\n",
       "      <td>2019-12-17</td>\n",
       "      <td>2019-12-17</td>\n",
       "      <td>2019-12-24</td>\n",
       "      <td>0.061247</td>\n",
       "      <td>0.0400</td>\n",
       "      <td>0.085529</td>\n",
       "      <td>2</td>\n",
       "      <td>5</td>\n",
       "      <td>1654</td>\n",
       "      <td>0</td>\n",
       "    </tr>\n",
       "    <tr>\n",
       "      <th>2234</th>\n",
       "      <td>2020-01-27</td>\n",
       "      <td>2020-01-27</td>\n",
       "      <td>2020-02-25</td>\n",
       "      <td>0.030624</td>\n",
       "      <td>0.0368</td>\n",
       "      <td>0.063928</td>\n",
       "      <td>2</td>\n",
       "      <td>7</td>\n",
       "      <td>1196</td>\n",
       "      <td>0</td>\n",
       "    </tr>\n",
       "    <tr>\n",
       "      <th>2234</th>\n",
       "      <td>2019-10-30</td>\n",
       "      <td>2019-10-30</td>\n",
       "      <td>2019-12-02</td>\n",
       "      <td>0.019905</td>\n",
       "      <td>0.0402</td>\n",
       "      <td>0.063928</td>\n",
       "      <td>2</td>\n",
       "      <td>7</td>\n",
       "      <td>1196</td>\n",
       "      <td>1</td>\n",
       "    </tr>\n",
       "    <tr>\n",
       "      <th>2234</th>\n",
       "      <td>2019-11-29</td>\n",
       "      <td>2019-11-29</td>\n",
       "      <td>2019-12-06</td>\n",
       "      <td>0.030624</td>\n",
       "      <td>0.0398</td>\n",
       "      <td>0.063928</td>\n",
       "      <td>2</td>\n",
       "      <td>7</td>\n",
       "      <td>1196</td>\n",
       "      <td>1</td>\n",
       "    </tr>\n",
       "    <tr>\n",
       "      <th>2234</th>\n",
       "      <td>2019-12-27</td>\n",
       "      <td>2019-12-27</td>\n",
       "      <td>2020-01-13</td>\n",
       "      <td>0.061247</td>\n",
       "      <td>0.0369</td>\n",
       "      <td>0.063928</td>\n",
       "      <td>2</td>\n",
       "      <td>7</td>\n",
       "      <td>1196</td>\n",
       "      <td>1</td>\n",
       "    </tr>\n",
       "  </tbody>\n",
       "</table>\n",
       "</div>"
      ],
      "text/plain": [
       "             DealDate   ValueDate MaturityDate  Deal_characteristics_1  \\\n",
       "Client_Id                                                                \n",
       "14446      2019-12-17  2019-12-17   2019-12-24                0.061247   \n",
       "2234       2020-01-27  2020-01-27   2020-02-25                0.030624   \n",
       "2234       2019-10-30  2019-10-30   2019-12-02                0.019905   \n",
       "2234       2019-11-29  2019-11-29   2019-12-06                0.030624   \n",
       "2234       2019-12-27  2019-12-27   2020-01-13                0.061247   \n",
       "\n",
       "           Deal_characteristics_2  Deal_characteristics_3  \\\n",
       "Client_Id                                                   \n",
       "14446                      0.0400                0.085529   \n",
       "2234                       0.0368                0.063928   \n",
       "2234                       0.0402                0.063928   \n",
       "2234                       0.0398                0.063928   \n",
       "2234                       0.0369                0.063928   \n",
       "\n",
       "           Deal_characteristics_4  Client_characteristics_1  \\\n",
       "Client_Id                                                     \n",
       "14446                           2                         5   \n",
       "2234                            2                         7   \n",
       "2234                            2                         7   \n",
       "2234                            2                         7   \n",
       "2234                            2                         7   \n",
       "\n",
       "           Client_characteristics_2  target  \n",
       "Client_Id                                    \n",
       "14446                          1654       0  \n",
       "2234                           1196       0  \n",
       "2234                           1196       1  \n",
       "2234                           1196       1  \n",
       "2234                           1196       1  "
      ]
     },
     "execution_count": 3,
     "metadata": {},
     "output_type": "execute_result"
    }
   ],
   "source": [
    "data = pd .read_csv(\"/home/sergey/mnt/4.5Tb/Downloads/otus_final_input/data_encoded.csv\", index_col='Client_Id', parse_dates=True)\n",
    "print(\"\", data.shape)\n",
    "data.head()"
   ]
  },
  {
   "cell_type": "code",
   "execution_count": 4,
   "metadata": {
    "collapsed": false,
    "jupyter": {
     "outputs_hidden": false
    },
    "pycharm": {
     "name": "#%%\n"
    }
   },
   "outputs": [],
   "source": [
    "dtypes = {\n",
    "    'DealDate': np.datetime64,\n",
    "    'ValueDate': np.datetime64,\n",
    "    'MaturityDate': np.datetime64,\n",
    "    'Deal_characteristics_1': np.float32,\n",
    "    'Deal_characteristics_2': np.float32,\n",
    "    'Deal_characteristics_3': np.float32,\n",
    "    'Deal_characteristics_4': np.int32,\n",
    "    'Client_characteristics_1': np.int32,\n",
    "    'Client_characteristics_2': np.int32,\n",
    "    'target': bool,\n",
    "}\n",
    "\n",
    "data = data.astype(dtypes)\n",
    "\n",
    "dates = ['DealDate', 'ValueDate', 'MaturityDate']"
   ]
  },
  {
   "cell_type": "code",
   "execution_count": 5,
   "metadata": {
    "collapsed": false,
    "jupyter": {
     "outputs_hidden": false
    },
    "pycharm": {
     "name": "#%%\n"
    }
   },
   "outputs": [
    {
     "name": "stdout",
     "output_type": "stream",
     "text": [
      "(274280, 12)\n"
     ]
    },
    {
     "data": {
      "text/html": [
       "<div>\n",
       "<style scoped>\n",
       "    .dataframe tbody tr th:only-of-type {\n",
       "        vertical-align: middle;\n",
       "    }\n",
       "\n",
       "    .dataframe tbody tr th {\n",
       "        vertical-align: top;\n",
       "    }\n",
       "\n",
       "    .dataframe thead th {\n",
       "        text-align: right;\n",
       "    }\n",
       "</style>\n",
       "<table border=\"1\" class=\"dataframe\">\n",
       "  <thead>\n",
       "    <tr style=\"text-align: right;\">\n",
       "      <th></th>\n",
       "      <th>DealDurationDays</th>\n",
       "      <th>DealDurationMonths</th>\n",
       "      <th>DealDate</th>\n",
       "      <th>ValueDate</th>\n",
       "      <th>MaturityDate</th>\n",
       "      <th>Deal_characteristics_1</th>\n",
       "      <th>Deal_characteristics_2</th>\n",
       "      <th>Deal_characteristics_3</th>\n",
       "      <th>Deal_characteristics_4</th>\n",
       "      <th>Client_characteristics_1</th>\n",
       "      <th>Client_characteristics_2</th>\n",
       "      <th>target</th>\n",
       "    </tr>\n",
       "    <tr>\n",
       "      <th>Client_Id</th>\n",
       "      <th></th>\n",
       "      <th></th>\n",
       "      <th></th>\n",
       "      <th></th>\n",
       "      <th></th>\n",
       "      <th></th>\n",
       "      <th></th>\n",
       "      <th></th>\n",
       "      <th></th>\n",
       "      <th></th>\n",
       "      <th></th>\n",
       "      <th></th>\n",
       "    </tr>\n",
       "  </thead>\n",
       "  <tbody>\n",
       "    <tr>\n",
       "      <th>14446</th>\n",
       "      <td>7.0</td>\n",
       "      <td>0</td>\n",
       "      <td>2019-12-17</td>\n",
       "      <td>2019-12-17</td>\n",
       "      <td>2019-12-24</td>\n",
       "      <td>0.061247</td>\n",
       "      <td>0.0400</td>\n",
       "      <td>0.085529</td>\n",
       "      <td>2</td>\n",
       "      <td>5</td>\n",
       "      <td>1654</td>\n",
       "      <td>False</td>\n",
       "    </tr>\n",
       "    <tr>\n",
       "      <th>2234</th>\n",
       "      <td>29.0</td>\n",
       "      <td>0</td>\n",
       "      <td>2020-01-27</td>\n",
       "      <td>2020-01-27</td>\n",
       "      <td>2020-02-25</td>\n",
       "      <td>0.030624</td>\n",
       "      <td>0.0368</td>\n",
       "      <td>0.063928</td>\n",
       "      <td>2</td>\n",
       "      <td>7</td>\n",
       "      <td>1196</td>\n",
       "      <td>False</td>\n",
       "    </tr>\n",
       "    <tr>\n",
       "      <th>2234</th>\n",
       "      <td>33.0</td>\n",
       "      <td>1</td>\n",
       "      <td>2019-10-30</td>\n",
       "      <td>2019-10-30</td>\n",
       "      <td>2019-12-02</td>\n",
       "      <td>0.019905</td>\n",
       "      <td>0.0402</td>\n",
       "      <td>0.063928</td>\n",
       "      <td>2</td>\n",
       "      <td>7</td>\n",
       "      <td>1196</td>\n",
       "      <td>True</td>\n",
       "    </tr>\n",
       "    <tr>\n",
       "      <th>2234</th>\n",
       "      <td>7.0</td>\n",
       "      <td>0</td>\n",
       "      <td>2019-11-29</td>\n",
       "      <td>2019-11-29</td>\n",
       "      <td>2019-12-06</td>\n",
       "      <td>0.030624</td>\n",
       "      <td>0.0398</td>\n",
       "      <td>0.063928</td>\n",
       "      <td>2</td>\n",
       "      <td>7</td>\n",
       "      <td>1196</td>\n",
       "      <td>True</td>\n",
       "    </tr>\n",
       "    <tr>\n",
       "      <th>2234</th>\n",
       "      <td>17.0</td>\n",
       "      <td>0</td>\n",
       "      <td>2019-12-27</td>\n",
       "      <td>2019-12-27</td>\n",
       "      <td>2020-01-13</td>\n",
       "      <td>0.061247</td>\n",
       "      <td>0.0369</td>\n",
       "      <td>0.063928</td>\n",
       "      <td>2</td>\n",
       "      <td>7</td>\n",
       "      <td>1196</td>\n",
       "      <td>True</td>\n",
       "    </tr>\n",
       "  </tbody>\n",
       "</table>\n",
       "</div>"
      ],
      "text/plain": [
       "           DealDurationDays  DealDurationMonths   DealDate  ValueDate  \\\n",
       "Client_Id                                                               \n",
       "14446                   7.0                   0 2019-12-17 2019-12-17   \n",
       "2234                   29.0                   0 2020-01-27 2020-01-27   \n",
       "2234                   33.0                   1 2019-10-30 2019-10-30   \n",
       "2234                    7.0                   0 2019-11-29 2019-11-29   \n",
       "2234                   17.0                   0 2019-12-27 2019-12-27   \n",
       "\n",
       "          MaturityDate  Deal_characteristics_1  Deal_characteristics_2  \\\n",
       "Client_Id                                                                \n",
       "14446       2019-12-24                0.061247                  0.0400   \n",
       "2234        2020-02-25                0.030624                  0.0368   \n",
       "2234        2019-12-02                0.019905                  0.0402   \n",
       "2234        2019-12-06                0.030624                  0.0398   \n",
       "2234        2020-01-13                0.061247                  0.0369   \n",
       "\n",
       "           Deal_characteristics_3  Deal_characteristics_4  \\\n",
       "Client_Id                                                   \n",
       "14446                    0.085529                       2   \n",
       "2234                     0.063928                       2   \n",
       "2234                     0.063928                       2   \n",
       "2234                     0.063928                       2   \n",
       "2234                     0.063928                       2   \n",
       "\n",
       "           Client_characteristics_1  Client_characteristics_2  target  \n",
       "Client_Id                                                              \n",
       "14446                             5                      1654   False  \n",
       "2234                              7                      1196   False  \n",
       "2234                              7                      1196    True  \n",
       "2234                              7                      1196    True  \n",
       "2234                              7                      1196    True  "
      ]
     },
     "execution_count": 5,
     "metadata": {},
     "output_type": "execute_result"
    }
   ],
   "source": [
    "for i, col1 in enumerate(dates):\n",
    "    for col2 in dates[i+1:]:\n",
    "        col1_is_bigger_df = data.loc[data[col1] > data[col2]]\n",
    "        if len(col1_is_bigger_df) > 0:\n",
    "            data.drop(labels=col1_is_bigger_df.index, inplace=True)\n",
    "\"\"\"\n",
    "Я выбросил одно значение, где 'DealDate' > 'ValueDate', полагаю, это опечатка, месяц указан неправильно\n",
    "I dropped single value, where  'DealDate' > 'ValueDate'. Suppose this is typo, wrong month was typed\n",
    "\"\"\"\n",
    "data.insert(loc=0, value=(data.MaturityDate - data.DealDate).astype('timedelta64[D]'), column='DealDurationDays')\n",
    "data.insert(loc=1, value=(data.DealDurationDays // 30).astype(int), column='DealDurationMonths')\n",
    "print(data.shape)\n",
    "data.head()"
   ]
  },
  {
   "cell_type": "code",
   "execution_count": 6,
   "metadata": {
    "jupyter": {
     "source_hidden": true
    },
    "pycharm": {
     "name": "#%%\n"
    },
    "tags": []
   },
   "outputs": [
    {
     "name": "stdout",
     "output_type": "stream",
     "text": [
      " начальная DealDate дата в данных 2015-01-12\n",
      "  конечная  Maturity дата 2020-06-29\n",
      "  весь временной интервал в данных  дней 1995\n",
      "\n"
     ]
    }
   ],
   "source": [
    "print(f\" начальная DealDate дата в данных {data.DealDate.min().strftime('%Y-%m-%d')}\\n\",\n",
    "      f\" конечная  Maturity дата {data.MaturityDate.max().strftime('%Y-%m-%d')}\\n\",\n",
    "      f\" весь временной интервал в данных  дней {(data.MaturityDate.max() - data.DealDate.min()).days}\\n\")"
   ]
  },
  {
   "cell_type": "code",
   "execution_count": 7,
   "metadata": {
    "collapsed": false,
    "jupyter": {
     "outputs_hidden": false
    },
    "pycharm": {
     "name": "#%%\n"
    }
   },
   "outputs": [
    {
     "name": "stdout",
     "output_type": "stream",
     "text": [
      "всего записей 274280, из них уникальных клиентов 17521\n"
     ]
    }
   ],
   "source": [
    "print(f\"всего записей {data.shape[0]}, из них уникальных клиентов {data.index.nunique()}\")"
   ]
  },
  {
   "cell_type": "code",
   "execution_count": 8,
   "metadata": {
    "collapsed": false,
    "jupyter": {
     "outputs_hidden": false
    },
    "pycharm": {
     "name": "#%%\n"
    }
   },
   "outputs": [
    {
     "data": {
      "text/html": [
       "<div>\n",
       "<style scoped>\n",
       "    .dataframe tbody tr th:only-of-type {\n",
       "        vertical-align: middle;\n",
       "    }\n",
       "\n",
       "    .dataframe tbody tr th {\n",
       "        vertical-align: top;\n",
       "    }\n",
       "\n",
       "    .dataframe thead tr th {\n",
       "        text-align: left;\n",
       "    }\n",
       "\n",
       "    .dataframe thead tr:last-of-type th {\n",
       "        text-align: right;\n",
       "    }\n",
       "</style>\n",
       "<table border=\"1\" class=\"dataframe\">\n",
       "  <thead>\n",
       "    <tr>\n",
       "      <th></th>\n",
       "      <th colspan=\"3\" halign=\"left\">DealDurationDays</th>\n",
       "      <th colspan=\"3\" halign=\"left\">DealDurationMonths</th>\n",
       "      <th colspan=\"3\" halign=\"left\">Deal_characteristics_1</th>\n",
       "      <th>Deal_characteristics_2</th>\n",
       "      <th>...</th>\n",
       "      <th>Deal_characteristics_4</th>\n",
       "      <th colspan=\"3\" halign=\"left\">Client_characteristics_1</th>\n",
       "      <th colspan=\"3\" halign=\"left\">Client_characteristics_2</th>\n",
       "      <th colspan=\"3\" halign=\"left\">target</th>\n",
       "    </tr>\n",
       "    <tr>\n",
       "      <th></th>\n",
       "      <th>count</th>\n",
       "      <th>mean</th>\n",
       "      <th>median</th>\n",
       "      <th>count</th>\n",
       "      <th>mean</th>\n",
       "      <th>median</th>\n",
       "      <th>count</th>\n",
       "      <th>mean</th>\n",
       "      <th>median</th>\n",
       "      <th>count</th>\n",
       "      <th>...</th>\n",
       "      <th>median</th>\n",
       "      <th>count</th>\n",
       "      <th>mean</th>\n",
       "      <th>median</th>\n",
       "      <th>count</th>\n",
       "      <th>mean</th>\n",
       "      <th>median</th>\n",
       "      <th>count</th>\n",
       "      <th>mean</th>\n",
       "      <th>median</th>\n",
       "    </tr>\n",
       "    <tr>\n",
       "      <th>Client_Id</th>\n",
       "      <th></th>\n",
       "      <th></th>\n",
       "      <th></th>\n",
       "      <th></th>\n",
       "      <th></th>\n",
       "      <th></th>\n",
       "      <th></th>\n",
       "      <th></th>\n",
       "      <th></th>\n",
       "      <th></th>\n",
       "      <th></th>\n",
       "      <th></th>\n",
       "      <th></th>\n",
       "      <th></th>\n",
       "      <th></th>\n",
       "      <th></th>\n",
       "      <th></th>\n",
       "      <th></th>\n",
       "      <th></th>\n",
       "      <th></th>\n",
       "      <th></th>\n",
       "    </tr>\n",
       "  </thead>\n",
       "  <tbody>\n",
       "    <tr>\n",
       "      <th>0</th>\n",
       "      <td>16511</td>\n",
       "      <td>13.289988</td>\n",
       "      <td>7.0</td>\n",
       "      <td>16511</td>\n",
       "      <td>0.245533</td>\n",
       "      <td>0.0</td>\n",
       "      <td>16511</td>\n",
       "      <td>1.217816</td>\n",
       "      <td>0.313893</td>\n",
       "      <td>16511</td>\n",
       "      <td>...</td>\n",
       "      <td>2.0</td>\n",
       "      <td>16511</td>\n",
       "      <td>10.497668</td>\n",
       "      <td>13.0</td>\n",
       "      <td>16511</td>\n",
       "      <td>1308.604869</td>\n",
       "      <td>1737.0</td>\n",
       "      <td>16511</td>\n",
       "      <td>0.656593</td>\n",
       "      <td>1.0</td>\n",
       "    </tr>\n",
       "    <tr>\n",
       "      <th>59</th>\n",
       "      <td>121</td>\n",
       "      <td>7.148760</td>\n",
       "      <td>6.0</td>\n",
       "      <td>121</td>\n",
       "      <td>0.074380</td>\n",
       "      <td>0.0</td>\n",
       "      <td>121</td>\n",
       "      <td>0.563905</td>\n",
       "      <td>0.306237</td>\n",
       "      <td>121</td>\n",
       "      <td>...</td>\n",
       "      <td>2.0</td>\n",
       "      <td>121</td>\n",
       "      <td>8.181818</td>\n",
       "      <td>4.0</td>\n",
       "      <td>121</td>\n",
       "      <td>1398.876033</td>\n",
       "      <td>1178.0</td>\n",
       "      <td>121</td>\n",
       "      <td>0.859504</td>\n",
       "      <td>1.0</td>\n",
       "    </tr>\n",
       "    <tr>\n",
       "      <th>472</th>\n",
       "      <td>172</td>\n",
       "      <td>9.029070</td>\n",
       "      <td>7.0</td>\n",
       "      <td>172</td>\n",
       "      <td>0.000000</td>\n",
       "      <td>0.0</td>\n",
       "      <td>172</td>\n",
       "      <td>0.075452</td>\n",
       "      <td>0.033711</td>\n",
       "      <td>172</td>\n",
       "      <td>...</td>\n",
       "      <td>1.0</td>\n",
       "      <td>172</td>\n",
       "      <td>15.000000</td>\n",
       "      <td>15.0</td>\n",
       "      <td>172</td>\n",
       "      <td>1759.000000</td>\n",
       "      <td>1759.0</td>\n",
       "      <td>172</td>\n",
       "      <td>0.750000</td>\n",
       "      <td>1.0</td>\n",
       "    </tr>\n",
       "    <tr>\n",
       "      <th>604</th>\n",
       "      <td>118</td>\n",
       "      <td>19.991525</td>\n",
       "      <td>15.5</td>\n",
       "      <td>118</td>\n",
       "      <td>0.211864</td>\n",
       "      <td>0.0</td>\n",
       "      <td>118</td>\n",
       "      <td>0.051134</td>\n",
       "      <td>0.022567</td>\n",
       "      <td>118</td>\n",
       "      <td>...</td>\n",
       "      <td>1.0</td>\n",
       "      <td>118</td>\n",
       "      <td>15.000000</td>\n",
       "      <td>15.0</td>\n",
       "      <td>118</td>\n",
       "      <td>1759.000000</td>\n",
       "      <td>1759.0</td>\n",
       "      <td>118</td>\n",
       "      <td>0.228814</td>\n",
       "      <td>0.0</td>\n",
       "    </tr>\n",
       "    <tr>\n",
       "      <th>640</th>\n",
       "      <td>466</td>\n",
       "      <td>28.512876</td>\n",
       "      <td>28.0</td>\n",
       "      <td>466</td>\n",
       "      <td>0.467811</td>\n",
       "      <td>0.0</td>\n",
       "      <td>466</td>\n",
       "      <td>0.293246</td>\n",
       "      <td>0.189921</td>\n",
       "      <td>466</td>\n",
       "      <td>...</td>\n",
       "      <td>1.0</td>\n",
       "      <td>466</td>\n",
       "      <td>15.000000</td>\n",
       "      <td>15.0</td>\n",
       "      <td>466</td>\n",
       "      <td>1759.000000</td>\n",
       "      <td>1759.0</td>\n",
       "      <td>466</td>\n",
       "      <td>0.727468</td>\n",
       "      <td>1.0</td>\n",
       "    </tr>\n",
       "    <tr>\n",
       "      <th>...</th>\n",
       "      <td>...</td>\n",
       "      <td>...</td>\n",
       "      <td>...</td>\n",
       "      <td>...</td>\n",
       "      <td>...</td>\n",
       "      <td>...</td>\n",
       "      <td>...</td>\n",
       "      <td>...</td>\n",
       "      <td>...</td>\n",
       "      <td>...</td>\n",
       "      <td>...</td>\n",
       "      <td>...</td>\n",
       "      <td>...</td>\n",
       "      <td>...</td>\n",
       "      <td>...</td>\n",
       "      <td>...</td>\n",
       "      <td>...</td>\n",
       "      <td>...</td>\n",
       "      <td>...</td>\n",
       "      <td>...</td>\n",
       "      <td>...</td>\n",
       "    </tr>\n",
       "    <tr>\n",
       "      <th>24175</th>\n",
       "      <td>202</td>\n",
       "      <td>2.183168</td>\n",
       "      <td>1.0</td>\n",
       "      <td>202</td>\n",
       "      <td>0.000000</td>\n",
       "      <td>0.0</td>\n",
       "      <td>202</td>\n",
       "      <td>2.984737</td>\n",
       "      <td>3.063171</td>\n",
       "      <td>202</td>\n",
       "      <td>...</td>\n",
       "      <td>2.0</td>\n",
       "      <td>202</td>\n",
       "      <td>11.683168</td>\n",
       "      <td>15.0</td>\n",
       "      <td>202</td>\n",
       "      <td>1404.316832</td>\n",
       "      <td>1759.0</td>\n",
       "      <td>202</td>\n",
       "      <td>0.995050</td>\n",
       "      <td>1.0</td>\n",
       "    </tr>\n",
       "    <tr>\n",
       "      <th>24264</th>\n",
       "      <td>171</td>\n",
       "      <td>1.485380</td>\n",
       "      <td>1.0</td>\n",
       "      <td>171</td>\n",
       "      <td>0.000000</td>\n",
       "      <td>0.0</td>\n",
       "      <td>171</td>\n",
       "      <td>0.703659</td>\n",
       "      <td>0.566538</td>\n",
       "      <td>171</td>\n",
       "      <td>...</td>\n",
       "      <td>2.0</td>\n",
       "      <td>171</td>\n",
       "      <td>9.888889</td>\n",
       "      <td>11.0</td>\n",
       "      <td>171</td>\n",
       "      <td>1494.883041</td>\n",
       "      <td>1417.0</td>\n",
       "      <td>171</td>\n",
       "      <td>0.801170</td>\n",
       "      <td>1.0</td>\n",
       "    </tr>\n",
       "    <tr>\n",
       "      <th>24308</th>\n",
       "      <td>239</td>\n",
       "      <td>36.351464</td>\n",
       "      <td>39.0</td>\n",
       "      <td>239</td>\n",
       "      <td>0.748954</td>\n",
       "      <td>1.0</td>\n",
       "      <td>239</td>\n",
       "      <td>0.047001</td>\n",
       "      <td>0.035217</td>\n",
       "      <td>239</td>\n",
       "      <td>...</td>\n",
       "      <td>2.0</td>\n",
       "      <td>239</td>\n",
       "      <td>10.903766</td>\n",
       "      <td>15.0</td>\n",
       "      <td>239</td>\n",
       "      <td>1168.769874</td>\n",
       "      <td>1759.0</td>\n",
       "      <td>239</td>\n",
       "      <td>0.322176</td>\n",
       "      <td>0.0</td>\n",
       "    </tr>\n",
       "    <tr>\n",
       "      <th>24335</th>\n",
       "      <td>265</td>\n",
       "      <td>7.603774</td>\n",
       "      <td>3.0</td>\n",
       "      <td>265</td>\n",
       "      <td>0.045283</td>\n",
       "      <td>0.0</td>\n",
       "      <td>265</td>\n",
       "      <td>0.048791</td>\n",
       "      <td>0.021408</td>\n",
       "      <td>265</td>\n",
       "      <td>...</td>\n",
       "      <td>0.0</td>\n",
       "      <td>265</td>\n",
       "      <td>11.769811</td>\n",
       "      <td>15.0</td>\n",
       "      <td>265</td>\n",
       "      <td>1463.841509</td>\n",
       "      <td>1759.0</td>\n",
       "      <td>265</td>\n",
       "      <td>0.509434</td>\n",
       "      <td>1.0</td>\n",
       "    </tr>\n",
       "    <tr>\n",
       "      <th>24385</th>\n",
       "      <td>129</td>\n",
       "      <td>1.403101</td>\n",
       "      <td>1.0</td>\n",
       "      <td>129</td>\n",
       "      <td>0.000000</td>\n",
       "      <td>0.0</td>\n",
       "      <td>129</td>\n",
       "      <td>5.730375</td>\n",
       "      <td>2.502210</td>\n",
       "      <td>129</td>\n",
       "      <td>...</td>\n",
       "      <td>1.0</td>\n",
       "      <td>129</td>\n",
       "      <td>15.000000</td>\n",
       "      <td>15.0</td>\n",
       "      <td>129</td>\n",
       "      <td>1759.000000</td>\n",
       "      <td>1759.0</td>\n",
       "      <td>129</td>\n",
       "      <td>0.968992</td>\n",
       "      <td>1.0</td>\n",
       "    </tr>\n",
       "  </tbody>\n",
       "</table>\n",
       "<p>431 rows × 27 columns</p>\n",
       "</div>"
      ],
      "text/plain": [
       "          DealDurationDays                   DealDurationMonths            \\\n",
       "                     count       mean median              count      mean   \n",
       "Client_Id                                                                   \n",
       "0                    16511  13.289988    7.0              16511  0.245533   \n",
       "59                     121   7.148760    6.0                121  0.074380   \n",
       "472                    172   9.029070    7.0                172  0.000000   \n",
       "604                    118  19.991525   15.5                118  0.211864   \n",
       "640                    466  28.512876   28.0                466  0.467811   \n",
       "...                    ...        ...    ...                ...       ...   \n",
       "24175                  202   2.183168    1.0                202  0.000000   \n",
       "24264                  171   1.485380    1.0                171  0.000000   \n",
       "24308                  239  36.351464   39.0                239  0.748954   \n",
       "24335                  265   7.603774    3.0                265  0.045283   \n",
       "24385                  129   1.403101    1.0                129  0.000000   \n",
       "\n",
       "                 Deal_characteristics_1                      \\\n",
       "          median                  count      mean    median   \n",
       "Client_Id                                                     \n",
       "0            0.0                  16511  1.217816  0.313893   \n",
       "59           0.0                    121  0.563905  0.306237   \n",
       "472          0.0                    172  0.075452  0.033711   \n",
       "604          0.0                    118  0.051134  0.022567   \n",
       "640          0.0                    466  0.293246  0.189921   \n",
       "...          ...                    ...       ...       ...   \n",
       "24175        0.0                    202  2.984737  3.063171   \n",
       "24264        0.0                    171  0.703659  0.566538   \n",
       "24308        1.0                    239  0.047001  0.035217   \n",
       "24335        0.0                    265  0.048791  0.021408   \n",
       "24385        0.0                    129  5.730375  2.502210   \n",
       "\n",
       "          Deal_characteristics_2  ... Deal_characteristics_4  \\\n",
       "                           count  ...                 median   \n",
       "Client_Id                         ...                          \n",
       "0                          16511  ...                    2.0   \n",
       "59                           121  ...                    2.0   \n",
       "472                          172  ...                    1.0   \n",
       "604                          118  ...                    1.0   \n",
       "640                          466  ...                    1.0   \n",
       "...                          ...  ...                    ...   \n",
       "24175                        202  ...                    2.0   \n",
       "24264                        171  ...                    2.0   \n",
       "24308                        239  ...                    2.0   \n",
       "24335                        265  ...                    0.0   \n",
       "24385                        129  ...                    1.0   \n",
       "\n",
       "          Client_characteristics_1                   Client_characteristics_2  \\\n",
       "                             count       mean median                    count   \n",
       "Client_Id                                                                       \n",
       "0                            16511  10.497668   13.0                    16511   \n",
       "59                             121   8.181818    4.0                      121   \n",
       "472                            172  15.000000   15.0                      172   \n",
       "604                            118  15.000000   15.0                      118   \n",
       "640                            466  15.000000   15.0                      466   \n",
       "...                            ...        ...    ...                      ...   \n",
       "24175                          202  11.683168   15.0                      202   \n",
       "24264                          171   9.888889   11.0                      171   \n",
       "24308                          239  10.903766   15.0                      239   \n",
       "24335                          265  11.769811   15.0                      265   \n",
       "24385                          129  15.000000   15.0                      129   \n",
       "\n",
       "                               target                   \n",
       "                  mean  median  count      mean median  \n",
       "Client_Id                                               \n",
       "0          1308.604869  1737.0  16511  0.656593    1.0  \n",
       "59         1398.876033  1178.0    121  0.859504    1.0  \n",
       "472        1759.000000  1759.0    172  0.750000    1.0  \n",
       "604        1759.000000  1759.0    118  0.228814    0.0  \n",
       "640        1759.000000  1759.0    466  0.727468    1.0  \n",
       "...                ...     ...    ...       ...    ...  \n",
       "24175      1404.316832  1759.0    202  0.995050    1.0  \n",
       "24264      1494.883041  1417.0    171  0.801170    1.0  \n",
       "24308      1168.769874  1759.0    239  0.322176    0.0  \n",
       "24335      1463.841509  1759.0    265  0.509434    1.0  \n",
       "24385      1759.000000  1759.0    129  0.968992    1.0  \n",
       "\n",
       "[431 rows x 27 columns]"
      ]
     },
     "execution_count": 8,
     "metadata": {},
     "output_type": "execute_result"
    }
   ],
   "source": [
    "client_id_activity = data.groupby(data.index).agg(['count', 'mean', 'median'])\n",
    "client_id_activity.loc[client_id_activity['target']['count'] > 100]"
   ]
  },
  {
   "cell_type": "code",
   "execution_count": 33,
   "metadata": {
    "collapsed": false,
    "jupyter": {
     "outputs_hidden": false
    },
    "pycharm": {
     "name": "#%%\n"
    }
   },
   "outputs": [
    {
     "data": {
      "image/png": "[encoded data removed]",
      "text/plain": [
       "<Figure size 864x360 with 1 Axes>"
      ]
     },
     "metadata": {},
     "output_type": "display_data"
    }
   ],
   "source": [
    "# client_id_activity_target.drop(labels=[0], inplace=True)\n",
    "n, bins, patches = plt.hist(client_id_activity.loc[1:]['target']['count'], bins=50, range=(0, 200));\n",
    "# plt.plot(bins[:10])"
   ]
  },
  {
   "cell_type": "code",
   "execution_count": 10,
   "metadata": {
    "collapsed": false,
    "jupyter": {
     "outputs_hidden": false
    },
    "pycharm": {
     "name": "#%%\n"
    }
   },
   "outputs": [],
   "source": [
    "# client_id_activity_target.loc[client_id_activity_target['count'] > 200]['mean'].hist(bins=50)\n",
    "# client_id_activity_target.loc[client_id_activity_target['count'] > 200]['median'].hist(bins=50)\n"
   ]
  },
  {
   "cell_type": "markdown",
   "metadata": {},
   "source": [
    "## Все данные - гистограмма"
   ]
  },
  {
   "cell_type": "code",
   "execution_count": 11,
   "metadata": {
    "jupyter": {
     "source_hidden": true
    },
    "pycharm": {
     "name": "#%%\n"
    },
    "tags": []
   },
   "outputs": [],
   "source": [
    "def deal_duration_info(duration: pd.Series, label: str) -> None:\n",
    "    \"\"\"\n",
    "        Графики и основные статистики, квантили для ряда с длиной сделки в днях\n",
    "    :param duration: длина сделкм\n",
    "    :param label: метка - строка в заголовок графика\n",
    "    :return: None\n",
    "    \"\"\"\n",
    "    print(label)\n",
    "    print('mean', f\"{duration.mean().astype(int)}\")\n",
    "    print('max', f\"{duration.max().astype(int)}\")\n",
    "    print('min', f\"{duration.min().astype(int)}\")\n",
    "    # quantiles\n",
    "    for quantile in [20, 50, 70, 90, 91, 92, 93, 94, 95, 96, 97, 98, 99]:\n",
    "        ndays = np.percentile(duration.values, quantile).astype(int)\n",
    "        print(f'{quantile}% {ndays} days {ndays // 30} months')\n",
    "\n",
    "    print(f\"std {duration.values.astype('int64').std().astype(int)}\")\n",
    "    print('nuniques', duration.nunique())\n",
    "\n",
    "    # fig = plt.figure(figsize=(15, 8))\n",
    "    plt.hist(x=duration, bins=150, label=label)\n",
    "    plt.title(label)\n",
    "    plt.xlabel(\"days\")\n",
    "    plt.ylabel('frequency')\n",
    "    plt.legend()\n",
    "    plt.grid()\n",
    "    plt.show()\n",
    "    # fig = px.histogram(duration, title=duration.name, nbins=10)\n",
    "    # fig.show()"
   ]
  },
  {
   "cell_type": "code",
   "execution_count": 12,
   "metadata": {
    "collapsed": false,
    "jupyter": {
     "outputs_hidden": false
    },
    "pycharm": {
     "name": "#%%\n"
    }
   },
   "outputs": [
    {
     "name": "stdout",
     "output_type": "stream",
     "text": [
      "all quantiles\n",
      "mean 12\n",
      "max 1461\n",
      "min 1\n",
      "20% 1 days 0 months\n",
      "50% 7 days 0 months\n",
      "70% 10 days 0 months\n",
      "90% 31 days 1 months\n",
      "91% 31 days 1 months\n",
      "92% 32 days 1 months\n",
      "93% 33 days 1 months\n",
      "94% 34 days 1 months\n",
      "95% 38 days 1 months\n",
      "96% 48 days 1 months\n",
      "97% 62 days 2 months\n",
      "98% 89 days 2 months\n",
      "99% 98 days 3 months\n",
      "std 27\n",
      "nuniques 391\n"
     ]
    },
    {
     "data": {
      "image/png": "[encoded data removed]",
      "text/plain": [
       "<Figure size 864x360 with 1 Axes>"
      ]
     },
     "metadata": {},
     "output_type": "display_data"
    }
   ],
   "source": [
    "deal_duration_info(data.DealDurationDays, label=\"all quantiles\")"
   ]
  },
  {
   "cell_type": "markdown",
   "metadata": {
    "pycharm": {
     "name": "#%% md\n"
    }
   },
   "source": [
    "#### 90% клиентов держат деньги не больше месяца, т.е. к следующей зарплате ничего на счету не остается,\n",
    "    \n"
   ]
  },
  {
   "cell_type": "markdown",
   "metadata": {
    "pycharm": {
     "name": "#%% md\n"
    }
   },
   "source": [
    "## посмотрим на квантиль 90% - 100%"
   ]
  },
  {
   "cell_type": "code",
   "execution_count": 13,
   "metadata": {
    "collapsed": false,
    "jupyter": {
     "outputs_hidden": false
    },
    "pycharm": {
     "name": "#%%\n"
    }
   },
   "outputs": [
    {
     "name": "stdout",
     "output_type": "stream",
     "text": [
      "quantile 90% - 100%\n",
      "mean 69\n",
      "max 1461\n",
      "min 32\n",
      "20% 33 days 1 months\n",
      "50% 45 days 1 months\n",
      "70% 68 days 2 months\n",
      "90% 112 days 3 months\n",
      "91% 121 days 4 months\n",
      "92% 130 days 4 months\n",
      "93% 151 days 5 months\n",
      "94% 177 days 5 months\n",
      "95% 183 days 6 months\n",
      "96% 187 days 6 months\n",
      "97% 241 days 8 months\n",
      "98% 364 days 12 months\n",
      "99% 366 days 12 months\n",
      "std 69\n",
      "nuniques 360\n"
     ]
    },
    {
     "data": {
      "image/png": "[encoded data removed]",
      "text/plain": [
       "<Figure size 864x360 with 1 Axes>"
      ]
     },
     "metadata": {},
     "output_type": "display_data"
    }
   ],
   "source": [
    "duration90_100 = data.DealDurationDays[data.DealDurationDays > 31]\n",
    "deal_duration_info(duration90_100, label=\"quantile 90% - 100%\")"
   ]
  },
  {
   "cell_type": "markdown",
   "metadata": {
    "pycharm": {
     "name": "#%% md\n"
    }
   },
   "source": [
    "## выбросы мешают, посмотрим, как выглядит интерквантиль 90% - 99%"
   ]
  },
  {
   "cell_type": "code",
   "execution_count": 14,
   "metadata": {
    "collapsed": false,
    "jupyter": {
     "outputs_hidden": false
    },
    "pycharm": {
     "name": "#%%\n"
    }
   },
   "outputs": [
    {
     "name": "stdout",
     "output_type": "stream",
     "text": [
      "quantile 90%-99%\n",
      "mean 50\n",
      "max 97\n",
      "min 32\n",
      "20% 33 days 1 months\n",
      "50% 41 days 1 months\n",
      "70% 60 days 2 months\n",
      "90% 91 days 3 months\n",
      "91% 91 days 3 months\n",
      "92% 91 days 3 months\n",
      "93% 91 days 3 months\n",
      "94% 92 days 3 months\n",
      "95% 92 days 3 months\n",
      "96% 92 days 3 months\n",
      "97% 93 days 3 months\n",
      "98% 94 days 3 months\n",
      "99% 95 days 3 months\n",
      "std 21\n",
      "nuniques 66\n"
     ]
    },
    {
     "data": {
      "image/png": "[encoded data removed]",
      "text/plain": [
       "<Figure size 864x360 with 1 Axes>"
      ]
     },
     "metadata": {},
     "output_type": "display_data"
    }
   ],
   "source": [
    "duration90_99 = data.DealDurationDays[(data.DealDurationDays > np.quantile(data.DealDurationDays.values,  .90))\n",
    "                                  & (data.DealDurationDays < np.quantile(data.DealDurationDays.values,  .99))]\n",
    "deal_duration_info(duration90_99, label=\"quantile 90%-99%\")"
   ]
  },
  {
   "cell_type": "markdown",
   "metadata": {
    "pycharm": {
     "name": "#%% md\n"
    }
   },
   "source": [
    "#### 90-99% интерквартиль держат деньги на депозите от 1 до 3 месяцев"
   ]
  },
  {
   "cell_type": "code",
   "execution_count": 15,
   "metadata": {
    "collapsed": false,
    "jupyter": {
     "outputs_hidden": false
    },
    "pycharm": {
     "name": "#%%\n"
    }
   },
   "outputs": [
    {
     "name": "stdout",
     "output_type": "stream",
     "text": [
      "duration_year_plus\n",
      "mean 468\n",
      "max 1461\n",
      "min 366\n",
      "20% 366 days 12 months\n",
      "50% 368 days 12 months\n",
      "70% 459 days 15 months\n",
      "90% 732 days 24 months\n",
      "91% 732 days 24 months\n",
      "92% 732 days 24 months\n",
      "93% 732 days 24 months\n",
      "94% 733 days 24 months\n",
      "95% 760 days 25 months\n",
      "96% 1094 days 36 months\n",
      "97% 1096 days 36 months\n",
      "98% 1096 days 36 months\n",
      "99% 1098 days 36 months\n",
      "std 189\n",
      "nuniques 65\n"
     ]
    },
    {
     "data": {
      "image/png": "[encoded data removed]",
      "text/plain": [
       "<Figure size 864x360 with 1 Axes>"
      ]
     },
     "metadata": {},
     "output_type": "display_data"
    }
   ],
   "source": [
    "duration_year_plus = data.DealDurationDays[(data.DealDurationDays > 365)]\n",
    "deal_duration_info(duration_year_plus, label=\"duration_year_plus\")"
   ]
  },
  {
   "cell_type": "markdown",
   "metadata": {
    "pycharm": {
     "name": "#%% md\n"
    }
   },
   "source": [
    "#### В основном после года депозит забирают"
   ]
  },
  {
   "cell_type": "code",
   "execution_count": 16,
   "metadata": {
    "collapsed": false,
    "jupyter": {
     "outputs_hidden": false
    },
    "pycharm": {
     "name": "#%%\n"
    }
   },
   "outputs": [
    {
     "name": "stdout",
     "output_type": "stream",
     "text": [
      "Дисбаланс классов\n",
      "True     183767\n",
      "False     90513\n",
      "Name: target, dtype: int64\n",
      "2.0302829427817\n"
     ]
    }
   ],
   "source": [
    "value_counts = data.target.value_counts()\n",
    "print('Дисбаланс классов')\n",
    "print(value_counts)\n",
    "print(value_counts[1]/value_counts[0])\n"
   ]
  },
  {
   "cell_type": "code",
   "execution_count": 17,
   "metadata": {
    "collapsed": false,
    "jupyter": {
     "outputs_hidden": false
    },
    "pycharm": {
     "name": "#%%\n"
    }
   },
   "outputs": [
    {
     "name": "stdout",
     "output_type": "stream",
     "text": [
      "(274280, 12)\n",
      "Index(['DealDurationDays', 'DealDurationMonths', 'DealDate', 'ValueDate',\n",
      "       'MaturityDate', 'Deal_characteristics_1', 'Deal_characteristics_2',\n",
      "       'Deal_characteristics_3', 'Deal_characteristics_4',\n",
      "       'Client_characteristics_1', 'Client_characteristics_2', 'target'],\n",
      "      dtype='object')\n"
     ]
    }
   ],
   "source": [
    "print(data.shape)\n",
    "print(data.columns)"
   ]
  },
  {
   "cell_type": "code",
   "execution_count": 18,
   "metadata": {
    "collapsed": false,
    "jupyter": {
     "outputs_hidden": false
    },
    "pycharm": {
     "name": "#%%\n"
    }
   },
   "outputs": [],
   "source": [
    "float_deal_characteristics = ['Deal_characteristics_1', 'Deal_characteristics_2',\n",
    "       'Deal_characteristics_3']\n",
    "\n",
    "def float_deal_char_info(deal_characteristic: pd.Series, label: str):\n",
    "    print(label)\n",
    "    print(\"nunique\", deal_characteristic.nunique())\n"
   ]
  },
  {
   "cell_type": "code",
   "execution_count": 19,
   "metadata": {
    "collapsed": false,
    "jupyter": {
     "outputs_hidden": false
    },
    "pycharm": {
     "name": "#%%\n"
    }
   },
   "outputs": [
    {
     "name": "stdout",
     "output_type": "stream",
     "text": [
      "Deal_characteristics_1\n",
      "nunique 41665\n"
     ]
    }
   ],
   "source": [
    "float_deal_char_info(data.Deal_characteristics_1, label=\"Deal_characteristics_1\")"
   ]
  },
  {
   "cell_type": "code",
   "execution_count": 20,
   "metadata": {
    "collapsed": false,
    "jupyter": {
     "outputs_hidden": false
    },
    "pycharm": {
     "name": "#%%\n"
    }
   },
   "outputs": [
    {
     "name": "stdout",
     "output_type": "stream",
     "text": [
      "Deal_characteristics_2\n",
      "nunique 1245\n"
     ]
    }
   ],
   "source": [
    "float_deal_char_info(data.Deal_characteristics_2, label=\"Deal_characteristics_2\")"
   ]
  },
  {
   "cell_type": "code",
   "execution_count": 21,
   "metadata": {
    "collapsed": false,
    "jupyter": {
     "outputs_hidden": false
    },
    "pycharm": {
     "name": "#%%\n"
    }
   },
   "outputs": [
    {
     "name": "stdout",
     "output_type": "stream",
     "text": [
      "Deal_characteristics_3\n",
      "nunique 21999\n"
     ]
    }
   ],
   "source": [
    "float_deal_char_info(data.Deal_characteristics_3, label=\"Deal_characteristics_3\")"
   ]
  },
  {
   "cell_type": "code",
   "execution_count": 22,
   "metadata": {
    "collapsed": false,
    "jupyter": {
     "outputs_hidden": false
    },
    "pycharm": {
     "name": "#%%\n"
    }
   },
   "outputs": [
    {
     "name": "stdout",
     "output_type": "stream",
     "text": [
      "[2 0 1]\n"
     ]
    }
   ],
   "source": [
    "print(data.Deal_characteristics_4.unique())\n",
    "\n",
    "group4 = data.groupby(by='Deal_characteristics_4')"
   ]
  },
  {
   "cell_type": "code",
   "execution_count": 23,
   "metadata": {
    "collapsed": false,
    "jupyter": {
     "outputs_hidden": false
    },
    "pycharm": {
     "name": "#%%\n"
    }
   },
   "outputs": [
    {
     "name": "stdout",
     "output_type": "stream",
     "text": [
      "group4.mean()\n"
     ]
    },
    {
     "data": {
      "text/html": [
       "<div>\n",
       "<style scoped>\n",
       "    .dataframe tbody tr th:only-of-type {\n",
       "        vertical-align: middle;\n",
       "    }\n",
       "\n",
       "    .dataframe tbody tr th {\n",
       "        vertical-align: top;\n",
       "    }\n",
       "\n",
       "    .dataframe thead th {\n",
       "        text-align: right;\n",
       "    }\n",
       "</style>\n",
       "<table border=\"1\" class=\"dataframe\">\n",
       "  <thead>\n",
       "    <tr style=\"text-align: right;\">\n",
       "      <th></th>\n",
       "      <th>DealDurationDays</th>\n",
       "      <th>DealDurationMonths</th>\n",
       "      <th>Deal_characteristics_1</th>\n",
       "      <th>Deal_characteristics_2</th>\n",
       "      <th>Deal_characteristics_3</th>\n",
       "      <th>Client_characteristics_1</th>\n",
       "      <th>Client_characteristics_2</th>\n",
       "      <th>target</th>\n",
       "    </tr>\n",
       "    <tr>\n",
       "      <th>Deal_characteristics_4</th>\n",
       "      <th></th>\n",
       "      <th></th>\n",
       "      <th></th>\n",
       "      <th></th>\n",
       "      <th></th>\n",
       "      <th></th>\n",
       "      <th></th>\n",
       "      <th></th>\n",
       "    </tr>\n",
       "  </thead>\n",
       "  <tbody>\n",
       "    <tr>\n",
       "      <th>0</th>\n",
       "      <td>16.744210</td>\n",
       "      <td>0.356370</td>\n",
       "      <td>0.976521</td>\n",
       "      <td>0.061779</td>\n",
       "      <td>0.085586</td>\n",
       "      <td>12.384288</td>\n",
       "      <td>1488.732714</td>\n",
       "      <td>0.682207</td>\n",
       "    </tr>\n",
       "    <tr>\n",
       "      <th>1</th>\n",
       "      <td>13.882973</td>\n",
       "      <td>0.183904</td>\n",
       "      <td>0.968889</td>\n",
       "      <td>0.058384</td>\n",
       "      <td>0.086138</td>\n",
       "      <td>14.986631</td>\n",
       "      <td>1753.665048</td>\n",
       "      <td>0.668440</td>\n",
       "    </tr>\n",
       "    <tr>\n",
       "      <th>2</th>\n",
       "      <td>11.815681</td>\n",
       "      <td>0.184809</td>\n",
       "      <td>0.976608</td>\n",
       "      <td>0.057520</td>\n",
       "      <td>0.083676</td>\n",
       "      <td>11.583282</td>\n",
       "      <td>1427.568350</td>\n",
       "      <td>0.668517</td>\n",
       "    </tr>\n",
       "  </tbody>\n",
       "</table>\n",
       "</div>"
      ],
      "text/plain": [
       "                        DealDurationDays  DealDurationMonths  \\\n",
       "Deal_characteristics_4                                         \n",
       "0                              16.744210            0.356370   \n",
       "1                              13.882973            0.183904   \n",
       "2                              11.815681            0.184809   \n",
       "\n",
       "                        Deal_characteristics_1  Deal_characteristics_2  \\\n",
       "Deal_characteristics_4                                                   \n",
       "0                                     0.976521                0.061779   \n",
       "1                                     0.968889                0.058384   \n",
       "2                                     0.976608                0.057520   \n",
       "\n",
       "                        Deal_characteristics_3  Client_characteristics_1  \\\n",
       "Deal_characteristics_4                                                     \n",
       "0                                     0.085586                 12.384288   \n",
       "1                                     0.086138                 14.986631   \n",
       "2                                     0.083676                 11.583282   \n",
       "\n",
       "                        Client_characteristics_2    target  \n",
       "Deal_characteristics_4                                      \n",
       "0                                    1488.732714  0.682207  \n",
       "1                                    1753.665048  0.668440  \n",
       "2                                    1427.568350  0.668517  "
      ]
     },
     "execution_count": 23,
     "metadata": {},
     "output_type": "execute_result"
    }
   ],
   "source": [
    "print('group4.mean()')\n",
    "group4.mean()"
   ]
  },
  {
   "cell_type": "code",
   "execution_count": 24,
   "metadata": {
    "collapsed": false,
    "jupyter": {
     "outputs_hidden": false
    },
    "pycharm": {
     "name": "#%%\n"
    }
   },
   "outputs": [
    {
     "name": "stdout",
     "output_type": "stream",
     "text": [
      "group4.median()\n"
     ]
    },
    {
     "data": {
      "text/html": [
       "<div>\n",
       "<style scoped>\n",
       "    .dataframe tbody tr th:only-of-type {\n",
       "        vertical-align: middle;\n",
       "    }\n",
       "\n",
       "    .dataframe tbody tr th {\n",
       "        vertical-align: top;\n",
       "    }\n",
       "\n",
       "    .dataframe thead th {\n",
       "        text-align: right;\n",
       "    }\n",
       "</style>\n",
       "<table border=\"1\" class=\"dataframe\">\n",
       "  <thead>\n",
       "    <tr style=\"text-align: right;\">\n",
       "      <th></th>\n",
       "      <th>DealDurationDays</th>\n",
       "      <th>DealDurationMonths</th>\n",
       "      <th>Deal_characteristics_1</th>\n",
       "      <th>Deal_characteristics_2</th>\n",
       "      <th>Deal_characteristics_3</th>\n",
       "      <th>Client_characteristics_1</th>\n",
       "      <th>Client_characteristics_2</th>\n",
       "      <th>target</th>\n",
       "    </tr>\n",
       "    <tr>\n",
       "      <th>Deal_characteristics_4</th>\n",
       "      <th></th>\n",
       "      <th></th>\n",
       "      <th></th>\n",
       "      <th></th>\n",
       "      <th></th>\n",
       "      <th></th>\n",
       "      <th></th>\n",
       "      <th></th>\n",
       "    </tr>\n",
       "  </thead>\n",
       "  <tbody>\n",
       "    <tr>\n",
       "      <th>0</th>\n",
       "      <td>4.0</td>\n",
       "      <td>0</td>\n",
       "      <td>0.149856</td>\n",
       "      <td>0.0559</td>\n",
       "      <td>0.083749</td>\n",
       "      <td>15</td>\n",
       "      <td>1759</td>\n",
       "      <td>True</td>\n",
       "    </tr>\n",
       "    <tr>\n",
       "      <th>1</th>\n",
       "      <td>7.0</td>\n",
       "      <td>0</td>\n",
       "      <td>0.210812</td>\n",
       "      <td>0.0536</td>\n",
       "      <td>0.086089</td>\n",
       "      <td>15</td>\n",
       "      <td>1759</td>\n",
       "      <td>True</td>\n",
       "    </tr>\n",
       "    <tr>\n",
       "      <th>2</th>\n",
       "      <td>7.0</td>\n",
       "      <td>0</td>\n",
       "      <td>0.306237</td>\n",
       "      <td>0.0532</td>\n",
       "      <td>0.081038</td>\n",
       "      <td>15</td>\n",
       "      <td>1759</td>\n",
       "      <td>True</td>\n",
       "    </tr>\n",
       "  </tbody>\n",
       "</table>\n",
       "</div>"
      ],
      "text/plain": [
       "                        DealDurationDays  DealDurationMonths  \\\n",
       "Deal_characteristics_4                                         \n",
       "0                                    4.0                   0   \n",
       "1                                    7.0                   0   \n",
       "2                                    7.0                   0   \n",
       "\n",
       "                        Deal_characteristics_1  Deal_characteristics_2  \\\n",
       "Deal_characteristics_4                                                   \n",
       "0                                     0.149856                  0.0559   \n",
       "1                                     0.210812                  0.0536   \n",
       "2                                     0.306237                  0.0532   \n",
       "\n",
       "                        Deal_characteristics_3  Client_characteristics_1  \\\n",
       "Deal_characteristics_4                                                     \n",
       "0                                     0.083749                        15   \n",
       "1                                     0.086089                        15   \n",
       "2                                     0.081038                        15   \n",
       "\n",
       "                        Client_characteristics_2  target  \n",
       "Deal_characteristics_4                                    \n",
       "0                                           1759    True  \n",
       "1                                           1759    True  \n",
       "2                                           1759    True  "
      ]
     },
     "execution_count": 24,
     "metadata": {},
     "output_type": "execute_result"
    }
   ],
   "source": [
    "print('group4.median()')\n",
    "group4.median()"
   ]
  },
  {
   "cell_type": "code",
   "execution_count": 25,
   "metadata": {
    "collapsed": false,
    "jupyter": {
     "outputs_hidden": false
    },
    "pycharm": {
     "name": "#%%\n"
    }
   },
   "outputs": [
    {
     "name": "stdout",
     "output_type": "stream",
     "text": [
      "group4.std()\n"
     ]
    },
    {
     "data": {
      "text/html": [
       "<div>\n",
       "<style scoped>\n",
       "    .dataframe tbody tr th:only-of-type {\n",
       "        vertical-align: middle;\n",
       "    }\n",
       "\n",
       "    .dataframe tbody tr th {\n",
       "        vertical-align: top;\n",
       "    }\n",
       "\n",
       "    .dataframe thead th {\n",
       "        text-align: right;\n",
       "    }\n",
       "</style>\n",
       "<table border=\"1\" class=\"dataframe\">\n",
       "  <thead>\n",
       "    <tr style=\"text-align: right;\">\n",
       "      <th></th>\n",
       "      <th>DealDurationDays</th>\n",
       "      <th>DealDurationMonths</th>\n",
       "      <th>Deal_characteristics_1</th>\n",
       "      <th>Deal_characteristics_2</th>\n",
       "      <th>Deal_characteristics_3</th>\n",
       "      <th>Client_characteristics_1</th>\n",
       "      <th>Client_characteristics_2</th>\n",
       "      <th>target</th>\n",
       "    </tr>\n",
       "    <tr>\n",
       "      <th>Deal_characteristics_4</th>\n",
       "      <th></th>\n",
       "      <th></th>\n",
       "      <th></th>\n",
       "      <th></th>\n",
       "      <th></th>\n",
       "      <th></th>\n",
       "      <th></th>\n",
       "      <th></th>\n",
       "    </tr>\n",
       "  </thead>\n",
       "  <tbody>\n",
       "    <tr>\n",
       "      <th>0</th>\n",
       "      <td>48.505187</td>\n",
       "      <td>1.583508</td>\n",
       "      <td>4.280479</td>\n",
       "      <td>0.022964</td>\n",
       "      <td>0.019573</td>\n",
       "      <td>4.908261</td>\n",
       "      <td>534.539080</td>\n",
       "      <td>0.465626</td>\n",
       "    </tr>\n",
       "    <tr>\n",
       "      <th>1</th>\n",
       "      <td>22.017365</td>\n",
       "      <td>0.701831</td>\n",
       "      <td>3.205136</td>\n",
       "      <td>0.017522</td>\n",
       "      <td>0.011843</td>\n",
       "      <td>0.279835</td>\n",
       "      <td>78.106146</td>\n",
       "      <td>0.470782</td>\n",
       "    </tr>\n",
       "    <tr>\n",
       "      <th>2</th>\n",
       "      <td>23.634502</td>\n",
       "      <td>0.760843</td>\n",
       "      <td>3.732960</td>\n",
       "      <td>0.017907</td>\n",
       "      <td>0.016374</td>\n",
       "      <td>4.788308</td>\n",
       "      <td>516.095169</td>\n",
       "      <td>0.470747</td>\n",
       "    </tr>\n",
       "  </tbody>\n",
       "</table>\n",
       "</div>"
      ],
      "text/plain": [
       "                        DealDurationDays  DealDurationMonths  \\\n",
       "Deal_characteristics_4                                         \n",
       "0                              48.505187            1.583508   \n",
       "1                              22.017365            0.701831   \n",
       "2                              23.634502            0.760843   \n",
       "\n",
       "                        Deal_characteristics_1  Deal_characteristics_2  \\\n",
       "Deal_characteristics_4                                                   \n",
       "0                                     4.280479                0.022964   \n",
       "1                                     3.205136                0.017522   \n",
       "2                                     3.732960                0.017907   \n",
       "\n",
       "                        Deal_characteristics_3  Client_characteristics_1  \\\n",
       "Deal_characteristics_4                                                     \n",
       "0                                     0.019573                  4.908261   \n",
       "1                                     0.011843                  0.279835   \n",
       "2                                     0.016374                  4.788308   \n",
       "\n",
       "                        Client_characteristics_2    target  \n",
       "Deal_characteristics_4                                      \n",
       "0                                     534.539080  0.465626  \n",
       "1                                      78.106146  0.470782  \n",
       "2                                     516.095169  0.470747  "
      ]
     },
     "execution_count": 25,
     "metadata": {},
     "output_type": "execute_result"
    }
   ],
   "source": [
    "print('group4.std()')\n",
    "group4.std()"
   ]
  },
  {
   "cell_type": "code",
   "execution_count": 26,
   "metadata": {
    "collapsed": false,
    "jupyter": {
     "outputs_hidden": false
    },
    "pycharm": {
     "name": "#%%\n"
    }
   },
   "outputs": [
    {
     "data": {
      "text/plain": [
       "count    274280.000000\n",
       "mean         12.043536\n",
       "std           4.655866\n",
       "min           0.000000\n",
       "25%           9.000000\n",
       "50%          15.000000\n",
       "75%          15.000000\n",
       "max          15.000000\n",
       "Name: Client_characteristics_1, dtype: float64"
      ]
     },
     "execution_count": 26,
     "metadata": {},
     "output_type": "execute_result"
    },
    {
     "data": {
      "image/png": "[encoded data removed]",
      "text/plain": [
       "<Figure size 864x360 with 1 Axes>"
      ]
     },
     "metadata": {},
     "output_type": "display_data"
    }
   ],
   "source": [
    "data.Client_characteristics_1.hist(bins=50)\n",
    "data.Client_characteristics_1.describe()"
   ]
  },
  {
   "cell_type": "code",
   "execution_count": 27,
   "metadata": {
    "collapsed": false,
    "jupyter": {
     "outputs_hidden": false
    },
    "pycharm": {
     "name": "#%%\n"
    }
   },
   "outputs": [
    {
     "data": {
      "text/plain": [
       "count    274280.000000\n",
       "mean       1469.972787\n",
       "std         500.195826\n",
       "min           0.000000\n",
       "25%        1299.000000\n",
       "50%        1759.000000\n",
       "75%        1759.000000\n",
       "max        1759.000000\n",
       "Name: Client_characteristics_2, dtype: float64"
      ]
     },
     "execution_count": 27,
     "metadata": {},
     "output_type": "execute_result"
    },
    {
     "data": {
      "image/png": "[encoded data removed]",
      "text/plain": [
       "<Figure size 864x360 with 1 Axes>"
      ]
     },
     "metadata": {},
     "output_type": "display_data"
    }
   ],
   "source": [
    "data.Client_characteristics_2.hist(bins=50, figsize=(12, 5))\n",
    "data.Client_characteristics_2.describe()\n"
   ]
  },
  {
   "cell_type": "code",
   "execution_count": 28,
   "metadata": {
    "collapsed": false,
    "jupyter": {
     "outputs_hidden": false
    },
    "pycharm": {
     "name": "#%%\n"
    }
   },
   "outputs": [],
   "source": [
    "# import seaborn as sns\n",
    "# plt.rcParams.update({\"grid.linewidth\":0.5, \"grid.alpha\":0.5})\n",
    "# sns.set(style=\"darkgrid\", context=\"talk\")\n",
    "\n",
    "nodates = [col for col in data.columns if col not in dates ]\n",
    "# for i, col1 in enumerate(nodates):\n",
    "#     for col2 in nodates[i+1:]:\n",
    "#         fig = plt.figure(figsize=(5,3))\n",
    "#         plt.title(f'{col1} : {col2}')\n",
    "#         plt.xlabel(col1)\n",
    "#         plt.ylabel(col2)\n",
    "#         plt.scatter(x=data[col1], y=data[col2])\n",
    "        # sns.scatterplot(x=data[col1], y=data[col2]);"
   ]
  },
  {
   "cell_type": "code",
   "execution_count": 29,
   "metadata": {
    "collapsed": false,
    "jupyter": {
     "outputs_hidden": false
    },
    "pycharm": {
     "name": "#%%\n"
    }
   },
   "outputs": [
    {
     "data": {
      "text/plain": [
       "Index(['DealDurationDays', 'DealDurationMonths', 'DealDate', 'ValueDate',\n",
       "       'MaturityDate', 'Deal_characteristics_1', 'Deal_characteristics_2',\n",
       "       'Deal_characteristics_3', 'Deal_characteristics_4',\n",
       "       'Client_characteristics_1', 'Client_characteristics_2', 'target'],\n",
       "      dtype='object')"
      ]
     },
     "execution_count": 29,
     "metadata": {},
     "output_type": "execute_result"
    }
   ],
   "source": [
    "data.columns"
   ]
  },
  {
   "cell_type": "code",
   "execution_count": 30,
   "metadata": {
    "collapsed": false,
    "jupyter": {
     "outputs_hidden": false
    },
    "pycharm": {
     "name": "#%%\n"
    }
   },
   "outputs": [
    {
     "data": {
      "text/plain": [
       "2020-01-09    1278\n",
       "2019-01-09    1202\n",
       "2018-01-09    1188\n",
       "2017-01-09    1061\n",
       "2016-01-11     806\n",
       "              ... \n",
       "2019-05-10       2\n",
       "2020-05-11       2\n",
       "2017-12-24       1\n",
       "2018-08-04       1\n",
       "2020-05-05       1\n",
       "Name: MaturityDate, Length: 1358, dtype: int64"
      ]
     },
     "execution_count": 30,
     "metadata": {},
     "output_type": "execute_result"
    }
   ],
   "source": [
    "maturity_count = data.MaturityDate.value_counts()\n",
    "deal_count = data.DealDate.value_counts()\n",
    "maturity_count"
   ]
  },
  {
   "cell_type": "code",
   "execution_count": 34,
   "metadata": {
    "collapsed": false,
    "jupyter": {
     "outputs_hidden": false
    },
    "pycharm": {
     "name": "#%%\n"
    }
   },
   "outputs": [
    {
     "data": {
      "image/png": "[encoded data removed]",
      "text/plain": [
       "<Figure size 720x432 with 1 Axes>"
      ]
     },
     "metadata": {},
     "output_type": "display_data"
    }
   ],
   "source": [
    "fig, ax = plt.subplots(figsize=(10, 6), constrained_layout=True);\n",
    "# matutity_hist_values = plt.hist(maturity_count, bins=50, label='maturity')\n",
    "# deal_hist_values = plt.hist(deal_count, bins=50)\n",
    "\n",
    "# matutity_hist_values = ax.hist(maturity_count, bins=50, label='maturity')\n",
    "# deal_hist_values = plt.hist(deal_count, bins=50, label='deal_date')\n",
    "\n",
    "# ax.hist(data.DealDate, label='maturity', histtype='step', bins=250)\n",
    "maturity_ax = ax.hist(data.MaturityDate, label='deal_date', histtype='step', bins=250, log=True)\n",
    "# print(maturity_ax)\n",
    "# ax.barh(importances_np[1], importances_np[0], align='center');\n",
    "plt.legend()\n",
    "plt.title('DealDates and MaturityDates frequencies')\n",
    "plt.setp(ax.get_xticklabels(), rotation=30, ha=\"right\");"
   ]
  },
  {
   "cell_type": "code",
   "execution_count": null,
   "metadata": {
    "collapsed": false,
    "jupyter": {
     "outputs_hidden": false
    },
    "pycharm": {
     "name": "#%%\n"
    }
   },
   "outputs": [],
   "source": []
  }
 ],
 "metadata": {
  "kernelspec": {
   "display_name": "Python 3",
   "language": "python",
   "name": "python3"
  },
  "language_info": {
   "codemirror_mode": {
    "name": "ipython",
    "version": 3
   },
   "file_extension": ".py",
   "mimetype": "text/x-python",
   "name": "python",
   "nbconvert_exporter": "python",
   "pygments_lexer": "ipython3",
   "version": "3.8.5"
  }
 },
 "nbformat": 4,
 "nbformat_minor": 4
}
