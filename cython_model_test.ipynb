{
 "cells": [
  {
   "cell_type": "code",
   "execution_count": 1,
   "metadata": {
    "collapsed": true,
    "jupyter": {
     "outputs_hidden": true,
     "source_hidden": true
    },
    "tags": []
   },
   "outputs": [
    {
     "name": "stdout",
     "output_type": "stream",
     "text": [
      "cur_dir /home/sergey/mnt/st1500/Usr/Sergey/TheJob/Otus/ML_advanced2020/final_project\n"
     ]
    }
   ],
   "source": [
    "import sys\n",
    "import os\n",
    "import numpy as np\n",
    "import pandas as pd\n",
    "from matplotlib import pyplot as plt\n",
    "from pathlib import Path\n",
    "import warnings\n",
    "import config\n",
    "import preprocess\n",
    "\n",
    "from collections import defaultdict\n",
    "from catboost import CatBoostClassifier, Pool\n",
    "\n",
    "sys.path.append('./cython_loss')\n",
    "import pyximport; pyximport.install()\n",
    "import cython1\n",
    "from cython1 import LoglossObjective_cython\n",
    "\n",
    "warnings.filterwarnings(\"ignore\", category=DeprecationWarning)\n",
    "\n",
    "pd.set_option('display.max_rows', 120)\n",
    "plt.style.use(\"dark_background\")\n",
    "plt.rcParams['figure.figsize'] = (12, 5)\n",
    "plt.rcParams[\"hist.bins\"] = 50\n",
    "print('cur_dir', Path.cwd())"
   ]
  },
  {
   "cell_type": "code",
   "execution_count": 2,
   "metadata": {
    "jupyter": {
     "source_hidden": true
    },
    "pycharm": {
     "name": "#%%\n"
    },
    "tags": []
   },
   "outputs": [],
   "source": [
    "data = pd.read_csv(\"/home/sergey/mnt/4.5Tb/Downloads/otus_final_input/data_encoded.csv\",\n",
    "                   low_memory=False,\n",
    "                   ).astype(config.dtypes)\n",
    "data = preprocess.preprocess(data)\n",
    "\n",
    "X_val = data.groupby(data.Client_Id).tail(1)\n",
    "y_val = X_val.pop('target')\n",
    "X_train = data.drop(labels=X_val.index)\n",
    "y_train = X_train.pop('target')"
   ]
  },
  {
   "cell_type": "code",
   "execution_count": 3,
   "metadata": {
    "jupyter": {
     "source_hidden": true
    },
    "pycharm": {
     "name": "#%%\n"
    },
    "tags": []
   },
   "outputs": [],
   "source": [
    "client_id_activity = X_train.groupby(data.Client_Id).agg(['count', 'mean', 'median'])\n",
    "with warnings.catch_warnings():\n",
    "    warnings.filterwarnings(\"ignore\", category=UserWarning)\n",
    "\n",
    "    X_train = X_train.merge(client_id_activity, how='left', left_on='Client_Id', right_index=True).dropna()\n",
    "    X_val = X_val.merge(client_id_activity, how='left', left_on='Client_Id', right_index=True)  # .dropna()\n",
    "# y_val = y_val[X_val.index]\n",
    "\n",
    "train_pool = Pool(data=X_train, label=y_train,\n",
    "                  cat_features=config.categorical_dtypes_ft.keys())\n",
    "val_pool = Pool(data=X_val, label=y_val,\n",
    "                cat_features=config.categorical_dtypes_ft.keys())"
   ]
  },
  {
   "cell_type": "markdown",
   "source": [
    "## родная Logloss, catboost"
   ],
   "metadata": {
    "collapsed": false
   }
  },
  {
   "cell_type": "code",
   "execution_count": 4,
   "outputs": [
    {
     "name": "stdout",
     "output_type": "stream",
     "text": [
      "0:\tlearn: 0.7196265\ttest: 0.6101332\tbest: 0.6101332 (0)\ttotal: 223ms\tremaining: 892ms\n",
      "1:\tlearn: 0.7196265\ttest: 0.6101332\tbest: 0.6101332 (0)\ttotal: 402ms\tremaining: 603ms\n",
      "2:\tlearn: 0.7196265\ttest: 0.6101332\tbest: 0.6101332 (0)\ttotal: 598ms\tremaining: 399ms\n",
      "3:\tlearn: 0.7246614\ttest: 0.6145145\tbest: 0.6145145 (3)\ttotal: 769ms\tremaining: 192ms\n",
      "4:\tlearn: 0.7246614\ttest: 0.6145145\tbest: 0.6145145 (3)\ttotal: 974ms\tremaining: 0us\n",
      "\n",
      "bestTest = 0.6145144846\n",
      "bestIteration = 3\n",
      "\n",
      "Shrink model to first 4 iterations.\n",
      "CPU times: user 3.98 s, sys: 244 ms, total: 4.23 s\n",
      "Wall time: 1.64 s\n"
     ]
    },
    {
     "data": {
      "text/plain": "<catboost.core.CatBoostClassifier at 0x7f76a5275c40>"
     },
     "execution_count": 4,
     "metadata": {},
     "output_type": "execute_result"
    }
   ],
   "source": [
    "%%time\n",
    "\n",
    "iterations = 5\n",
    "params = config.params\n",
    "params.update({\n",
    "    'loss_function': 'Logloss',\n",
    "    'iterations': iterations,\n",
    "    'verbose': iterations // 5,\n",
    "})\n",
    "clf_ref_logloss = CatBoostClassifier(**params)\n",
    "clf_ref_logloss.fit(X=train_pool,\n",
    "        eval_set=val_pool,\n",
    "        use_best_model=True)\n"
   ],
   "metadata": {
    "collapsed": false,
    "pycharm": {
     "name": "#%%\n"
    }
   }
  },
  {
   "cell_type": "markdown",
   "metadata": {
    "pycharm": {
     "name": "#%% md\n"
    }
   },
   "source": [
    "## внешняя  Logloss, catboost, Cython"
   ]
  },
  {
   "cell_type": "code",
   "execution_count": 5,
   "metadata": {
    "collapsed": false,
    "jupyter": {
     "outputs_hidden": false
    },
    "pycharm": {
     "name": "#%%\n"
    }
   },
   "outputs": [
    {
     "name": "stdout",
     "output_type": "stream",
     "text": [
      "0:\tlearn: 0.7196265\ttest: 0.6101332\tbest: 0.6101332 (0)\ttotal: 1.46s\tremaining: 5.84s\n",
      "1:\tlearn: 0.7196265\ttest: 0.6101332\tbest: 0.6101332 (0)\ttotal: 2.92s\tremaining: 4.38s\n",
      "2:\tlearn: 0.7196265\ttest: 0.6101332\tbest: 0.6101332 (0)\ttotal: 4.4s\tremaining: 2.93s\n",
      "3:\tlearn: 0.7196265\ttest: 0.6101332\tbest: 0.6101332 (0)\ttotal: 5.8s\tremaining: 1.45s\n",
      "4:\tlearn: 0.7196265\ttest: 0.6101332\tbest: 0.6101332 (0)\ttotal: 7.27s\tremaining: 0us\n",
      "\n",
      "bestTest = 0.6101332138\n",
      "bestIteration = 0\n",
      "\n",
      "Shrink model to first 1 iterations.\n",
      "CPU times: user 10.7 s, sys: 1.13 s, total: 11.8 s\n",
      "Wall time: 7.82 s\n"
     ]
    },
    {
     "data": {
      "text/plain": "<catboost.core.CatBoostClassifier at 0x7f76706134f0>"
     },
     "execution_count": 5,
     "metadata": {},
     "output_type": "execute_result"
    }
   ],
   "source": [
    "%%time\n",
    "iterations = 5\n",
    "params = config.params\n",
    "params.update({\n",
    "    'loss_function': LoglossObjective_cython(),\n",
    "    'iterations': iterations,\n",
    "    'verbose': iterations // 5,\n",
    "})\n",
    "clf_ref_logloss = CatBoostClassifier(**params)\n",
    "clf_ref_logloss.fit(X=train_pool,\n",
    "        eval_set=val_pool,\n",
    "        use_best_model=True)\n"
   ]
  },
  {
   "cell_type": "code",
   "execution_count": 5,
   "outputs": [],
   "source": [],
   "metadata": {
    "collapsed": false,
    "pycharm": {
     "name": "#%%\n"
    }
   }
  }
 ],
 "metadata": {
  "kernelspec": {
   "display_name": "Python 3",
   "language": "python",
   "name": "python3"
  },
  "language_info": {
   "codemirror_mode": {
    "name": "ipython",
    "version": 3
   },
   "file_extension": ".py",
   "mimetype": "text/x-python",
   "name": "python",
   "nbconvert_exporter": "python",
   "pygments_lexer": "ipython3",
   "version": "3.8.5"
  }
 },
 "nbformat": 4,
 "nbformat_minor": 4
}