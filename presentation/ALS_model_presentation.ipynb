{
 "cells": [
  {
   "cell_type": "code",
   "execution_count": 1,
   "metadata": {
    "collapsed": true,
    "jupyter": {
     "outputs_hidden": true,
     "source_hidden": true
    },
    "tags": []
   },
   "outputs": [
    {
     "name": "stdout",
     "output_type": "stream",
     "text": [
      "cur_dir /home/sergey/mnt/st1500/Usr/Sergey/TheJob/Otus/ML_advanced2020/final_project\n"
     ]
    },
    {
     "name": "stderr",
     "output_type": "stream",
     "text": [
      "/home/sergey/anaconda3/envs/final_project/lib/python3.8/site-packages/featuretools_update_checker/functions.py:34: UserWarning: Featuretools is out-of-date: installed == 0.23.1, latest == 0.23.2\n",
      "  warnings.warn(msg)\n"
     ]
    }
   ],
   "source": [
    "import sys\n",
    "import os\n",
    "import numpy as np\n",
    "import pandas as pd\n",
    "import warnings\n",
    "import plotly\n",
    "import plotly.graph_objects as go\n",
    "from matplotlib import pyplot as plt\n",
    "import plotly.express as px\n",
    "from pathlib import Path\n",
    "import warnings\n",
    "import config\n",
    "import preprocess\n",
    "from custom_metrics import LoglossObjective_loop, LoglossObjective_np\n",
    "from custom_metrics import FocalLossFormulas, AsymmetricLossFormulas\n",
    "from custom_metrics import get_simplified_derivative\n",
    "from collections import defaultdict\n",
    "from catboost import CatBoostClassifier, Pool\n",
    "\n",
    "sys.path.append('./cython_loss')\n",
    "\n",
    "os.environ['PYARROW_IGNORE_TIMEZONE'] = '1'\n",
    "# import featuretools as ft\n",
    "\n",
    "warnings.filterwarnings(\"ignore\", category=DeprecationWarning)\n",
    "\n",
    "pd.set_option('display.max_rows', 120)\n",
    "plt.style.use(\"dark_background\")\n",
    "plt.rcParams['figure.figsize'] = (12, 5)\n",
    "plt.rcParams[\"hist.bins\"] = 50\n",
    "print('cur_dir', Path.cwd())"
   ]
  },
  {
   "cell_type": "code",
   "execution_count": 2,
   "metadata": {
    "collapsed": false,
    "jupyter": {
     "outputs_hidden": false
    },
    "pycharm": {
     "name": "#%%\n"
    }
   },
   "outputs": [
    {
     "name": "stdout",
     "output_type": "stream",
     "text": [
      " (274702, 13)\n"
     ]
    },
    {
     "data": {
      "text/html": [
       "<div>\n",
       "<style scoped>\n",
       "    .dataframe tbody tr th:only-of-type {\n",
       "        vertical-align: middle;\n",
       "    }\n",
       "\n",
       "    .dataframe tbody tr th {\n",
       "        vertical-align: top;\n",
       "    }\n",
       "\n",
       "    .dataframe thead th {\n",
       "        text-align: right;\n",
       "    }\n",
       "</style>\n",
       "<table border=\"1\" class=\"dataframe\">\n",
       "  <thead>\n",
       "    <tr style=\"text-align: right;\">\n",
       "      <th></th>\n",
       "      <th>DealDurationDays</th>\n",
       "      <th>DealDurationMonths</th>\n",
       "      <th>Client_Id</th>\n",
       "      <th>DealDate</th>\n",
       "      <th>ValueDate</th>\n",
       "      <th>MaturityDate</th>\n",
       "      <th>Deal_characteristics_1</th>\n",
       "      <th>Deal_characteristics_2</th>\n",
       "      <th>Deal_characteristics_3</th>\n",
       "      <th>Deal_characteristics_4</th>\n",
       "      <th>Client_characteristics_1</th>\n",
       "      <th>Client_characteristics_2</th>\n",
       "      <th>target</th>\n",
       "    </tr>\n",
       "  </thead>\n",
       "  <tbody>\n",
       "    <tr>\n",
       "      <th>0</th>\n",
       "      <td>8.0</td>\n",
       "      <td>0</td>\n",
       "      <td>16140</td>\n",
       "      <td>2015-01-12</td>\n",
       "      <td>2015-01-12</td>\n",
       "      <td>2015-01-20</td>\n",
       "      <td>7.018746</td>\n",
       "      <td>0.0000</td>\n",
       "      <td>0.140368</td>\n",
       "      <td>0</td>\n",
       "      <td>15</td>\n",
       "      <td>1759</td>\n",
       "      <td>1</td>\n",
       "    </tr>\n",
       "    <tr>\n",
       "      <th>1</th>\n",
       "      <td>53.0</td>\n",
       "      <td>1</td>\n",
       "      <td>21990</td>\n",
       "      <td>2015-01-12</td>\n",
       "      <td>2015-01-12</td>\n",
       "      <td>2015-03-06</td>\n",
       "      <td>0.306237</td>\n",
       "      <td>0.1146</td>\n",
       "      <td>0.087720</td>\n",
       "      <td>2</td>\n",
       "      <td>15</td>\n",
       "      <td>1759</td>\n",
       "      <td>1</td>\n",
       "    </tr>\n",
       "    <tr>\n",
       "      <th>2</th>\n",
       "      <td>92.0</td>\n",
       "      <td>3</td>\n",
       "      <td>18607</td>\n",
       "      <td>2015-01-12</td>\n",
       "      <td>2015-01-12</td>\n",
       "      <td>2015-04-14</td>\n",
       "      <td>0.306237</td>\n",
       "      <td>0.1201</td>\n",
       "      <td>0.054139</td>\n",
       "      <td>2</td>\n",
       "      <td>15</td>\n",
       "      <td>1759</td>\n",
       "      <td>1</td>\n",
       "    </tr>\n",
       "    <tr>\n",
       "      <th>3</th>\n",
       "      <td>1.0</td>\n",
       "      <td>0</td>\n",
       "      <td>20500</td>\n",
       "      <td>2015-01-12</td>\n",
       "      <td>2015-01-12</td>\n",
       "      <td>2015-01-13</td>\n",
       "      <td>2.985808</td>\n",
       "      <td>0.0896</td>\n",
       "      <td>0.100056</td>\n",
       "      <td>2</td>\n",
       "      <td>15</td>\n",
       "      <td>1759</td>\n",
       "      <td>1</td>\n",
       "    </tr>\n",
       "    <tr>\n",
       "      <th>4</th>\n",
       "      <td>1.0</td>\n",
       "      <td>0</td>\n",
       "      <td>4041</td>\n",
       "      <td>2015-01-12</td>\n",
       "      <td>2015-01-12</td>\n",
       "      <td>2015-01-13</td>\n",
       "      <td>0.418013</td>\n",
       "      <td>0.0805</td>\n",
       "      <td>0.168161</td>\n",
       "      <td>2</td>\n",
       "      <td>15</td>\n",
       "      <td>1759</td>\n",
       "      <td>1</td>\n",
       "    </tr>\n",
       "  </tbody>\n",
       "</table>\n",
       "</div>"
      ],
      "text/plain": [
       "   DealDurationDays  DealDurationMonths  Client_Id   DealDate  ValueDate  \\\n",
       "0               8.0                   0      16140 2015-01-12 2015-01-12   \n",
       "1              53.0                   1      21990 2015-01-12 2015-01-12   \n",
       "2              92.0                   3      18607 2015-01-12 2015-01-12   \n",
       "3               1.0                   0      20500 2015-01-12 2015-01-12   \n",
       "4               1.0                   0       4041 2015-01-12 2015-01-12   \n",
       "\n",
       "  MaturityDate  Deal_characteristics_1  Deal_characteristics_2  \\\n",
       "0   2015-01-20                7.018746                  0.0000   \n",
       "1   2015-03-06                0.306237                  0.1146   \n",
       "2   2015-04-14                0.306237                  0.1201   \n",
       "3   2015-01-13                2.985808                  0.0896   \n",
       "4   2015-01-13                0.418013                  0.0805   \n",
       "\n",
       "   Deal_characteristics_3  Deal_characteristics_4  Client_characteristics_1  \\\n",
       "0                0.140368                       0                        15   \n",
       "1                0.087720                       2                        15   \n",
       "2                0.054139                       2                        15   \n",
       "3                0.100056                       2                        15   \n",
       "4                0.168161                       2                        15   \n",
       "\n",
       "   Client_characteristics_2  target  \n",
       "0                      1759       1  \n",
       "1                      1759       1  \n",
       "2                      1759       1  \n",
       "3                      1759       1  \n",
       "4                      1759       1  "
      ]
     },
     "execution_count": 2,
     "metadata": {},
     "output_type": "execute_result"
    }
   ],
   "source": [
    "data = pd.read_csv(\"/home/sergey/mnt/4.5Tb/Downloads/otus_final_input/data_encoded.csv\",\n",
    "                   low_memory=False,\n",
    "                   ).astype(config.dtypes)\n",
    "data = preprocess.preprocess(data)\n",
    "print(\"\", data.shape)\n",
    "data.head()"
   ]
  },
  {
   "cell_type": "code",
   "execution_count": 3,
   "metadata": {
    "collapsed": false,
    "jupyter": {
     "outputs_hidden": false
    },
    "pycharm": {
     "name": "#%%\n"
    }
   },
   "outputs": [],
   "source": [
    "# print(data.columns)"
   ]
  },
  {
   "cell_type": "code",
   "execution_count": 4,
   "metadata": {
    "collapsed": false,
    "jupyter": {
     "outputs_hidden": false
    },
    "pycharm": {
     "name": "#%%\n"
    }
   },
   "outputs": [],
   "source": [
    "X_val = data.groupby(data.Client_Id).tail(1)\n",
    "y_val = X_val.pop('target')\n",
    "X_train = data.drop(labels=X_val.index)\n",
    "y_train = X_train.pop('target')"
   ]
  },
  {
   "cell_type": "markdown",
   "metadata": {
    "pycharm": {
     "name": "#%% md\n"
    }
   },
   "source": [
    "## активность клиентов, простые статистики"
   ]
  },
  {
   "cell_type": "code",
   "execution_count": 5,
   "metadata": {
    "pycharm": {
     "name": "#%%\n"
    },
    "tags": []
   },
   "outputs": [
    {
     "name": "stdout",
     "output_type": "stream",
     "text": [
      "активность клиентов, простые статистики\n"
     ]
    },
    {
     "data": {
      "text/html": [
       "<div>\n",
       "<style scoped>\n",
       "    .dataframe tbody tr th:only-of-type {\n",
       "        vertical-align: middle;\n",
       "    }\n",
       "\n",
       "    .dataframe tbody tr th {\n",
       "        vertical-align: top;\n",
       "    }\n",
       "\n",
       "    .dataframe thead tr th {\n",
       "        text-align: left;\n",
       "    }\n",
       "\n",
       "    .dataframe thead tr:last-of-type th {\n",
       "        text-align: right;\n",
       "    }\n",
       "</style>\n",
       "<table border=\"1\" class=\"dataframe\">\n",
       "  <thead>\n",
       "    <tr>\n",
       "      <th></th>\n",
       "      <th colspan=\"3\" halign=\"left\">DealDurationDays</th>\n",
       "      <th colspan=\"3\" halign=\"left\">DealDurationMonths</th>\n",
       "      <th colspan=\"3\" halign=\"left\">Client_Id</th>\n",
       "      <th>Deal_characteristics_1</th>\n",
       "      <th>...</th>\n",
       "      <th>Deal_characteristics_3</th>\n",
       "      <th colspan=\"3\" halign=\"left\">Deal_characteristics_4</th>\n",
       "      <th colspan=\"3\" halign=\"left\">Client_characteristics_1</th>\n",
       "      <th colspan=\"3\" halign=\"left\">Client_characteristics_2</th>\n",
       "    </tr>\n",
       "    <tr>\n",
       "      <th></th>\n",
       "      <th>count</th>\n",
       "      <th>mean</th>\n",
       "      <th>median</th>\n",
       "      <th>count</th>\n",
       "      <th>mean</th>\n",
       "      <th>median</th>\n",
       "      <th>count</th>\n",
       "      <th>mean</th>\n",
       "      <th>median</th>\n",
       "      <th>count</th>\n",
       "      <th>...</th>\n",
       "      <th>median</th>\n",
       "      <th>count</th>\n",
       "      <th>mean</th>\n",
       "      <th>median</th>\n",
       "      <th>count</th>\n",
       "      <th>mean</th>\n",
       "      <th>median</th>\n",
       "      <th>count</th>\n",
       "      <th>mean</th>\n",
       "      <th>median</th>\n",
       "    </tr>\n",
       "    <tr>\n",
       "      <th>Client_Id</th>\n",
       "      <th></th>\n",
       "      <th></th>\n",
       "      <th></th>\n",
       "      <th></th>\n",
       "      <th></th>\n",
       "      <th></th>\n",
       "      <th></th>\n",
       "      <th></th>\n",
       "      <th></th>\n",
       "      <th></th>\n",
       "      <th></th>\n",
       "      <th></th>\n",
       "      <th></th>\n",
       "      <th></th>\n",
       "      <th></th>\n",
       "      <th></th>\n",
       "      <th></th>\n",
       "      <th></th>\n",
       "      <th></th>\n",
       "      <th></th>\n",
       "      <th></th>\n",
       "    </tr>\n",
       "  </thead>\n",
       "  <tbody>\n",
       "    <tr>\n",
       "      <th>0</th>\n",
       "      <td>16510</td>\n",
       "      <td>13.290612</td>\n",
       "      <td>7.0</td>\n",
       "      <td>16510</td>\n",
       "      <td>0.245548</td>\n",
       "      <td>0.0</td>\n",
       "      <td>16510</td>\n",
       "      <td>0</td>\n",
       "      <td>0</td>\n",
       "      <td>16510</td>\n",
       "      <td>...</td>\n",
       "      <td>0.074074</td>\n",
       "      <td>16510</td>\n",
       "      <td>1.677832</td>\n",
       "      <td>2</td>\n",
       "      <td>16510</td>\n",
       "      <td>10.497638</td>\n",
       "      <td>13.0</td>\n",
       "      <td>16510</td>\n",
       "      <td>1308.578922</td>\n",
       "      <td>1737.0</td>\n",
       "    </tr>\n",
       "    <tr>\n",
       "      <th>7596</th>\n",
       "      <td>3353</td>\n",
       "      <td>1.526991</td>\n",
       "      <td>1.0</td>\n",
       "      <td>3353</td>\n",
       "      <td>0.000000</td>\n",
       "      <td>0.0</td>\n",
       "      <td>3353</td>\n",
       "      <td>7596</td>\n",
       "      <td>7596</td>\n",
       "      <td>3353</td>\n",
       "      <td>...</td>\n",
       "      <td>0.067925</td>\n",
       "      <td>3353</td>\n",
       "      <td>2.000000</td>\n",
       "      <td>2</td>\n",
       "      <td>3353</td>\n",
       "      <td>7.232627</td>\n",
       "      <td>7.0</td>\n",
       "      <td>3353</td>\n",
       "      <td>944.866090</td>\n",
       "      <td>954.0</td>\n",
       "    </tr>\n",
       "    <tr>\n",
       "      <th>17708</th>\n",
       "      <td>2158</td>\n",
       "      <td>1.994903</td>\n",
       "      <td>1.0</td>\n",
       "      <td>2158</td>\n",
       "      <td>0.002780</td>\n",
       "      <td>0.0</td>\n",
       "      <td>2158</td>\n",
       "      <td>17708</td>\n",
       "      <td>17708</td>\n",
       "      <td>2158</td>\n",
       "      <td>...</td>\n",
       "      <td>0.076577</td>\n",
       "      <td>2158</td>\n",
       "      <td>1.000000</td>\n",
       "      <td>1</td>\n",
       "      <td>2158</td>\n",
       "      <td>15.000000</td>\n",
       "      <td>15.0</td>\n",
       "      <td>2158</td>\n",
       "      <td>1759.000000</td>\n",
       "      <td>1759.0</td>\n",
       "    </tr>\n",
       "    <tr>\n",
       "      <th>8269</th>\n",
       "      <td>1797</td>\n",
       "      <td>5.678353</td>\n",
       "      <td>6.0</td>\n",
       "      <td>1797</td>\n",
       "      <td>0.000000</td>\n",
       "      <td>0.0</td>\n",
       "      <td>1797</td>\n",
       "      <td>8269</td>\n",
       "      <td>8269</td>\n",
       "      <td>1797</td>\n",
       "      <td>...</td>\n",
       "      <td>0.080000</td>\n",
       "      <td>1797</td>\n",
       "      <td>0.000000</td>\n",
       "      <td>0</td>\n",
       "      <td>1797</td>\n",
       "      <td>10.648303</td>\n",
       "      <td>15.0</td>\n",
       "      <td>1797</td>\n",
       "      <td>1004.415693</td>\n",
       "      <td>1759.0</td>\n",
       "    </tr>\n",
       "    <tr>\n",
       "      <th>11790</th>\n",
       "      <td>1439</td>\n",
       "      <td>29.776928</td>\n",
       "      <td>26.0</td>\n",
       "      <td>1439</td>\n",
       "      <td>0.503127</td>\n",
       "      <td>0.0</td>\n",
       "      <td>1439</td>\n",
       "      <td>11790</td>\n",
       "      <td>11790</td>\n",
       "      <td>1439</td>\n",
       "      <td>...</td>\n",
       "      <td>0.079261</td>\n",
       "      <td>1439</td>\n",
       "      <td>0.000000</td>\n",
       "      <td>0</td>\n",
       "      <td>1439</td>\n",
       "      <td>10.970813</td>\n",
       "      <td>15.0</td>\n",
       "      <td>1439</td>\n",
       "      <td>1467.997220</td>\n",
       "      <td>1759.0</td>\n",
       "    </tr>\n",
       "    <tr>\n",
       "      <th>...</th>\n",
       "      <td>...</td>\n",
       "      <td>...</td>\n",
       "      <td>...</td>\n",
       "      <td>...</td>\n",
       "      <td>...</td>\n",
       "      <td>...</td>\n",
       "      <td>...</td>\n",
       "      <td>...</td>\n",
       "      <td>...</td>\n",
       "      <td>...</td>\n",
       "      <td>...</td>\n",
       "      <td>...</td>\n",
       "      <td>...</td>\n",
       "      <td>...</td>\n",
       "      <td>...</td>\n",
       "      <td>...</td>\n",
       "      <td>...</td>\n",
       "      <td>...</td>\n",
       "      <td>...</td>\n",
       "      <td>...</td>\n",
       "      <td>...</td>\n",
       "    </tr>\n",
       "    <tr>\n",
       "      <th>1476</th>\n",
       "      <td>1</td>\n",
       "      <td>28.000000</td>\n",
       "      <td>28.0</td>\n",
       "      <td>1</td>\n",
       "      <td>0.000000</td>\n",
       "      <td>0.0</td>\n",
       "      <td>1</td>\n",
       "      <td>1476</td>\n",
       "      <td>1476</td>\n",
       "      <td>1</td>\n",
       "      <td>...</td>\n",
       "      <td>0.127649</td>\n",
       "      <td>1</td>\n",
       "      <td>0.000000</td>\n",
       "      <td>0</td>\n",
       "      <td>1</td>\n",
       "      <td>15.000000</td>\n",
       "      <td>15.0</td>\n",
       "      <td>1</td>\n",
       "      <td>1759.000000</td>\n",
       "      <td>1759.0</td>\n",
       "    </tr>\n",
       "    <tr>\n",
       "      <th>10884</th>\n",
       "      <td>1</td>\n",
       "      <td>7.000000</td>\n",
       "      <td>7.0</td>\n",
       "      <td>1</td>\n",
       "      <td>0.000000</td>\n",
       "      <td>0.0</td>\n",
       "      <td>1</td>\n",
       "      <td>10884</td>\n",
       "      <td>10884</td>\n",
       "      <td>1</td>\n",
       "      <td>...</td>\n",
       "      <td>0.109683</td>\n",
       "      <td>1</td>\n",
       "      <td>2.000000</td>\n",
       "      <td>2</td>\n",
       "      <td>1</td>\n",
       "      <td>15.000000</td>\n",
       "      <td>15.0</td>\n",
       "      <td>1</td>\n",
       "      <td>1759.000000</td>\n",
       "      <td>1759.0</td>\n",
       "    </tr>\n",
       "    <tr>\n",
       "      <th>1462</th>\n",
       "      <td>1</td>\n",
       "      <td>3.000000</td>\n",
       "      <td>3.0</td>\n",
       "      <td>1</td>\n",
       "      <td>0.000000</td>\n",
       "      <td>0.0</td>\n",
       "      <td>1</td>\n",
       "      <td>1462</td>\n",
       "      <td>1462</td>\n",
       "      <td>1</td>\n",
       "      <td>...</td>\n",
       "      <td>0.120395</td>\n",
       "      <td>1</td>\n",
       "      <td>2.000000</td>\n",
       "      <td>2</td>\n",
       "      <td>1</td>\n",
       "      <td>15.000000</td>\n",
       "      <td>15.0</td>\n",
       "      <td>1</td>\n",
       "      <td>1759.000000</td>\n",
       "      <td>1759.0</td>\n",
       "    </tr>\n",
       "    <tr>\n",
       "      <th>5381</th>\n",
       "      <td>1</td>\n",
       "      <td>13.000000</td>\n",
       "      <td>13.0</td>\n",
       "      <td>1</td>\n",
       "      <td>0.000000</td>\n",
       "      <td>0.0</td>\n",
       "      <td>1</td>\n",
       "      <td>5381</td>\n",
       "      <td>5381</td>\n",
       "      <td>1</td>\n",
       "      <td>...</td>\n",
       "      <td>0.078762</td>\n",
       "      <td>1</td>\n",
       "      <td>2.000000</td>\n",
       "      <td>2</td>\n",
       "      <td>1</td>\n",
       "      <td>15.000000</td>\n",
       "      <td>15.0</td>\n",
       "      <td>1</td>\n",
       "      <td>1759.000000</td>\n",
       "      <td>1759.0</td>\n",
       "    </tr>\n",
       "    <tr>\n",
       "      <th>6840</th>\n",
       "      <td>1</td>\n",
       "      <td>33.000000</td>\n",
       "      <td>33.0</td>\n",
       "      <td>1</td>\n",
       "      <td>1.000000</td>\n",
       "      <td>1.0</td>\n",
       "      <td>1</td>\n",
       "      <td>6840</td>\n",
       "      <td>6840</td>\n",
       "      <td>1</td>\n",
       "      <td>...</td>\n",
       "      <td>0.086843</td>\n",
       "      <td>1</td>\n",
       "      <td>2.000000</td>\n",
       "      <td>2</td>\n",
       "      <td>1</td>\n",
       "      <td>15.000000</td>\n",
       "      <td>15.0</td>\n",
       "      <td>1</td>\n",
       "      <td>1759.000000</td>\n",
       "      <td>1759.0</td>\n",
       "    </tr>\n",
       "  </tbody>\n",
       "</table>\n",
       "<p>13050 rows × 27 columns</p>\n",
       "</div>"
      ],
      "text/plain": [
       "          DealDurationDays                   DealDurationMonths            \\\n",
       "                     count       mean median              count      mean   \n",
       "Client_Id                                                                   \n",
       "0                    16510  13.290612    7.0              16510  0.245548   \n",
       "7596                  3353   1.526991    1.0               3353  0.000000   \n",
       "17708                 2158   1.994903    1.0               2158  0.002780   \n",
       "8269                  1797   5.678353    6.0               1797  0.000000   \n",
       "11790                 1439  29.776928   26.0               1439  0.503127   \n",
       "...                    ...        ...    ...                ...       ...   \n",
       "1476                     1  28.000000   28.0                  1  0.000000   \n",
       "10884                    1   7.000000    7.0                  1  0.000000   \n",
       "1462                     1   3.000000    3.0                  1  0.000000   \n",
       "5381                     1  13.000000   13.0                  1  0.000000   \n",
       "6840                     1  33.000000   33.0                  1  1.000000   \n",
       "\n",
       "                 Client_Id               Deal_characteristics_1  ...  \\\n",
       "          median     count   mean median                  count  ...   \n",
       "Client_Id                                                        ...   \n",
       "0            0.0     16510      0      0                  16510  ...   \n",
       "7596         0.0      3353   7596   7596                   3353  ...   \n",
       "17708        0.0      2158  17708  17708                   2158  ...   \n",
       "8269         0.0      1797   8269   8269                   1797  ...   \n",
       "11790        0.0      1439  11790  11790                   1439  ...   \n",
       "...          ...       ...    ...    ...                    ...  ...   \n",
       "1476         0.0         1   1476   1476                      1  ...   \n",
       "10884        0.0         1  10884  10884                      1  ...   \n",
       "1462         0.0         1   1462   1462                      1  ...   \n",
       "5381         0.0         1   5381   5381                      1  ...   \n",
       "6840         1.0         1   6840   6840                      1  ...   \n",
       "\n",
       "          Deal_characteristics_3 Deal_characteristics_4                   \\\n",
       "                          median                  count      mean median   \n",
       "Client_Id                                                                  \n",
       "0                       0.074074                  16510  1.677832      2   \n",
       "7596                    0.067925                   3353  2.000000      2   \n",
       "17708                   0.076577                   2158  1.000000      1   \n",
       "8269                    0.080000                   1797  0.000000      0   \n",
       "11790                   0.079261                   1439  0.000000      0   \n",
       "...                          ...                    ...       ...    ...   \n",
       "1476                    0.127649                      1  0.000000      0   \n",
       "10884                   0.109683                      1  2.000000      2   \n",
       "1462                    0.120395                      1  2.000000      2   \n",
       "5381                    0.078762                      1  2.000000      2   \n",
       "6840                    0.086843                      1  2.000000      2   \n",
       "\n",
       "          Client_characteristics_1                   Client_characteristics_2  \\\n",
       "                             count       mean median                    count   \n",
       "Client_Id                                                                       \n",
       "0                            16510  10.497638   13.0                    16510   \n",
       "7596                          3353   7.232627    7.0                     3353   \n",
       "17708                         2158  15.000000   15.0                     2158   \n",
       "8269                          1797  10.648303   15.0                     1797   \n",
       "11790                         1439  10.970813   15.0                     1439   \n",
       "...                            ...        ...    ...                      ...   \n",
       "1476                             1  15.000000   15.0                        1   \n",
       "10884                            1  15.000000   15.0                        1   \n",
       "1462                             1  15.000000   15.0                        1   \n",
       "5381                             1  15.000000   15.0                        1   \n",
       "6840                             1  15.000000   15.0                        1   \n",
       "\n",
       "                                \n",
       "                  mean  median  \n",
       "Client_Id                       \n",
       "0          1308.578922  1737.0  \n",
       "7596        944.866090   954.0  \n",
       "17708      1759.000000  1759.0  \n",
       "8269       1004.415693  1759.0  \n",
       "11790      1467.997220  1759.0  \n",
       "...                ...     ...  \n",
       "1476       1759.000000  1759.0  \n",
       "10884      1759.000000  1759.0  \n",
       "1462       1759.000000  1759.0  \n",
       "5381       1759.000000  1759.0  \n",
       "6840       1759.000000  1759.0  \n",
       "\n",
       "[13050 rows x 27 columns]"
      ]
     },
     "execution_count": 5,
     "metadata": {},
     "output_type": "execute_result"
    }
   ],
   "source": [
    "client_id_activity = X_train.groupby(data.Client_Id).agg(['count', 'mean', 'median'])\n",
    "client_id_activity.sort_values(by=('DealDurationDays', 'count'), ascending=False)"
   ]
  },
  {
   "cell_type": "code",
   "execution_count": 6,
   "metadata": {
    "collapsed": false,
    "jupyter": {
     "outputs_hidden": false
    },
    "pycharm": {
     "name": "#%%\n"
    }
   },
   "outputs": [],
   "source": [
    "with warnings.catch_warnings():\n",
    "    warnings.filterwarnings(\"ignore\", category=UserWarning)\n",
    "\n",
    "    X_train = X_train.merge(client_id_activity, how='left', left_on='Client_Id', right_index=True).dropna()\n",
    "    X_val = X_val.merge(client_id_activity, how='left', left_on='Client_Id', right_index=True)  # .dropna()\n",
    "# y_val = y_val[X_val.index]"
   ]
  },
  {
   "cell_type": "code",
   "execution_count": 7,
   "metadata": {
    "collapsed": false,
    "jupyter": {
     "outputs_hidden": false
    },
    "pycharm": {
     "name": "#%%\n"
    }
   },
   "outputs": [
    {
     "name": "stdout",
     "output_type": "stream",
     "text": [
      "data.shape (274702, 13)\n",
      "X_train.shape (257180, 39)\n",
      "X_val.shape (17522, 39)\n",
      "data.shape[0] - X_val.shape[0] =  257180\n",
      "data.shape[0] -  X_train.shape[0] - X_val.shape[0] =  0\n",
      "13050 17522 -4472\n"
     ]
    }
   ],
   "source": [
    "print('data.shape', data.shape)\n",
    "print('X_train.shape', X_train.shape)\n",
    "print('X_val.shape', X_val.shape)\n",
    "print('data.shape[0] - X_val.shape[0] = ', data.shape[0] - X_val.shape[0])\n",
    "print('data.shape[0] -  X_train.shape[0] - X_val.shape[0] = ', data.shape[0] - X_train.shape[0] - X_val.shape[0])\n",
    "print(X_train.Client_Id.nunique(), X_val.Client_Id.nunique(), X_train.Client_Id.nunique() - X_val.Client_Id.nunique())"
   ]
  },
  {
   "cell_type": "code",
   "execution_count": 8,
   "metadata": {
    "collapsed": false,
    "jupyter": {
     "outputs_hidden": false
    },
    "pycharm": {
     "name": "#%%\n"
    }
   },
   "outputs": [],
   "source": [
    "train_pool = Pool(data=X_train, label=y_train,\n",
    "                  cat_features=config.categorical_dtypes_ft.keys())\n",
    "val_pool = Pool(data=X_val, label=y_val,\n",
    "                cat_features=config.categorical_dtypes_ft.keys())"
   ]
  },
  {
   "cell_type": "markdown",
   "metadata": {
    "pycharm": {
     "name": "#%% md\n"
    }
   },
   "source": [
    "## родная Logloss, catboost"
   ]
  },
  {
   "cell_type": "code",
   "execution_count": 9,
   "metadata": {
    "collapsed": false,
    "jupyter": {
     "outputs_hidden": false
    },
    "pycharm": {
     "name": "#%%\n"
    }
   },
   "outputs": [
    {
     "name": "stdout",
     "output_type": "stream",
     "text": [
      "0:\tlearn: 0.7196265\ttest: 0.6101332\tbest: 0.6101332 (0)\ttotal: 247ms\tremaining: 4.69s\n",
      "4:\tlearn: 0.7246614\ttest: 0.6145145\tbest: 0.6145145 (3)\ttotal: 954ms\tremaining: 2.86s\n",
      "8:\tlearn: 0.7252500\ttest: 0.6145384\tbest: 0.6145384 (8)\ttotal: 1.69s\tremaining: 2.07s\n",
      "12:\tlearn: 0.7252766\ttest: 0.6145491\tbest: 0.6145491 (12)\ttotal: 2.45s\tremaining: 1.32s\n",
      "16:\tlearn: 0.7254810\ttest: 0.6147518\tbest: 0.6147518 (15)\ttotal: 3.28s\tremaining: 579ms\n",
      "19:\tlearn: 0.7257810\ttest: 0.6147749\tbest: 0.6147749 (19)\ttotal: 3.88s\tremaining: 0us\n",
      "\n",
      "bestTest = 0.6147749453\n",
      "bestIteration = 19\n",
      "\n",
      "CPU times: user 12.8 s, sys: 829 ms, total: 13.6 s\n",
      "Wall time: 4.51 s\n"
     ]
    },
    {
     "data": {
      "text/plain": [
       "<catboost.core.CatBoostClassifier at 0x7f5fb7514430>"
      ]
     },
     "execution_count": 9,
     "metadata": {},
     "output_type": "execute_result"
    }
   ],
   "source": [
    "%%time\n",
    "\n",
    "iterations = 200\n",
    "params = config.params\n",
    "params.update({\n",
    "    'loss_function': 'Logloss',\n",
    "    'iterations': iterations,\n",
    "    'verbose': iterations // 5,\n",
    "})\n",
    "clf_logloss_ref = CatBoostClassifier(**params)\n",
    "clf_logloss_ref.fit(X=train_pool,\n",
    "        eval_set=val_pool,\n",
    "        use_best_model=True)\n"
   ]
  },
  {
   "cell_type": "markdown",
   "metadata": {
    "pycharm": {
     "name": "#%% md\n"
    }
   },
   "source": [
    "##### внешняя реализация Logloss, numpy, catboost"
   ]
  },
  {
   "cell_type": "code",
   "execution_count": 10,
   "metadata": {
    "collapsed": false,
    "jupyter": {
     "outputs_hidden": false
    },
    "pycharm": {
     "name": "#%%\n"
    }
   },
   "outputs": [],
   "source": [
    "%%time\n",
    "params = config.params\n",
    "params.update({\n",
    "    'loss_function': LoglossObjective_np(),\n",
    "    'iterations': iterations,\n",
    "    'verbose': iterations // 5,\n",
    "})\n",
    "clf_logloss_custom_np = CatBoostClassifier(**params)\n",
    "\n",
    "clf_logloss_custom_np.fit(X=train_pool,\n",
    "        eval_set=val_pool,\n",
    "        use_best_model=True)\n",
    "print(f'Функция потерь logloss реализована через numpy, \\n'\n",
    "      f'работает экспоненцильно медленнее, чем родная от catboost\\n'\n",
    "      f'на 20 итерациях раз в 5 хуже, на 200 - в 400 раз медленнее\\n'\n",
    "      f'но намного быстрее, чем если делать с циклом внутри \\n'\n",
    "      f'также сходится медленнее, чем родная. Сходимость одинаковая с реализацией через цикл \\n'\n",
    "      f'о сходимости есть топик на stackoverflow здесь \\n'\n",
    "      f'https://stackoverflow.com/questions/63104119/catboost-custom-loss-function \\n'\n",
    "      f'')"
   ]
  },
  {
   "cell_type": "markdown",
   "metadata": {
    "pycharm": {
     "name": "#%% md\n"
    }
   },
   "source": [
    "## внешняя реализация Logloss, простой Python цикл,  catboost"
   ]
  },
  {
   "cell_type": "code",
   "execution_count": 11,
   "metadata": {
    "collapsed": false,
    "jupyter": {
     "outputs_hidden": false
    },
    "pycharm": {
     "name": "#%%\n"
    }
   },
   "outputs": [],
   "source": [
    "%%time\n",
    "params = config.params\n",
    "params.update({\n",
    "    'loss_function': LoglossObjective_loop(),\n",
    "    'iterations': iterations,\n",
    "    'verbose': iterations // 5,\n",
    "})\n",
    "clf_logloss_custom_loop = CatBoostClassifier(**params)\n",
    "\n",
    "clf_logloss_custom_loop.fit(X=train_pool,\n",
    "        eval_set=val_pool,\n",
    "        use_best_model=True)\n",
    "print(f'Здесь функция потерь logloss реализована через цикл, очень медленно выполняется, \\n'\n",
    "      f'примерно в 8 раз медленнее, чем если реализовать через numpy \\n'\n",
    "      f'и в 30 раз медленнее, чем референсная, родная catboost \\n'\n",
    "      f'также сходится медленнее, чем родная. Сходимость одинаковая с реализацией через numpy ')\n",
    "\n",
    "print('clf_logloss_custom_loop.get_evals_result()')\n",
    "loop_res = clf_logloss_custom_loop.get_evals_result()\n",
    "loop_res"
   ]
  },
  {
   "cell_type": "markdown",
   "metadata": {
    "pycharm": {
     "name": "#%% md\n"
    }
   },
   "source": [
    "## внешняя реализация FocalLoss,\n",
    "Python, Numpy, первая и вторая производные получены в sympy,  catboost\n",
    "\n",
    "Формулы функции потерь обозначены L \n",
    "первая и вторая производные der1 и der2\n",
    "\n",
    "AsymmetricLoss несколко сложнее, чем FocalLoss, \n"
   ]
  },
  {
   "cell_type": "code",
   "execution_count": 14,
   "metadata": {
    "collapsed": false,
    "jupyter": {
     "outputs_hidden": false
    },
    "pycharm": {
     "name": "#%%\n"
    }
   },
   "outputs": [
    {
     "name": "stdout",
     "output_type": "stream",
     "text": [
      "Формулы функции потерь обозначены L \n",
      "первая и вторая производные der1 и der2\n"
     ]
    },
    {
     "data": {
      "text/latex": [
       "$\\displaystyle p = \\frac{e^{x}}{e^{x} + 1}$"
      ],
      "text/plain": [
       "Eq(p, exp(x)/(exp(x) + 1))"
      ]
     },
     "metadata": {},
     "output_type": "display_data"
    },
    {
     "data": {
      "text/latex": [
       "$\\displaystyle L_{plus} = \\left(1 - \\frac{e^{x}}{e^{x} + 1}\\right)^{\\gamma} \\log{\\left(\\frac{e^{x}}{e^{x} + 1} \\right)}$"
      ],
      "text/plain": [
       "Eq(L_plus, (1 - exp(x)/(exp(x) + 1))**gamma*log(exp(x)/(exp(x) + 1)))"
      ]
     },
     "metadata": {},
     "output_type": "display_data"
    },
    {
     "data": {
      "text/latex": [
       "$\\displaystyle L_{minus} = \\left(\\frac{e^{x}}{e^{x} + 1}\\right)^{\\gamma} \\log{\\left(1 - \\frac{e^{x}}{e^{x} + 1} \\right)}$"
      ],
      "text/plain": [
       "Eq(L_minus, (exp(x)/(exp(x) + 1))**gamma*log(1 - exp(x)/(exp(x) + 1)))"
      ]
     },
     "metadata": {},
     "output_type": "display_data"
    },
    {
     "data": {
      "text/latex": [
       "$\\displaystyle L = - y \\left(1 - \\frac{e^{x}}{e^{x} + 1}\\right)^{\\gamma} \\log{\\left(\\frac{e^{x}}{e^{x} + 1} \\right)} - \\left(\\frac{e^{x}}{e^{x} + 1}\\right)^{\\gamma} \\left(1 - y\\right) \\log{\\left(1 - \\frac{e^{x}}{e^{x} + 1} \\right)}$"
      ],
      "text/plain": [
       "Eq(L, -y*(1 - exp(x)/(exp(x) + 1))**gamma*log(exp(x)/(exp(x) + 1)) - (exp(x)/(exp(x) + 1))**gamma*(1 - y)*log(1 - exp(x)/(exp(x) + 1)))"
      ]
     },
     "metadata": {},
     "output_type": "display_data"
    },
    {
     "data": {
      "text/latex": [
       "$\\displaystyle L^{der1} = - \\frac{\\gamma y \\left(1 - \\frac{e^{x}}{e^{x} + 1}\\right)^{\\gamma} \\left(- \\frac{e^{x}}{e^{x} + 1} + \\frac{e^{2 x}}{\\left(e^{x} + 1\\right)^{2}}\\right) \\log{\\left(\\frac{e^{x}}{e^{x} + 1} \\right)}}{1 - \\frac{e^{x}}{e^{x} + 1}} - \\gamma \\left(\\frac{e^{x}}{e^{x} + 1}\\right)^{\\gamma} \\left(1 - y\\right) \\left(\\frac{e^{x}}{e^{x} + 1} - \\frac{e^{2 x}}{\\left(e^{x} + 1\\right)^{2}}\\right) \\left(e^{x} + 1\\right) e^{- x} \\log{\\left(1 - \\frac{e^{x}}{e^{x} + 1} \\right)} - y \\left(1 - \\frac{e^{x}}{e^{x} + 1}\\right)^{\\gamma} \\left(\\frac{e^{x}}{e^{x} + 1} - \\frac{e^{2 x}}{\\left(e^{x} + 1\\right)^{2}}\\right) \\left(e^{x} + 1\\right) e^{- x} - \\frac{\\left(\\frac{e^{x}}{e^{x} + 1}\\right)^{\\gamma} \\left(1 - y\\right) \\left(- \\frac{e^{x}}{e^{x} + 1} + \\frac{e^{2 x}}{\\left(e^{x} + 1\\right)^{2}}\\right)}{1 - \\frac{e^{x}}{e^{x} + 1}}$"
      ],
      "text/plain": [
       "Eq(L__der1, -gamma*y*(1 - exp(x)/(exp(x) + 1))**gamma*(-exp(x)/(exp(x) + 1) + exp(2*x)/(exp(x) + 1)**2)*log(exp(x)/(exp(x) + 1))/(1 - exp(x)/(exp(x) + 1)) - gamma*(exp(x)/(exp(x) + 1))**gamma*(1 - y)*(exp(x)/(exp(x) + 1) - exp(2*x)/(exp(x) + 1)**2)*(exp(x) + 1)*exp(-x)*log(1 - exp(x)/(exp(x) + 1)) - y*(1 - exp(x)/(exp(x) + 1))**gamma*(exp(x)/(exp(x) + 1) - exp(2*x)/(exp(x) + 1)**2)*(exp(x) + 1)*exp(-x) - (exp(x)/(exp(x) + 1))**gamma*(1 - y)*(-exp(x)/(exp(x) + 1) + exp(2*x)/(exp(x) + 1)**2)/(1 - exp(x)/(exp(x) + 1)))"
      ]
     },
     "metadata": {},
     "output_type": "display_data"
    },
    {
     "data": {
      "text/latex": [
       "$\\displaystyle L^{der2} = - \\frac{\\gamma^{2} y \\left(1 - \\frac{e^{x}}{e^{x} + 1}\\right)^{\\gamma} \\left(- \\frac{e^{x}}{e^{x} + 1} + \\frac{e^{2 x}}{\\left(e^{x} + 1\\right)^{2}}\\right)^{2} \\log{\\left(\\frac{e^{x}}{e^{x} + 1} \\right)}}{\\left(1 - \\frac{e^{x}}{e^{x} + 1}\\right)^{2}} - \\gamma^{2} \\left(\\frac{e^{x}}{e^{x} + 1}\\right)^{\\gamma} \\left(1 - y\\right) \\left(\\frac{e^{x}}{e^{x} + 1} - \\frac{e^{2 x}}{\\left(e^{x} + 1\\right)^{2}}\\right)^{2} \\left(e^{x} + 1\\right)^{2} e^{- 2 x} \\log{\\left(1 - \\frac{e^{x}}{e^{x} + 1} \\right)} - \\frac{2 \\gamma y \\left(1 - \\frac{e^{x}}{e^{x} + 1}\\right)^{\\gamma} \\left(- \\frac{e^{x}}{e^{x} + 1} + \\frac{e^{2 x}}{\\left(e^{x} + 1\\right)^{2}}\\right) \\left(\\frac{e^{x}}{e^{x} + 1} - \\frac{e^{2 x}}{\\left(e^{x} + 1\\right)^{2}}\\right) \\left(e^{x} + 1\\right) e^{- x}}{1 - \\frac{e^{x}}{e^{x} + 1}} - \\frac{\\gamma y \\left(1 - \\frac{e^{x}}{e^{x} + 1}\\right)^{\\gamma} \\left(- \\frac{e^{x}}{e^{x} + 1} + \\frac{3 e^{2 x}}{\\left(e^{x} + 1\\right)^{2}} - \\frac{2 e^{3 x}}{\\left(e^{x} + 1\\right)^{3}}\\right) \\log{\\left(\\frac{e^{x}}{e^{x} + 1} \\right)}}{1 - \\frac{e^{x}}{e^{x} + 1}} - \\frac{\\gamma y \\left(1 - \\frac{e^{x}}{e^{x} + 1}\\right)^{\\gamma} \\left(- \\frac{e^{x}}{e^{x} + 1} + \\frac{e^{2 x}}{\\left(e^{x} + 1\\right)^{2}}\\right) \\left(\\frac{e^{x}}{e^{x} + 1} - \\frac{e^{2 x}}{\\left(e^{x} + 1\\right)^{2}}\\right) \\log{\\left(\\frac{e^{x}}{e^{x} + 1} \\right)}}{\\left(1 - \\frac{e^{x}}{e^{x} + 1}\\right)^{2}} + \\gamma \\left(\\frac{e^{x}}{e^{x} + 1}\\right)^{\\gamma} \\left(1 - y\\right) \\left(\\frac{e^{x}}{e^{x} + 1} - \\frac{e^{2 x}}{\\left(e^{x} + 1\\right)^{2}}\\right) \\left(e^{x} + 1\\right) e^{- x} \\log{\\left(1 - \\frac{e^{x}}{e^{x} + 1} \\right)} - \\gamma \\left(\\frac{e^{x}}{e^{x} + 1}\\right)^{\\gamma} \\left(1 - y\\right) \\left(\\frac{e^{x}}{e^{x} + 1} - \\frac{e^{2 x}}{\\left(e^{x} + 1\\right)^{2}}\\right) \\log{\\left(1 - \\frac{e^{x}}{e^{x} + 1} \\right)} - \\gamma \\left(\\frac{e^{x}}{e^{x} + 1}\\right)^{\\gamma} \\left(1 - y\\right) \\left(e^{x} + 1\\right) \\left(\\frac{e^{x}}{e^{x} + 1} - \\frac{3 e^{2 x}}{\\left(e^{x} + 1\\right)^{2}} + \\frac{2 e^{3 x}}{\\left(e^{x} + 1\\right)^{3}}\\right) e^{- x} \\log{\\left(1 - \\frac{e^{x}}{e^{x} + 1} \\right)} - \\frac{2 \\gamma \\left(\\frac{e^{x}}{e^{x} + 1}\\right)^{\\gamma} \\left(1 - y\\right) \\left(- \\frac{e^{x}}{e^{x} + 1} + \\frac{e^{2 x}}{\\left(e^{x} + 1\\right)^{2}}\\right) \\left(\\frac{e^{x}}{e^{x} + 1} - \\frac{e^{2 x}}{\\left(e^{x} + 1\\right)^{2}}\\right) \\left(e^{x} + 1\\right) e^{- x}}{1 - \\frac{e^{x}}{e^{x} + 1}} + y \\left(1 - \\frac{e^{x}}{e^{x} + 1}\\right)^{\\gamma} \\left(\\frac{e^{x}}{e^{x} + 1} - \\frac{e^{2 x}}{\\left(e^{x} + 1\\right)^{2}}\\right) \\left(e^{x} + 1\\right) e^{- x} - y \\left(1 - \\frac{e^{x}}{e^{x} + 1}\\right)^{\\gamma} \\left(\\frac{e^{x}}{e^{x} + 1} - \\frac{e^{2 x}}{\\left(e^{x} + 1\\right)^{2}}\\right) - y \\left(1 - \\frac{e^{x}}{e^{x} + 1}\\right)^{\\gamma} \\left(e^{x} + 1\\right) \\left(\\frac{e^{x}}{e^{x} + 1} - \\frac{3 e^{2 x}}{\\left(e^{x} + 1\\right)^{2}} + \\frac{2 e^{3 x}}{\\left(e^{x} + 1\\right)^{3}}\\right) e^{- x} - \\frac{\\left(\\frac{e^{x}}{e^{x} + 1}\\right)^{\\gamma} \\left(1 - y\\right) \\left(- \\frac{e^{x}}{e^{x} + 1} + \\frac{3 e^{2 x}}{\\left(e^{x} + 1\\right)^{2}} - \\frac{2 e^{3 x}}{\\left(e^{x} + 1\\right)^{3}}\\right)}{1 - \\frac{e^{x}}{e^{x} + 1}} - \\frac{\\left(\\frac{e^{x}}{e^{x} + 1}\\right)^{\\gamma} \\left(1 - y\\right) \\left(- \\frac{e^{x}}{e^{x} + 1} + \\frac{e^{2 x}}{\\left(e^{x} + 1\\right)^{2}}\\right) \\left(\\frac{e^{x}}{e^{x} + 1} - \\frac{e^{2 x}}{\\left(e^{x} + 1\\right)^{2}}\\right)}{\\left(1 - \\frac{e^{x}}{e^{x} + 1}\\right)^{2}}$"
      ],
      "text/plain": [
       "Eq(L__der2, -gamma**2*y*(1 - exp(x)/(exp(x) + 1))**gamma*(-exp(x)/(exp(x) + 1) + exp(2*x)/(exp(x) + 1)**2)**2*log(exp(x)/(exp(x) + 1))/(1 - exp(x)/(exp(x) + 1))**2 - gamma**2*(exp(x)/(exp(x) + 1))**gamma*(1 - y)*(exp(x)/(exp(x) + 1) - exp(2*x)/(exp(x) + 1)**2)**2*(exp(x) + 1)**2*exp(-2*x)*log(1 - exp(x)/(exp(x) + 1)) - 2*gamma*y*(1 - exp(x)/(exp(x) + 1))**gamma*(-exp(x)/(exp(x) + 1) + exp(2*x)/(exp(x) + 1)**2)*(exp(x)/(exp(x) + 1) - exp(2*x)/(exp(x) + 1)**2)*(exp(x) + 1)*exp(-x)/(1 - exp(x)/(exp(x) + 1)) - gamma*y*(1 - exp(x)/(exp(x) + 1))**gamma*(-exp(x)/(exp(x) + 1) + 3*exp(2*x)/(exp(x) + 1)**2 - 2*exp(3*x)/(exp(x) + 1)**3)*log(exp(x)/(exp(x) + 1))/(1 - exp(x)/(exp(x) + 1)) - gamma*y*(1 - exp(x)/(exp(x) + 1))**gamma*(-exp(x)/(exp(x) + 1) + exp(2*x)/(exp(x) + 1)**2)*(exp(x)/(exp(x) + 1) - exp(2*x)/(exp(x) + 1)**2)*log(exp(x)/(exp(x) + 1))/(1 - exp(x)/(exp(x) + 1))**2 + gamma*(exp(x)/(exp(x) + 1))**gamma*(1 - y)*(exp(x)/(exp(x) + 1) - exp(2*x)/(exp(x) + 1)**2)*(exp(x) + 1)*exp(-x)*log(1 - exp(x)/(exp(x) + 1)) - gamma*(exp(x)/(exp(x) + 1))**gamma*(1 - y)*(exp(x)/(exp(x) + 1) - exp(2*x)/(exp(x) + 1)**2)*log(1 - exp(x)/(exp(x) + 1)) - gamma*(exp(x)/(exp(x) + 1))**gamma*(1 - y)*(exp(x) + 1)*(exp(x)/(exp(x) + 1) - 3*exp(2*x)/(exp(x) + 1)**2 + 2*exp(3*x)/(exp(x) + 1)**3)*exp(-x)*log(1 - exp(x)/(exp(x) + 1)) - 2*gamma*(exp(x)/(exp(x) + 1))**gamma*(1 - y)*(-exp(x)/(exp(x) + 1) + exp(2*x)/(exp(x) + 1)**2)*(exp(x)/(exp(x) + 1) - exp(2*x)/(exp(x) + 1)**2)*(exp(x) + 1)*exp(-x)/(1 - exp(x)/(exp(x) + 1)) + y*(1 - exp(x)/(exp(x) + 1))**gamma*(exp(x)/(exp(x) + 1) - exp(2*x)/(exp(x) + 1)**2)*(exp(x) + 1)*exp(-x) - y*(1 - exp(x)/(exp(x) + 1))**gamma*(exp(x)/(exp(x) + 1) - exp(2*x)/(exp(x) + 1)**2) - y*(1 - exp(x)/(exp(x) + 1))**gamma*(exp(x) + 1)*(exp(x)/(exp(x) + 1) - 3*exp(2*x)/(exp(x) + 1)**2 + 2*exp(3*x)/(exp(x) + 1)**3)*exp(-x) - (exp(x)/(exp(x) + 1))**gamma*(1 - y)*(-exp(x)/(exp(x) + 1) + 3*exp(2*x)/(exp(x) + 1)**2 - 2*exp(3*x)/(exp(x) + 1)**3)/(1 - exp(x)/(exp(x) + 1)) - (exp(x)/(exp(x) + 1))**gamma*(1 - y)*(-exp(x)/(exp(x) + 1) + exp(2*x)/(exp(x) + 1)**2)*(exp(x)/(exp(x) + 1) - exp(2*x)/(exp(x) + 1)**2)/(1 - exp(x)/(exp(x) + 1))**2)"
      ]
     },
     "metadata": {},
     "output_type": "display_data"
    },
    {
     "data": {
      "text/plain": [
       "(-gamma*y*(1 - exp(x)/(exp(x) + 1))**gamma*(-exp(x)/(exp(x) + 1) + exp(2*x)/(exp(x) + 1)**2)*log(exp(x)/(exp(x) + 1))/(1 - exp(x)/(exp(x) + 1)) - gamma*(exp(x)/(exp(x) + 1))**gamma*(1 - y)*(exp(x)/(exp(x) + 1) - exp(2*x)/(exp(x) + 1)**2)*(exp(x) + 1)*exp(-x)*log(1 - exp(x)/(exp(x) + 1)) - y*(1 - exp(x)/(exp(x) + 1))**gamma*(exp(x)/(exp(x) + 1) - exp(2*x)/(exp(x) + 1)**2)*(exp(x) + 1)*exp(-x) - (exp(x)/(exp(x) + 1))**gamma*(1 - y)*(-exp(x)/(exp(x) + 1) + exp(2*x)/(exp(x) + 1)**2)/(1 - exp(x)/(exp(x) + 1)),\n",
       " -gamma**2*y*(1 - exp(x)/(exp(x) + 1))**gamma*(-exp(x)/(exp(x) + 1) + exp(2*x)/(exp(x) + 1)**2)**2*log(exp(x)/(exp(x) + 1))/(1 - exp(x)/(exp(x) + 1))**2 - gamma**2*(exp(x)/(exp(x) + 1))**gamma*(1 - y)*(exp(x)/(exp(x) + 1) - exp(2*x)/(exp(x) + 1)**2)**2*(exp(x) + 1)**2*exp(-2*x)*log(1 - exp(x)/(exp(x) + 1)) - 2*gamma*y*(1 - exp(x)/(exp(x) + 1))**gamma*(-exp(x)/(exp(x) + 1) + exp(2*x)/(exp(x) + 1)**2)*(exp(x)/(exp(x) + 1) - exp(2*x)/(exp(x) + 1)**2)*(exp(x) + 1)*exp(-x)/(1 - exp(x)/(exp(x) + 1)) - gamma*y*(1 - exp(x)/(exp(x) + 1))**gamma*(-exp(x)/(exp(x) + 1) + 3*exp(2*x)/(exp(x) + 1)**2 - 2*exp(3*x)/(exp(x) + 1)**3)*log(exp(x)/(exp(x) + 1))/(1 - exp(x)/(exp(x) + 1)) - gamma*y*(1 - exp(x)/(exp(x) + 1))**gamma*(-exp(x)/(exp(x) + 1) + exp(2*x)/(exp(x) + 1)**2)*(exp(x)/(exp(x) + 1) - exp(2*x)/(exp(x) + 1)**2)*log(exp(x)/(exp(x) + 1))/(1 - exp(x)/(exp(x) + 1))**2 + gamma*(exp(x)/(exp(x) + 1))**gamma*(1 - y)*(exp(x)/(exp(x) + 1) - exp(2*x)/(exp(x) + 1)**2)*(exp(x) + 1)*exp(-x)*log(1 - exp(x)/(exp(x) + 1)) - gamma*(exp(x)/(exp(x) + 1))**gamma*(1 - y)*(exp(x)/(exp(x) + 1) - exp(2*x)/(exp(x) + 1)**2)*log(1 - exp(x)/(exp(x) + 1)) - gamma*(exp(x)/(exp(x) + 1))**gamma*(1 - y)*(exp(x) + 1)*(exp(x)/(exp(x) + 1) - 3*exp(2*x)/(exp(x) + 1)**2 + 2*exp(3*x)/(exp(x) + 1)**3)*exp(-x)*log(1 - exp(x)/(exp(x) + 1)) - 2*gamma*(exp(x)/(exp(x) + 1))**gamma*(1 - y)*(-exp(x)/(exp(x) + 1) + exp(2*x)/(exp(x) + 1)**2)*(exp(x)/(exp(x) + 1) - exp(2*x)/(exp(x) + 1)**2)*(exp(x) + 1)*exp(-x)/(1 - exp(x)/(exp(x) + 1)) + y*(1 - exp(x)/(exp(x) + 1))**gamma*(exp(x)/(exp(x) + 1) - exp(2*x)/(exp(x) + 1)**2)*(exp(x) + 1)*exp(-x) - y*(1 - exp(x)/(exp(x) + 1))**gamma*(exp(x)/(exp(x) + 1) - exp(2*x)/(exp(x) + 1)**2) - y*(1 - exp(x)/(exp(x) + 1))**gamma*(exp(x) + 1)*(exp(x)/(exp(x) + 1) - 3*exp(2*x)/(exp(x) + 1)**2 + 2*exp(3*x)/(exp(x) + 1)**3)*exp(-x) - (exp(x)/(exp(x) + 1))**gamma*(1 - y)*(-exp(x)/(exp(x) + 1) + 3*exp(2*x)/(exp(x) + 1)**2 - 2*exp(3*x)/(exp(x) + 1)**3)/(1 - exp(x)/(exp(x) + 1)) - (exp(x)/(exp(x) + 1))**gamma*(1 - y)*(-exp(x)/(exp(x) + 1) + exp(2*x)/(exp(x) + 1)**2)*(exp(x)/(exp(x) + 1) - exp(2*x)/(exp(x) + 1)**2)/(1 - exp(x)/(exp(x) + 1))**2)"
      ]
     },
     "execution_count": 14,
     "metadata": {},
     "output_type": "execute_result"
    }
   ],
   "source": [
    "FocalLossFormulas()"
   ]
  },
  {
   "cell_type": "markdown",
   "metadata": {},
   "source": [
    "# %%time\n",
    "# params = config.params\n",
    "# params.update({\n",
    "#     'loss_function': FocalLossObjective(),\n",
    "#     'iterations': iterations,\n",
    "#     'verbose': iterations // 5,\n",
    "# })\n",
    "# clf_logloss_custom_loop = CatBoostClassifier(**params)\n",
    "# clf_logloss_custom_loop.fit(X=train_pool,\n",
    "#         eval_set=val_pool,\n",
    "#         use_best_model=True)\n",
    "# print(f'Здесь функция потерь logloss реализована через цикл, очень медленно выполняется, \\n'\n",
    "#       f'примерно в 8 раз медленнее, чем если реализовать через numpy \\n'\n",
    "#       f'и в 30 раз медленнее, чем референсная, родная catboost \\n'\n",
    "#       f'также сходится медленнее, чем родная. Сходимость одинаковая с реализацией через numpy ')"
   ]
  },
  {
   "cell_type": "code",
   "execution_count": 16,
   "metadata": {
    "collapsed": false,
    "jupyter": {
     "outputs_hidden": false
    },
    "pycharm": {
     "name": "#%%\n"
    }
   },
   "outputs": [],
   "source": [
    "# Asymmetric loss ASL\n",
    "class AsymmetricLossObjective(object):\n",
    "    def __init__(self, der1, der2, gamma_minus=.2, gamma_plus=.6):\n",
    "        self.g_minus = gamma_minus\n",
    "        self.g_plus = gamma_plus\n",
    "        self.der1 = der1\n",
    "        self.der2 = der2\n",
    "\n",
    "    def calc_ders_range(self, x, y, weights):\n",
    "        assert len(x) == len(y)\n",
    "        if weights is not None:\n",
    "            assert len(weights) == len(x)\n",
    "\n",
    "        e = np.exp(x)\n",
    "        p = e / (1 + e)\n",
    "\n",
    "        der1 = self.der1(p=p, y=y, g_minus=self.g_minus, g_plus=self.g_plus)\n",
    "        der2 = self.der2(p=p, y=y, g_minus=self.g_minus, g_plus=self.g_plus)\n",
    "\n",
    "        if weights is not None:\n",
    "            der1 *= weights\n",
    "            der2 *= weights\n",
    "\n",
    "\n",
    "        result = list(zip(der1, der2))\n",
    "        return result\n",
    "\n"
   ]
  },
  {
   "cell_type": "code",
   "execution_count": 17,
   "metadata": {
    "collapsed": false,
    "jupyter": {
     "outputs_hidden": false
    },
    "pycharm": {
     "name": "#%%\n"
    }
   },
   "outputs": [
    {
     "name": "stdout",
     "output_type": "stream",
     "text": [
      "Формулы функции потерь обозначены L \n",
      "первая и вторая производные der1 и der2\n"
     ]
    },
    {
     "data": {
      "text/latex": [
       "$\\displaystyle p = \\frac{e^{x}}{e^{x} + 1}$"
      ],
      "text/plain": [
       "Eq(p, exp(x)/(exp(x) + 1))"
      ]
     },
     "metadata": {},
     "output_type": "display_data"
    },
    {
     "data": {
      "text/latex": [
       "$\\displaystyle L_{plus} = \\left(1 - \\frac{e^{x}}{e^{x} + 1}\\right)^{g_{plus}} \\log{\\left(\\frac{e^{x}}{e^{x} + 1} \\right)}$"
      ],
      "text/plain": [
       "Eq(L_plus, (1 - exp(x)/(exp(x) + 1))**g_plus*log(exp(x)/(exp(x) + 1)))"
      ]
     },
     "metadata": {},
     "output_type": "display_data"
    },
    {
     "data": {
      "text/latex": [
       "$\\displaystyle L_{minus} = \\left(\\frac{e^{x}}{e^{x} + 1}\\right)^{g_{minus}} \\log{\\left(1 - \\frac{e^{x}}{e^{x} + 1} \\right)}$"
      ],
      "text/plain": [
       "Eq(L_minus, (exp(x)/(exp(x) + 1))**g_minus*log(1 - exp(x)/(exp(x) + 1)))"
      ]
     },
     "metadata": {},
     "output_type": "display_data"
    },
    {
     "data": {
      "text/latex": [
       "$\\displaystyle L = - y \\left(1 - \\frac{e^{x}}{e^{x} + 1}\\right)^{g_{plus}} \\log{\\left(\\frac{e^{x}}{e^{x} + 1} \\right)} - \\left(\\frac{e^{x}}{e^{x} + 1}\\right)^{g_{minus}} \\left(1 - y\\right) \\log{\\left(1 - \\frac{e^{x}}{e^{x} + 1} \\right)}$"
      ],
      "text/plain": [
       "Eq(L, -y*(1 - exp(x)/(exp(x) + 1))**g_plus*log(exp(x)/(exp(x) + 1)) - (exp(x)/(exp(x) + 1))**g_minus*(1 - y)*log(1 - exp(x)/(exp(x) + 1)))"
      ]
     },
     "metadata": {},
     "output_type": "display_data"
    },
    {
     "data": {
      "text/latex": [
       "$\\displaystyle L^{der1} = - g_{minus} \\left(\\frac{e^{x}}{e^{x} + 1}\\right)^{g_{minus}} \\left(1 - y\\right) \\left(\\frac{e^{x}}{e^{x} + 1} - \\frac{e^{2 x}}{\\left(e^{x} + 1\\right)^{2}}\\right) \\left(e^{x} + 1\\right) e^{- x} \\log{\\left(1 - \\frac{e^{x}}{e^{x} + 1} \\right)} - \\frac{g_{plus} y \\left(1 - \\frac{e^{x}}{e^{x} + 1}\\right)^{g_{plus}} \\left(- \\frac{e^{x}}{e^{x} + 1} + \\frac{e^{2 x}}{\\left(e^{x} + 1\\right)^{2}}\\right) \\log{\\left(\\frac{e^{x}}{e^{x} + 1} \\right)}}{1 - \\frac{e^{x}}{e^{x} + 1}} - y \\left(1 - \\frac{e^{x}}{e^{x} + 1}\\right)^{g_{plus}} \\left(\\frac{e^{x}}{e^{x} + 1} - \\frac{e^{2 x}}{\\left(e^{x} + 1\\right)^{2}}\\right) \\left(e^{x} + 1\\right) e^{- x} - \\frac{\\left(\\frac{e^{x}}{e^{x} + 1}\\right)^{g_{minus}} \\left(1 - y\\right) \\left(- \\frac{e^{x}}{e^{x} + 1} + \\frac{e^{2 x}}{\\left(e^{x} + 1\\right)^{2}}\\right)}{1 - \\frac{e^{x}}{e^{x} + 1}}$"
      ],
      "text/plain": [
       "Eq(L__der1, -g_minus*(exp(x)/(exp(x) + 1))**g_minus*(1 - y)*(exp(x)/(exp(x) + 1) - exp(2*x)/(exp(x) + 1)**2)*(exp(x) + 1)*exp(-x)*log(1 - exp(x)/(exp(x) + 1)) - g_plus*y*(1 - exp(x)/(exp(x) + 1))**g_plus*(-exp(x)/(exp(x) + 1) + exp(2*x)/(exp(x) + 1)**2)*log(exp(x)/(exp(x) + 1))/(1 - exp(x)/(exp(x) + 1)) - y*(1 - exp(x)/(exp(x) + 1))**g_plus*(exp(x)/(exp(x) + 1) - exp(2*x)/(exp(x) + 1)**2)*(exp(x) + 1)*exp(-x) - (exp(x)/(exp(x) + 1))**g_minus*(1 - y)*(-exp(x)/(exp(x) + 1) + exp(2*x)/(exp(x) + 1)**2)/(1 - exp(x)/(exp(x) + 1)))"
      ]
     },
     "metadata": {},
     "output_type": "display_data"
    },
    {
     "data": {
      "text/latex": [
       "$\\displaystyle L^{der2} = - g_{minus}^{2} \\left(\\frac{e^{x}}{e^{x} + 1}\\right)^{g_{minus}} \\left(1 - y\\right) \\left(\\frac{e^{x}}{e^{x} + 1} - \\frac{e^{2 x}}{\\left(e^{x} + 1\\right)^{2}}\\right)^{2} \\left(e^{x} + 1\\right)^{2} e^{- 2 x} \\log{\\left(1 - \\frac{e^{x}}{e^{x} + 1} \\right)} + g_{minus} \\left(\\frac{e^{x}}{e^{x} + 1}\\right)^{g_{minus}} \\left(1 - y\\right) \\left(\\frac{e^{x}}{e^{x} + 1} - \\frac{e^{2 x}}{\\left(e^{x} + 1\\right)^{2}}\\right) \\left(e^{x} + 1\\right) e^{- x} \\log{\\left(1 - \\frac{e^{x}}{e^{x} + 1} \\right)} - g_{minus} \\left(\\frac{e^{x}}{e^{x} + 1}\\right)^{g_{minus}} \\left(1 - y\\right) \\left(\\frac{e^{x}}{e^{x} + 1} - \\frac{e^{2 x}}{\\left(e^{x} + 1\\right)^{2}}\\right) \\log{\\left(1 - \\frac{e^{x}}{e^{x} + 1} \\right)} - g_{minus} \\left(\\frac{e^{x}}{e^{x} + 1}\\right)^{g_{minus}} \\left(1 - y\\right) \\left(e^{x} + 1\\right) \\left(\\frac{e^{x}}{e^{x} + 1} - \\frac{3 e^{2 x}}{\\left(e^{x} + 1\\right)^{2}} + \\frac{2 e^{3 x}}{\\left(e^{x} + 1\\right)^{3}}\\right) e^{- x} \\log{\\left(1 - \\frac{e^{x}}{e^{x} + 1} \\right)} - \\frac{2 g_{minus} \\left(\\frac{e^{x}}{e^{x} + 1}\\right)^{g_{minus}} \\left(1 - y\\right) \\left(- \\frac{e^{x}}{e^{x} + 1} + \\frac{e^{2 x}}{\\left(e^{x} + 1\\right)^{2}}\\right) \\left(\\frac{e^{x}}{e^{x} + 1} - \\frac{e^{2 x}}{\\left(e^{x} + 1\\right)^{2}}\\right) \\left(e^{x} + 1\\right) e^{- x}}{1 - \\frac{e^{x}}{e^{x} + 1}} - \\frac{g_{plus}^{2} y \\left(1 - \\frac{e^{x}}{e^{x} + 1}\\right)^{g_{plus}} \\left(- \\frac{e^{x}}{e^{x} + 1} + \\frac{e^{2 x}}{\\left(e^{x} + 1\\right)^{2}}\\right)^{2} \\log{\\left(\\frac{e^{x}}{e^{x} + 1} \\right)}}{\\left(1 - \\frac{e^{x}}{e^{x} + 1}\\right)^{2}} - \\frac{2 g_{plus} y \\left(1 - \\frac{e^{x}}{e^{x} + 1}\\right)^{g_{plus}} \\left(- \\frac{e^{x}}{e^{x} + 1} + \\frac{e^{2 x}}{\\left(e^{x} + 1\\right)^{2}}\\right) \\left(\\frac{e^{x}}{e^{x} + 1} - \\frac{e^{2 x}}{\\left(e^{x} + 1\\right)^{2}}\\right) \\left(e^{x} + 1\\right) e^{- x}}{1 - \\frac{e^{x}}{e^{x} + 1}} - \\frac{g_{plus} y \\left(1 - \\frac{e^{x}}{e^{x} + 1}\\right)^{g_{plus}} \\left(- \\frac{e^{x}}{e^{x} + 1} + \\frac{3 e^{2 x}}{\\left(e^{x} + 1\\right)^{2}} - \\frac{2 e^{3 x}}{\\left(e^{x} + 1\\right)^{3}}\\right) \\log{\\left(\\frac{e^{x}}{e^{x} + 1} \\right)}}{1 - \\frac{e^{x}}{e^{x} + 1}} - \\frac{g_{plus} y \\left(1 - \\frac{e^{x}}{e^{x} + 1}\\right)^{g_{plus}} \\left(- \\frac{e^{x}}{e^{x} + 1} + \\frac{e^{2 x}}{\\left(e^{x} + 1\\right)^{2}}\\right) \\left(\\frac{e^{x}}{e^{x} + 1} - \\frac{e^{2 x}}{\\left(e^{x} + 1\\right)^{2}}\\right) \\log{\\left(\\frac{e^{x}}{e^{x} + 1} \\right)}}{\\left(1 - \\frac{e^{x}}{e^{x} + 1}\\right)^{2}} + y \\left(1 - \\frac{e^{x}}{e^{x} + 1}\\right)^{g_{plus}} \\left(\\frac{e^{x}}{e^{x} + 1} - \\frac{e^{2 x}}{\\left(e^{x} + 1\\right)^{2}}\\right) \\left(e^{x} + 1\\right) e^{- x} - y \\left(1 - \\frac{e^{x}}{e^{x} + 1}\\right)^{g_{plus}} \\left(\\frac{e^{x}}{e^{x} + 1} - \\frac{e^{2 x}}{\\left(e^{x} + 1\\right)^{2}}\\right) - y \\left(1 - \\frac{e^{x}}{e^{x} + 1}\\right)^{g_{plus}} \\left(e^{x} + 1\\right) \\left(\\frac{e^{x}}{e^{x} + 1} - \\frac{3 e^{2 x}}{\\left(e^{x} + 1\\right)^{2}} + \\frac{2 e^{3 x}}{\\left(e^{x} + 1\\right)^{3}}\\right) e^{- x} - \\frac{\\left(\\frac{e^{x}}{e^{x} + 1}\\right)^{g_{minus}} \\left(1 - y\\right) \\left(- \\frac{e^{x}}{e^{x} + 1} + \\frac{3 e^{2 x}}{\\left(e^{x} + 1\\right)^{2}} - \\frac{2 e^{3 x}}{\\left(e^{x} + 1\\right)^{3}}\\right)}{1 - \\frac{e^{x}}{e^{x} + 1}} - \\frac{\\left(\\frac{e^{x}}{e^{x} + 1}\\right)^{g_{minus}} \\left(1 - y\\right) \\left(- \\frac{e^{x}}{e^{x} + 1} + \\frac{e^{2 x}}{\\left(e^{x} + 1\\right)^{2}}\\right) \\left(\\frac{e^{x}}{e^{x} + 1} - \\frac{e^{2 x}}{\\left(e^{x} + 1\\right)^{2}}\\right)}{\\left(1 - \\frac{e^{x}}{e^{x} + 1}\\right)^{2}}$"
      ],
      "text/plain": [
       "Eq(L__der2, -g_minus**2*(exp(x)/(exp(x) + 1))**g_minus*(1 - y)*(exp(x)/(exp(x) + 1) - exp(2*x)/(exp(x) + 1)**2)**2*(exp(x) + 1)**2*exp(-2*x)*log(1 - exp(x)/(exp(x) + 1)) + g_minus*(exp(x)/(exp(x) + 1))**g_minus*(1 - y)*(exp(x)/(exp(x) + 1) - exp(2*x)/(exp(x) + 1)**2)*(exp(x) + 1)*exp(-x)*log(1 - exp(x)/(exp(x) + 1)) - g_minus*(exp(x)/(exp(x) + 1))**g_minus*(1 - y)*(exp(x)/(exp(x) + 1) - exp(2*x)/(exp(x) + 1)**2)*log(1 - exp(x)/(exp(x) + 1)) - g_minus*(exp(x)/(exp(x) + 1))**g_minus*(1 - y)*(exp(x) + 1)*(exp(x)/(exp(x) + 1) - 3*exp(2*x)/(exp(x) + 1)**2 + 2*exp(3*x)/(exp(x) + 1)**3)*exp(-x)*log(1 - exp(x)/(exp(x) + 1)) - 2*g_minus*(exp(x)/(exp(x) + 1))**g_minus*(1 - y)*(-exp(x)/(exp(x) + 1) + exp(2*x)/(exp(x) + 1)**2)*(exp(x)/(exp(x) + 1) - exp(2*x)/(exp(x) + 1)**2)*(exp(x) + 1)*exp(-x)/(1 - exp(x)/(exp(x) + 1)) - g_plus**2*y*(1 - exp(x)/(exp(x) + 1))**g_plus*(-exp(x)/(exp(x) + 1) + exp(2*x)/(exp(x) + 1)**2)**2*log(exp(x)/(exp(x) + 1))/(1 - exp(x)/(exp(x) + 1))**2 - 2*g_plus*y*(1 - exp(x)/(exp(x) + 1))**g_plus*(-exp(x)/(exp(x) + 1) + exp(2*x)/(exp(x) + 1)**2)*(exp(x)/(exp(x) + 1) - exp(2*x)/(exp(x) + 1)**2)*(exp(x) + 1)*exp(-x)/(1 - exp(x)/(exp(x) + 1)) - g_plus*y*(1 - exp(x)/(exp(x) + 1))**g_plus*(-exp(x)/(exp(x) + 1) + 3*exp(2*x)/(exp(x) + 1)**2 - 2*exp(3*x)/(exp(x) + 1)**3)*log(exp(x)/(exp(x) + 1))/(1 - exp(x)/(exp(x) + 1)) - g_plus*y*(1 - exp(x)/(exp(x) + 1))**g_plus*(-exp(x)/(exp(x) + 1) + exp(2*x)/(exp(x) + 1)**2)*(exp(x)/(exp(x) + 1) - exp(2*x)/(exp(x) + 1)**2)*log(exp(x)/(exp(x) + 1))/(1 - exp(x)/(exp(x) + 1))**2 + y*(1 - exp(x)/(exp(x) + 1))**g_plus*(exp(x)/(exp(x) + 1) - exp(2*x)/(exp(x) + 1)**2)*(exp(x) + 1)*exp(-x) - y*(1 - exp(x)/(exp(x) + 1))**g_plus*(exp(x)/(exp(x) + 1) - exp(2*x)/(exp(x) + 1)**2) - y*(1 - exp(x)/(exp(x) + 1))**g_plus*(exp(x) + 1)*(exp(x)/(exp(x) + 1) - 3*exp(2*x)/(exp(x) + 1)**2 + 2*exp(3*x)/(exp(x) + 1)**3)*exp(-x) - (exp(x)/(exp(x) + 1))**g_minus*(1 - y)*(-exp(x)/(exp(x) + 1) + 3*exp(2*x)/(exp(x) + 1)**2 - 2*exp(3*x)/(exp(x) + 1)**3)/(1 - exp(x)/(exp(x) + 1)) - (exp(x)/(exp(x) + 1))**g_minus*(1 - y)*(-exp(x)/(exp(x) + 1) + exp(2*x)/(exp(x) + 1)**2)*(exp(x)/(exp(x) + 1) - exp(2*x)/(exp(x) + 1)**2)/(1 - exp(x)/(exp(x) + 1))**2)"
      ]
     },
     "metadata": {},
     "output_type": "display_data"
    },
    {
     "data": {
      "text/plain": [
       "'Входящая функция производной'"
      ]
     },
     "metadata": {},
     "output_type": "display_data"
    },
    {
     "data": {
      "text/latex": [
       "$\\displaystyle ALS_{der1} = - g_{minus} \\left(\\frac{e^{x}}{e^{x} + 1}\\right)^{g_{minus}} \\left(1 - y\\right) \\left(\\frac{e^{x}}{e^{x} + 1} - \\frac{e^{2 x}}{\\left(e^{x} + 1\\right)^{2}}\\right) \\left(e^{x} + 1\\right) e^{- x} \\log{\\left(1 - \\frac{e^{x}}{e^{x} + 1} \\right)} - \\frac{g_{plus} y \\left(1 - \\frac{e^{x}}{e^{x} + 1}\\right)^{g_{plus}} \\left(- \\frac{e^{x}}{e^{x} + 1} + \\frac{e^{2 x}}{\\left(e^{x} + 1\\right)^{2}}\\right) \\log{\\left(\\frac{e^{x}}{e^{x} + 1} \\right)}}{1 - \\frac{e^{x}}{e^{x} + 1}} - y \\left(1 - \\frac{e^{x}}{e^{x} + 1}\\right)^{g_{plus}} \\left(\\frac{e^{x}}{e^{x} + 1} - \\frac{e^{2 x}}{\\left(e^{x} + 1\\right)^{2}}\\right) \\left(e^{x} + 1\\right) e^{- x} - \\frac{\\left(\\frac{e^{x}}{e^{x} + 1}\\right)^{g_{minus}} \\left(1 - y\\right) \\left(- \\frac{e^{x}}{e^{x} + 1} + \\frac{e^{2 x}}{\\left(e^{x} + 1\\right)^{2}}\\right)}{1 - \\frac{e^{x}}{e^{x} + 1}}$"
      ],
      "text/plain": [
       "Eq(ALS_der1, -g_minus*(exp(x)/(exp(x) + 1))**g_minus*(1 - y)*(exp(x)/(exp(x) + 1) - exp(2*x)/(exp(x) + 1)**2)*(exp(x) + 1)*exp(-x)*log(1 - exp(x)/(exp(x) + 1)) - g_plus*y*(1 - exp(x)/(exp(x) + 1))**g_plus*(-exp(x)/(exp(x) + 1) + exp(2*x)/(exp(x) + 1)**2)*log(exp(x)/(exp(x) + 1))/(1 - exp(x)/(exp(x) + 1)) - y*(1 - exp(x)/(exp(x) + 1))**g_plus*(exp(x)/(exp(x) + 1) - exp(2*x)/(exp(x) + 1)**2)*(exp(x) + 1)*exp(-x) - (exp(x)/(exp(x) + 1))**g_minus*(1 - y)*(-exp(x)/(exp(x) + 1) + exp(2*x)/(exp(x) + 1)**2)/(1 - exp(x)/(exp(x) + 1)))"
      ]
     },
     "metadata": {},
     "output_type": "display_data"
    },
    {
     "data": {
      "text/plain": [
       "'*********** der.subs(sp.exp(x) / (1 + sp.exp(x)), p) *************'"
      ]
     },
     "metadata": {},
     "output_type": "display_data"
    },
    {
     "data": {
      "text/latex": [
       "$\\displaystyle ALS_{der1} = - g_{minus} p^{g_{minus}} \\left(1 - y\\right) \\left(- p^{2} + p\\right) \\left(e^{x} + 1\\right) e^{- x} \\log{\\left(1 - p \\right)} - \\frac{g_{plus} y \\left(1 - p\\right)^{g_{plus}} \\left(p^{2} - p\\right) \\log{\\left(p \\right)}}{1 - p} - \\frac{p^{g_{minus}} \\left(1 - y\\right) \\left(p^{2} - p\\right)}{1 - p} - y \\left(1 - p\\right)^{g_{plus}} \\left(- p^{2} + p\\right) \\left(e^{x} + 1\\right) e^{- x}$"
      ],
      "text/plain": [
       "Eq(ALS_der1, -g_minus*p**g_minus*(1 - y)*(-p**2 + p)*(exp(x) + 1)*exp(-x)*log(1 - p) - g_plus*y*(1 - p)**g_plus*(p**2 - p)*log(p)/(1 - p) - p**g_minus*(1 - y)*(p**2 - p)/(1 - p) - y*(1 - p)**g_plus*(-p**2 + p)*(exp(x) + 1)*exp(-x))"
      ]
     },
     "metadata": {},
     "output_type": "display_data"
    },
    {
     "data": {
      "text/plain": [
       "'*********** der.subs(sp.exp(x) / (1 + sp.exp(x)), p) *************'"
      ]
     },
     "metadata": {},
     "output_type": "display_data"
    },
    {
     "data": {
      "text/latex": [
       "$\\displaystyle ALS_{der1} = - g_{minus} p^{g_{minus}} \\left(1 - y\\right) \\left(- p^{2} + p\\right) \\left(e^{x} + 1\\right) e^{- x} \\log{\\left(1 - p \\right)} - \\frac{g_{plus} y \\left(1 - p\\right)^{g_{plus}} \\left(p^{2} - p\\right) \\log{\\left(p \\right)}}{1 - p} - \\frac{p^{g_{minus}} \\left(1 - y\\right) \\left(p^{2} - p\\right)}{1 - p} - y \\left(1 - p\\right)^{g_{plus}} \\left(- p^{2} + p\\right) \\left(e^{x} + 1\\right) e^{- x}$"
      ],
      "text/plain": [
       "Eq(ALS_der1, -g_minus*p**g_minus*(1 - y)*(-p**2 + p)*(exp(x) + 1)*exp(-x)*log(1 - p) - g_plus*y*(1 - p)**g_plus*(p**2 - p)*log(p)/(1 - p) - p**g_minus*(1 - y)*(p**2 - p)/(1 - p) - y*(1 - p)**g_plus*(-p**2 + p)*(exp(x) + 1)*exp(-x))"
      ]
     },
     "metadata": {},
     "output_type": "display_data"
    },
    {
     "data": {
      "text/plain": [
       "'**********    der.subs((1 + sp.exp(x))**2 * sp.exp(x)**(-2), p**(-2))  *****************'"
      ]
     },
     "metadata": {},
     "output_type": "display_data"
    },
    {
     "data": {
      "text/latex": [
       "$\\displaystyle ALS_{der1} = - g_{minus} p^{g_{minus}} \\left(1 - y\\right) \\left(- p^{2} + p\\right) \\left(e^{x} + 1\\right) e^{- x} \\log{\\left(1 - p \\right)} - \\frac{g_{plus} y \\left(1 - p\\right)^{g_{plus}} \\left(p^{2} - p\\right) \\log{\\left(p \\right)}}{1 - p} - \\frac{p^{g_{minus}} \\left(1 - y\\right) \\left(p^{2} - p\\right)}{1 - p} - y \\left(1 - p\\right)^{g_{plus}} \\left(- p^{2} + p\\right) \\left(e^{x} + 1\\right) e^{- x}$"
      ],
      "text/plain": [
       "Eq(ALS_der1, -g_minus*p**g_minus*(1 - y)*(-p**2 + p)*(exp(x) + 1)*exp(-x)*log(1 - p) - g_plus*y*(1 - p)**g_plus*(p**2 - p)*log(p)/(1 - p) - p**g_minus*(1 - y)*(p**2 - p)/(1 - p) - y*(1 - p)**g_plus*(-p**2 + p)*(exp(x) + 1)*exp(-x))"
      ]
     },
     "metadata": {},
     "output_type": "display_data"
    },
    {
     "data": {
      "text/plain": [
       "'*********** sp.symplify(der) *************'"
      ]
     },
     "metadata": {},
     "output_type": "display_data"
    },
    {
     "data": {
      "text/latex": [
       "$\\displaystyle ALS_{der1} = p \\left(\\left(p - 1\\right) \\left(- g_{minus} p^{g_{minus}} \\left(y - 1\\right) \\log{\\left(1 - p \\right)} + y \\left(1 - p\\right)^{g_{plus}}\\right) \\left(e^{x} + 1\\right) + \\left(g_{plus} y \\left(1 - p\\right)^{g_{plus}} \\log{\\left(p \\right)} - p^{g_{minus}} \\left(y - 1\\right)\\right) e^{x}\\right) e^{- x}$"
      ],
      "text/plain": [
       "Eq(ALS_der1, p*((p - 1)*(-g_minus*p**g_minus*(y - 1)*log(1 - p) + y*(1 - p)**g_plus)*(exp(x) + 1) + (g_plus*y*(1 - p)**g_plus*log(p) - p**g_minus*(y - 1))*exp(x))*exp(-x))"
      ]
     },
     "metadata": {},
     "output_type": "display_data"
    },
    {
     "data": {
      "text/plain": [
       "'*********** sp.factor(der) *************'"
      ]
     },
     "metadata": {},
     "output_type": "display_data"
    },
    {
     "data": {
      "text/latex": [
       "$\\displaystyle ALS_{der1} = p \\left(- g_{minus} p p^{g_{minus}} y e^{x} \\log{\\left(1 - p \\right)} - g_{minus} p p^{g_{minus}} y \\log{\\left(1 - p \\right)} + g_{minus} p p^{g_{minus}} e^{x} \\log{\\left(1 - p \\right)} + g_{minus} p p^{g_{minus}} \\log{\\left(1 - p \\right)} + g_{minus} p^{g_{minus}} y e^{x} \\log{\\left(1 - p \\right)} + g_{minus} p^{g_{minus}} y \\log{\\left(1 - p \\right)} - g_{minus} p^{g_{minus}} e^{x} \\log{\\left(1 - p \\right)} - g_{minus} p^{g_{minus}} \\log{\\left(1 - p \\right)} + g_{plus} y \\left(1 - p\\right)^{g_{plus}} e^{x} \\log{\\left(p \\right)} + p y \\left(1 - p\\right)^{g_{plus}} e^{x} + p y \\left(1 - p\\right)^{g_{plus}} - p^{g_{minus}} y e^{x} + p^{g_{minus}} e^{x} - y \\left(1 - p\\right)^{g_{plus}} e^{x} - y \\left(1 - p\\right)^{g_{plus}}\\right) e^{- x}$"
      ],
      "text/plain": [
       "Eq(ALS_der1, p*(-g_minus*p*p**g_minus*y*exp(x)*log(1 - p) - g_minus*p*p**g_minus*y*log(1 - p) + g_minus*p*p**g_minus*exp(x)*log(1 - p) + g_minus*p*p**g_minus*log(1 - p) + g_minus*p**g_minus*y*exp(x)*log(1 - p) + g_minus*p**g_minus*y*log(1 - p) - g_minus*p**g_minus*exp(x)*log(1 - p) - g_minus*p**g_minus*log(1 - p) + g_plus*y*(1 - p)**g_plus*exp(x)*log(p) + p*y*(1 - p)**g_plus*exp(x) + p*y*(1 - p)**g_plus - p**g_minus*y*exp(x) + p**g_minus*exp(x) - y*(1 - p)**g_plus*exp(x) - y*(1 - p)**g_plus)*exp(-x))"
      ]
     },
     "metadata": {},
     "output_type": "display_data"
    },
    {
     "data": {
      "text/plain": [
       "'*********** sp.factor(der) *************'"
      ]
     },
     "metadata": {},
     "output_type": "display_data"
    },
    {
     "data": {
      "text/latex": [
       "$\\displaystyle ALS_{der1} = p \\left(- g_{minus} p p^{g_{minus}} y e^{x} \\log{\\left(1 - p \\right)} - g_{minus} p p^{g_{minus}} y \\log{\\left(1 - p \\right)} + g_{minus} p p^{g_{minus}} e^{x} \\log{\\left(1 - p \\right)} + g_{minus} p p^{g_{minus}} \\log{\\left(1 - p \\right)} + g_{minus} p^{g_{minus}} y e^{x} \\log{\\left(1 - p \\right)} + g_{minus} p^{g_{minus}} y \\log{\\left(1 - p \\right)} - g_{minus} p^{g_{minus}} e^{x} \\log{\\left(1 - p \\right)} - g_{minus} p^{g_{minus}} \\log{\\left(1 - p \\right)} + g_{plus} y \\left(1 - p\\right)^{g_{plus}} e^{x} \\log{\\left(p \\right)} + p y \\left(1 - p\\right)^{g_{plus}} e^{x} + p y \\left(1 - p\\right)^{g_{plus}} - p^{g_{minus}} y e^{x} + p^{g_{minus}} e^{x} - y \\left(1 - p\\right)^{g_{plus}} e^{x} - y \\left(1 - p\\right)^{g_{plus}}\\right) e^{- x}$"
      ],
      "text/plain": [
       "Eq(ALS_der1, p*(-g_minus*p*p**g_minus*y*exp(x)*log(1 - p) - g_minus*p*p**g_minus*y*log(1 - p) + g_minus*p*p**g_minus*exp(x)*log(1 - p) + g_minus*p*p**g_minus*log(1 - p) + g_minus*p**g_minus*y*exp(x)*log(1 - p) + g_minus*p**g_minus*y*log(1 - p) - g_minus*p**g_minus*exp(x)*log(1 - p) - g_minus*p**g_minus*log(1 - p) + g_plus*y*(1 - p)**g_plus*exp(x)*log(p) + p*y*(1 - p)**g_plus*exp(x) + p*y*(1 - p)**g_plus - p**g_minus*y*exp(x) + p**g_minus*exp(x) - y*(1 - p)**g_plus*exp(x) - y*(1 - p)**g_plus)*exp(-x))"
      ]
     },
     "metadata": {},
     "output_type": "display_data"
    },
    {
     "data": {
      "text/plain": [
       "'*********** sp.symplify(der) *************'"
      ]
     },
     "metadata": {},
     "output_type": "display_data"
    },
    {
     "data": {
      "text/latex": [
       "$\\displaystyle ALS_{der1} = p \\left(g_{minus} p^{g_{minus}} y e^{x} \\log{\\left(1 - p \\right)} + g_{minus} p^{g_{minus}} y \\log{\\left(1 - p \\right)} - g_{minus} p^{g_{minus}} e^{x} \\log{\\left(1 - p \\right)} - g_{minus} p^{g_{minus}} \\log{\\left(1 - p \\right)} - g_{minus} p^{g_{minus} + 1} y e^{x} \\log{\\left(1 - p \\right)} - g_{minus} p^{g_{minus} + 1} y \\log{\\left(1 - p \\right)} + g_{minus} p^{g_{minus} + 1} e^{x} \\log{\\left(1 - p \\right)} + g_{minus} p^{g_{minus} + 1} \\log{\\left(1 - p \\right)} + g_{plus} y \\left(1 - p\\right)^{g_{plus}} e^{x} \\log{\\left(p \\right)} + p y \\left(1 - p\\right)^{g_{plus}} e^{x} + p y \\left(1 - p\\right)^{g_{plus}} - p^{g_{minus}} y e^{x} + p^{g_{minus}} e^{x} - y \\left(1 - p\\right)^{g_{plus}} e^{x} - y \\left(1 - p\\right)^{g_{plus}}\\right) e^{- x}$"
      ],
      "text/plain": [
       "Eq(ALS_der1, p*(g_minus*p**g_minus*y*exp(x)*log(1 - p) + g_minus*p**g_minus*y*log(1 - p) - g_minus*p**g_minus*exp(x)*log(1 - p) - g_minus*p**g_minus*log(1 - p) - g_minus*p**(g_minus + 1)*y*exp(x)*log(1 - p) - g_minus*p**(g_minus + 1)*y*log(1 - p) + g_minus*p**(g_minus + 1)*exp(x)*log(1 - p) + g_minus*p**(g_minus + 1)*log(1 - p) + g_plus*y*(1 - p)**g_plus*exp(x)*log(p) + p*y*(1 - p)**g_plus*exp(x) + p*y*(1 - p)**g_plus - p**g_minus*y*exp(x) + p**g_minus*exp(x) - y*(1 - p)**g_plus*exp(x) - y*(1 - p)**g_plus)*exp(-x))"
      ]
     },
     "metadata": {},
     "output_type": "display_data"
    },
    {
     "data": {
      "text/plain": [
       "'**********    der.subs(sp.exp(x), p / (1-p))  *****************'"
      ]
     },
     "metadata": {},
     "output_type": "display_data"
    },
    {
     "data": {
      "text/latex": [
       "$\\displaystyle ALS_{der1} = \\left(1 - p\\right) \\left(\\frac{g_{minus} p p^{g_{minus}} y \\log{\\left(1 - p \\right)}}{1 - p} - \\frac{g_{minus} p p^{g_{minus}} \\log{\\left(1 - p \\right)}}{1 - p} - \\frac{g_{minus} p p^{g_{minus} + 1} y \\log{\\left(1 - p \\right)}}{1 - p} + \\frac{g_{minus} p p^{g_{minus} + 1} \\log{\\left(1 - p \\right)}}{1 - p} + g_{minus} p^{g_{minus}} y \\log{\\left(1 - p \\right)} - g_{minus} p^{g_{minus}} \\log{\\left(1 - p \\right)} - g_{minus} p^{g_{minus} + 1} y \\log{\\left(1 - p \\right)} + g_{minus} p^{g_{minus} + 1} \\log{\\left(1 - p \\right)} + \\frac{g_{plus} p y \\left(1 - p\\right)^{g_{plus}} \\log{\\left(p \\right)}}{1 - p} + \\frac{p^{2} y \\left(1 - p\\right)^{g_{plus}}}{1 - p} - \\frac{p p^{g_{minus}} y}{1 - p} + \\frac{p p^{g_{minus}}}{1 - p} + p y \\left(1 - p\\right)^{g_{plus}} - \\frac{p y \\left(1 - p\\right)^{g_{plus}}}{1 - p} - y \\left(1 - p\\right)^{g_{plus}}\\right)$"
      ],
      "text/plain": [
       "Eq(ALS_der1, (1 - p)*(g_minus*p*p**g_minus*y*log(1 - p)/(1 - p) - g_minus*p*p**g_minus*log(1 - p)/(1 - p) - g_minus*p*p**(g_minus + 1)*y*log(1 - p)/(1 - p) + g_minus*p*p**(g_minus + 1)*log(1 - p)/(1 - p) + g_minus*p**g_minus*y*log(1 - p) - g_minus*p**g_minus*log(1 - p) - g_minus*p**(g_minus + 1)*y*log(1 - p) + g_minus*p**(g_minus + 1)*log(1 - p) + g_plus*p*y*(1 - p)**g_plus*log(p)/(1 - p) + p**2*y*(1 - p)**g_plus/(1 - p) - p*p**g_minus*y/(1 - p) + p*p**g_minus/(1 - p) + p*y*(1 - p)**g_plus - p*y*(1 - p)**g_plus/(1 - p) - y*(1 - p)**g_plus))"
      ]
     },
     "metadata": {},
     "output_type": "display_data"
    },
    {
     "data": {
      "text/plain": [
       "'*********** sp.factor(der) *************'"
      ]
     },
     "metadata": {},
     "output_type": "display_data"
    },
    {
     "data": {
      "text/latex": [
       "$\\displaystyle ALS_{der1} = - g_{minus} p p^{g_{minus}} y \\log{\\left(1 - p \\right)} + g_{minus} p p^{g_{minus}} \\log{\\left(1 - p \\right)} + g_{minus} p^{g_{minus}} y \\log{\\left(1 - p \\right)} - g_{minus} p^{g_{minus}} \\log{\\left(1 - p \\right)} + g_{plus} p y \\left(1 - p\\right)^{g_{plus}} \\log{\\left(p \\right)} - p p^{g_{minus}} y + p p^{g_{minus}} + p y \\left(1 - p\\right)^{g_{plus}} - y \\left(1 - p\\right)^{g_{plus}}$"
      ],
      "text/plain": [
       "Eq(ALS_der1, -g_minus*p*p**g_minus*y*log(1 - p) + g_minus*p*p**g_minus*log(1 - p) + g_minus*p**g_minus*y*log(1 - p) - g_minus*p**g_minus*log(1 - p) + g_plus*p*y*(1 - p)**g_plus*log(p) - p*p**g_minus*y + p*p**g_minus + p*y*(1 - p)**g_plus - y*(1 - p)**g_plus)"
      ]
     },
     "metadata": {},
     "output_type": "display_data"
    },
    {
     "data": {
      "text/plain": [
       "'*********** sp.symplify(der) *************'"
      ]
     },
     "metadata": {},
     "output_type": "display_data"
    },
    {
     "data": {
      "text/latex": [
       "$\\displaystyle ALS_{der1} = g_{minus} p^{g_{minus}} y \\log{\\left(1 - p \\right)} - g_{minus} p^{g_{minus}} \\log{\\left(1 - p \\right)} - g_{minus} p^{g_{minus} + 1} y \\log{\\left(1 - p \\right)} + g_{minus} p^{g_{minus} + 1} \\log{\\left(1 - p \\right)} + g_{plus} p y \\left(1 - p\\right)^{g_{plus}} \\log{\\left(p \\right)} + p y \\left(1 - p\\right)^{g_{plus}} - p^{g_{minus} + 1} y + p^{g_{minus} + 1} - y \\left(1 - p\\right)^{g_{plus}}$"
      ],
      "text/plain": [
       "Eq(ALS_der1, g_minus*p**g_minus*y*log(1 - p) - g_minus*p**g_minus*log(1 - p) - g_minus*p**(g_minus + 1)*y*log(1 - p) + g_minus*p**(g_minus + 1)*log(1 - p) + g_plus*p*y*(1 - p)**g_plus*log(p) + p*y*(1 - p)**g_plus - p**(g_minus + 1)*y + p**(g_minus + 1) - y*(1 - p)**g_plus)"
      ]
     },
     "metadata": {},
     "output_type": "display_data"
    },
    {
     "data": {
      "text/plain": [
       "'Входящая функция производной'"
      ]
     },
     "metadata": {},
     "output_type": "display_data"
    },
    {
     "data": {
      "text/latex": [
       "$\\displaystyle ALS_{der2} = - g_{minus}^{2} \\left(\\frac{e^{x}}{e^{x} + 1}\\right)^{g_{minus}} \\left(1 - y\\right) \\left(\\frac{e^{x}}{e^{x} + 1} - \\frac{e^{2 x}}{\\left(e^{x} + 1\\right)^{2}}\\right)^{2} \\left(e^{x} + 1\\right)^{2} e^{- 2 x} \\log{\\left(1 - \\frac{e^{x}}{e^{x} + 1} \\right)} + g_{minus} \\left(\\frac{e^{x}}{e^{x} + 1}\\right)^{g_{minus}} \\left(1 - y\\right) \\left(\\frac{e^{x}}{e^{x} + 1} - \\frac{e^{2 x}}{\\left(e^{x} + 1\\right)^{2}}\\right) \\left(e^{x} + 1\\right) e^{- x} \\log{\\left(1 - \\frac{e^{x}}{e^{x} + 1} \\right)} - g_{minus} \\left(\\frac{e^{x}}{e^{x} + 1}\\right)^{g_{minus}} \\left(1 - y\\right) \\left(\\frac{e^{x}}{e^{x} + 1} - \\frac{e^{2 x}}{\\left(e^{x} + 1\\right)^{2}}\\right) \\log{\\left(1 - \\frac{e^{x}}{e^{x} + 1} \\right)} - g_{minus} \\left(\\frac{e^{x}}{e^{x} + 1}\\right)^{g_{minus}} \\left(1 - y\\right) \\left(e^{x} + 1\\right) \\left(\\frac{e^{x}}{e^{x} + 1} - \\frac{3 e^{2 x}}{\\left(e^{x} + 1\\right)^{2}} + \\frac{2 e^{3 x}}{\\left(e^{x} + 1\\right)^{3}}\\right) e^{- x} \\log{\\left(1 - \\frac{e^{x}}{e^{x} + 1} \\right)} - \\frac{2 g_{minus} \\left(\\frac{e^{x}}{e^{x} + 1}\\right)^{g_{minus}} \\left(1 - y\\right) \\left(- \\frac{e^{x}}{e^{x} + 1} + \\frac{e^{2 x}}{\\left(e^{x} + 1\\right)^{2}}\\right) \\left(\\frac{e^{x}}{e^{x} + 1} - \\frac{e^{2 x}}{\\left(e^{x} + 1\\right)^{2}}\\right) \\left(e^{x} + 1\\right) e^{- x}}{1 - \\frac{e^{x}}{e^{x} + 1}} - \\frac{g_{plus}^{2} y \\left(1 - \\frac{e^{x}}{e^{x} + 1}\\right)^{g_{plus}} \\left(- \\frac{e^{x}}{e^{x} + 1} + \\frac{e^{2 x}}{\\left(e^{x} + 1\\right)^{2}}\\right)^{2} \\log{\\left(\\frac{e^{x}}{e^{x} + 1} \\right)}}{\\left(1 - \\frac{e^{x}}{e^{x} + 1}\\right)^{2}} - \\frac{2 g_{plus} y \\left(1 - \\frac{e^{x}}{e^{x} + 1}\\right)^{g_{plus}} \\left(- \\frac{e^{x}}{e^{x} + 1} + \\frac{e^{2 x}}{\\left(e^{x} + 1\\right)^{2}}\\right) \\left(\\frac{e^{x}}{e^{x} + 1} - \\frac{e^{2 x}}{\\left(e^{x} + 1\\right)^{2}}\\right) \\left(e^{x} + 1\\right) e^{- x}}{1 - \\frac{e^{x}}{e^{x} + 1}} - \\frac{g_{plus} y \\left(1 - \\frac{e^{x}}{e^{x} + 1}\\right)^{g_{plus}} \\left(- \\frac{e^{x}}{e^{x} + 1} + \\frac{3 e^{2 x}}{\\left(e^{x} + 1\\right)^{2}} - \\frac{2 e^{3 x}}{\\left(e^{x} + 1\\right)^{3}}\\right) \\log{\\left(\\frac{e^{x}}{e^{x} + 1} \\right)}}{1 - \\frac{e^{x}}{e^{x} + 1}} - \\frac{g_{plus} y \\left(1 - \\frac{e^{x}}{e^{x} + 1}\\right)^{g_{plus}} \\left(- \\frac{e^{x}}{e^{x} + 1} + \\frac{e^{2 x}}{\\left(e^{x} + 1\\right)^{2}}\\right) \\left(\\frac{e^{x}}{e^{x} + 1} - \\frac{e^{2 x}}{\\left(e^{x} + 1\\right)^{2}}\\right) \\log{\\left(\\frac{e^{x}}{e^{x} + 1} \\right)}}{\\left(1 - \\frac{e^{x}}{e^{x} + 1}\\right)^{2}} + y \\left(1 - \\frac{e^{x}}{e^{x} + 1}\\right)^{g_{plus}} \\left(\\frac{e^{x}}{e^{x} + 1} - \\frac{e^{2 x}}{\\left(e^{x} + 1\\right)^{2}}\\right) \\left(e^{x} + 1\\right) e^{- x} - y \\left(1 - \\frac{e^{x}}{e^{x} + 1}\\right)^{g_{plus}} \\left(\\frac{e^{x}}{e^{x} + 1} - \\frac{e^{2 x}}{\\left(e^{x} + 1\\right)^{2}}\\right) - y \\left(1 - \\frac{e^{x}}{e^{x} + 1}\\right)^{g_{plus}} \\left(e^{x} + 1\\right) \\left(\\frac{e^{x}}{e^{x} + 1} - \\frac{3 e^{2 x}}{\\left(e^{x} + 1\\right)^{2}} + \\frac{2 e^{3 x}}{\\left(e^{x} + 1\\right)^{3}}\\right) e^{- x} - \\frac{\\left(\\frac{e^{x}}{e^{x} + 1}\\right)^{g_{minus}} \\left(1 - y\\right) \\left(- \\frac{e^{x}}{e^{x} + 1} + \\frac{3 e^{2 x}}{\\left(e^{x} + 1\\right)^{2}} - \\frac{2 e^{3 x}}{\\left(e^{x} + 1\\right)^{3}}\\right)}{1 - \\frac{e^{x}}{e^{x} + 1}} - \\frac{\\left(\\frac{e^{x}}{e^{x} + 1}\\right)^{g_{minus}} \\left(1 - y\\right) \\left(- \\frac{e^{x}}{e^{x} + 1} + \\frac{e^{2 x}}{\\left(e^{x} + 1\\right)^{2}}\\right) \\left(\\frac{e^{x}}{e^{x} + 1} - \\frac{e^{2 x}}{\\left(e^{x} + 1\\right)^{2}}\\right)}{\\left(1 - \\frac{e^{x}}{e^{x} + 1}\\right)^{2}}$"
      ],
      "text/plain": [
       "Eq(ALS_der2, -g_minus**2*(exp(x)/(exp(x) + 1))**g_minus*(1 - y)*(exp(x)/(exp(x) + 1) - exp(2*x)/(exp(x) + 1)**2)**2*(exp(x) + 1)**2*exp(-2*x)*log(1 - exp(x)/(exp(x) + 1)) + g_minus*(exp(x)/(exp(x) + 1))**g_minus*(1 - y)*(exp(x)/(exp(x) + 1) - exp(2*x)/(exp(x) + 1)**2)*(exp(x) + 1)*exp(-x)*log(1 - exp(x)/(exp(x) + 1)) - g_minus*(exp(x)/(exp(x) + 1))**g_minus*(1 - y)*(exp(x)/(exp(x) + 1) - exp(2*x)/(exp(x) + 1)**2)*log(1 - exp(x)/(exp(x) + 1)) - g_minus*(exp(x)/(exp(x) + 1))**g_minus*(1 - y)*(exp(x) + 1)*(exp(x)/(exp(x) + 1) - 3*exp(2*x)/(exp(x) + 1)**2 + 2*exp(3*x)/(exp(x) + 1)**3)*exp(-x)*log(1 - exp(x)/(exp(x) + 1)) - 2*g_minus*(exp(x)/(exp(x) + 1))**g_minus*(1 - y)*(-exp(x)/(exp(x) + 1) + exp(2*x)/(exp(x) + 1)**2)*(exp(x)/(exp(x) + 1) - exp(2*x)/(exp(x) + 1)**2)*(exp(x) + 1)*exp(-x)/(1 - exp(x)/(exp(x) + 1)) - g_plus**2*y*(1 - exp(x)/(exp(x) + 1))**g_plus*(-exp(x)/(exp(x) + 1) + exp(2*x)/(exp(x) + 1)**2)**2*log(exp(x)/(exp(x) + 1))/(1 - exp(x)/(exp(x) + 1))**2 - 2*g_plus*y*(1 - exp(x)/(exp(x) + 1))**g_plus*(-exp(x)/(exp(x) + 1) + exp(2*x)/(exp(x) + 1)**2)*(exp(x)/(exp(x) + 1) - exp(2*x)/(exp(x) + 1)**2)*(exp(x) + 1)*exp(-x)/(1 - exp(x)/(exp(x) + 1)) - g_plus*y*(1 - exp(x)/(exp(x) + 1))**g_plus*(-exp(x)/(exp(x) + 1) + 3*exp(2*x)/(exp(x) + 1)**2 - 2*exp(3*x)/(exp(x) + 1)**3)*log(exp(x)/(exp(x) + 1))/(1 - exp(x)/(exp(x) + 1)) - g_plus*y*(1 - exp(x)/(exp(x) + 1))**g_plus*(-exp(x)/(exp(x) + 1) + exp(2*x)/(exp(x) + 1)**2)*(exp(x)/(exp(x) + 1) - exp(2*x)/(exp(x) + 1)**2)*log(exp(x)/(exp(x) + 1))/(1 - exp(x)/(exp(x) + 1))**2 + y*(1 - exp(x)/(exp(x) + 1))**g_plus*(exp(x)/(exp(x) + 1) - exp(2*x)/(exp(x) + 1)**2)*(exp(x) + 1)*exp(-x) - y*(1 - exp(x)/(exp(x) + 1))**g_plus*(exp(x)/(exp(x) + 1) - exp(2*x)/(exp(x) + 1)**2) - y*(1 - exp(x)/(exp(x) + 1))**g_plus*(exp(x) + 1)*(exp(x)/(exp(x) + 1) - 3*exp(2*x)/(exp(x) + 1)**2 + 2*exp(3*x)/(exp(x) + 1)**3)*exp(-x) - (exp(x)/(exp(x) + 1))**g_minus*(1 - y)*(-exp(x)/(exp(x) + 1) + 3*exp(2*x)/(exp(x) + 1)**2 - 2*exp(3*x)/(exp(x) + 1)**3)/(1 - exp(x)/(exp(x) + 1)) - (exp(x)/(exp(x) + 1))**g_minus*(1 - y)*(-exp(x)/(exp(x) + 1) + exp(2*x)/(exp(x) + 1)**2)*(exp(x)/(exp(x) + 1) - exp(2*x)/(exp(x) + 1)**2)/(1 - exp(x)/(exp(x) + 1))**2)"
      ]
     },
     "metadata": {},
     "output_type": "display_data"
    },
    {
     "data": {
      "text/plain": [
       "'*********** der.subs(sp.exp(x) / (1 + sp.exp(x)), p) *************'"
      ]
     },
     "metadata": {},
     "output_type": "display_data"
    },
    {
     "data": {
      "text/latex": [
       "$\\displaystyle ALS_{der2} = - g_{minus}^{2} p^{g_{minus}} \\left(1 - y\\right) \\left(- p^{2} + p\\right)^{2} \\left(e^{x} + 1\\right)^{2} e^{- 2 x} \\log{\\left(1 - p \\right)} + g_{minus} p^{g_{minus}} \\left(1 - y\\right) \\left(- p^{2} + p\\right) \\left(e^{x} + 1\\right) e^{- x} \\log{\\left(1 - p \\right)} - g_{minus} p^{g_{minus}} \\left(1 - y\\right) \\left(- p^{2} + p\\right) \\log{\\left(1 - p \\right)} - g_{minus} p^{g_{minus}} \\left(1 - y\\right) \\left(e^{x} + 1\\right) \\left(2 p^{3} - 3 p^{2} + p\\right) e^{- x} \\log{\\left(1 - p \\right)} - \\frac{2 g_{minus} p^{g_{minus}} \\left(1 - y\\right) \\left(- p^{2} + p\\right) \\left(p^{2} - p\\right) \\left(e^{x} + 1\\right) e^{- x}}{1 - p} - \\frac{g_{plus}^{2} y \\left(1 - p\\right)^{g_{plus}} \\left(p^{2} - p\\right)^{2} \\log{\\left(p \\right)}}{\\left(1 - p\\right)^{2}} - \\frac{2 g_{plus} y \\left(1 - p\\right)^{g_{plus}} \\left(- p^{2} + p\\right) \\left(p^{2} - p\\right) \\left(e^{x} + 1\\right) e^{- x}}{1 - p} - \\frac{g_{plus} y \\left(1 - p\\right)^{g_{plus}} \\left(- 2 p^{3} + 3 p^{2} - p\\right) \\log{\\left(p \\right)}}{1 - p} - \\frac{g_{plus} y \\left(1 - p\\right)^{g_{plus}} \\left(- p^{2} + p\\right) \\left(p^{2} - p\\right) \\log{\\left(p \\right)}}{\\left(1 - p\\right)^{2}} - \\frac{p^{g_{minus}} \\left(1 - y\\right) \\left(- 2 p^{3} + 3 p^{2} - p\\right)}{1 - p} - \\frac{p^{g_{minus}} \\left(1 - y\\right) \\left(- p^{2} + p\\right) \\left(p^{2} - p\\right)}{\\left(1 - p\\right)^{2}} + y \\left(1 - p\\right)^{g_{plus}} \\left(- p^{2} + p\\right) \\left(e^{x} + 1\\right) e^{- x} - y \\left(1 - p\\right)^{g_{plus}} \\left(- p^{2} + p\\right) - y \\left(1 - p\\right)^{g_{plus}} \\left(e^{x} + 1\\right) \\left(2 p^{3} - 3 p^{2} + p\\right) e^{- x}$"
      ],
      "text/plain": [
       "Eq(ALS_der2, -g_minus**2*p**g_minus*(1 - y)*(-p**2 + p)**2*(exp(x) + 1)**2*exp(-2*x)*log(1 - p) + g_minus*p**g_minus*(1 - y)*(-p**2 + p)*(exp(x) + 1)*exp(-x)*log(1 - p) - g_minus*p**g_minus*(1 - y)*(-p**2 + p)*log(1 - p) - g_minus*p**g_minus*(1 - y)*(exp(x) + 1)*(2*p**3 - 3*p**2 + p)*exp(-x)*log(1 - p) - 2*g_minus*p**g_minus*(1 - y)*(-p**2 + p)*(p**2 - p)*(exp(x) + 1)*exp(-x)/(1 - p) - g_plus**2*y*(1 - p)**g_plus*(p**2 - p)**2*log(p)/(1 - p)**2 - 2*g_plus*y*(1 - p)**g_plus*(-p**2 + p)*(p**2 - p)*(exp(x) + 1)*exp(-x)/(1 - p) - g_plus*y*(1 - p)**g_plus*(-2*p**3 + 3*p**2 - p)*log(p)/(1 - p) - g_plus*y*(1 - p)**g_plus*(-p**2 + p)*(p**2 - p)*log(p)/(1 - p)**2 - p**g_minus*(1 - y)*(-2*p**3 + 3*p**2 - p)/(1 - p) - p**g_minus*(1 - y)*(-p**2 + p)*(p**2 - p)/(1 - p)**2 + y*(1 - p)**g_plus*(-p**2 + p)*(exp(x) + 1)*exp(-x) - y*(1 - p)**g_plus*(-p**2 + p) - y*(1 - p)**g_plus*(exp(x) + 1)*(2*p**3 - 3*p**2 + p)*exp(-x))"
      ]
     },
     "metadata": {},
     "output_type": "display_data"
    },
    {
     "data": {
      "text/plain": [
       "'*********** der.subs(sp.exp(x) / (1 + sp.exp(x)), p) *************'"
      ]
     },
     "metadata": {},
     "output_type": "display_data"
    },
    {
     "data": {
      "text/latex": [
       "$\\displaystyle ALS_{der2} = - g_{minus}^{2} p^{g_{minus}} \\left(1 - y\\right) \\left(- p^{2} + p\\right)^{2} \\left(e^{x} + 1\\right)^{2} e^{- 2 x} \\log{\\left(1 - p \\right)} + g_{minus} p^{g_{minus}} \\left(1 - y\\right) \\left(- p^{2} + p\\right) \\left(e^{x} + 1\\right) e^{- x} \\log{\\left(1 - p \\right)} - g_{minus} p^{g_{minus}} \\left(1 - y\\right) \\left(- p^{2} + p\\right) \\log{\\left(1 - p \\right)} - g_{minus} p^{g_{minus}} \\left(1 - y\\right) \\left(e^{x} + 1\\right) \\left(2 p^{3} - 3 p^{2} + p\\right) e^{- x} \\log{\\left(1 - p \\right)} - \\frac{2 g_{minus} p^{g_{minus}} \\left(1 - y\\right) \\left(- p^{2} + p\\right) \\left(p^{2} - p\\right) \\left(e^{x} + 1\\right) e^{- x}}{1 - p} - \\frac{g_{plus}^{2} y \\left(1 - p\\right)^{g_{plus}} \\left(p^{2} - p\\right)^{2} \\log{\\left(p \\right)}}{\\left(1 - p\\right)^{2}} - \\frac{2 g_{plus} y \\left(1 - p\\right)^{g_{plus}} \\left(- p^{2} + p\\right) \\left(p^{2} - p\\right) \\left(e^{x} + 1\\right) e^{- x}}{1 - p} - \\frac{g_{plus} y \\left(1 - p\\right)^{g_{plus}} \\left(- 2 p^{3} + 3 p^{2} - p\\right) \\log{\\left(p \\right)}}{1 - p} - \\frac{g_{plus} y \\left(1 - p\\right)^{g_{plus}} \\left(- p^{2} + p\\right) \\left(p^{2} - p\\right) \\log{\\left(p \\right)}}{\\left(1 - p\\right)^{2}} - \\frac{p^{g_{minus}} \\left(1 - y\\right) \\left(- 2 p^{3} + 3 p^{2} - p\\right)}{1 - p} - \\frac{p^{g_{minus}} \\left(1 - y\\right) \\left(- p^{2} + p\\right) \\left(p^{2} - p\\right)}{\\left(1 - p\\right)^{2}} + y \\left(1 - p\\right)^{g_{plus}} \\left(- p^{2} + p\\right) \\left(e^{x} + 1\\right) e^{- x} - y \\left(1 - p\\right)^{g_{plus}} \\left(- p^{2} + p\\right) - y \\left(1 - p\\right)^{g_{plus}} \\left(e^{x} + 1\\right) \\left(2 p^{3} - 3 p^{2} + p\\right) e^{- x}$"
      ],
      "text/plain": [
       "Eq(ALS_der2, -g_minus**2*p**g_minus*(1 - y)*(-p**2 + p)**2*(exp(x) + 1)**2*exp(-2*x)*log(1 - p) + g_minus*p**g_minus*(1 - y)*(-p**2 + p)*(exp(x) + 1)*exp(-x)*log(1 - p) - g_minus*p**g_minus*(1 - y)*(-p**2 + p)*log(1 - p) - g_minus*p**g_minus*(1 - y)*(exp(x) + 1)*(2*p**3 - 3*p**2 + p)*exp(-x)*log(1 - p) - 2*g_minus*p**g_minus*(1 - y)*(-p**2 + p)*(p**2 - p)*(exp(x) + 1)*exp(-x)/(1 - p) - g_plus**2*y*(1 - p)**g_plus*(p**2 - p)**2*log(p)/(1 - p)**2 - 2*g_plus*y*(1 - p)**g_plus*(-p**2 + p)*(p**2 - p)*(exp(x) + 1)*exp(-x)/(1 - p) - g_plus*y*(1 - p)**g_plus*(-2*p**3 + 3*p**2 - p)*log(p)/(1 - p) - g_plus*y*(1 - p)**g_plus*(-p**2 + p)*(p**2 - p)*log(p)/(1 - p)**2 - p**g_minus*(1 - y)*(-2*p**3 + 3*p**2 - p)/(1 - p) - p**g_minus*(1 - y)*(-p**2 + p)*(p**2 - p)/(1 - p)**2 + y*(1 - p)**g_plus*(-p**2 + p)*(exp(x) + 1)*exp(-x) - y*(1 - p)**g_plus*(-p**2 + p) - y*(1 - p)**g_plus*(exp(x) + 1)*(2*p**3 - 3*p**2 + p)*exp(-x))"
      ]
     },
     "metadata": {},
     "output_type": "display_data"
    },
    {
     "data": {
      "text/plain": [
       "'**********    der.subs((1 + sp.exp(x))**2 * sp.exp(x)**(-2), p**(-2))  *****************'"
      ]
     },
     "metadata": {},
     "output_type": "display_data"
    },
    {
     "data": {
      "text/latex": [
       "$\\displaystyle ALS_{der2} = - \\frac{g_{minus}^{2} p^{g_{minus}} \\left(1 - y\\right) \\left(- p^{2} + p\\right)^{2} \\log{\\left(1 - p \\right)}}{p^{2}} + g_{minus} p^{g_{minus}} \\left(1 - y\\right) \\left(- p^{2} + p\\right) \\left(e^{x} + 1\\right) e^{- x} \\log{\\left(1 - p \\right)} - g_{minus} p^{g_{minus}} \\left(1 - y\\right) \\left(- p^{2} + p\\right) \\log{\\left(1 - p \\right)} - g_{minus} p^{g_{minus}} \\left(1 - y\\right) \\left(e^{x} + 1\\right) \\left(2 p^{3} - 3 p^{2} + p\\right) e^{- x} \\log{\\left(1 - p \\right)} - \\frac{2 g_{minus} p^{g_{minus}} \\left(1 - y\\right) \\left(- p^{2} + p\\right) \\left(p^{2} - p\\right) \\left(e^{x} + 1\\right) e^{- x}}{1 - p} - \\frac{g_{plus}^{2} y \\left(1 - p\\right)^{g_{plus}} \\left(p^{2} - p\\right)^{2} \\log{\\left(p \\right)}}{\\left(1 - p\\right)^{2}} - \\frac{2 g_{plus} y \\left(1 - p\\right)^{g_{plus}} \\left(- p^{2} + p\\right) \\left(p^{2} - p\\right) \\left(e^{x} + 1\\right) e^{- x}}{1 - p} - \\frac{g_{plus} y \\left(1 - p\\right)^{g_{plus}} \\left(- 2 p^{3} + 3 p^{2} - p\\right) \\log{\\left(p \\right)}}{1 - p} - \\frac{g_{plus} y \\left(1 - p\\right)^{g_{plus}} \\left(- p^{2} + p\\right) \\left(p^{2} - p\\right) \\log{\\left(p \\right)}}{\\left(1 - p\\right)^{2}} - \\frac{p^{g_{minus}} \\left(1 - y\\right) \\left(- 2 p^{3} + 3 p^{2} - p\\right)}{1 - p} - \\frac{p^{g_{minus}} \\left(1 - y\\right) \\left(- p^{2} + p\\right) \\left(p^{2} - p\\right)}{\\left(1 - p\\right)^{2}} + y \\left(1 - p\\right)^{g_{plus}} \\left(- p^{2} + p\\right) \\left(e^{x} + 1\\right) e^{- x} - y \\left(1 - p\\right)^{g_{plus}} \\left(- p^{2} + p\\right) - y \\left(1 - p\\right)^{g_{plus}} \\left(e^{x} + 1\\right) \\left(2 p^{3} - 3 p^{2} + p\\right) e^{- x}$"
      ],
      "text/plain": [
       "Eq(ALS_der2, -g_minus**2*p**g_minus*(1 - y)*(-p**2 + p)**2*log(1 - p)/p**2 + g_minus*p**g_minus*(1 - y)*(-p**2 + p)*(exp(x) + 1)*exp(-x)*log(1 - p) - g_minus*p**g_minus*(1 - y)*(-p**2 + p)*log(1 - p) - g_minus*p**g_minus*(1 - y)*(exp(x) + 1)*(2*p**3 - 3*p**2 + p)*exp(-x)*log(1 - p) - 2*g_minus*p**g_minus*(1 - y)*(-p**2 + p)*(p**2 - p)*(exp(x) + 1)*exp(-x)/(1 - p) - g_plus**2*y*(1 - p)**g_plus*(p**2 - p)**2*log(p)/(1 - p)**2 - 2*g_plus*y*(1 - p)**g_plus*(-p**2 + p)*(p**2 - p)*(exp(x) + 1)*exp(-x)/(1 - p) - g_plus*y*(1 - p)**g_plus*(-2*p**3 + 3*p**2 - p)*log(p)/(1 - p) - g_plus*y*(1 - p)**g_plus*(-p**2 + p)*(p**2 - p)*log(p)/(1 - p)**2 - p**g_minus*(1 - y)*(-2*p**3 + 3*p**2 - p)/(1 - p) - p**g_minus*(1 - y)*(-p**2 + p)*(p**2 - p)/(1 - p)**2 + y*(1 - p)**g_plus*(-p**2 + p)*(exp(x) + 1)*exp(-x) - y*(1 - p)**g_plus*(-p**2 + p) - y*(1 - p)**g_plus*(exp(x) + 1)*(2*p**3 - 3*p**2 + p)*exp(-x))"
      ]
     },
     "metadata": {},
     "output_type": "display_data"
    },
    {
     "data": {
      "text/plain": [
       "'*********** sp.symplify(der) *************'"
      ]
     },
     "metadata": {},
     "output_type": "display_data"
    },
    {
     "data": {
      "text/latex": [
       "$\\displaystyle ALS_{der2} = \\frac{\\left(g_{minus}^{2} p^{g_{minus}} \\left(p - 1\\right)^{3} \\left(y - 1\\right) e^{x} \\log{\\left(1 - p \\right)} + 2 p^{2} \\left(p - 1\\right)^{2} \\left(g_{minus} p^{g_{minus}} \\left(y - 1\\right) - g_{plus} y \\left(1 - p\\right)^{g_{plus}}\\right) \\left(e^{x} + 1\\right) + p^{2} \\left(p - 1\\right) \\left(- g_{plus}^{2} y \\left(1 - p\\right)^{g_{plus}} \\log{\\left(p \\right)} + g_{plus} y \\left(1 - p\\right)^{g_{plus}} \\log{\\left(p \\right)} + p^{g_{minus}} \\left(1 - y\\right)\\right) e^{x} + p \\left(p - 1\\right)^{2} \\left(- g_{minus} p^{g_{minus}} \\left(y - 1\\right) \\log{\\left(1 - p \\right)} + y \\left(1 - p\\right)^{g_{plus}}\\right) e^{x} + p \\left(p - 1\\right) \\left(e^{x} + 1\\right) \\left(g_{minus} p^{g_{minus}} \\left(p - 1\\right) \\left(y - 1\\right) \\log{\\left(1 - p \\right)} + g_{minus} p^{g_{minus}} \\left(y - 1\\right) \\left(2 p^{2} - 3 p + 1\\right) \\log{\\left(1 - p \\right)} - y \\left(1 - p\\right)^{g_{plus}} \\left(2 p^{2} - 3 p + 1\\right) + y \\left(1 - p\\right)^{g_{plus} + 1}\\right) + p \\left(- g_{plus} y \\left(1 - p\\right)^{g_{plus}} \\log{\\left(p \\right)} + p^{g_{minus}} \\left(y - 1\\right)\\right) \\left(2 p^{2} - 3 p + 1\\right) e^{x}\\right) e^{- x}}{p - 1}$"
      ],
      "text/plain": [
       "Eq(ALS_der2, (g_minus**2*p**g_minus*(p - 1)**3*(y - 1)*exp(x)*log(1 - p) + 2*p**2*(p - 1)**2*(g_minus*p**g_minus*(y - 1) - g_plus*y*(1 - p)**g_plus)*(exp(x) + 1) + p**2*(p - 1)*(-g_plus**2*y*(1 - p)**g_plus*log(p) + g_plus*y*(1 - p)**g_plus*log(p) + p**g_minus*(1 - y))*exp(x) + p*(p - 1)**2*(-g_minus*p**g_minus*(y - 1)*log(1 - p) + y*(1 - p)**g_plus)*exp(x) + p*(p - 1)*(exp(x) + 1)*(g_minus*p**g_minus*(p - 1)*(y - 1)*log(1 - p) + g_minus*p**g_minus*(y - 1)*(2*p**2 - 3*p + 1)*log(1 - p) - y*(1 - p)**g_plus*(2*p**2 - 3*p + 1) + y*(1 - p)**(g_plus + 1)) + p*(-g_plus*y*(1 - p)**g_plus*log(p) + p**g_minus*(y - 1))*(2*p**2 - 3*p + 1)*exp(x))*exp(-x)/(p - 1))"
      ]
     },
     "metadata": {},
     "output_type": "display_data"
    },
    {
     "data": {
      "text/plain": [
       "'*********** sp.factor(der) *************'"
      ]
     },
     "metadata": {},
     "output_type": "display_data"
    },
    {
     "data": {
      "text/latex": [
       "$\\displaystyle ALS_{der2} = - \\left(- g_{minus}^{2} p^{2} p^{g_{minus}} y e^{x} \\log{\\left(1 - p \\right)} + g_{minus}^{2} p^{2} p^{g_{minus}} e^{x} \\log{\\left(1 - p \\right)} + 2 g_{minus}^{2} p p^{g_{minus}} y e^{x} \\log{\\left(1 - p \\right)} - 2 g_{minus}^{2} p p^{g_{minus}} e^{x} \\log{\\left(1 - p \\right)} - g_{minus}^{2} p^{g_{minus}} y e^{x} \\log{\\left(1 - p \\right)} + g_{minus}^{2} p^{g_{minus}} e^{x} \\log{\\left(1 - p \\right)} - 2 g_{minus} p^{3} p^{g_{minus}} y e^{x} \\log{\\left(1 - p \\right)} - 2 g_{minus} p^{3} p^{g_{minus}} y e^{x} - 2 g_{minus} p^{3} p^{g_{minus}} y \\log{\\left(1 - p \\right)} - 2 g_{minus} p^{3} p^{g_{minus}} y + 2 g_{minus} p^{3} p^{g_{minus}} e^{x} \\log{\\left(1 - p \\right)} + 2 g_{minus} p^{3} p^{g_{minus}} e^{x} + 2 g_{minus} p^{3} p^{g_{minus}} \\log{\\left(1 - p \\right)} + 2 g_{minus} p^{3} p^{g_{minus}} + 3 g_{minus} p^{2} p^{g_{minus}} y e^{x} \\log{\\left(1 - p \\right)} + 2 g_{minus} p^{2} p^{g_{minus}} y e^{x} + 2 g_{minus} p^{2} p^{g_{minus}} y \\log{\\left(1 - p \\right)} + 2 g_{minus} p^{2} p^{g_{minus}} y - 3 g_{minus} p^{2} p^{g_{minus}} e^{x} \\log{\\left(1 - p \\right)} - 2 g_{minus} p^{2} p^{g_{minus}} e^{x} - 2 g_{minus} p^{2} p^{g_{minus}} \\log{\\left(1 - p \\right)} - 2 g_{minus} p^{2} p^{g_{minus}} - g_{minus} p p^{g_{minus}} y e^{x} \\log{\\left(1 - p \\right)} + g_{minus} p p^{g_{minus}} e^{x} \\log{\\left(1 - p \\right)} + g_{plus}^{2} p^{2} y \\left(1 - p\\right)^{g_{plus}} e^{x} \\log{\\left(p \\right)} + 2 g_{plus} p^{3} y \\left(1 - p\\right)^{g_{plus}} e^{x} + 2 g_{plus} p^{3} y \\left(1 - p\\right)^{g_{plus}} + g_{plus} p^{2} y \\left(1 - p\\right)^{g_{plus}} e^{x} \\log{\\left(p \\right)} - 2 g_{plus} p^{2} y \\left(1 - p\\right)^{g_{plus}} e^{x} - 2 g_{plus} p^{2} y \\left(1 - p\\right)^{g_{plus}} - g_{plus} p y \\left(1 - p\\right)^{g_{plus}} e^{x} \\log{\\left(p \\right)} + 2 p^{3} y \\left(1 - p\\right)^{g_{plus}} e^{x} + 2 p^{3} y \\left(1 - p\\right)^{g_{plus}} - p^{2} p^{g_{minus}} y e^{x} + p^{2} p^{g_{minus}} e^{x} - 3 p^{2} y \\left(1 - p\\right)^{g_{plus}} e^{x} - 2 p^{2} y \\left(1 - p\\right)^{g_{plus}} + p p^{g_{minus}} y e^{x} - p p^{g_{minus}} e^{x} + p y \\left(1 - p\\right)^{g_{plus}} e^{x}\\right) e^{- x}$"
      ],
      "text/plain": [
       "Eq(ALS_der2, -(-g_minus**2*p**2*p**g_minus*y*exp(x)*log(1 - p) + g_minus**2*p**2*p**g_minus*exp(x)*log(1 - p) + 2*g_minus**2*p*p**g_minus*y*exp(x)*log(1 - p) - 2*g_minus**2*p*p**g_minus*exp(x)*log(1 - p) - g_minus**2*p**g_minus*y*exp(x)*log(1 - p) + g_minus**2*p**g_minus*exp(x)*log(1 - p) - 2*g_minus*p**3*p**g_minus*y*exp(x)*log(1 - p) - 2*g_minus*p**3*p**g_minus*y*exp(x) - 2*g_minus*p**3*p**g_minus*y*log(1 - p) - 2*g_minus*p**3*p**g_minus*y + 2*g_minus*p**3*p**g_minus*exp(x)*log(1 - p) + 2*g_minus*p**3*p**g_minus*exp(x) + 2*g_minus*p**3*p**g_minus*log(1 - p) + 2*g_minus*p**3*p**g_minus + 3*g_minus*p**2*p**g_minus*y*exp(x)*log(1 - p) + 2*g_minus*p**2*p**g_minus*y*exp(x) + 2*g_minus*p**2*p**g_minus*y*log(1 - p) + 2*g_minus*p**2*p**g_minus*y - 3*g_minus*p**2*p**g_minus*exp(x)*log(1 - p) - 2*g_minus*p**2*p**g_minus*exp(x) - 2*g_minus*p**2*p**g_minus*log(1 - p) - 2*g_minus*p**2*p**g_minus - g_minus*p*p**g_minus*y*exp(x)*log(1 - p) + g_minus*p*p**g_minus*exp(x)*log(1 - p) + g_plus**2*p**2*y*(1 - p)**g_plus*exp(x)*log(p) + 2*g_plus*p**3*y*(1 - p)**g_plus*exp(x) + 2*g_plus*p**3*y*(1 - p)**g_plus + g_plus*p**2*y*(1 - p)**g_plus*exp(x)*log(p) - 2*g_plus*p**2*y*(1 - p)**g_plus*exp(x) - 2*g_plus*p**2*y*(1 - p)**g_plus - g_plus*p*y*(1 - p)**g_plus*exp(x)*log(p) + 2*p**3*y*(1 - p)**g_plus*exp(x) + 2*p**3*y*(1 - p)**g_plus - p**2*p**g_minus*y*exp(x) + p**2*p**g_minus*exp(x) - 3*p**2*y*(1 - p)**g_plus*exp(x) - 2*p**2*y*(1 - p)**g_plus + p*p**g_minus*y*exp(x) - p*p**g_minus*exp(x) + p*y*(1 - p)**g_plus*exp(x))*exp(-x))"
      ]
     },
     "metadata": {},
     "output_type": "display_data"
    },
    {
     "data": {
      "text/plain": [
       "'*********** sp.factor(der) *************'"
      ]
     },
     "metadata": {},
     "output_type": "display_data"
    },
    {
     "data": {
      "text/latex": [
       "$\\displaystyle ALS_{der2} = - \\left(- g_{minus}^{2} p^{2} p^{g_{minus}} y e^{x} \\log{\\left(1 - p \\right)} + g_{minus}^{2} p^{2} p^{g_{minus}} e^{x} \\log{\\left(1 - p \\right)} + 2 g_{minus}^{2} p p^{g_{minus}} y e^{x} \\log{\\left(1 - p \\right)} - 2 g_{minus}^{2} p p^{g_{minus}} e^{x} \\log{\\left(1 - p \\right)} - g_{minus}^{2} p^{g_{minus}} y e^{x} \\log{\\left(1 - p \\right)} + g_{minus}^{2} p^{g_{minus}} e^{x} \\log{\\left(1 - p \\right)} - 2 g_{minus} p^{3} p^{g_{minus}} y e^{x} \\log{\\left(1 - p \\right)} - 2 g_{minus} p^{3} p^{g_{minus}} y e^{x} - 2 g_{minus} p^{3} p^{g_{minus}} y \\log{\\left(1 - p \\right)} - 2 g_{minus} p^{3} p^{g_{minus}} y + 2 g_{minus} p^{3} p^{g_{minus}} e^{x} \\log{\\left(1 - p \\right)} + 2 g_{minus} p^{3} p^{g_{minus}} e^{x} + 2 g_{minus} p^{3} p^{g_{minus}} \\log{\\left(1 - p \\right)} + 2 g_{minus} p^{3} p^{g_{minus}} + 3 g_{minus} p^{2} p^{g_{minus}} y e^{x} \\log{\\left(1 - p \\right)} + 2 g_{minus} p^{2} p^{g_{minus}} y e^{x} + 2 g_{minus} p^{2} p^{g_{minus}} y \\log{\\left(1 - p \\right)} + 2 g_{minus} p^{2} p^{g_{minus}} y - 3 g_{minus} p^{2} p^{g_{minus}} e^{x} \\log{\\left(1 - p \\right)} - 2 g_{minus} p^{2} p^{g_{minus}} e^{x} - 2 g_{minus} p^{2} p^{g_{minus}} \\log{\\left(1 - p \\right)} - 2 g_{minus} p^{2} p^{g_{minus}} - g_{minus} p p^{g_{minus}} y e^{x} \\log{\\left(1 - p \\right)} + g_{minus} p p^{g_{minus}} e^{x} \\log{\\left(1 - p \\right)} + g_{plus}^{2} p^{2} y \\left(1 - p\\right)^{g_{plus}} e^{x} \\log{\\left(p \\right)} + 2 g_{plus} p^{3} y \\left(1 - p\\right)^{g_{plus}} e^{x} + 2 g_{plus} p^{3} y \\left(1 - p\\right)^{g_{plus}} + g_{plus} p^{2} y \\left(1 - p\\right)^{g_{plus}} e^{x} \\log{\\left(p \\right)} - 2 g_{plus} p^{2} y \\left(1 - p\\right)^{g_{plus}} e^{x} - 2 g_{plus} p^{2} y \\left(1 - p\\right)^{g_{plus}} - g_{plus} p y \\left(1 - p\\right)^{g_{plus}} e^{x} \\log{\\left(p \\right)} + 2 p^{3} y \\left(1 - p\\right)^{g_{plus}} e^{x} + 2 p^{3} y \\left(1 - p\\right)^{g_{plus}} - p^{2} p^{g_{minus}} y e^{x} + p^{2} p^{g_{minus}} e^{x} - 3 p^{2} y \\left(1 - p\\right)^{g_{plus}} e^{x} - 2 p^{2} y \\left(1 - p\\right)^{g_{plus}} + p p^{g_{minus}} y e^{x} - p p^{g_{minus}} e^{x} + p y \\left(1 - p\\right)^{g_{plus}} e^{x}\\right) e^{- x}$"
      ],
      "text/plain": [
       "Eq(ALS_der2, -(-g_minus**2*p**2*p**g_minus*y*exp(x)*log(1 - p) + g_minus**2*p**2*p**g_minus*exp(x)*log(1 - p) + 2*g_minus**2*p*p**g_minus*y*exp(x)*log(1 - p) - 2*g_minus**2*p*p**g_minus*exp(x)*log(1 - p) - g_minus**2*p**g_minus*y*exp(x)*log(1 - p) + g_minus**2*p**g_minus*exp(x)*log(1 - p) - 2*g_minus*p**3*p**g_minus*y*exp(x)*log(1 - p) - 2*g_minus*p**3*p**g_minus*y*exp(x) - 2*g_minus*p**3*p**g_minus*y*log(1 - p) - 2*g_minus*p**3*p**g_minus*y + 2*g_minus*p**3*p**g_minus*exp(x)*log(1 - p) + 2*g_minus*p**3*p**g_minus*exp(x) + 2*g_minus*p**3*p**g_minus*log(1 - p) + 2*g_minus*p**3*p**g_minus + 3*g_minus*p**2*p**g_minus*y*exp(x)*log(1 - p) + 2*g_minus*p**2*p**g_minus*y*exp(x) + 2*g_minus*p**2*p**g_minus*y*log(1 - p) + 2*g_minus*p**2*p**g_minus*y - 3*g_minus*p**2*p**g_minus*exp(x)*log(1 - p) - 2*g_minus*p**2*p**g_minus*exp(x) - 2*g_minus*p**2*p**g_minus*log(1 - p) - 2*g_minus*p**2*p**g_minus - g_minus*p*p**g_minus*y*exp(x)*log(1 - p) + g_minus*p*p**g_minus*exp(x)*log(1 - p) + g_plus**2*p**2*y*(1 - p)**g_plus*exp(x)*log(p) + 2*g_plus*p**3*y*(1 - p)**g_plus*exp(x) + 2*g_plus*p**3*y*(1 - p)**g_plus + g_plus*p**2*y*(1 - p)**g_plus*exp(x)*log(p) - 2*g_plus*p**2*y*(1 - p)**g_plus*exp(x) - 2*g_plus*p**2*y*(1 - p)**g_plus - g_plus*p*y*(1 - p)**g_plus*exp(x)*log(p) + 2*p**3*y*(1 - p)**g_plus*exp(x) + 2*p**3*y*(1 - p)**g_plus - p**2*p**g_minus*y*exp(x) + p**2*p**g_minus*exp(x) - 3*p**2*y*(1 - p)**g_plus*exp(x) - 2*p**2*y*(1 - p)**g_plus + p*p**g_minus*y*exp(x) - p*p**g_minus*exp(x) + p*y*(1 - p)**g_plus*exp(x))*exp(-x))"
      ]
     },
     "metadata": {},
     "output_type": "display_data"
    },
    {
     "data": {
      "text/plain": [
       "'*********** sp.symplify(der) *************'"
      ]
     },
     "metadata": {},
     "output_type": "display_data"
    },
    {
     "data": {
      "text/latex": [
       "$\\displaystyle ALS_{der2} = g_{minus}^{2} p^{g_{minus}} y \\log{\\left(1 - p \\right)} - g_{minus}^{2} p^{g_{minus}} \\log{\\left(1 - p \\right)} - 2 g_{minus}^{2} p^{g_{minus} + 1} y \\log{\\left(1 - p \\right)} + 2 g_{minus}^{2} p^{g_{minus} + 1} \\log{\\left(1 - p \\right)} + g_{minus}^{2} p^{g_{minus} + 2} y \\log{\\left(1 - p \\right)} - g_{minus}^{2} p^{g_{minus} + 2} \\log{\\left(1 - p \\right)} + g_{minus} p^{g_{minus} + 1} y \\log{\\left(1 - p \\right)} - g_{minus} p^{g_{minus} + 1} \\log{\\left(1 - p \\right)} - 3 g_{minus} p^{g_{minus} + 2} y \\log{\\left(1 - p \\right)} - 2 g_{minus} p^{g_{minus} + 2} y - 2 g_{minus} p^{g_{minus} + 2} y e^{- x} \\log{\\left(1 - p \\right)} - 2 g_{minus} p^{g_{minus} + 2} y e^{- x} + 3 g_{minus} p^{g_{minus} + 2} \\log{\\left(1 - p \\right)} + 2 g_{minus} p^{g_{minus} + 2} + 2 g_{minus} p^{g_{minus} + 2} e^{- x} \\log{\\left(1 - p \\right)} + 2 g_{minus} p^{g_{minus} + 2} e^{- x} + 2 g_{minus} p^{g_{minus} + 3} y \\log{\\left(1 - p \\right)} + 2 g_{minus} p^{g_{minus} + 3} y + 2 g_{minus} p^{g_{minus} + 3} y e^{- x} \\log{\\left(1 - p \\right)} + 2 g_{minus} p^{g_{minus} + 3} y e^{- x} - 2 g_{minus} p^{g_{minus} + 3} \\log{\\left(1 - p \\right)} - 2 g_{minus} p^{g_{minus} + 3} - 2 g_{minus} p^{g_{minus} + 3} e^{- x} \\log{\\left(1 - p \\right)} - 2 g_{minus} p^{g_{minus} + 3} e^{- x} - g_{plus}^{2} p^{2} y \\left(1 - p\\right)^{g_{plus}} \\log{\\left(p \\right)} - 2 g_{plus} p^{3} y \\left(1 - p\\right)^{g_{plus}} - 2 g_{plus} p^{3} y \\left(1 - p\\right)^{g_{plus}} e^{- x} - g_{plus} p^{2} y \\left(1 - p\\right)^{g_{plus}} \\log{\\left(p \\right)} + 2 g_{plus} p^{2} y \\left(1 - p\\right)^{g_{plus}} + 2 g_{plus} p^{2} y \\left(1 - p\\right)^{g_{plus}} e^{- x} + g_{plus} p y \\left(1 - p\\right)^{g_{plus}} \\log{\\left(p \\right)} - 2 p^{3} y \\left(1 - p\\right)^{g_{plus}} - 2 p^{3} y \\left(1 - p\\right)^{g_{plus}} e^{- x} + 3 p^{2} y \\left(1 - p\\right)^{g_{plus}} + 2 p^{2} y \\left(1 - p\\right)^{g_{plus}} e^{- x} - p y \\left(1 - p\\right)^{g_{plus}} - p^{g_{minus} + 1} y + p^{g_{minus} + 1} + p^{g_{minus} + 2} y - p^{g_{minus} + 2}$"
      ],
      "text/plain": [
       "Eq(ALS_der2, g_minus**2*p**g_minus*y*log(1 - p) - g_minus**2*p**g_minus*log(1 - p) - 2*g_minus**2*p**(g_minus + 1)*y*log(1 - p) + 2*g_minus**2*p**(g_minus + 1)*log(1 - p) + g_minus**2*p**(g_minus + 2)*y*log(1 - p) - g_minus**2*p**(g_minus + 2)*log(1 - p) + g_minus*p**(g_minus + 1)*y*log(1 - p) - g_minus*p**(g_minus + 1)*log(1 - p) - 3*g_minus*p**(g_minus + 2)*y*log(1 - p) - 2*g_minus*p**(g_minus + 2)*y - 2*g_minus*p**(g_minus + 2)*y*exp(-x)*log(1 - p) - 2*g_minus*p**(g_minus + 2)*y*exp(-x) + 3*g_minus*p**(g_minus + 2)*log(1 - p) + 2*g_minus*p**(g_minus + 2) + 2*g_minus*p**(g_minus + 2)*exp(-x)*log(1 - p) + 2*g_minus*p**(g_minus + 2)*exp(-x) + 2*g_minus*p**(g_minus + 3)*y*log(1 - p) + 2*g_minus*p**(g_minus + 3)*y + 2*g_minus*p**(g_minus + 3)*y*exp(-x)*log(1 - p) + 2*g_minus*p**(g_minus + 3)*y*exp(-x) - 2*g_minus*p**(g_minus + 3)*log(1 - p) - 2*g_minus*p**(g_minus + 3) - 2*g_minus*p**(g_minus + 3)*exp(-x)*log(1 - p) - 2*g_minus*p**(g_minus + 3)*exp(-x) - g_plus**2*p**2*y*(1 - p)**g_plus*log(p) - 2*g_plus*p**3*y*(1 - p)**g_plus - 2*g_plus*p**3*y*(1 - p)**g_plus*exp(-x) - g_plus*p**2*y*(1 - p)**g_plus*log(p) + 2*g_plus*p**2*y*(1 - p)**g_plus + 2*g_plus*p**2*y*(1 - p)**g_plus*exp(-x) + g_plus*p*y*(1 - p)**g_plus*log(p) - 2*p**3*y*(1 - p)**g_plus - 2*p**3*y*(1 - p)**g_plus*exp(-x) + 3*p**2*y*(1 - p)**g_plus + 2*p**2*y*(1 - p)**g_plus*exp(-x) - p*y*(1 - p)**g_plus - p**(g_minus + 1)*y + p**(g_minus + 1) + p**(g_minus + 2)*y - p**(g_minus + 2))"
      ]
     },
     "metadata": {},
     "output_type": "display_data"
    },
    {
     "data": {
      "text/plain": [
       "'**********    der.subs(sp.exp(x), p / (1-p))  *****************'"
      ]
     },
     "metadata": {},
     "output_type": "display_data"
    },
    {
     "data": {
      "text/latex": [
       "$\\displaystyle ALS_{der2} = g_{minus}^{2} p^{g_{minus}} y \\log{\\left(1 - p \\right)} - g_{minus}^{2} p^{g_{minus}} \\log{\\left(1 - p \\right)} - 2 g_{minus}^{2} p^{g_{minus} + 1} y \\log{\\left(1 - p \\right)} + 2 g_{minus}^{2} p^{g_{minus} + 1} \\log{\\left(1 - p \\right)} + g_{minus}^{2} p^{g_{minus} + 2} y \\log{\\left(1 - p \\right)} - g_{minus}^{2} p^{g_{minus} + 2} \\log{\\left(1 - p \\right)} + g_{minus} p^{g_{minus} + 1} y \\log{\\left(1 - p \\right)} - g_{minus} p^{g_{minus} + 1} \\log{\\left(1 - p \\right)} - 3 g_{minus} p^{g_{minus} + 2} y \\log{\\left(1 - p \\right)} - 2 g_{minus} p^{g_{minus} + 2} y + 3 g_{minus} p^{g_{minus} + 2} \\log{\\left(1 - p \\right)} + 2 g_{minus} p^{g_{minus} + 2} + 2 g_{minus} p^{g_{minus} + 3} y \\log{\\left(1 - p \\right)} + 2 g_{minus} p^{g_{minus} + 3} y - 2 g_{minus} p^{g_{minus} + 3} \\log{\\left(1 - p \\right)} - 2 g_{minus} p^{g_{minus} + 3} - \\frac{2 g_{minus} p^{g_{minus} + 2} y \\left(1 - p\\right) \\log{\\left(1 - p \\right)}}{p} - \\frac{2 g_{minus} p^{g_{minus} + 2} y \\left(1 - p\\right)}{p} + \\frac{2 g_{minus} p^{g_{minus} + 2} \\left(1 - p\\right) \\log{\\left(1 - p \\right)}}{p} + \\frac{2 g_{minus} p^{g_{minus} + 2} \\left(1 - p\\right)}{p} + \\frac{2 g_{minus} p^{g_{minus} + 3} y \\left(1 - p\\right) \\log{\\left(1 - p \\right)}}{p} + \\frac{2 g_{minus} p^{g_{minus} + 3} y \\left(1 - p\\right)}{p} - \\frac{2 g_{minus} p^{g_{minus} + 3} \\left(1 - p\\right) \\log{\\left(1 - p \\right)}}{p} - \\frac{2 g_{minus} p^{g_{minus} + 3} \\left(1 - p\\right)}{p} - g_{plus}^{2} p^{2} y \\left(1 - p\\right)^{g_{plus}} \\log{\\left(p \\right)} - 2 g_{plus} p^{3} y \\left(1 - p\\right)^{g_{plus}} - 2 g_{plus} p^{2} y \\left(1 - p\\right) \\left(1 - p\\right)^{g_{plus}} - g_{plus} p^{2} y \\left(1 - p\\right)^{g_{plus}} \\log{\\left(p \\right)} + 2 g_{plus} p^{2} y \\left(1 - p\\right)^{g_{plus}} + 2 g_{plus} p y \\left(1 - p\\right) \\left(1 - p\\right)^{g_{plus}} + g_{plus} p y \\left(1 - p\\right)^{g_{plus}} \\log{\\left(p \\right)} - 2 p^{3} y \\left(1 - p\\right)^{g_{plus}} - 2 p^{2} y \\left(1 - p\\right) \\left(1 - p\\right)^{g_{plus}} + 3 p^{2} y \\left(1 - p\\right)^{g_{plus}} + 2 p y \\left(1 - p\\right) \\left(1 - p\\right)^{g_{plus}} - p y \\left(1 - p\\right)^{g_{plus}} - p^{g_{minus} + 1} y + p^{g_{minus} + 1} + p^{g_{minus} + 2} y - p^{g_{minus} + 2}$"
      ],
      "text/plain": [
       "Eq(ALS_der2, g_minus**2*p**g_minus*y*log(1 - p) - g_minus**2*p**g_minus*log(1 - p) - 2*g_minus**2*p**(g_minus + 1)*y*log(1 - p) + 2*g_minus**2*p**(g_minus + 1)*log(1 - p) + g_minus**2*p**(g_minus + 2)*y*log(1 - p) - g_minus**2*p**(g_minus + 2)*log(1 - p) + g_minus*p**(g_minus + 1)*y*log(1 - p) - g_minus*p**(g_minus + 1)*log(1 - p) - 3*g_minus*p**(g_minus + 2)*y*log(1 - p) - 2*g_minus*p**(g_minus + 2)*y + 3*g_minus*p**(g_minus + 2)*log(1 - p) + 2*g_minus*p**(g_minus + 2) + 2*g_minus*p**(g_minus + 3)*y*log(1 - p) + 2*g_minus*p**(g_minus + 3)*y - 2*g_minus*p**(g_minus + 3)*log(1 - p) - 2*g_minus*p**(g_minus + 3) - 2*g_minus*p**(g_minus + 2)*y*(1 - p)*log(1 - p)/p - 2*g_minus*p**(g_minus + 2)*y*(1 - p)/p + 2*g_minus*p**(g_minus + 2)*(1 - p)*log(1 - p)/p + 2*g_minus*p**(g_minus + 2)*(1 - p)/p + 2*g_minus*p**(g_minus + 3)*y*(1 - p)*log(1 - p)/p + 2*g_minus*p**(g_minus + 3)*y*(1 - p)/p - 2*g_minus*p**(g_minus + 3)*(1 - p)*log(1 - p)/p - 2*g_minus*p**(g_minus + 3)*(1 - p)/p - g_plus**2*p**2*y*(1 - p)**g_plus*log(p) - 2*g_plus*p**3*y*(1 - p)**g_plus - 2*g_plus*p**2*y*(1 - p)*(1 - p)**g_plus - g_plus*p**2*y*(1 - p)**g_plus*log(p) + 2*g_plus*p**2*y*(1 - p)**g_plus + 2*g_plus*p*y*(1 - p)*(1 - p)**g_plus + g_plus*p*y*(1 - p)**g_plus*log(p) - 2*p**3*y*(1 - p)**g_plus - 2*p**2*y*(1 - p)*(1 - p)**g_plus + 3*p**2*y*(1 - p)**g_plus + 2*p*y*(1 - p)*(1 - p)**g_plus - p*y*(1 - p)**g_plus - p**(g_minus + 1)*y + p**(g_minus + 1) + p**(g_minus + 2)*y - p**(g_minus + 2))"
      ]
     },
     "metadata": {},
     "output_type": "display_data"
    },
    {
     "data": {
      "text/plain": [
       "'*********** sp.factor(der) *************'"
      ]
     },
     "metadata": {},
     "output_type": "display_data"
    },
    {
     "data": {
      "text/latex": [
       "$\\displaystyle ALS_{der2} = g_{minus}^{2} p^{2} p^{g_{minus}} y \\log{\\left(1 - p \\right)} - g_{minus}^{2} p^{2} p^{g_{minus}} \\log{\\left(1 - p \\right)} - 2 g_{minus}^{2} p p^{g_{minus}} y \\log{\\left(1 - p \\right)} + 2 g_{minus}^{2} p p^{g_{minus}} \\log{\\left(1 - p \\right)} + g_{minus}^{2} p^{g_{minus}} y \\log{\\left(1 - p \\right)} - g_{minus}^{2} p^{g_{minus}} \\log{\\left(1 - p \\right)} + g_{minus} p^{2} p^{g_{minus}} y \\log{\\left(1 - p \\right)} + 2 g_{minus} p^{2} p^{g_{minus}} y - g_{minus} p^{2} p^{g_{minus}} \\log{\\left(1 - p \\right)} - 2 g_{minus} p^{2} p^{g_{minus}} - g_{minus} p p^{g_{minus}} y \\log{\\left(1 - p \\right)} - 2 g_{minus} p p^{g_{minus}} y + g_{minus} p p^{g_{minus}} \\log{\\left(1 - p \\right)} + 2 g_{minus} p p^{g_{minus}} - g_{plus}^{2} p^{2} y \\left(1 - p\\right)^{g_{plus}} \\log{\\left(p \\right)} - g_{plus} p^{2} y \\left(1 - p\\right)^{g_{plus}} \\log{\\left(p \\right)} - 2 g_{plus} p^{2} y \\left(1 - p\\right)^{g_{plus}} + g_{plus} p y \\left(1 - p\\right)^{g_{plus}} \\log{\\left(p \\right)} + 2 g_{plus} p y \\left(1 - p\\right)^{g_{plus}} + p^{2} p^{g_{minus}} y - p^{2} p^{g_{minus}} - p^{2} y \\left(1 - p\\right)^{g_{plus}} - p p^{g_{minus}} y + p p^{g_{minus}} + p y \\left(1 - p\\right)^{g_{plus}}$"
      ],
      "text/plain": [
       "Eq(ALS_der2, g_minus**2*p**2*p**g_minus*y*log(1 - p) - g_minus**2*p**2*p**g_minus*log(1 - p) - 2*g_minus**2*p*p**g_minus*y*log(1 - p) + 2*g_minus**2*p*p**g_minus*log(1 - p) + g_minus**2*p**g_minus*y*log(1 - p) - g_minus**2*p**g_minus*log(1 - p) + g_minus*p**2*p**g_minus*y*log(1 - p) + 2*g_minus*p**2*p**g_minus*y - g_minus*p**2*p**g_minus*log(1 - p) - 2*g_minus*p**2*p**g_minus - g_minus*p*p**g_minus*y*log(1 - p) - 2*g_minus*p*p**g_minus*y + g_minus*p*p**g_minus*log(1 - p) + 2*g_minus*p*p**g_minus - g_plus**2*p**2*y*(1 - p)**g_plus*log(p) - g_plus*p**2*y*(1 - p)**g_plus*log(p) - 2*g_plus*p**2*y*(1 - p)**g_plus + g_plus*p*y*(1 - p)**g_plus*log(p) + 2*g_plus*p*y*(1 - p)**g_plus + p**2*p**g_minus*y - p**2*p**g_minus - p**2*y*(1 - p)**g_plus - p*p**g_minus*y + p*p**g_minus + p*y*(1 - p)**g_plus)"
      ]
     },
     "metadata": {},
     "output_type": "display_data"
    },
    {
     "data": {
      "text/plain": [
       "'*********** sp.symplify(der) *************'"
      ]
     },
     "metadata": {},
     "output_type": "display_data"
    },
    {
     "data": {
      "text/latex": [
       "$\\displaystyle ALS_{der2} = g_{minus}^{2} p^{g_{minus}} y \\log{\\left(1 - p \\right)} - g_{minus}^{2} p^{g_{minus}} \\log{\\left(1 - p \\right)} - 2 g_{minus}^{2} p^{g_{minus} + 1} y \\log{\\left(1 - p \\right)} + 2 g_{minus}^{2} p^{g_{minus} + 1} \\log{\\left(1 - p \\right)} + g_{minus}^{2} p^{g_{minus} + 2} y \\log{\\left(1 - p \\right)} - g_{minus}^{2} p^{g_{minus} + 2} \\log{\\left(1 - p \\right)} - g_{minus} p^{g_{minus} + 1} y \\log{\\left(1 - p \\right)} - 2 g_{minus} p^{g_{minus} + 1} y + g_{minus} p^{g_{minus} + 1} \\log{\\left(1 - p \\right)} + 2 g_{minus} p^{g_{minus} + 1} + g_{minus} p^{g_{minus} + 2} y \\log{\\left(1 - p \\right)} + 2 g_{minus} p^{g_{minus} + 2} y - g_{minus} p^{g_{minus} + 2} \\log{\\left(1 - p \\right)} - 2 g_{minus} p^{g_{minus} + 2} - g_{plus}^{2} p^{2} y \\left(1 - p\\right)^{g_{plus}} \\log{\\left(p \\right)} - g_{plus} p^{2} y \\left(1 - p\\right)^{g_{plus}} \\log{\\left(p \\right)} - 2 g_{plus} p^{2} y \\left(1 - p\\right)^{g_{plus}} + g_{plus} p y \\left(1 - p\\right)^{g_{plus}} \\log{\\left(p \\right)} + 2 g_{plus} p y \\left(1 - p\\right)^{g_{plus}} - p^{2} y \\left(1 - p\\right)^{g_{plus}} + p y \\left(1 - p\\right)^{g_{plus}} - p^{g_{minus} + 1} y + p^{g_{minus} + 1} + p^{g_{minus} + 2} y - p^{g_{minus} + 2}$"
      ],
      "text/plain": [
       "Eq(ALS_der2, g_minus**2*p**g_minus*y*log(1 - p) - g_minus**2*p**g_minus*log(1 - p) - 2*g_minus**2*p**(g_minus + 1)*y*log(1 - p) + 2*g_minus**2*p**(g_minus + 1)*log(1 - p) + g_minus**2*p**(g_minus + 2)*y*log(1 - p) - g_minus**2*p**(g_minus + 2)*log(1 - p) - g_minus*p**(g_minus + 1)*y*log(1 - p) - 2*g_minus*p**(g_minus + 1)*y + g_minus*p**(g_minus + 1)*log(1 - p) + 2*g_minus*p**(g_minus + 1) + g_minus*p**(g_minus + 2)*y*log(1 - p) + 2*g_minus*p**(g_minus + 2)*y - g_minus*p**(g_minus + 2)*log(1 - p) - 2*g_minus*p**(g_minus + 2) - g_plus**2*p**2*y*(1 - p)**g_plus*log(p) - g_plus*p**2*y*(1 - p)**g_plus*log(p) - 2*g_plus*p**2*y*(1 - p)**g_plus + g_plus*p*y*(1 - p)**g_plus*log(p) + 2*g_plus*p*y*(1 - p)**g_plus - p**2*y*(1 - p)**g_plus + p*y*(1 - p)**g_plus - p**(g_minus + 1)*y + p**(g_minus + 1) + p**(g_minus + 2)*y - p**(g_minus + 2))"
      ]
     },
     "metadata": {},
     "output_type": "display_data"
    }
   ],
   "source": [
    "print('Формулы функции потерь обозначены L \\n'\n",
    "      'первая и вторая производные der1 и der2')\n",
    "\n",
    "ALS_der1, ALS_der2 = AsymmetricLossFormulas()"
   ]
  },
  {
   "cell_type": "code",
   "execution_count": null,
   "metadata": {
    "collapsed": false,
    "jupyter": {
     "outputs_hidden": false
    },
    "pycharm": {
     "name": "#%%\n"
    }
   },
   "outputs": [],
   "source": [
    "print('1 Упрощенная производная Асимметричной функции потерь ALS \\n'\n",
    "      'упрощение удаляет все экспонеенты, оставляет только логарифмы\\n'\n",
    "      'вторая производная намного длиннее, здесь я её не печатаю ')\n",
    "\n",
    "ALS_der1_simp = get_simplified_derivative(ALS_der1, verbose=True, der_name='ALS_der1')\n",
    "ALS_der2_simp = get_simplified_derivative(ALS_der2, verbose=False, der_name='ALS_der2')"
   ]
  },
  {
   "cell_type": "code",
   "execution_count": 18,
   "metadata": {
    "collapsed": false,
    "jupyter": {
     "outputs_hidden": false
    },
    "pycharm": {
     "name": "#%%\n"
    }
   },
   "outputs": [
    {
     "name": "stdout",
     "output_type": "stream",
     "text": [
      "0:\tlearn: 0.7196265\ttest: 0.6101332\tbest: 0.6101332 (0)\ttotal: 28.8s\tremaining: 9m 7s\n",
      "4:\tlearn: 0.7196265\ttest: 0.6101332\tbest: 0.6101332 (0)\ttotal: 2m 15s\tremaining: 6m 46s\n",
      "8:\tlearn: 0.7261607\ttest: 0.6160824\tbest: 0.6160824 (6)\ttotal: 4m 3s\tremaining: 4m 57s\n",
      "12:\tlearn: 0.7267712\ttest: 0.6163832\tbest: 0.6163832 (12)\ttotal: 5m 49s\tremaining: 3m 7s\n",
      "16:\tlearn: 0.7283695\ttest: 0.6136529\tbest: 0.6163832 (12)\ttotal: 7m 35s\tremaining: 1m 20s\n",
      "19:\tlearn: 0.7283874\ttest: 0.6136743\tbest: 0.6163832 (12)\ttotal: 8m 51s\tremaining: 0us\n",
      "\n",
      "bestTest = 0.616383183\n",
      "bestIteration = 12\n",
      "\n",
      "Shrink model to first 13 iterations.\n",
      "Здесь функция потерь ASL реализована через numpy, Python, \n",
      "формула приводится выше \n",
      "\n",
      "CPU times: user 9min 45s, sys: 45.4 s, total: 10min 31s\n",
      "Wall time: 8min 52s\n"
     ]
    }
   ],
   "source": [
    "%%time\n",
    "params = config.params\n",
    "params.update({\n",
    "    'loss_function': AsymmetricLossObjective(der1=ALS_der1_simp, der2=ALS_der2_simp),\n",
    "    'iterations': iterations,\n",
    "    'verbose': iterations // 5,\n",
    "})\n",
    "clf_logloss_custom_loop = CatBoostClassifier(**params)\n",
    "clf_logloss_custom_loop.fit(X=train_pool,\n",
    "        eval_set=val_pool,\n",
    "        use_best_model=True)\n",
    "print(f'Здесь функция потерь ASL реализована через numpy, Python, \\n'\n",
    "      f'формула приводится выше \\n'\n",
    ")\n",
    "\n"
   ]
  },
  {
   "cell_type": "code",
   "execution_count": 19,
   "metadata": {
    "collapsed": false,
    "jupyter": {
     "outputs_hidden": false
    },
    "pycharm": {
     "name": "#%%\n"
    }
   },
   "outputs": [
    {
     "name": "stdout",
     "output_type": "stream",
     "text": [
      "FINISH\n"
     ]
    }
   ],
   "source": [
    "print('FINISH')"
   ]
  },
  {
   "cell_type": "code",
   "execution_count": 19,
   "metadata": {
    "collapsed": false,
    "jupyter": {
     "outputs_hidden": false
    },
    "pycharm": {
     "name": "#%%\n"
    }
   },
   "outputs": [],
   "source": []
  }
 ],
 "metadata": {
  "kernelspec": {
   "display_name": "Python 3",
   "language": "python",
   "name": "python3"
  },
  "language_info": {
   "codemirror_mode": {
    "name": "ipython",
    "version": 3
   },
   "file_extension": ".py",
   "mimetype": "text/x-python",
   "name": "python",
   "nbconvert_exporter": "python",
   "pygments_lexer": "ipython3",
   "version": "3.8.5"
  }
 },
 "nbformat": 4,
 "nbformat_minor": 4
}