{
 "cells": [
  {
   "cell_type": "code",
   "execution_count": 1,
   "metadata": {
    "collapsed": true
   },
   "outputs": [
    {
     "name": "stdout",
     "output_type": "stream",
     "text": [
      "cur_dir /home/sergey/mnt/st1500/Usr/Sergey/TheJob/Otus/ML_advanced2020/final_project\n"
     ]
    }
   ],
   "source": [
    "import sys\n",
    "import os\n",
    "import numpy as np\n",
    "import pandas as pd\n",
    "import warnings\n",
    "import plotly\n",
    "import plotly.graph_objects as go\n",
    "from matplotlib import pyplot as plt\n",
    "import plotly.express as px\n",
    "from pathlib import Path\n",
    "import warnings\n",
    "import config\n",
    "import preprocess\n",
    "from custom_metrics import LoglossObjective_loop, LoglossObjective_np\n",
    "from collections import defaultdict\n",
    "from catboost import CatBoostClassifier, Pool\n",
    "\n",
    "sys.path.append('./cython_loss')\n",
    "from cython1 import LoglossObjective_cython\n",
    "\n",
    "os.environ['PYARROW_IGNORE_TIMEZONE'] = '1'\n",
    "# import featuretools as ft\n",
    "\n",
    "warnings.filterwarnings(\"ignore\", category=DeprecationWarning)\n",
    "\n",
    "pd.set_option('display.max_rows', 120)\n",
    "plt.style.use(\"dark_background\")\n",
    "plt.rcParams['figure.figsize'] = (12, 5)\n",
    "plt.rcParams[\"hist.bins\"] = 50\n",
    "print('cur_dir', Path.cwd())"
   ]
  },
  {
   "cell_type": "code",
   "execution_count": 2,
   "outputs": [
    {
     "name": "stderr",
     "output_type": "stream",
     "text": [
      "/home/sergey/anaconda3/envs/final_project/lib/python3.8/site-packages/featuretools_update_checker/functions.py:34: UserWarning: Featuretools is out-of-date: installed == 0.23.1, latest == 0.23.2\n",
      "  warnings.warn(msg)\n"
     ]
    },
    {
     "name": "stdout",
     "output_type": "stream",
     "text": [
      " (274702, 13)\n"
     ]
    },
    {
     "data": {
      "text/plain": "   DealDurationDays  DealDurationMonths  Client_Id   DealDate  ValueDate  \\\n0               8.0                   0      16140 2015-01-12 2015-01-12   \n1              53.0                   1      21990 2015-01-12 2015-01-12   \n2              92.0                   3      18607 2015-01-12 2015-01-12   \n3               1.0                   0      20500 2015-01-12 2015-01-12   \n4               1.0                   0       4041 2015-01-12 2015-01-12   \n\n  MaturityDate  Deal_characteristics_1  Deal_characteristics_2  \\\n0   2015-01-20                7.018746                  0.0000   \n1   2015-03-06                0.306237                  0.1146   \n2   2015-04-14                0.306237                  0.1201   \n3   2015-01-13                2.985808                  0.0896   \n4   2015-01-13                0.418013                  0.0805   \n\n   Deal_characteristics_3  Deal_characteristics_4  Client_characteristics_1  \\\n0                0.140368                       0                        15   \n1                0.087720                       2                        15   \n2                0.054139                       2                        15   \n3                0.100056                       2                        15   \n4                0.168161                       2                        15   \n\n   Client_characteristics_2  target  \n0                      1759       1  \n1                      1759       1  \n2                      1759       1  \n3                      1759       1  \n4                      1759       1  ",
      "text/html": "<div>\n<style scoped>\n    .dataframe tbody tr th:only-of-type {\n        vertical-align: middle;\n    }\n\n    .dataframe tbody tr th {\n        vertical-align: top;\n    }\n\n    .dataframe thead th {\n        text-align: right;\n    }\n</style>\n<table border=\"1\" class=\"dataframe\">\n  <thead>\n    <tr style=\"text-align: right;\">\n      <th></th>\n      <th>DealDurationDays</th>\n      <th>DealDurationMonths</th>\n      <th>Client_Id</th>\n      <th>DealDate</th>\n      <th>ValueDate</th>\n      <th>MaturityDate</th>\n      <th>Deal_characteristics_1</th>\n      <th>Deal_characteristics_2</th>\n      <th>Deal_characteristics_3</th>\n      <th>Deal_characteristics_4</th>\n      <th>Client_characteristics_1</th>\n      <th>Client_characteristics_2</th>\n      <th>target</th>\n    </tr>\n  </thead>\n  <tbody>\n    <tr>\n      <th>0</th>\n      <td>8.0</td>\n      <td>0</td>\n      <td>16140</td>\n      <td>2015-01-12</td>\n      <td>2015-01-12</td>\n      <td>2015-01-20</td>\n      <td>7.018746</td>\n      <td>0.0000</td>\n      <td>0.140368</td>\n      <td>0</td>\n      <td>15</td>\n      <td>1759</td>\n      <td>1</td>\n    </tr>\n    <tr>\n      <th>1</th>\n      <td>53.0</td>\n      <td>1</td>\n      <td>21990</td>\n      <td>2015-01-12</td>\n      <td>2015-01-12</td>\n      <td>2015-03-06</td>\n      <td>0.306237</td>\n      <td>0.1146</td>\n      <td>0.087720</td>\n      <td>2</td>\n      <td>15</td>\n      <td>1759</td>\n      <td>1</td>\n    </tr>\n    <tr>\n      <th>2</th>\n      <td>92.0</td>\n      <td>3</td>\n      <td>18607</td>\n      <td>2015-01-12</td>\n      <td>2015-01-12</td>\n      <td>2015-04-14</td>\n      <td>0.306237</td>\n      <td>0.1201</td>\n      <td>0.054139</td>\n      <td>2</td>\n      <td>15</td>\n      <td>1759</td>\n      <td>1</td>\n    </tr>\n    <tr>\n      <th>3</th>\n      <td>1.0</td>\n      <td>0</td>\n      <td>20500</td>\n      <td>2015-01-12</td>\n      <td>2015-01-12</td>\n      <td>2015-01-13</td>\n      <td>2.985808</td>\n      <td>0.0896</td>\n      <td>0.100056</td>\n      <td>2</td>\n      <td>15</td>\n      <td>1759</td>\n      <td>1</td>\n    </tr>\n    <tr>\n      <th>4</th>\n      <td>1.0</td>\n      <td>0</td>\n      <td>4041</td>\n      <td>2015-01-12</td>\n      <td>2015-01-12</td>\n      <td>2015-01-13</td>\n      <td>0.418013</td>\n      <td>0.0805</td>\n      <td>0.168161</td>\n      <td>2</td>\n      <td>15</td>\n      <td>1759</td>\n      <td>1</td>\n    </tr>\n  </tbody>\n</table>\n</div>"
     },
     "execution_count": 2,
     "metadata": {},
     "output_type": "execute_result"
    }
   ],
   "source": [
    "data = pd.read_csv(\"/home/sergey/mnt/4.5Tb/Downloads/otus_final_input/data_encoded.csv\",\n",
    "                   low_memory=False,\n",
    "                   ).astype(config.dtypes)\n",
    "data = preprocess.preprocess(data)\n",
    "print(\"\", data.shape)\n",
    "data.head()"
   ],
   "metadata": {
    "collapsed": false,
    "pycharm": {
     "name": "#%%\n"
    }
   }
  },
  {
   "cell_type": "code",
   "execution_count": 3,
   "outputs": [],
   "source": [
    "# print(data.columns)"
   ],
   "metadata": {
    "collapsed": false,
    "pycharm": {
     "name": "#%%\n"
    }
   }
  },
  {
   "cell_type": "code",
   "execution_count": 4,
   "outputs": [],
   "source": [
    "X_val = data.groupby(data.Client_Id).tail(1)\n",
    "y_val = X_val.pop('target')\n",
    "X_train = data.drop(labels=X_val.index)\n",
    "y_train = X_train.pop('target')"
   ],
   "metadata": {
    "collapsed": false,
    "pycharm": {
     "name": "#%%\n"
    }
   }
  },
  {
   "cell_type": "code",
   "execution_count": 5,
   "outputs": [
    {
     "name": "stdout",
     "output_type": "stream",
     "text": [
      "активность клиентов, простые статистики\n"
     ]
    },
    {
     "data": {
      "text/plain": "          DealDurationDays                   DealDurationMonths            \\\n                     count       mean median              count      mean   \nClient_Id                                                                   \n0                    16510  13.290612    7.0              16510  0.245548   \n7596                  3353   1.526991    1.0               3353  0.000000   \n17708                 2158   1.994903    1.0               2158  0.002780   \n8269                  1797   5.678353    6.0               1797  0.000000   \n11790                 1439  29.776928   26.0               1439  0.503127   \n...                    ...        ...    ...                ...       ...   \n1476                     1  28.000000   28.0                  1  0.000000   \n10884                    1   7.000000    7.0                  1  0.000000   \n1462                     1   3.000000    3.0                  1  0.000000   \n5381                     1  13.000000   13.0                  1  0.000000   \n6840                     1  33.000000   33.0                  1  1.000000   \n\n                 Client_Id               Deal_characteristics_1  ...  \\\n          median     count   mean median                  count  ...   \nClient_Id                                                        ...   \n0            0.0     16510      0      0                  16510  ...   \n7596         0.0      3353   7596   7596                   3353  ...   \n17708        0.0      2158  17708  17708                   2158  ...   \n8269         0.0      1797   8269   8269                   1797  ...   \n11790        0.0      1439  11790  11790                   1439  ...   \n...          ...       ...    ...    ...                    ...  ...   \n1476         0.0         1   1476   1476                      1  ...   \n10884        0.0         1  10884  10884                      1  ...   \n1462         0.0         1   1462   1462                      1  ...   \n5381         0.0         1   5381   5381                      1  ...   \n6840         1.0         1   6840   6840                      1  ...   \n\n          Deal_characteristics_3 Deal_characteristics_4                   \\\n                          median                  count      mean median   \nClient_Id                                                                  \n0                       0.074074                  16510  1.677832      2   \n7596                    0.067925                   3353  2.000000      2   \n17708                   0.076577                   2158  1.000000      1   \n8269                    0.080000                   1797  0.000000      0   \n11790                   0.079261                   1439  0.000000      0   \n...                          ...                    ...       ...    ...   \n1476                    0.127649                      1  0.000000      0   \n10884                   0.109683                      1  2.000000      2   \n1462                    0.120395                      1  2.000000      2   \n5381                    0.078762                      1  2.000000      2   \n6840                    0.086843                      1  2.000000      2   \n\n          Client_characteristics_1                   Client_characteristics_2  \\\n                             count       mean median                    count   \nClient_Id                                                                       \n0                            16510  10.497638   13.0                    16510   \n7596                          3353   7.232627    7.0                     3353   \n17708                         2158  15.000000   15.0                     2158   \n8269                          1797  10.648303   15.0                     1797   \n11790                         1439  10.970813   15.0                     1439   \n...                            ...        ...    ...                      ...   \n1476                             1  15.000000   15.0                        1   \n10884                            1  15.000000   15.0                        1   \n1462                             1  15.000000   15.0                        1   \n5381                             1  15.000000   15.0                        1   \n6840                             1  15.000000   15.0                        1   \n\n                                \n                  mean  median  \nClient_Id                       \n0          1308.578922  1737.0  \n7596        944.866090   954.0  \n17708      1759.000000  1759.0  \n8269       1004.415693  1759.0  \n11790      1467.997220  1759.0  \n...                ...     ...  \n1476       1759.000000  1759.0  \n10884      1759.000000  1759.0  \n1462       1759.000000  1759.0  \n5381       1759.000000  1759.0  \n6840       1759.000000  1759.0  \n\n[13050 rows x 27 columns]",
      "text/html": "<div>\n<style scoped>\n    .dataframe tbody tr th:only-of-type {\n        vertical-align: middle;\n    }\n\n    .dataframe tbody tr th {\n        vertical-align: top;\n    }\n\n    .dataframe thead tr th {\n        text-align: left;\n    }\n\n    .dataframe thead tr:last-of-type th {\n        text-align: right;\n    }\n</style>\n<table border=\"1\" class=\"dataframe\">\n  <thead>\n    <tr>\n      <th></th>\n      <th colspan=\"3\" halign=\"left\">DealDurationDays</th>\n      <th colspan=\"3\" halign=\"left\">DealDurationMonths</th>\n      <th colspan=\"3\" halign=\"left\">Client_Id</th>\n      <th>Deal_characteristics_1</th>\n      <th>...</th>\n      <th>Deal_characteristics_3</th>\n      <th colspan=\"3\" halign=\"left\">Deal_characteristics_4</th>\n      <th colspan=\"3\" halign=\"left\">Client_characteristics_1</th>\n      <th colspan=\"3\" halign=\"left\">Client_characteristics_2</th>\n    </tr>\n    <tr>\n      <th></th>\n      <th>count</th>\n      <th>mean</th>\n      <th>median</th>\n      <th>count</th>\n      <th>mean</th>\n      <th>median</th>\n      <th>count</th>\n      <th>mean</th>\n      <th>median</th>\n      <th>count</th>\n      <th>...</th>\n      <th>median</th>\n      <th>count</th>\n      <th>mean</th>\n      <th>median</th>\n      <th>count</th>\n      <th>mean</th>\n      <th>median</th>\n      <th>count</th>\n      <th>mean</th>\n      <th>median</th>\n    </tr>\n    <tr>\n      <th>Client_Id</th>\n      <th></th>\n      <th></th>\n      <th></th>\n      <th></th>\n      <th></th>\n      <th></th>\n      <th></th>\n      <th></th>\n      <th></th>\n      <th></th>\n      <th></th>\n      <th></th>\n      <th></th>\n      <th></th>\n      <th></th>\n      <th></th>\n      <th></th>\n      <th></th>\n      <th></th>\n      <th></th>\n      <th></th>\n    </tr>\n  </thead>\n  <tbody>\n    <tr>\n      <th>0</th>\n      <td>16510</td>\n      <td>13.290612</td>\n      <td>7.0</td>\n      <td>16510</td>\n      <td>0.245548</td>\n      <td>0.0</td>\n      <td>16510</td>\n      <td>0</td>\n      <td>0</td>\n      <td>16510</td>\n      <td>...</td>\n      <td>0.074074</td>\n      <td>16510</td>\n      <td>1.677832</td>\n      <td>2</td>\n      <td>16510</td>\n      <td>10.497638</td>\n      <td>13.0</td>\n      <td>16510</td>\n      <td>1308.578922</td>\n      <td>1737.0</td>\n    </tr>\n    <tr>\n      <th>7596</th>\n      <td>3353</td>\n      <td>1.526991</td>\n      <td>1.0</td>\n      <td>3353</td>\n      <td>0.000000</td>\n      <td>0.0</td>\n      <td>3353</td>\n      <td>7596</td>\n      <td>7596</td>\n      <td>3353</td>\n      <td>...</td>\n      <td>0.067925</td>\n      <td>3353</td>\n      <td>2.000000</td>\n      <td>2</td>\n      <td>3353</td>\n      <td>7.232627</td>\n      <td>7.0</td>\n      <td>3353</td>\n      <td>944.866090</td>\n      <td>954.0</td>\n    </tr>\n    <tr>\n      <th>17708</th>\n      <td>2158</td>\n      <td>1.994903</td>\n      <td>1.0</td>\n      <td>2158</td>\n      <td>0.002780</td>\n      <td>0.0</td>\n      <td>2158</td>\n      <td>17708</td>\n      <td>17708</td>\n      <td>2158</td>\n      <td>...</td>\n      <td>0.076577</td>\n      <td>2158</td>\n      <td>1.000000</td>\n      <td>1</td>\n      <td>2158</td>\n      <td>15.000000</td>\n      <td>15.0</td>\n      <td>2158</td>\n      <td>1759.000000</td>\n      <td>1759.0</td>\n    </tr>\n    <tr>\n      <th>8269</th>\n      <td>1797</td>\n      <td>5.678353</td>\n      <td>6.0</td>\n      <td>1797</td>\n      <td>0.000000</td>\n      <td>0.0</td>\n      <td>1797</td>\n      <td>8269</td>\n      <td>8269</td>\n      <td>1797</td>\n      <td>...</td>\n      <td>0.080000</td>\n      <td>1797</td>\n      <td>0.000000</td>\n      <td>0</td>\n      <td>1797</td>\n      <td>10.648303</td>\n      <td>15.0</td>\n      <td>1797</td>\n      <td>1004.415693</td>\n      <td>1759.0</td>\n    </tr>\n    <tr>\n      <th>11790</th>\n      <td>1439</td>\n      <td>29.776928</td>\n      <td>26.0</td>\n      <td>1439</td>\n      <td>0.503127</td>\n      <td>0.0</td>\n      <td>1439</td>\n      <td>11790</td>\n      <td>11790</td>\n      <td>1439</td>\n      <td>...</td>\n      <td>0.079261</td>\n      <td>1439</td>\n      <td>0.000000</td>\n      <td>0</td>\n      <td>1439</td>\n      <td>10.970813</td>\n      <td>15.0</td>\n      <td>1439</td>\n      <td>1467.997220</td>\n      <td>1759.0</td>\n    </tr>\n    <tr>\n      <th>...</th>\n      <td>...</td>\n      <td>...</td>\n      <td>...</td>\n      <td>...</td>\n      <td>...</td>\n      <td>...</td>\n      <td>...</td>\n      <td>...</td>\n      <td>...</td>\n      <td>...</td>\n      <td>...</td>\n      <td>...</td>\n      <td>...</td>\n      <td>...</td>\n      <td>...</td>\n      <td>...</td>\n      <td>...</td>\n      <td>...</td>\n      <td>...</td>\n      <td>...</td>\n      <td>...</td>\n    </tr>\n    <tr>\n      <th>1476</th>\n      <td>1</td>\n      <td>28.000000</td>\n      <td>28.0</td>\n      <td>1</td>\n      <td>0.000000</td>\n      <td>0.0</td>\n      <td>1</td>\n      <td>1476</td>\n      <td>1476</td>\n      <td>1</td>\n      <td>...</td>\n      <td>0.127649</td>\n      <td>1</td>\n      <td>0.000000</td>\n      <td>0</td>\n      <td>1</td>\n      <td>15.000000</td>\n      <td>15.0</td>\n      <td>1</td>\n      <td>1759.000000</td>\n      <td>1759.0</td>\n    </tr>\n    <tr>\n      <th>10884</th>\n      <td>1</td>\n      <td>7.000000</td>\n      <td>7.0</td>\n      <td>1</td>\n      <td>0.000000</td>\n      <td>0.0</td>\n      <td>1</td>\n      <td>10884</td>\n      <td>10884</td>\n      <td>1</td>\n      <td>...</td>\n      <td>0.109683</td>\n      <td>1</td>\n      <td>2.000000</td>\n      <td>2</td>\n      <td>1</td>\n      <td>15.000000</td>\n      <td>15.0</td>\n      <td>1</td>\n      <td>1759.000000</td>\n      <td>1759.0</td>\n    </tr>\n    <tr>\n      <th>1462</th>\n      <td>1</td>\n      <td>3.000000</td>\n      <td>3.0</td>\n      <td>1</td>\n      <td>0.000000</td>\n      <td>0.0</td>\n      <td>1</td>\n      <td>1462</td>\n      <td>1462</td>\n      <td>1</td>\n      <td>...</td>\n      <td>0.120395</td>\n      <td>1</td>\n      <td>2.000000</td>\n      <td>2</td>\n      <td>1</td>\n      <td>15.000000</td>\n      <td>15.0</td>\n      <td>1</td>\n      <td>1759.000000</td>\n      <td>1759.0</td>\n    </tr>\n    <tr>\n      <th>5381</th>\n      <td>1</td>\n      <td>13.000000</td>\n      <td>13.0</td>\n      <td>1</td>\n      <td>0.000000</td>\n      <td>0.0</td>\n      <td>1</td>\n      <td>5381</td>\n      <td>5381</td>\n      <td>1</td>\n      <td>...</td>\n      <td>0.078762</td>\n      <td>1</td>\n      <td>2.000000</td>\n      <td>2</td>\n      <td>1</td>\n      <td>15.000000</td>\n      <td>15.0</td>\n      <td>1</td>\n      <td>1759.000000</td>\n      <td>1759.0</td>\n    </tr>\n    <tr>\n      <th>6840</th>\n      <td>1</td>\n      <td>33.000000</td>\n      <td>33.0</td>\n      <td>1</td>\n      <td>1.000000</td>\n      <td>1.0</td>\n      <td>1</td>\n      <td>6840</td>\n      <td>6840</td>\n      <td>1</td>\n      <td>...</td>\n      <td>0.086843</td>\n      <td>1</td>\n      <td>2.000000</td>\n      <td>2</td>\n      <td>1</td>\n      <td>15.000000</td>\n      <td>15.0</td>\n      <td>1</td>\n      <td>1759.000000</td>\n      <td>1759.0</td>\n    </tr>\n  </tbody>\n</table>\n<p>13050 rows × 27 columns</p>\n</div>"
     },
     "execution_count": 5,
     "metadata": {},
     "output_type": "execute_result"
    }
   ],
   "source": [
    "client_id_activity = X_train.groupby(data.Client_Id).agg(['count', 'mean', 'median'])\n",
    "print('активность клиентов, простые статистики')\n",
    "client_id_activity.sort_values(by=('DealDurationDays', 'count'), ascending=False)"
   ],
   "metadata": {
    "collapsed": false,
    "pycharm": {
     "name": "#%%\n"
    }
   }
  },
  {
   "cell_type": "code",
   "execution_count": 6,
   "outputs": [],
   "source": [
    "with warnings.catch_warnings():\n",
    "    warnings.filterwarnings(\"ignore\", category=UserWarning)\n",
    "\n",
    "    X_train = X_train.merge(client_id_activity, how='left', left_on='Client_Id', right_index=True).dropna()\n",
    "    X_val = X_val.merge(client_id_activity, how='left', left_on='Client_Id', right_index=True)  # .dropna()\n",
    "# y_val = y_val[X_val.index]"
   ],
   "metadata": {
    "collapsed": false,
    "pycharm": {
     "name": "#%%\n"
    }
   }
  },
  {
   "cell_type": "code",
   "execution_count": 7,
   "outputs": [
    {
     "name": "stdout",
     "output_type": "stream",
     "text": [
      "data.shape (274702, 13)\n",
      "X_train.shape (257180, 39)\n",
      "X_val.shape (17522, 39)\n",
      "data.shape[0] - X_val.shape[0] =  257180\n",
      "data.shape[0] -  X_train.shape[0] - X_val.shape[0] =  0\n",
      "13050 17522 -4472\n"
     ]
    }
   ],
   "source": [
    "print('data.shape', data.shape)\n",
    "print('X_train.shape', X_train.shape)\n",
    "print('X_val.shape', X_val.shape)\n",
    "print('data.shape[0] - X_val.shape[0] = ', data.shape[0] - X_val.shape[0])\n",
    "print('data.shape[0] -  X_train.shape[0] - X_val.shape[0] = ', data.shape[0] - X_train.shape[0] - X_val.shape[0])\n",
    "print(X_train.Client_Id.nunique(), X_val.Client_Id.nunique(), X_train.Client_Id.nunique() - X_val.Client_Id.nunique())"
   ],
   "metadata": {
    "collapsed": false,
    "pycharm": {
     "name": "#%%\n"
    }
   }
  },
  {
   "cell_type": "code",
   "execution_count": 8,
   "outputs": [],
   "source": [
    "train_pool = Pool(data=X_train, label=y_train,\n",
    "                  cat_features=config.categorical_dtypes_ft.keys())\n",
    "val_pool = Pool(data=X_val, label=y_val,\n",
    "                cat_features=config.categorical_dtypes_ft.keys())"
   ],
   "metadata": {
    "collapsed": false,
    "pycharm": {
     "name": "#%%\n"
    }
   }
  },
  {
   "cell_type": "code",
   "execution_count": 9,
   "outputs": [
    {
     "name": "stdout",
     "output_type": "stream",
     "text": [
      "0:\tlearn: 0.7196265\ttest: 0.6101332\tbest: 0.6101332 (0)\ttotal: 291ms\tremaining: 5.53s\n",
      "1:\tlearn: 0.7196265\ttest: 0.6101332\tbest: 0.6101332 (0)\ttotal: 562ms\tremaining: 5.05s\n",
      "2:\tlearn: 0.7196265\ttest: 0.6101332\tbest: 0.6101332 (0)\ttotal: 784ms\tremaining: 4.44s\n",
      "3:\tlearn: 0.7246614\ttest: 0.6145145\tbest: 0.6145145 (3)\ttotal: 957ms\tremaining: 3.83s\n",
      "4:\tlearn: 0.7246614\ttest: 0.6145145\tbest: 0.6145145 (3)\ttotal: 1.16s\tremaining: 3.49s\n",
      "5:\tlearn: 0.7246614\ttest: 0.6145145\tbest: 0.6145145 (3)\ttotal: 1.35s\tremaining: 3.16s\n",
      "6:\tlearn: 0.7246614\ttest: 0.6145145\tbest: 0.6145145 (3)\ttotal: 1.61s\tremaining: 2.99s\n",
      "7:\tlearn: 0.7246614\ttest: 0.6145145\tbest: 0.6145145 (3)\ttotal: 1.83s\tremaining: 2.75s\n",
      "8:\tlearn: 0.7252500\ttest: 0.6145384\tbest: 0.6145384 (8)\ttotal: 2.1s\tremaining: 2.56s\n",
      "9:\tlearn: 0.7252500\ttest: 0.6145384\tbest: 0.6145384 (8)\ttotal: 2.35s\tremaining: 2.35s\n",
      "10:\tlearn: 0.7251849\ttest: 0.6145384\tbest: 0.6145384 (8)\ttotal: 2.54s\tremaining: 2.08s\n",
      "11:\tlearn: 0.7251849\ttest: 0.6145384\tbest: 0.6145384 (8)\ttotal: 2.73s\tremaining: 1.82s\n",
      "12:\tlearn: 0.7252766\ttest: 0.6145491\tbest: 0.6145491 (12)\ttotal: 2.91s\tremaining: 1.57s\n",
      "13:\tlearn: 0.7252532\ttest: 0.6145383\tbest: 0.6145491 (12)\ttotal: 3.16s\tremaining: 1.35s\n",
      "14:\tlearn: 0.7253581\ttest: 0.6145579\tbest: 0.6145579 (14)\ttotal: 3.42s\tremaining: 1.14s\n",
      "15:\tlearn: 0.7254810\ttest: 0.6147518\tbest: 0.6147518 (15)\ttotal: 3.59s\tremaining: 898ms\n",
      "16:\tlearn: 0.7254810\ttest: 0.6147518\tbest: 0.6147518 (15)\ttotal: 3.84s\tremaining: 677ms\n",
      "17:\tlearn: 0.7254814\ttest: 0.6147518\tbest: 0.6147518 (15)\ttotal: 4.01s\tremaining: 445ms\n",
      "18:\tlearn: 0.7254814\ttest: 0.6147518\tbest: 0.6147518 (15)\ttotal: 4.23s\tremaining: 222ms\n",
      "19:\tlearn: 0.7257810\ttest: 0.6147749\tbest: 0.6147749 (19)\ttotal: 4.49s\tremaining: 0us\n",
      "\n",
      "bestTest = 0.6147749453\n",
      "bestIteration = 19\n",
      "\n",
      "CPU times: user 12.8 s, sys: 841 ms, total: 13.6 s\n",
      "Wall time: 5.18 s\n"
     ]
    },
    {
     "data": {
      "text/plain": "<catboost.core.CatBoostClassifier at 0x7f518bbda970>"
     },
     "execution_count": 9,
     "metadata": {},
     "output_type": "execute_result"
    }
   ],
   "source": [
    "%%time\n",
    "params = config.params\n",
    "params.update({\n",
    "    'iterations': 20,\n",
    "    'verbose': 1,\n",
    "})\n",
    "clf_logloss_ref = CatBoostClassifier(**params)\n",
    "clf_logloss_ref.fit(X=train_pool,\n",
    "        eval_set=val_pool,\n",
    "        use_best_model=True)\n"
   ],
   "metadata": {
    "collapsed": false,
    "pycharm": {
     "name": "#%%\n"
    }
   }
  },
  {
   "cell_type": "code",
   "execution_count": 10,
   "outputs": [],
   "source": [],
   "metadata": {
    "collapsed": false,
    "pycharm": {
     "name": "#%%\n"
    }
   }
  },
  {
   "cell_type": "code",
   "execution_count": 12,
   "outputs": [],
   "source": [
    "# %%time\n",
    "# params = config.params\n",
    "# params.update({\n",
    "#     'loss_function': LoglossObjective_np()\n",
    "# })\n",
    "# clf_logloss_custom_np = CatBoostClassifier(**params)\n",
    "# clf_logloss_custom_np.fit(X=train_pool,\n",
    "#         eval_set=val_pool,\n",
    "#         use_best_model=True)\n",
    "# print(f'Функция потерь logloss реализована через numpy, \\n'\n",
    "#       f'примерно в 4 раза медленнее, чем родная от catboost \\n'\n",
    "#       f'но примерно в 8 раз быстрее, чем если делать с циклом внутри \\n'\n",
    "#       f'также сходится медленнее, чем родная. Сходимость одинаковая с реализацией через цикл \\n'\n",
    "#       f'о сходимости есть топик на stackoverflow здесь \\n'\n",
    "#       f'https://stackoverflow.com/questions/63104119/catboost-custom-loss-function \\n'\n",
    "#       f'')"
   ],
   "metadata": {
    "collapsed": false,
    "pycharm": {
     "name": "#%%\n"
    }
   }
  },
  {
   "cell_type": "code",
   "execution_count": 13,
   "outputs": [],
   "source": [
    "# %%time\n",
    "# params = config.params\n",
    "# params.update({\n",
    "#     'loss_function': LoglossObjective_loop()\n",
    "# })\n",
    "# clf_logloss_custom_loop = CatBoostClassifier(**params)\n",
    "# clf_logloss_custom_loop.fit(X=train_pool,\n",
    "#         eval_set=val_pool,\n",
    "#         use_best_model=True)\n",
    "# print(f'Здесь функция потерь logloss реализована через цикл, очень медленно выполняется, \\n'\n",
    "#       f'примерно в 8 раз медленнее, чем если реализовать через numpy \\n'\n",
    "#       f'и в 30 раз медленнее, чем референсная, родная catboost \\n'\n",
    "#       f'также сходится медленнее, чем родная. Сходимость одинаковая с реализацией через numpy ')"
   ],
   "metadata": {
    "collapsed": false,
    "pycharm": {
     "name": "#%%\n"
    }
   }
  },
  {
   "cell_type": "code",
   "execution_count": 14,
   "outputs": [],
   "source": [
    "import sys, os\n",
    "sys.path.append('./cython_loss')\n",
    "from cython1 import LoglossObjective_cython"
   ],
   "metadata": {
    "collapsed": false,
    "pycharm": {
     "name": "#%%\n"
    }
   }
  },
  {
   "cell_type": "code",
   "execution_count": 15,
   "outputs": [
    {
     "ename": "CatBoostError",
     "evalue": "catboost/python-package/catboost/helpers.cpp:42: Traceback (most recent call last):\n  File \"_catboost.pyx\", line 1343, in _catboost._ObjectiveCalcDersRange\nTypeError: Argument 'approxes' has incorrect type (expected numpy.ndarray, got _catboost._DoubleArrayWrapper)\n",
     "output_type": "error",
     "traceback": [
      "\u001B[0;31m---------------------------------------------------------------------------\u001B[0m",
      "\u001B[0;31mTypeError\u001B[0m                                 Traceback (most recent call last)",
      "\u001B[0;32m_catboost.pyx\u001B[0m in \u001B[0;36m_catboost._ObjectiveCalcDersRange\u001B[0;34m()\u001B[0m\n",
      "\u001B[0;31mTypeError\u001B[0m: Argument 'approxes' has incorrect type (expected numpy.ndarray, got _catboost._DoubleArrayWrapper)",
      "\nDuring handling of the above exception, another exception occurred:\n",
      "\u001B[0;31mTypeError\u001B[0m                                 Traceback (most recent call last)",
      "\u001B[0;32m_catboost.pyx\u001B[0m in \u001B[0;36m_catboost._ObjectiveCalcDersRange\u001B[0;34m()\u001B[0m\n",
      "\u001B[0;31mTypeError\u001B[0m: Argument 'approxes' has incorrect type (expected numpy.ndarray, got _catboost._DoubleArrayWrapper)",
      "\nDuring handling of the above exception, another exception occurred:\n",
      "\u001B[0;31mTypeError\u001B[0m                                 Traceback (most recent call last)",
      "\u001B[0;32m_catboost.pyx\u001B[0m in \u001B[0;36m_catboost._ObjectiveCalcDersRange\u001B[0;34m()\u001B[0m\n",
      "\u001B[0;31mTypeError\u001B[0m: Argument 'approxes' has incorrect type (expected numpy.ndarray, got _catboost._DoubleArrayWrapper)",
      "\nDuring handling of the above exception, another exception occurred:\n",
      "\u001B[0;31mTypeError\u001B[0m                                 Traceback (most recent call last)",
      "\u001B[0;32m_catboost.pyx\u001B[0m in \u001B[0;36m_catboost._ObjectiveCalcDersRange\u001B[0;34m()\u001B[0m\n",
      "\u001B[0;31mTypeError\u001B[0m: Argument 'approxes' has incorrect type (expected numpy.ndarray, got _catboost._DoubleArrayWrapper)",
      "\nDuring handling of the above exception, another exception occurred:\n",
      "\u001B[0;31mTypeError\u001B[0m                                 Traceback (most recent call last)",
      "\u001B[0;32m_catboost.pyx\u001B[0m in \u001B[0;36m_catboost._ObjectiveCalcDersRange\u001B[0;34m()\u001B[0m\n",
      "\u001B[0;31mTypeError\u001B[0m: Argument 'approxes' has incorrect type (expected numpy.ndarray, got _catboost._DoubleArrayWrapper)",
      "\nDuring handling of the above exception, another exception occurred:\n",
      "\u001B[0;31mTypeError\u001B[0m                                 Traceback (most recent call last)",
      "\u001B[0;32m_catboost.pyx\u001B[0m in \u001B[0;36m_catboost._ObjectiveCalcDersRange\u001B[0;34m()\u001B[0m\n",
      "\u001B[0;31mTypeError\u001B[0m: Argument 'approxes' has incorrect type (expected numpy.ndarray, got _catboost._DoubleArrayWrapper)",
      "\nDuring handling of the above exception, another exception occurred:\n",
      "\u001B[0;31mTypeError\u001B[0m                                 Traceback (most recent call last)",
      "\u001B[0;32m_catboost.pyx\u001B[0m in \u001B[0;36m_catboost._ObjectiveCalcDersRange\u001B[0;34m()\u001B[0m\n",
      "\u001B[0;31mTypeError\u001B[0m: Argument 'approxes' has incorrect type (expected numpy.ndarray, got _catboost._DoubleArrayWrapper)",
      "\nDuring handling of the above exception, another exception occurred:\n",
      "\u001B[0;31mTypeError\u001B[0m                                 Traceback (most recent call last)",
      "\u001B[0;32m_catboost.pyx\u001B[0m in \u001B[0;36m_catboost._ObjectiveCalcDersRange\u001B[0;34m()\u001B[0m\n",
      "\u001B[0;31mTypeError\u001B[0m: Argument 'approxes' has incorrect type (expected numpy.ndarray, got _catboost._DoubleArrayWrapper)",
      "\nDuring handling of the above exception, another exception occurred:\n",
      "\u001B[0;31mTypeError\u001B[0m                                 Traceback (most recent call last)",
      "\u001B[0;32m_catboost.pyx\u001B[0m in \u001B[0;36m_catboost._ObjectiveCalcDersRange\u001B[0;34m()\u001B[0m\n",
      "\u001B[0;31mTypeError\u001B[0m: Argument 'approxes' has incorrect type (expected numpy.ndarray, got _catboost._DoubleArrayWrapper)",
      "\nDuring handling of the above exception, another exception occurred:\n",
      "\u001B[0;31mTypeError\u001B[0m                                 Traceback (most recent call last)",
      "\u001B[0;32m_catboost.pyx\u001B[0m in \u001B[0;36m_catboost._ObjectiveCalcDersRange\u001B[0;34m()\u001B[0m\n",
      "\u001B[0;31mTypeError\u001B[0m: Argument 'approxes' has incorrect type (expected numpy.ndarray, got _catboost._DoubleArrayWrapper)",
      "\nDuring handling of the above exception, another exception occurred:\n",
      "\u001B[0;31mTypeError\u001B[0m                                 Traceback (most recent call last)",
      "\u001B[0;32m_catboost.pyx\u001B[0m in \u001B[0;36m_catboost._ObjectiveCalcDersRange\u001B[0;34m()\u001B[0m\n",
      "\u001B[0;31mTypeError\u001B[0m: Argument 'approxes' has incorrect type (expected numpy.ndarray, got _catboost._DoubleArrayWrapper)",
      "\nDuring handling of the above exception, another exception occurred:\n",
      "\u001B[0;31mTypeError\u001B[0m                                 Traceback (most recent call last)",
      "\u001B[0;32m_catboost.pyx\u001B[0m in \u001B[0;36m_catboost._ObjectiveCalcDersRange\u001B[0;34m()\u001B[0m\n",
      "\u001B[0;31mTypeError\u001B[0m: Argument 'approxes' has incorrect type (expected numpy.ndarray, got _catboost._DoubleArrayWrapper)",
      "\nDuring handling of the above exception, another exception occurred:\n",
      "\u001B[0;31mTypeError\u001B[0m                                 Traceback (most recent call last)",
      "\u001B[0;32m_catboost.pyx\u001B[0m in \u001B[0;36m_catboost._ObjectiveCalcDersRange\u001B[0;34m()\u001B[0m\n",
      "\u001B[0;31mTypeError\u001B[0m: Argument 'approxes' has incorrect type (expected numpy.ndarray, got _catboost._DoubleArrayWrapper)",
      "\nDuring handling of the above exception, another exception occurred:\n",
      "\u001B[0;31mTypeError\u001B[0m                                 Traceback (most recent call last)",
      "\u001B[0;32m_catboost.pyx\u001B[0m in \u001B[0;36m_catboost._ObjectiveCalcDersRange\u001B[0;34m()\u001B[0m\n",
      "\u001B[0;31mTypeError\u001B[0m: Argument 'approxes' has incorrect type (expected numpy.ndarray, got _catboost._DoubleArrayWrapper)",
      "\nDuring handling of the above exception, another exception occurred:\n",
      "\u001B[0;31mTypeError\u001B[0m                                 Traceback (most recent call last)",
      "\u001B[0;32m_catboost.pyx\u001B[0m in \u001B[0;36m_catboost._ObjectiveCalcDersRange\u001B[0;34m()\u001B[0m\n",
      "\u001B[0;31mTypeError\u001B[0m: Argument 'approxes' has incorrect type (expected numpy.ndarray, got _catboost._DoubleArrayWrapper)",
      "\nDuring handling of the above exception, another exception occurred:\n",
      "\u001B[0;31mTypeError\u001B[0m                                 Traceback (most recent call last)",
      "\u001B[0;32m_catboost.pyx\u001B[0m in \u001B[0;36m_catboost._ObjectiveCalcDersRange\u001B[0;34m()\u001B[0m\n",
      "\u001B[0;31mTypeError\u001B[0m: Argument 'approxes' has incorrect type (expected numpy.ndarray, got _catboost._DoubleArrayWrapper)",
      "\nDuring handling of the above exception, another exception occurred:\n",
      "\u001B[0;31mTypeError\u001B[0m                                 Traceback (most recent call last)",
      "\u001B[0;32m_catboost.pyx\u001B[0m in \u001B[0;36m_catboost._ObjectiveCalcDersRange\u001B[0;34m()\u001B[0m\n",
      "\u001B[0;31mTypeError\u001B[0m: Argument 'approxes' has incorrect type (expected numpy.ndarray, got _catboost._DoubleArrayWrapper)",
      "\nDuring handling of the above exception, another exception occurred:\n",
      "\u001B[0;31mTypeError\u001B[0m                                 Traceback (most recent call last)",
      "\u001B[0;32m_catboost.pyx\u001B[0m in \u001B[0;36m_catboost._ObjectiveCalcDersRange\u001B[0;34m()\u001B[0m\n",
      "\u001B[0;31mTypeError\u001B[0m: Argument 'approxes' has incorrect type (expected numpy.ndarray, got _catboost._DoubleArrayWrapper)",
      "\nDuring handling of the above exception, another exception occurred:\n",
      "\u001B[0;31mTypeError\u001B[0m                                 Traceback (most recent call last)",
      "\u001B[0;32m_catboost.pyx\u001B[0m in \u001B[0;36m_catboost._ObjectiveCalcDersRange\u001B[0;34m()\u001B[0m\n",
      "\u001B[0;31mTypeError\u001B[0m: Argument 'approxes' has incorrect type (expected numpy.ndarray, got _catboost._DoubleArrayWrapper)",
      "\nDuring handling of the above exception, another exception occurred:\n",
      "\u001B[0;31mTypeError\u001B[0m                                 Traceback (most recent call last)",
      "\u001B[0;32m_catboost.pyx\u001B[0m in \u001B[0;36m_catboost._ObjectiveCalcDersRange\u001B[0;34m()\u001B[0m\n",
      "\u001B[0;31mTypeError\u001B[0m: Argument 'approxes' has incorrect type (expected numpy.ndarray, got _catboost._DoubleArrayWrapper)",
      "\nDuring handling of the above exception, another exception occurred:\n",
      "\u001B[0;31mTypeError\u001B[0m                                 Traceback (most recent call last)",
      "\u001B[0;32m_catboost.pyx\u001B[0m in \u001B[0;36m_catboost._ObjectiveCalcDersRange\u001B[0;34m()\u001B[0m\n",
      "\u001B[0;31mTypeError\u001B[0m: Argument 'approxes' has incorrect type (expected numpy.ndarray, got _catboost._DoubleArrayWrapper)",
      "\nDuring handling of the above exception, another exception occurred:\n",
      "\u001B[0;31mTypeError\u001B[0m                                 Traceback (most recent call last)",
      "\u001B[0;32m_catboost.pyx\u001B[0m in \u001B[0;36m_catboost._ObjectiveCalcDersRange\u001B[0;34m()\u001B[0m\n",
      "\u001B[0;31mTypeError\u001B[0m: Argument 'approxes' has incorrect type (expected numpy.ndarray, got _catboost._DoubleArrayWrapper)",
      "\nDuring handling of the above exception, another exception occurred:\n",
      "\u001B[0;31mTypeError\u001B[0m                                 Traceback (most recent call last)",
      "\u001B[0;32m_catboost.pyx\u001B[0m in \u001B[0;36m_catboost._ObjectiveCalcDersRange\u001B[0;34m()\u001B[0m\n",
      "\u001B[0;31mTypeError\u001B[0m: Argument 'approxes' has incorrect type (expected numpy.ndarray, got _catboost._DoubleArrayWrapper)",
      "\nDuring handling of the above exception, another exception occurred:\n",
      "\u001B[0;31mTypeError\u001B[0m                                 Traceback (most recent call last)",
      "\u001B[0;32m_catboost.pyx\u001B[0m in \u001B[0;36m_catboost._ObjectiveCalcDersRange\u001B[0;34m()\u001B[0m\n",
      "\u001B[0;31mTypeError\u001B[0m: Argument 'approxes' has incorrect type (expected numpy.ndarray, got _catboost._DoubleArrayWrapper)",
      "\nDuring handling of the above exception, another exception occurred:\n",
      "\u001B[0;31mTypeError\u001B[0m                                 Traceback (most recent call last)",
      "\u001B[0;32m_catboost.pyx\u001B[0m in \u001B[0;36m_catboost._ObjectiveCalcDersRange\u001B[0;34m()\u001B[0m\n",
      "\u001B[0;31mTypeError\u001B[0m: Argument 'approxes' has incorrect type (expected numpy.ndarray, got _catboost._DoubleArrayWrapper)",
      "\nDuring handling of the above exception, another exception occurred:\n",
      "\u001B[0;31mTypeError\u001B[0m                                 Traceback (most recent call last)",
      "\u001B[0;32m_catboost.pyx\u001B[0m in \u001B[0;36m_catboost._ObjectiveCalcDersRange\u001B[0;34m()\u001B[0m\n",
      "\u001B[0;31mTypeError\u001B[0m: Argument 'approxes' has incorrect type (expected numpy.ndarray, got _catboost._DoubleArrayWrapper)",
      "\nDuring handling of the above exception, another exception occurred:\n",
      "\u001B[0;31mTypeError\u001B[0m                                 Traceback (most recent call last)",
      "\u001B[0;32m_catboost.pyx\u001B[0m in \u001B[0;36m_catboost._ObjectiveCalcDersRange\u001B[0;34m()\u001B[0m\n",
      "\u001B[0;31mTypeError\u001B[0m: Argument 'approxes' has incorrect type (expected numpy.ndarray, got _catboost._DoubleArrayWrapper)",
      "\nDuring handling of the above exception, another exception occurred:\n",
      "\u001B[0;31mTypeError\u001B[0m                                 Traceback (most recent call last)",
      "\u001B[0;32m_catboost.pyx\u001B[0m in \u001B[0;36m_catboost._ObjectiveCalcDersRange\u001B[0;34m()\u001B[0m\n",
      "\u001B[0;31mTypeError\u001B[0m: Argument 'approxes' has incorrect type (expected numpy.ndarray, got _catboost._DoubleArrayWrapper)",
      "\nDuring handling of the above exception, another exception occurred:\n",
      "\u001B[0;31mTypeError\u001B[0m                                 Traceback (most recent call last)",
      "\u001B[0;32m_catboost.pyx\u001B[0m in \u001B[0;36m_catboost._ObjectiveCalcDersRange\u001B[0;34m()\u001B[0m\n",
      "\u001B[0;31mTypeError\u001B[0m: Argument 'approxes' has incorrect type (expected numpy.ndarray, got _catboost._DoubleArrayWrapper)",
      "\nDuring handling of the above exception, another exception occurred:\n",
      "\u001B[0;31mTypeError\u001B[0m                                 Traceback (most recent call last)",
      "\u001B[0;32m_catboost.pyx\u001B[0m in \u001B[0;36m_catboost._ObjectiveCalcDersRange\u001B[0;34m()\u001B[0m\n",
      "\u001B[0;31mTypeError\u001B[0m: Argument 'approxes' has incorrect type (expected numpy.ndarray, got _catboost._DoubleArrayWrapper)",
      "\nDuring handling of the above exception, another exception occurred:\n",
      "\u001B[0;31mTypeError\u001B[0m                                 Traceback (most recent call last)",
      "\u001B[0;32m_catboost.pyx\u001B[0m in \u001B[0;36m_catboost._ObjectiveCalcDersRange\u001B[0;34m()\u001B[0m\n",
      "\u001B[0;31mTypeError\u001B[0m: Argument 'approxes' has incorrect type (expected numpy.ndarray, got _catboost._DoubleArrayWrapper)",
      "\nDuring handling of the above exception, another exception occurred:\n",
      "\u001B[0;31mTypeError\u001B[0m                                 Traceback (most recent call last)",
      "\u001B[0;32m_catboost.pyx\u001B[0m in \u001B[0;36m_catboost._ObjectiveCalcDersRange\u001B[0;34m()\u001B[0m\n",
      "\u001B[0;31mTypeError\u001B[0m: Argument 'approxes' has incorrect type (expected numpy.ndarray, got _catboost._DoubleArrayWrapper)",
      "\nDuring handling of the above exception, another exception occurred:\n",
      "\u001B[0;31mTypeError\u001B[0m                                 Traceback (most recent call last)",
      "\u001B[0;32m_catboost.pyx\u001B[0m in \u001B[0;36m_catboost._ObjectiveCalcDersRange\u001B[0;34m()\u001B[0m\n",
      "\u001B[0;31mTypeError\u001B[0m: Argument 'approxes' has incorrect type (expected numpy.ndarray, got _catboost._DoubleArrayWrapper)",
      "\nDuring handling of the above exception, another exception occurred:\n",
      "\u001B[0;31mTypeError\u001B[0m                                 Traceback (most recent call last)",
      "\u001B[0;32m_catboost.pyx\u001B[0m in \u001B[0;36m_catboost._ObjectiveCalcDersRange\u001B[0;34m()\u001B[0m\n",
      "\u001B[0;31mTypeError\u001B[0m: Argument 'approxes' has incorrect type (expected numpy.ndarray, got _catboost._DoubleArrayWrapper)",
      "\nDuring handling of the above exception, another exception occurred:\n",
      "\u001B[0;31mTypeError\u001B[0m                                 Traceback (most recent call last)",
      "\u001B[0;32m_catboost.pyx\u001B[0m in \u001B[0;36m_catboost._ObjectiveCalcDersRange\u001B[0;34m()\u001B[0m\n",
      "\u001B[0;31mTypeError\u001B[0m: Argument 'approxes' has incorrect type (expected numpy.ndarray, got _catboost._DoubleArrayWrapper)",
      "\nDuring handling of the above exception, another exception occurred:\n",
      "\u001B[0;31mTypeError\u001B[0m                                 Traceback (most recent call last)",
      "\u001B[0;32m_catboost.pyx\u001B[0m in \u001B[0;36m_catboost._ObjectiveCalcDersRange\u001B[0;34m()\u001B[0m\n",
      "\u001B[0;31mTypeError\u001B[0m: Argument 'approxes' has incorrect type (expected numpy.ndarray, got _catboost._DoubleArrayWrapper)",
      "\nDuring handling of the above exception, another exception occurred:\n",
      "\u001B[0;31mTypeError\u001B[0m                                 Traceback (most recent call last)",
      "\u001B[0;32m_catboost.pyx\u001B[0m in \u001B[0;36m_catboost._ObjectiveCalcDersRange\u001B[0;34m()\u001B[0m\n",
      "\u001B[0;31mTypeError\u001B[0m: Argument 'approxes' has incorrect type (expected numpy.ndarray, got _catboost._DoubleArrayWrapper)",
      "\nDuring handling of the above exception, another exception occurred:\n",
      "\u001B[0;31mTypeError\u001B[0m                                 Traceback (most recent call last)",
      "\u001B[0;32m_catboost.pyx\u001B[0m in \u001B[0;36m_catboost._ObjectiveCalcDersRange\u001B[0;34m()\u001B[0m\n",
      "\u001B[0;31mTypeError\u001B[0m: Argument 'approxes' has incorrect type (expected numpy.ndarray, got _catboost._DoubleArrayWrapper)",
      "\nDuring handling of the above exception, another exception occurred:\n",
      "\u001B[0;31mTypeError\u001B[0m                                 Traceback (most recent call last)",
      "\u001B[0;32m_catboost.pyx\u001B[0m in \u001B[0;36m_catboost._ObjectiveCalcDersRange\u001B[0;34m()\u001B[0m\n",
      "\u001B[0;31mTypeError\u001B[0m: Argument 'approxes' has incorrect type (expected numpy.ndarray, got _catboost._DoubleArrayWrapper)",
      "\nDuring handling of the above exception, another exception occurred:\n",
      "\u001B[0;31mTypeError\u001B[0m                                 Traceback (most recent call last)",
      "\u001B[0;32m_catboost.pyx\u001B[0m in \u001B[0;36m_catboost._ObjectiveCalcDersRange\u001B[0;34m()\u001B[0m\n",
      "\u001B[0;31mTypeError\u001B[0m: Argument 'approxes' has incorrect type (expected numpy.ndarray, got _catboost._DoubleArrayWrapper)",
      "\nDuring handling of the above exception, another exception occurred:\n",
      "\u001B[0;31mTypeError\u001B[0m                                 Traceback (most recent call last)",
      "\u001B[0;32m_catboost.pyx\u001B[0m in \u001B[0;36m_catboost._ObjectiveCalcDersRange\u001B[0;34m()\u001B[0m\n",
      "\u001B[0;31mTypeError\u001B[0m: Argument 'approxes' has incorrect type (expected numpy.ndarray, got _catboost._DoubleArrayWrapper)",
      "\nDuring handling of the above exception, another exception occurred:\n",
      "\u001B[0;31mTypeError\u001B[0m                                 Traceback (most recent call last)",
      "\u001B[0;32m_catboost.pyx\u001B[0m in \u001B[0;36m_catboost._ObjectiveCalcDersRange\u001B[0;34m()\u001B[0m\n",
      "\u001B[0;31mTypeError\u001B[0m: Argument 'approxes' has incorrect type (expected numpy.ndarray, got _catboost._DoubleArrayWrapper)",
      "\nDuring handling of the above exception, another exception occurred:\n",
      "\u001B[0;31mTypeError\u001B[0m                                 Traceback (most recent call last)",
      "\u001B[0;32m_catboost.pyx\u001B[0m in \u001B[0;36m_catboost._ObjectiveCalcDersRange\u001B[0;34m()\u001B[0m\n",
      "\u001B[0;31mTypeError\u001B[0m: Argument 'approxes' has incorrect type (expected numpy.ndarray, got _catboost._DoubleArrayWrapper)",
      "\nDuring handling of the above exception, another exception occurred:\n",
      "\u001B[0;31mTypeError\u001B[0m                                 Traceback (most recent call last)",
      "\u001B[0;32m_catboost.pyx\u001B[0m in \u001B[0;36m_catboost._ObjectiveCalcDersRange\u001B[0;34m()\u001B[0m\n",
      "\u001B[0;31mTypeError\u001B[0m: Argument 'approxes' has incorrect type (expected numpy.ndarray, got _catboost._DoubleArrayWrapper)",
      "\nDuring handling of the above exception, another exception occurred:\n",
      "\u001B[0;31mTypeError\u001B[0m                                 Traceback (most recent call last)",
      "\u001B[0;32m_catboost.pyx\u001B[0m in \u001B[0;36m_catboost._ObjectiveCalcDersRange\u001B[0;34m()\u001B[0m\n",
      "\u001B[0;31mTypeError\u001B[0m: Argument 'approxes' has incorrect type (expected numpy.ndarray, got _catboost._DoubleArrayWrapper)",
      "\nDuring handling of the above exception, another exception occurred:\n",
      "\u001B[0;31mTypeError\u001B[0m                                 Traceback (most recent call last)",
      "\u001B[0;32m_catboost.pyx\u001B[0m in \u001B[0;36m_catboost._ObjectiveCalcDersRange\u001B[0;34m()\u001B[0m\n",
      "\u001B[0;31mTypeError\u001B[0m: Argument 'approxes' has incorrect type (expected numpy.ndarray, got _catboost._DoubleArrayWrapper)",
      "\nDuring handling of the above exception, another exception occurred:\n",
      "\u001B[0;31mTypeError\u001B[0m                                 Traceback (most recent call last)",
      "\u001B[0;32m_catboost.pyx\u001B[0m in \u001B[0;36m_catboost._ObjectiveCalcDersRange\u001B[0;34m()\u001B[0m\n",
      "\u001B[0;31mTypeError\u001B[0m: Argument 'approxes' has incorrect type (expected numpy.ndarray, got _catboost._DoubleArrayWrapper)",
      "\nDuring handling of the above exception, another exception occurred:\n",
      "\u001B[0;31mTypeError\u001B[0m                                 Traceback (most recent call last)",
      "\u001B[0;32m_catboost.pyx\u001B[0m in \u001B[0;36m_catboost._ObjectiveCalcDersRange\u001B[0;34m()\u001B[0m\n",
      "\u001B[0;31mTypeError\u001B[0m: Argument 'approxes' has incorrect type (expected numpy.ndarray, got _catboost._DoubleArrayWrapper)",
      "\nDuring handling of the above exception, another exception occurred:\n",
      "\u001B[0;31mTypeError\u001B[0m                                 Traceback (most recent call last)",
      "\u001B[0;32m_catboost.pyx\u001B[0m in \u001B[0;36m_catboost._ObjectiveCalcDersRange\u001B[0;34m()\u001B[0m\n",
      "\u001B[0;31mTypeError\u001B[0m: Argument 'approxes' has incorrect type (expected numpy.ndarray, got _catboost._DoubleArrayWrapper)",
      "\nDuring handling of the above exception, another exception occurred:\n",
      "\u001B[0;31mTypeError\u001B[0m                                 Traceback (most recent call last)",
      "\u001B[0;32m_catboost.pyx\u001B[0m in \u001B[0;36m_catboost._ObjectiveCalcDersRange\u001B[0;34m()\u001B[0m\n",
      "\u001B[0;31mTypeError\u001B[0m: Argument 'approxes' has incorrect type (expected numpy.ndarray, got _catboost._DoubleArrayWrapper)",
      "\nDuring handling of the above exception, another exception occurred:\n",
      "\u001B[0;31mTypeError\u001B[0m                                 Traceback (most recent call last)",
      "\u001B[0;32m_catboost.pyx\u001B[0m in \u001B[0;36m_catboost._ObjectiveCalcDersRange\u001B[0;34m()\u001B[0m\n",
      "\u001B[0;31mTypeError\u001B[0m: Argument 'approxes' has incorrect type (expected numpy.ndarray, got _catboost._DoubleArrayWrapper)",
      "\nDuring handling of the above exception, another exception occurred:\n",
      "\u001B[0;31mTypeError\u001B[0m                                 Traceback (most recent call last)",
      "\u001B[0;32m_catboost.pyx\u001B[0m in \u001B[0;36m_catboost._ObjectiveCalcDersRange\u001B[0;34m()\u001B[0m\n",
      "\u001B[0;31mTypeError\u001B[0m: Argument 'approxes' has incorrect type (expected numpy.ndarray, got _catboost._DoubleArrayWrapper)",
      "\nDuring handling of the above exception, another exception occurred:\n",
      "\u001B[0;31mTypeError\u001B[0m                                 Traceback (most recent call last)",
      "\u001B[0;32m_catboost.pyx\u001B[0m in \u001B[0;36m_catboost._ObjectiveCalcDersRange\u001B[0;34m()\u001B[0m\n",
      "\u001B[0;31mTypeError\u001B[0m: Argument 'approxes' has incorrect type (expected numpy.ndarray, got _catboost._DoubleArrayWrapper)",
      "\nDuring handling of the above exception, another exception occurred:\n",
      "\u001B[0;31mTypeError\u001B[0m                                 Traceback (most recent call last)",
      "\u001B[0;32m_catboost.pyx\u001B[0m in \u001B[0;36m_catboost._ObjectiveCalcDersRange\u001B[0;34m()\u001B[0m\n",
      "\u001B[0;31mTypeError\u001B[0m: Argument 'approxes' has incorrect type (expected numpy.ndarray, got _catboost._DoubleArrayWrapper)",
      "\nDuring handling of the above exception, another exception occurred:\n",
      "\u001B[0;31mTypeError\u001B[0m                                 Traceback (most recent call last)",
      "\u001B[0;32m_catboost.pyx\u001B[0m in \u001B[0;36m_catboost._ObjectiveCalcDersRange\u001B[0;34m()\u001B[0m\n",
      "\u001B[0;31mTypeError\u001B[0m: Argument 'approxes' has incorrect type (expected numpy.ndarray, got _catboost._DoubleArrayWrapper)",
      "\nDuring handling of the above exception, another exception occurred:\n",
      "\u001B[0;31mTypeError\u001B[0m                                 Traceback (most recent call last)",
      "\u001B[0;32m_catboost.pyx\u001B[0m in \u001B[0;36m_catboost._ObjectiveCalcDersRange\u001B[0;34m()\u001B[0m\n",
      "\u001B[0;31mTypeError\u001B[0m: Argument 'approxes' has incorrect type (expected numpy.ndarray, got _catboost._DoubleArrayWrapper)",
      "\nDuring handling of the above exception, another exception occurred:\n",
      "\u001B[0;31mTypeError\u001B[0m                                 Traceback (most recent call last)",
      "\u001B[0;32m_catboost.pyx\u001B[0m in \u001B[0;36m_catboost._ObjectiveCalcDersRange\u001B[0;34m()\u001B[0m\n",
      "\u001B[0;31mTypeError\u001B[0m: Argument 'approxes' has incorrect type (expected numpy.ndarray, got _catboost._DoubleArrayWrapper)",
      "\nDuring handling of the above exception, another exception occurred:\n",
      "\u001B[0;31mTypeError\u001B[0m                                 Traceback (most recent call last)",
      "\u001B[0;32m_catboost.pyx\u001B[0m in \u001B[0;36m_catboost._ObjectiveCalcDersRange\u001B[0;34m()\u001B[0m\n",
      "\u001B[0;31mTypeError\u001B[0m: Argument 'approxes' has incorrect type (expected numpy.ndarray, got _catboost._DoubleArrayWrapper)",
      "\nDuring handling of the above exception, another exception occurred:\n",
      "\u001B[0;31mTypeError\u001B[0m                                 Traceback (most recent call last)",
      "\u001B[0;32m_catboost.pyx\u001B[0m in \u001B[0;36m_catboost._ObjectiveCalcDersRange\u001B[0;34m()\u001B[0m\n",
      "\u001B[0;31mTypeError\u001B[0m: Argument 'approxes' has incorrect type (expected numpy.ndarray, got _catboost._DoubleArrayWrapper)",
      "\nDuring handling of the above exception, another exception occurred:\n",
      "\u001B[0;31mTypeError\u001B[0m                                 Traceback (most recent call last)",
      "\u001B[0;32m_catboost.pyx\u001B[0m in \u001B[0;36m_catboost._ObjectiveCalcDersRange\u001B[0;34m()\u001B[0m\n",
      "\u001B[0;31mTypeError\u001B[0m: Argument 'approxes' has incorrect type (expected numpy.ndarray, got _catboost._DoubleArrayWrapper)",
      "\nDuring handling of the above exception, another exception occurred:\n",
      "\u001B[0;31mTypeError\u001B[0m                                 Traceback (most recent call last)",
      "\u001B[0;32m_catboost.pyx\u001B[0m in \u001B[0;36m_catboost._ObjectiveCalcDersRange\u001B[0;34m()\u001B[0m\n",
      "\u001B[0;31mTypeError\u001B[0m: Argument 'approxes' has incorrect type (expected numpy.ndarray, got _catboost._DoubleArrayWrapper)",
      "\nDuring handling of the above exception, another exception occurred:\n",
      "\u001B[0;31mTypeError\u001B[0m                                 Traceback (most recent call last)",
      "\u001B[0;32m_catboost.pyx\u001B[0m in \u001B[0;36m_catboost._ObjectiveCalcDersRange\u001B[0;34m()\u001B[0m\n",
      "\u001B[0;31mTypeError\u001B[0m: Argument 'approxes' has incorrect type (expected numpy.ndarray, got _catboost._DoubleArrayWrapper)",
      "\nDuring handling of the above exception, another exception occurred:\n",
      "\u001B[0;31mCatBoostError\u001B[0m                             Traceback (most recent call last)",
      "\u001B[0;32m<timed exec>\u001B[0m in \u001B[0;36m<module>\u001B[0;34m\u001B[0m\n",
      "\u001B[0;32m~/anaconda3/envs/final_project/lib/python3.8/site-packages/catboost/core.py\u001B[0m in \u001B[0;36mfit\u001B[0;34m(self, X, y, cat_features, text_features, embedding_features, sample_weight, baseline, use_best_model, eval_set, verbose, logging_level, plot, column_description, verbose_eval, metric_period, silent, early_stopping_rounds, save_snapshot, snapshot_file, snapshot_interval, init_model)\u001B[0m\n\u001B[1;32m   4300\u001B[0m             \u001B[0mself\u001B[0m\u001B[0;34m.\u001B[0m\u001B[0m_check_is_classification_objective\u001B[0m\u001B[0;34m(\u001B[0m\u001B[0mparams\u001B[0m\u001B[0;34m[\u001B[0m\u001B[0;34m'loss_function'\u001B[0m\u001B[0;34m]\u001B[0m\u001B[0;34m)\u001B[0m\u001B[0;34m\u001B[0m\u001B[0;34m\u001B[0m\u001B[0m\n\u001B[1;32m   4301\u001B[0m \u001B[0;34m\u001B[0m\u001B[0m\n\u001B[0;32m-> 4302\u001B[0;31m         self._fit(X, y, cat_features, text_features, embedding_features, None, sample_weight, None, None, None, None, baseline, use_best_model,\n\u001B[0m\u001B[1;32m   4303\u001B[0m                   \u001B[0meval_set\u001B[0m\u001B[0;34m,\u001B[0m \u001B[0mverbose\u001B[0m\u001B[0;34m,\u001B[0m \u001B[0mlogging_level\u001B[0m\u001B[0;34m,\u001B[0m \u001B[0mplot\u001B[0m\u001B[0;34m,\u001B[0m \u001B[0mcolumn_description\u001B[0m\u001B[0;34m,\u001B[0m \u001B[0mverbose_eval\u001B[0m\u001B[0;34m,\u001B[0m \u001B[0mmetric_period\u001B[0m\u001B[0;34m,\u001B[0m\u001B[0;34m\u001B[0m\u001B[0;34m\u001B[0m\u001B[0m\n\u001B[1;32m   4304\u001B[0m                   silent, early_stopping_rounds, save_snapshot, snapshot_file, snapshot_interval, init_model)\n",
      "\u001B[0;32m~/anaconda3/envs/final_project/lib/python3.8/site-packages/catboost/core.py\u001B[0m in \u001B[0;36m_fit\u001B[0;34m(self, X, y, cat_features, text_features, embedding_features, pairs, sample_weight, group_id, group_weight, subgroup_id, pairs_weight, baseline, use_best_model, eval_set, verbose, logging_level, plot, column_description, verbose_eval, metric_period, silent, early_stopping_rounds, save_snapshot, snapshot_file, snapshot_interval, init_model)\u001B[0m\n\u001B[1;32m   1804\u001B[0m \u001B[0;34m\u001B[0m\u001B[0m\n\u001B[1;32m   1805\u001B[0m         \u001B[0;32mwith\u001B[0m \u001B[0mlog_fixup\u001B[0m\u001B[0;34m(\u001B[0m\u001B[0;34m)\u001B[0m\u001B[0;34m,\u001B[0m \u001B[0mplot_wrapper\u001B[0m\u001B[0;34m(\u001B[0m\u001B[0mplot\u001B[0m\u001B[0;34m,\u001B[0m \u001B[0;34m[\u001B[0m\u001B[0m_get_train_dir\u001B[0m\u001B[0;34m(\u001B[0m\u001B[0mself\u001B[0m\u001B[0;34m.\u001B[0m\u001B[0mget_params\u001B[0m\u001B[0;34m(\u001B[0m\u001B[0;34m)\u001B[0m\u001B[0;34m)\u001B[0m\u001B[0;34m]\u001B[0m\u001B[0;34m)\u001B[0m\u001B[0;34m:\u001B[0m\u001B[0;34m\u001B[0m\u001B[0;34m\u001B[0m\u001B[0m\n\u001B[0;32m-> 1806\u001B[0;31m             self._train(\n\u001B[0m\u001B[1;32m   1807\u001B[0m                 \u001B[0mtrain_pool\u001B[0m\u001B[0;34m,\u001B[0m\u001B[0;34m\u001B[0m\u001B[0;34m\u001B[0m\u001B[0m\n\u001B[1;32m   1808\u001B[0m                 \u001B[0mtrain_params\u001B[0m\u001B[0;34m[\u001B[0m\u001B[0;34m\"eval_sets\"\u001B[0m\u001B[0;34m]\u001B[0m\u001B[0;34m,\u001B[0m\u001B[0;34m\u001B[0m\u001B[0;34m\u001B[0m\u001B[0m\n",
      "\u001B[0;32m~/anaconda3/envs/final_project/lib/python3.8/site-packages/catboost/core.py\u001B[0m in \u001B[0;36m_train\u001B[0;34m(self, train_pool, test_pool, params, allow_clear_pool, init_model)\u001B[0m\n\u001B[1;32m   1256\u001B[0m \u001B[0;34m\u001B[0m\u001B[0m\n\u001B[1;32m   1257\u001B[0m     \u001B[0;32mdef\u001B[0m \u001B[0m_train\u001B[0m\u001B[0;34m(\u001B[0m\u001B[0mself\u001B[0m\u001B[0;34m,\u001B[0m \u001B[0mtrain_pool\u001B[0m\u001B[0;34m,\u001B[0m \u001B[0mtest_pool\u001B[0m\u001B[0;34m,\u001B[0m \u001B[0mparams\u001B[0m\u001B[0;34m,\u001B[0m \u001B[0mallow_clear_pool\u001B[0m\u001B[0;34m,\u001B[0m \u001B[0minit_model\u001B[0m\u001B[0;34m)\u001B[0m\u001B[0;34m:\u001B[0m\u001B[0;34m\u001B[0m\u001B[0;34m\u001B[0m\u001B[0m\n\u001B[0;32m-> 1258\u001B[0;31m         \u001B[0mself\u001B[0m\u001B[0;34m.\u001B[0m\u001B[0m_object\u001B[0m\u001B[0;34m.\u001B[0m\u001B[0m_train\u001B[0m\u001B[0;34m(\u001B[0m\u001B[0mtrain_pool\u001B[0m\u001B[0;34m,\u001B[0m \u001B[0mtest_pool\u001B[0m\u001B[0;34m,\u001B[0m \u001B[0mparams\u001B[0m\u001B[0;34m,\u001B[0m \u001B[0mallow_clear_pool\u001B[0m\u001B[0;34m,\u001B[0m \u001B[0minit_model\u001B[0m\u001B[0;34m.\u001B[0m\u001B[0m_object\u001B[0m \u001B[0;32mif\u001B[0m \u001B[0minit_model\u001B[0m \u001B[0;32melse\u001B[0m \u001B[0;32mNone\u001B[0m\u001B[0;34m)\u001B[0m\u001B[0;34m\u001B[0m\u001B[0;34m\u001B[0m\u001B[0m\n\u001B[0m\u001B[1;32m   1259\u001B[0m         \u001B[0mself\u001B[0m\u001B[0;34m.\u001B[0m\u001B[0m_set_trained_model_attributes\u001B[0m\u001B[0;34m(\u001B[0m\u001B[0;34m)\u001B[0m\u001B[0;34m\u001B[0m\u001B[0;34m\u001B[0m\u001B[0m\n\u001B[1;32m   1260\u001B[0m \u001B[0;34m\u001B[0m\u001B[0m\n",
      "\u001B[0;32m_catboost.pyx\u001B[0m in \u001B[0;36m_catboost._CatBoost._train\u001B[0;34m()\u001B[0m\n",
      "\u001B[0;32m_catboost.pyx\u001B[0m in \u001B[0;36m_catboost._CatBoost._train\u001B[0;34m()\u001B[0m\n",
      "\u001B[0;31mCatBoostError\u001B[0m: catboost/python-package/catboost/helpers.cpp:42: Traceback (most recent call last):\n  File \"_catboost.pyx\", line 1343, in _catboost._ObjectiveCalcDersRange\nTypeError: Argument 'approxes' has incorrect type (expected numpy.ndarray, got _catboost._DoubleArrayWrapper)\n"
     ]
    }
   ],
   "source": [
    "%%time\n",
    "params = config.params\n",
    "params.update({\n",
    "    'loss_function': LoglossObjective_cython()\n",
    "})\n",
    "clf_logloss_custom_loop = CatBoostClassifier(**params)\n",
    "clf_logloss_custom_loop.fit(X=train_pool,\n",
    "        eval_set=val_pool,\n",
    "        use_best_model=True)\n",
    "print(f'Здесь функция потерь logloss реализована через цикл, очень медленно выполняется, \\n'\n",
    "      f'примерно в 8 раз медленнее, чем если реализовать через numpy \\n'\n",
    "      f'и в 30 раз медленнее, чем референсная, родная catboost \\n'\n",
    "      f'также сходится медленнее, чем родная. Сходимость одинаковая с реализацией через numpy ')\n"
   ],
   "metadata": {
    "collapsed": false,
    "pycharm": {
     "name": "#%%\n"
    }
   }
  },
  {
   "cell_type": "code",
   "execution_count": 16,
   "outputs": [
    {
     "name": "stdout",
     "output_type": "stream",
     "text": [
      "clf_logloss_ref.get_evals_result()\n"
     ]
    },
    {
     "data": {
      "text/plain": "{'learn': {'F1': [0.8191941399415422,\n   0.8191941399415422,\n   0.8191941399415422,\n   0.8191941399415422,\n   0.8191941399415422,\n   0.8191941399415422,\n   0.8191941399415422,\n   0.8191941399415422,\n   0.8191941399415422,\n   0.8191941399415422,\n   0.8191941399415422,\n   0.8191941399415422,\n   0.8191941399415422,\n   0.8191941399415422,\n   0.8191941399415422,\n   0.8191941399415422,\n   0.8191941399415422,\n   0.8191941399415422,\n   0.8191941399415422,\n   0.8191941399415422],\n  'Logloss': [0.6924837042047295,\n   0.6918232026721597,\n   0.6911656612837891,\n   0.6905378603853575,\n   0.6898860108653373,\n   0.6892637369665031,\n   0.6886175260068954,\n   0.6880007249463429,\n   0.687361014207238,\n   0.68672323289159,\n   0.6861145302441155,\n   0.6854822533375775,\n   0.6848888296184447,\n   0.684261923605289,\n   0.6836386836043069,\n   0.6830523178062149,\n   0.682433499522553,\n   0.6818528763181778,\n   0.6812393091013396,\n   0.6806289146465265],\n  'AUC': [0.7196265386422204,\n   0.7196265386422204,\n   0.7196265386422204,\n   0.7246614189802921,\n   0.7246614189802921,\n   0.7246614189802921,\n   0.7246614189802921,\n   0.7246614189802921,\n   0.7252499512182154,\n   0.7252499512182154,\n   0.725184915175294,\n   0.725184915175294,\n   0.7252766172107055,\n   0.7252532203861748,\n   0.7253580963205394,\n   0.7254810417410053,\n   0.7254810417410053,\n   0.7254813751217428,\n   0.7254813751217428,\n   0.7257809634158415]},\n 'validation': {'F1': [0.4521757521281658,\n   0.4521757521281658,\n   0.4521757521281658,\n   0.4521757521281658,\n   0.4521757521281658,\n   0.4521757521281658,\n   0.4521757521281658,\n   0.4521757521281658,\n   0.4521757521281658,\n   0.4521757521281658,\n   0.4521757521281658,\n   0.4521757521281658,\n   0.4521757521281658,\n   0.4521757521281658,\n   0.4521757521281658,\n   0.4521757521281658,\n   0.4521757521281658,\n   0.4521757521281658,\n   0.4521757521281658,\n   0.4521757521281658],\n  'Logloss': [0.6932694248901075,\n   0.6933922593228937,\n   0.6935156798759967,\n   0.6936071991482645,\n   0.6937315772406106,\n   0.693823794600402,\n   0.693949118015076,\n   0.6940420241595104,\n   0.6941678635809437,\n   0.694294684405758,\n   0.694388623887663,\n   0.6945163602388507,\n   0.6945962211256819,\n   0.6947247117642465,\n   0.6948533327393259,\n   0.6949114168881471,\n   0.695041184018592,\n   0.6951222305663671,\n   0.695252725794325,\n   0.695384851535077],\n  'AUC': [0.6101332137699385,\n   0.6101332137699385,\n   0.6101332137699385,\n   0.6145144845558587,\n   0.6145144845558587,\n   0.6145144845558587,\n   0.6145144845558587,\n   0.6145144845558587,\n   0.6145383606479612,\n   0.6145383606479612,\n   0.6145383606479612,\n   0.6145383606479612,\n   0.6145490843881394,\n   0.6145383291075489,\n   0.6145578841631678,\n   0.6147517867328157,\n   0.6147517867328157,\n   0.6147517551924034,\n   0.6147517551924034,\n   0.6147749452805387]}}"
     },
     "execution_count": 16,
     "metadata": {},
     "output_type": "execute_result"
    }
   ],
   "source": [
    "print('clf_logloss_ref.get_evals_result()')\n",
    "ref_res = clf_logloss_ref.get_evals_result()\n",
    "ref_res"
   ],
   "metadata": {
    "collapsed": false,
    "pycharm": {
     "name": "#%%\n"
    }
   }
  },
  {
   "cell_type": "code",
   "execution_count": 17,
   "outputs": [
    {
     "name": "stdout",
     "output_type": "stream",
     "text": [
      "clf_logloss_custom_np.get_evals_result()\n"
     ]
    },
    {
     "ename": "NameError",
     "evalue": "name 'clf_logloss_custom_np' is not defined",
     "output_type": "error",
     "traceback": [
      "\u001B[0;31m---------------------------------------------------------------------------\u001B[0m",
      "\u001B[0;31mNameError\u001B[0m                                 Traceback (most recent call last)",
      "\u001B[0;32m<ipython-input-17-32882f2fbd44>\u001B[0m in \u001B[0;36m<module>\u001B[0;34m\u001B[0m\n\u001B[1;32m      1\u001B[0m \u001B[0mprint\u001B[0m\u001B[0;34m(\u001B[0m\u001B[0;34m'clf_logloss_custom_np.get_evals_result()'\u001B[0m\u001B[0;34m)\u001B[0m\u001B[0;34m\u001B[0m\u001B[0;34m\u001B[0m\u001B[0m\n\u001B[0;32m----> 2\u001B[0;31m \u001B[0mnp_res\u001B[0m \u001B[0;34m=\u001B[0m \u001B[0mclf_logloss_custom_np\u001B[0m\u001B[0;34m.\u001B[0m\u001B[0mget_evals_result\u001B[0m\u001B[0;34m(\u001B[0m\u001B[0;34m)\u001B[0m\u001B[0;34m\u001B[0m\u001B[0;34m\u001B[0m\u001B[0m\n\u001B[0m\u001B[1;32m      3\u001B[0m \u001B[0mnp_res\u001B[0m\u001B[0;34m\u001B[0m\u001B[0;34m\u001B[0m\u001B[0m\n",
      "\u001B[0;31mNameError\u001B[0m: name 'clf_logloss_custom_np' is not defined"
     ]
    }
   ],
   "source": [
    "print('clf_logloss_custom_np.get_evals_result()')\n",
    "np_res = clf_logloss_custom_np.get_evals_result()\n",
    "np_res"
   ],
   "metadata": {
    "collapsed": false,
    "pycharm": {
     "name": "#%%\n"
    }
   }
  },
  {
   "cell_type": "code",
   "execution_count": null,
   "outputs": [],
   "source": [
    "print('clf_logloss_custom_loop.get_evals_result()')\n",
    "loop_res = clf_logloss_custom_loop.get_evals_result()\n",
    "loop_res"
   ],
   "metadata": {
    "collapsed": false,
    "pycharm": {
     "name": "#%%\n"
    }
   }
  },
  {
   "cell_type": "code",
   "execution_count": null,
   "outputs": [],
   "source": [
    "print('FINISH')"
   ],
   "metadata": {
    "collapsed": false,
    "pycharm": {
     "name": "#%%\n"
    }
   }
  },
  {
   "cell_type": "code",
   "execution_count": null,
   "outputs": [],
   "source": [],
   "metadata": {
    "collapsed": false,
    "pycharm": {
     "name": "#%%\n"
    }
   }
  }
 ],
 "metadata": {
  "kernelspec": {
   "display_name": "Python 3",
   "language": "python",
   "name": "python3"
  },
  "language_info": {
   "codemirror_mode": {
    "name": "ipython",
    "version": 2
   },
   "file_extension": ".py",
   "mimetype": "text/x-python",
   "name": "python",
   "nbconvert_exporter": "python",
   "pygments_lexer": "ipython2",
   "version": "2.7.6"
  }
 },
 "nbformat": 4,
 "nbformat_minor": 0
}